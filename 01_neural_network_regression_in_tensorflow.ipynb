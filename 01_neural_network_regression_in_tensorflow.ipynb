{
  "cells": [
    {
      "cell_type": "markdown",
      "metadata": {
        "id": "UPgo18-N1gSi"
      },
      "source": [
        "# 01. Neural Network Regression with TensorFlow\n",
        "\n",
        "<a href=\"https://colab.research.google.com/github/mrdbourke/tensorflow-deep-learning/blob/main/01_neural_network_regression_in_tensorflow.ipynb\" target=\"_parent\"><img src=\"https://colab.research.google.com/assets/colab-badge.svg\" alt=\"Open In Colab\"/></a>\n",
        "\n",
        "There are many definitions for a [regression problem](https://en.wikipedia.org/wiki/Regression_analysis) but in our case, we're going to simplify it to be: predicting a number.\n",
        "\n",
        "For example, you might want to:\n",
        "- Predict the selling price of houses given information about them (such as number of rooms, size, number of bathrooms).\n",
        "- Predict the coordinates of a bounding box of an item in an image.\n",
        "- Predict the cost of medical insurance for an individual given their demographics (age, sex, gender, race).\n",
        "\n",
        "In this notebook, we're going to set the foundations for how you can take a sample of inputs (this is your data), build a neural network to discover patterns in those inputs and then make a prediction (in the form of a number) based on those inputs.\n",
        "\n",
        "## What we're going to cover\n",
        "\n",
        "Specifically, we're going to go through doing the following with TensorFlow:\n",
        "- Architecture of a regression model\n",
        "- Input shapes and output shapes\n",
        "  - `X`: features/data (inputs)\n",
        "  - `y`: labels (outputs)\n",
        "- Creating custom data to view and fit\n",
        "- Steps in modelling\n",
        "  - Creating a model\n",
        "  - Compiling a model\n",
        "    - Defining a loss function\n",
        "    - Setting up an optimizer\n",
        "    - Creating evaluation metrics\n",
        "  - Fitting a model (getting it to find patterns in our data)\n",
        "- Evaluating a model\n",
        "  - Visualizng the model (\"visualize, visualize, visualize\")\n",
        "  - Looking at training curves\n",
        "  - Compare predictions to ground truth (using our evaluation metrics)\n",
        "- Saving a model (so we can use it later)\n",
        "- Loading a model\n",
        "\n",
        "Don't worry if none of these make sense now, we're going to go through each.\n",
        "\n",
        "## How you can use this notebook\n",
        "\n",
        "You can read through the descriptions and the code (it should all run), but there's a better option.\n",
        "\n",
        "Write all of the code yourself.\n",
        "\n",
        "Yes. I'm serious. Create a new notebook, and rewrite each line by yourself. Investigate it, see if you can break it, why does it break?\n",
        "\n",
        "You don't have to write the text descriptions but writing the code yourself is a great way to get hands-on experience.\n",
        "\n",
        "Don't worry if you make mistakes, we all do. The way to get better and make less mistakes is to **write more code**."
      ]
    },
    {
      "cell_type": "markdown",
      "metadata": {
        "id": "etAu7oCZ8r_G"
      },
      "source": [
        "## Typical architecture of a regresison neural network\n",
        "\n",
        "The word *typical* is on purpose.\n",
        "\n",
        "Why?\n",
        "\n",
        "Because there are many different ways (actually, there's almost an infinite number of ways) to write neural networks.\n",
        "\n",
        "But the following is a generic setup for ingesting a collection of numbers, finding patterns in them and then outputing some kind of target number.\n",
        "\n",
        "Yes, the previous sentence is vague but we'll see this in action shortly.\n",
        "\n",
        "| **Hyperparameter** | **Typical value** |\n",
        "| --- | --- |\n",
        "| Input layer shape | Same shape as number of features (e.g. 3 for # bedrooms, # bathrooms, # car spaces in housing price prediction) |\n",
        "| Hidden layer(s) | Problem specific, minimum = 1, maximum = unlimited |\n",
        "| Neurons per hidden layer | Problem specific, generally 10 to 100 |\n",
        "| Output layer shape | Same shape as desired prediction shape (e.g. 1 for house price) |\n",
        "| Hidden activation | Usually [ReLU](https://www.kaggle.com/dansbecker/rectified-linear-units-relu-in-deep-learning) (rectified linear unit) |\n",
        "| Output activation | None, ReLU, logistic/tanh |\n",
        "| Loss function | [MSE](https://en.wikipedia.org/wiki/Mean_squared_error) (mean square error) or [MAE](https://en.wikipedia.org/wiki/Mean_absolute_error) (mean absolute error)/Huber (combination of MAE/MSE) if outliers |\n",
        "| Optimizer | [SGD](https://www.tensorflow.org/api_docs/python/tf/keras/optimizers/SGD) (stochastic gradient descent), [Adam](https://www.tensorflow.org/api_docs/python/tf/keras/optimizers/Adam) |\n",
        "\n",
        "***Table 1:*** *Typical architecture of a regression network.* ***Source:*** *Adapted from page 293 of [Hands-On Machine Learning with Scikit-Learn, Keras & TensorFlow Book by Aurélien Géron](https://www.oreilly.com/library/view/hands-on-machine-learning/9781492032632/)*\n",
        "\n",
        "Again, if you're new to neural networks and deep learning in general, much of the above table won't make sense. But don't worry, we'll be getting hands-on with all of it soon.\n",
        "\n",
        "> 🔑 **Note:** A **hyperparameter** in machine learning is something a data analyst or developer can set themselves, where as a **parameter** usually describes something a model learns on its own (a value not explicitly set by an analyst).\n",
        "\n",
        "Okay, enough talk, let's get started writing code.\n",
        "\n",
        "To use TensorFlow, we'll import it as the common alias `tf` (short for TensorFlow)."
      ]
    },
    {
      "cell_type": "code",
      "execution_count": 1,
      "metadata": {
        "colab": {
          "base_uri": "https://localhost:8080/"
        },
        "id": "FMqsqKpk7TrH",
        "outputId": "319b5f13-6fff-47a3-fd8b-f7e85e7a67d0"
      },
      "outputs": [
        {
          "name": "stderr",
          "output_type": "stream",
          "text": [
            "2022-08-04 10:47:31.105954: I tensorflow/core/platform/cpu_feature_guard.cc:193] This TensorFlow binary is optimized with oneAPI Deep Neural Network Library (oneDNN) to use the following CPU instructions in performance-critical operations:  AVX2 FMA\n",
            "To enable them in other operations, rebuild TensorFlow with the appropriate compiler flags.\n"
          ]
        },
        {
          "name": "stdout",
          "output_type": "stream",
          "text": [
            "2.11.0-dev20220802\n"
          ]
        }
      ],
      "source": [
        "import tensorflow as tf\n",
        "print(tf.__version__) # check the version (should be 2.x+)"
      ]
    },
    {
      "cell_type": "markdown",
      "metadata": {
        "id": "8clMYxrF6Mzv"
      },
      "source": [
        "## Creating data to view and fit\n",
        "\n",
        "Since we're working on a **regression problem** (predicting a number) let's create some linear data (a straight line) to model."
      ]
    },
    {
      "cell_type": "code",
      "execution_count": 2,
      "metadata": {
        "colab": {
          "base_uri": "https://localhost:8080/",
          "height": 269
        },
        "id": "G43tWFof6i7T",
        "outputId": "04bc42be-84b7-43e6-f10e-41e0a06ca1b0"
      },
      "outputs": [
        {
          "data": {
            "image/png": "[encoded data removed]",
            "text/plain": [
              "<Figure size 432x288 with 1 Axes>"
            ]
          },
          "metadata": {
            "needs_background": "light"
          },
          "output_type": "display_data"
        }
      ],
      "source": [
        "import numpy as np\n",
        "import matplotlib.pyplot as plt\n",
        "\n",
        "# Create features\n",
        "X = np.array([-7.0, -4.0, -1.0, 2.0, 5.0, 8.0, 11.0, 14.0])\n",
        "\n",
        "# Create labels\n",
        "y = np.array([3.0, 6.0, 9.0, 12.0, 15.0, 18.0, 21.0, 24.0])\n",
        "\n",
        "# Visualize it\n",
        "plt.scatter(X, y);"
      ]
    },
    {
      "cell_type": "markdown",
      "metadata": {
        "id": "9ONZF8un7_xy"
      },
      "source": [
        "Before we do any modelling, can you calculate the pattern between `X` and `y`?\n",
        "\n",
        "For example, say I asked you, based on this data what the `y` value would be if `X` was 17.0?\n",
        "\n",
        "Or how about if `X` was -10.0?\n",
        "\n",
        "This kind of pattern discovery is the essence of what we'll be building neural networks to do for us."
      ]
    },
    {
      "cell_type": "markdown",
      "metadata": {
        "id": "zNCXxHnF6jjZ"
      },
      "source": [
        "## Regression input shapes and output shapes\n",
        "\n",
        "One of the most important concepts when working with neural networks are the input and output shapes.\n",
        "\n",
        "The **input shape** is the shape of your data that goes into the model.\n",
        "\n",
        "The **output shape** is the shape of your data you want to come out of your model.\n",
        "\n",
        "These will differ depending on the problem you're working on.\n",
        "\n",
        "Neural networks accept numbers and output numbers. These numbers are typically represented as tensors (or arrays).\n",
        "\n",
        "Before, we created data using NumPy arrays, but we could do the same with tensors."
      ]
    },
    {
      "cell_type": "code",
      "execution_count": 3,
      "metadata": {
        "colab": {
          "base_uri": "https://localhost:8080/"
        },
        "id": "XrXQ3m0prWXa",
        "outputId": "c8fd3447-9379-44cf-b671-ee1c0f82813f"
      },
      "outputs": [
        {
          "name": "stderr",
          "output_type": "stream",
          "text": [
            "2022-08-04 10:47:39.004304: I tensorflow/core/platform/cpu_feature_guard.cc:193] This TensorFlow binary is optimized with oneAPI Deep Neural Network Library (oneDNN) to use the following CPU instructions in performance-critical operations:  AVX2 FMA\n",
            "To enable them in other operations, rebuild TensorFlow with the appropriate compiler flags.\n"
          ]
        },
        {
          "data": {
            "text/plain": [
              "(<tf.Tensor: shape=(3,), dtype=string, numpy=array([b'bedroom', b'bathroom', b'garage'], dtype=object)>,\n",
              " <tf.Tensor: shape=(1,), dtype=int32, numpy=array([939700], dtype=int32)>)"
            ]
          },
          "execution_count": 3,
          "metadata": {},
          "output_type": "execute_result"
        }
      ],
      "source": [
        "# Example input and output shapes of a regresson model\n",
        "house_info = tf.constant([\"bedroom\", \"bathroom\", \"garage\"])\n",
        "house_price = tf.constant([939700])\n",
        "house_info, house_price"
      ]
    },
    {
      "cell_type": "code",
      "execution_count": 4,
      "metadata": {
        "colab": {
          "base_uri": "https://localhost:8080/"
        },
        "id": "Yi3VWKH6sRrZ",
        "outputId": "4d32f5e9-7f93-46e9-a1c1-8106d21cca39"
      },
      "outputs": [
        {
          "data": {
            "text/plain": [
              "TensorShape([3])"
            ]
          },
          "execution_count": 4,
          "metadata": {},
          "output_type": "execute_result"
        }
      ],
      "source": [
        "house_info.shape"
      ]
    },
    {
      "cell_type": "code",
      "execution_count": 5,
      "metadata": {
        "colab": {
          "base_uri": "https://localhost:8080/",
          "height": 269
        },
        "id": "kOxyr9sR6m9X",
        "outputId": "02b5e416-6b5b-4429-b73b-0ca19f5c34e7"
      },
      "outputs": [
        {
          "data": {
            "image/png": "[encoded data removed]",
            "text/plain": [
              "<Figure size 432x288 with 1 Axes>"
            ]
          },
          "metadata": {
            "needs_background": "light"
          },
          "output_type": "display_data"
        }
      ],
      "source": [
        "import numpy as np\n",
        "import matplotlib.pyplot as plt\n",
        "\n",
        "# Create features (using tensors)\n",
        "X = tf.constant([-7.0, -4.0, -1.0, 2.0, 5.0, 8.0, 11.0, 14.0])\n",
        "\n",
        "# Create labels (using tensors)\n",
        "y = tf.constant([3.0, 6.0, 9.0, 12.0, 15.0, 18.0, 21.0, 24.0])\n",
        "\n",
        "# Visualize it\n",
        "plt.scatter(X, y);"
      ]
    },
    {
      "cell_type": "markdown",
      "metadata": {
        "id": "zaPxco6E9i1_"
      },
      "source": [
        "Our goal here will be to use `X` to predict `y`.\n",
        "\n",
        "So our **input** will be `X` and our **output** will be `y`.\n",
        "\n",
        "Knowing this, what do you think our input and output shapes will be?\n",
        "\n",
        "Let's take a look."
      ]
    },
    {
      "cell_type": "code",
      "execution_count": 6,
      "metadata": {
        "colab": {
          "base_uri": "https://localhost:8080/"
        },
        "id": "j1oT1gmB9iX-",
        "outputId": "c4aa34e4-c04c-4032-d55b-91676f199387"
      },
      "outputs": [
        {
          "data": {
            "text/plain": [
              "(TensorShape([]), TensorShape([]))"
            ]
          },
          "execution_count": 6,
          "metadata": {},
          "output_type": "execute_result"
        }
      ],
      "source": [
        "# Take a single example of X\n",
        "input_shape = X[0].shape \n",
        "\n",
        "# Take a single example of y\n",
        "output_shape = y[0].shape\n",
        "\n",
        "input_shape, output_shape # these are both scalars (no shape)"
      ]
    },
    {
      "cell_type": "markdown",
      "metadata": {
        "id": "m4txxFTL_EEX"
      },
      "source": [
        "Huh?\n",
        "\n",
        "From this it seems our inputs and outputs have no shape?\n",
        "\n",
        "How could that be?\n",
        "\n",
        "It's because no matter what kind of data we pass to our model, it's always going to take as input and return as ouput some kind of tensor.\n",
        "\n",
        "But in our case because of our dataset (only 2 small lists of numbers), we're looking at a special kind of tensor, more specifically a rank 0 tensor or a scalar."
      ]
    },
    {
      "cell_type": "code",
      "execution_count": 7,
      "metadata": {
        "colab": {
          "base_uri": "https://localhost:8080/"
        },
        "id": "Dag5y4MPaTmc",
        "outputId": "4e041946-1095-479a-8db1-b19a390cab3f"
      },
      "outputs": [
        {
          "data": {
            "text/plain": [
              "(<tf.Tensor: shape=(), dtype=float32, numpy=-7.0>,\n",
              " <tf.Tensor: shape=(), dtype=float32, numpy=3.0>)"
            ]
          },
          "execution_count": 7,
          "metadata": {},
          "output_type": "execute_result"
        }
      ],
      "source": [
        "# Let's take a look at the single examples invidually\n",
        "X[0], y[0]"
      ]
    },
    {
      "cell_type": "markdown",
      "metadata": {
        "id": "fKtihU57_cOY"
      },
      "source": [
        "In our case, we're trying to build a model to predict the pattern between `X[0]` equalling `-7.0` and `y[0]` equalling `3.0`.\n",
        "\n",
        "So now we get our answer, we're trying to use 1 `X` value to predict 1 `y` value.\n",
        "\n",
        "You might be thinking, \"this seems pretty complicated for just predicting a straight line...\".\n",
        "\n",
        "And you'd be right.\n",
        "\n",
        "But the concepts we're covering here, the concepts of input and output shapes to a model are fundamental. \n",
        "\n",
        "In fact, they're probably two of the things you'll spend the most time on when you work with neural networks: **making sure your input and outputs are in the correct shape**.\n",
        "\n",
        "If it doesn't make sense now, we'll see plenty more examples later on (soon you'll notice the input and output shapes can be almost anything you can imagine).\n",
        "\n",
        "![example of input and output shapes for a housing price prediction problem](https://raw.githubusercontent.com/mrdbourke/tensorflow-deep-learning/main/images/01-input-and-output-shapes-housing-prices.png)\n",
        "*If you were working on building a machine learning algorithm for predicting housing prices, your inputs may be number of bedrooms, number of bathrooms and number of garages, giving you an input shape of 3 (3 different features). And since you're trying to predict the price of the house, your output shape would be 1.*"
      ]
    },
    {
      "cell_type": "markdown",
      "metadata": {
        "id": "PhAIqjrn6olF"
      },
      "source": [
        "## Steps in modelling with TensorFlow\n",
        "\n",
        "Now we know what data we have as well as the input and output shapes, let's see how we'd build a neural network to model it.\n",
        "\n",
        "In TensorFlow, there are typically 3 fundamental steps to creating and training a model.\n",
        "\n",
        "1. **Creating a model** - piece together the layers of a neural network yourself (using the [Functional](https://www.tensorflow.org/guide/keras/functional) or [Sequential API](https://www.tensorflow.org/api_docs/python/tf/keras/Sequential)) or import a previously built model (known as transfer learning).\n",
        "2. **Compiling a model** - defining how a models performance should be measured (loss/metrics) as well as defining how it should improve (optimizer). \n",
        "3. **Fitting a model** - letting the model try to find patterns in the data (how does `X` get to `y`). \n",
        "\n",
        "Let's see these in action using the [Keras Sequential API](https://www.tensorflow.org/api_docs/python/tf/keras/Sequential) to build a model for our regression data. And then we'll step through each.\n",
        "\n",
        "> **Note:** If you're using [TensorFlow 2.7.0](https://github.com/tensorflow/tensorflow/releases/tag/v2.7.0)+, the `fit()` function no longer upscales input data to go from `(batch_size, )` to `(batch_size, 1)`. To fix this, you'll need to expand the dimension of input data using `tf.expand_dims(input_data, axis=-1)`.\n",
        ">\n",
        "> In our case, this means instead of using `model.fit(X, y, epochs=5)`, use `model.fit(tf.expand_dims(X, axis=-1), y, epochs=5)`. "
      ]
    },
    {
      "cell_type": "code",
      "execution_count": 8,
      "metadata": {},
      "outputs": [],
      "source": [
        "# model.fit(tf.expand_dims(X, axis=-1), y, epochs=5)\n",
        "\n",
        "# recommended from the course to use for updated TF"
      ]
    },
    {
      "cell_type": "code",
      "execution_count": 50,
      "metadata": {
        "colab": {
          "base_uri": "https://localhost:8080/"
        },
        "id": "P9jj-OE16yCn",
        "outputId": "63cf816f-16af-4867-f71a-242682033473"
      },
      "outputs": [],
      "source": [
        "# Set random seed\n",
        "tf.random.set_seed(42)\n"
      ]
    },
    {
      "cell_type": "code",
      "execution_count": 51,
      "metadata": {},
      "outputs": [],
      "source": [
        "\n",
        "# Create a model using the Sequential API\n",
        "model = tf.keras.Sequential([\n",
        "  tf.keras.layers.Dense(1)\n",
        "])\n",
        "\n",
        "# could also use:\n",
        "# model.add(tf.keras.layers.Dense(1))\n",
        "# prior method preferred"
      ]
    },
    {
      "cell_type": "code",
      "execution_count": 52,
      "metadata": {},
      "outputs": [],
      "source": [
        "\n",
        "# Compile the model\n",
        "model.compile(loss=tf.keras.losses.mae, # mae is short for mean absolute error\n",
        "              optimizer=tf.keras.optimizers.SGD(), # SGD is short for stochastic gradient descent\n",
        "              metrics=[\"mae\"])\n"
      ]
    },
    {
      "cell_type": "code",
      "execution_count": 53,
      "metadata": {},
      "outputs": [
        {
          "data": {
            "text/plain": [
              "<keras.engine.sequential.Sequential at 0x7fb5c0afac10>"
            ]
          },
          "execution_count": 53,
          "metadata": {},
          "output_type": "execute_result"
        }
      ],
      "source": [
        "model"
      ]
    },
    {
      "cell_type": "code",
      "execution_count": 54,
      "metadata": {},
      "outputs": [
        {
          "name": "stdout",
          "output_type": "stream",
          "text": [
            "Epoch 1/5\n",
            "2/2 [==============================] - 0s 2ms/step - loss: 68.3926 - mae: 68.3926\n",
            "Epoch 2/5\n",
            "2/2 [==============================] - 0s 2ms/step - loss: 20.7488 - mae: 20.7488\n",
            "Epoch 3/5\n",
            "2/2 [==============================] - 0s 2ms/step - loss: 9.7806 - mae: 9.7806\n",
            "Epoch 4/5\n",
            "2/2 [==============================] - 0s 2ms/step - loss: 10.1590 - mae: 10.1590\n",
            "Epoch 5/5\n",
            "2/2 [==============================] - 0s 2ms/step - loss: 14.6769 - mae: 14.6769\n"
          ]
        },
        {
          "data": {
            "text/plain": [
              "<keras.callbacks.History at 0x7fb5c0a16670>"
            ]
          },
          "execution_count": 54,
          "metadata": {},
          "output_type": "execute_result"
        }
      ],
      "source": [
        "\n",
        "# Fit the model\n",
        "# model.fit(X, y, epochs=5) # this will break with TensorFlow 2.7.0+\n",
        "model.fit(tf.expand_dims(X, axis=-1), y, epochs=5)"
      ]
    },
    {
      "cell_type": "markdown",
      "metadata": {
        "id": "bbjCwkEtetB9"
      },
      "source": [
        "Boom!\n",
        "\n",
        "We've just trained a model to figure out the patterns between `X` and `y`.\n",
        "\n",
        "How do you think it went?"
      ]
    },
    {
      "cell_type": "code",
      "execution_count": 55,
      "metadata": {
        "colab": {
          "base_uri": "https://localhost:8080/"
        },
        "id": "VWLpG2U3erWo",
        "outputId": "16076fb8-e754-4edb-b18b-3e5c30d6e2be"
      },
      "outputs": [
        {
          "data": {
            "text/plain": [
              "(array([-100,  -96,  -92,  -88,  -84,  -80,  -76,  -72,  -68,  -64,  -60,\n",
              "         -56,  -52,  -48,  -44,  -40,  -36,  -32,  -28,  -24,  -20,  -16,\n",
              "         -12,   -8,   -4,    0,    4,    8,   12,   16,   20,   24,   28,\n",
              "          32,   36,   40,   44,   48,   52,   56,   60,   64,   68,   72,\n",
              "          76,   80,   84,   88,   92,   96]),\n",
              " array([-90, -86, -82, -78, -74, -70, -66, -62, -58, -54, -50, -46, -42,\n",
              "        -38, -34, -30, -26, -22, -18, -14, -10,  -6,  -2,   2,   6,  10,\n",
              "         14,  18,  22,  26,  30,  34,  38,  42,  46,  50,  54,  58,  62,\n",
              "         66,  70,  74,  78,  82,  86,  90,  94,  98, 102, 106]))"
            ]
          },
          "execution_count": 55,
          "metadata": {},
          "output_type": "execute_result"
        }
      ],
      "source": [
        "# Check out X and y\n",
        "X, y"
      ]
    },
    {
      "cell_type": "markdown",
      "metadata": {
        "id": "0ZpkaI_Oe6no"
      },
      "source": [
        "What do you think the outcome should be if we passed our model an `X` value of 17.0?"
      ]
    },
    {
      "cell_type": "code",
      "execution_count": 56,
      "metadata": {
        "colab": {
          "base_uri": "https://localhost:8080/"
        },
        "id": "X86cD66Qeo-8",
        "outputId": "29b569e6-90ce-46c7-8842-4ca69c5144a3"
      },
      "outputs": [
        {
          "name": "stdout",
          "output_type": "stream",
          "text": [
            "1/1 [==============================] - 0s 58ms/step\n"
          ]
        },
        {
          "data": {
            "text/plain": [
              "array([[13.031977]], dtype=float32)"
            ]
          },
          "execution_count": 56,
          "metadata": {},
          "output_type": "execute_result"
        }
      ],
      "source": [
        "# Make a prediction with the model\n",
        "model.predict([17.0])"
      ]
    },
    {
      "cell_type": "markdown",
      "metadata": {
        "id": "2YoKIqhffq33"
      },
      "source": [
        "It doesn't go very well... it should've output something close to 27.0.\n",
        "\n",
        "> 🤔 **Question:** What's Keras? I thought we were working with TensorFlow but every time we write TensorFlow code, `keras` comes after `tf` (e.g. `tf.keras.layers.Dense()`)?\n",
        "\n",
        "Before TensorFlow 2.0+, [Keras](https://keras.io/) was an API designed to be able to build deep learning models with ease. Since TensorFlow 2.0+, its functionality has been tightly integrated within the TensorFlow library."
      ]
    },
    {
      "cell_type": "markdown",
      "metadata": {
        "id": "qAPk1T3xgOm4"
      },
      "source": [
        "## Improving a model\n",
        "\n",
        "How do you think you'd improve upon our current model?\n",
        "\n",
        "If you guessed by tweaking some of the things we did above, you'd be correct.\n",
        "\n",
        "To improve our model, we alter almost every part of the 3 steps we went through before.\n",
        "\n",
        "1. **Creating a model** - here you might want to add more layers, increase the number of hidden units (also called neurons) within each layer, change the activation functions of each layer.\n",
        "2. **Compiling a model** - you might want to choose optimization function or perhaps change the **learning rate** of the optimization function.\n",
        "3. **Fitting a model** - perhaps you could fit a model for more **epochs** (leave it training for longer) or on more data (give the model more examples to learn from).\n",
        "\n",
        "![various options you can use to improve a neural network model](https://raw.githubusercontent.com/mrdbourke/tensorflow-deep-learning/main/images/02-improving-a-model-from-model-perspective.png)\n",
        "*There are many different ways to potentially improve a neural network. Some of the most common include: increasing the number of layers (making the network deeper), increasing the number of hidden units (making the network wider) and changing the learning rate. Because these values are all human-changeable, they're referred to as [hyperparameters](https://en.wikipedia.org/wiki/Hyperparameter_(machine_learning)) and the practice of trying to find the best hyperparameters is referred to as [hyperparameter tuning](https://en.wikipedia.org/wiki/Hyperparameter_optimization).*\n",
        "\n",
        "Woah. We just introduced a bunch of possible steps. The important thing to remember is how you alter each of these will depend on the problem you're working on.\n",
        "\n",
        "And the good thing is, over the next few problems, we'll get hands-on with all of them.\n",
        "\n",
        "For now, let's keep it simple, all we'll do is train our model for longer (everything else will stay the same)."
      ]
    },
    {
      "cell_type": "code",
      "execution_count": 70,
      "metadata": {
        "colab": {
          "base_uri": "https://localhost:8080/"
        },
        "id": "MI0LammMgWcN",
        "outputId": "0c01661d-6495-476a-b71e-bc63aa7e9ffe"
      },
      "outputs": [
        {
          "name": "stdout",
          "output_type": "stream",
          "text": [
            "Epoch 1/100\n",
            "2/2 [==============================] - 0s 3ms/step - loss: 122.9886 - mae: 122.9886\n",
            "Epoch 2/100\n",
            "2/2 [==============================] - 0s 2ms/step - loss: 73.0424 - mae: 73.0424\n",
            "Epoch 3/100\n",
            "2/2 [==============================] - 0s 2ms/step - loss: 24.5362 - mae: 24.5362\n",
            "Epoch 4/100\n",
            "2/2 [==============================] - 0s 2ms/step - loss: 14.3717 - mae: 14.3717\n",
            "Epoch 5/100\n",
            "2/2 [==============================] - 0s 2ms/step - loss: 15.4376 - mae: 15.4376\n",
            "Epoch 6/100\n",
            "2/2 [==============================] - 0s 2ms/step - loss: 11.7075 - mae: 11.7075\n",
            "Epoch 7/100\n",
            "2/2 [==============================] - 0s 3ms/step - loss: 9.4349 - mae: 9.4349\n",
            "Epoch 8/100\n",
            "2/2 [==============================] - 0s 2ms/step - loss: 11.1291 - mae: 11.1291\n",
            "Epoch 9/100\n",
            "2/2 [==============================] - 0s 2ms/step - loss: 9.9631 - mae: 9.9631\n",
            "Epoch 10/100\n",
            "2/2 [==============================] - 0s 2ms/step - loss: 10.0096 - mae: 10.0096\n",
            "Epoch 11/100\n",
            "2/2 [==============================] - 0s 2ms/step - loss: 9.9815 - mae: 9.9815\n",
            "Epoch 12/100\n",
            "2/2 [==============================] - 0s 2ms/step - loss: 9.9227 - mae: 9.9227\n",
            "Epoch 13/100\n",
            "2/2 [==============================] - 0s 2ms/step - loss: 9.7608 - mae: 9.7608\n",
            "Epoch 14/100\n",
            "2/2 [==============================] - 0s 2ms/step - loss: 10.5615 - mae: 10.5615\n",
            "Epoch 15/100\n",
            "2/2 [==============================] - 0s 2ms/step - loss: 14.2738 - mae: 14.2738\n",
            "Epoch 16/100\n",
            "2/2 [==============================] - 0s 2ms/step - loss: 13.6903 - mae: 13.6903\n",
            "Epoch 17/100\n",
            "2/2 [==============================] - 0s 2ms/step - loss: 10.1950 - mae: 10.1950\n",
            "Epoch 18/100\n",
            "2/2 [==============================] - 0s 2ms/step - loss: 10.6894 - mae: 10.6894\n",
            "Epoch 19/100\n",
            "2/2 [==============================] - 0s 2ms/step - loss: 10.0887 - mae: 10.0887\n",
            "Epoch 20/100\n",
            "2/2 [==============================] - 0s 2ms/step - loss: 10.8831 - mae: 10.8831\n",
            "Epoch 21/100\n",
            "2/2 [==============================] - 0s 2ms/step - loss: 12.1243 - mae: 12.1243\n",
            "Epoch 22/100\n",
            "2/2 [==============================] - 0s 2ms/step - loss: 9.5959 - mae: 9.5959\n",
            "Epoch 23/100\n",
            "2/2 [==============================] - 0s 2ms/step - loss: 9.3312 - mae: 9.3312\n",
            "Epoch 24/100\n",
            "2/2 [==============================] - 0s 2ms/step - loss: 9.7351 - mae: 9.7351\n",
            "Epoch 25/100\n",
            "2/2 [==============================] - 0s 2ms/step - loss: 9.6315 - mae: 9.6315\n",
            "Epoch 26/100\n",
            "2/2 [==============================] - 0s 2ms/step - loss: 10.0392 - mae: 10.0392\n",
            "Epoch 27/100\n",
            "2/2 [==============================] - 0s 2ms/step - loss: 10.3750 - mae: 10.3750\n",
            "Epoch 28/100\n",
            "2/2 [==============================] - 0s 2ms/step - loss: 9.7782 - mae: 9.7782\n",
            "Epoch 29/100\n",
            "2/2 [==============================] - 0s 2ms/step - loss: 9.6646 - mae: 9.6646\n",
            "Epoch 30/100\n",
            "2/2 [==============================] - 0s 2ms/step - loss: 9.7890 - mae: 9.7890\n",
            "Epoch 31/100\n",
            "2/2 [==============================] - 0s 2ms/step - loss: 10.6832 - mae: 10.6832\n",
            "Epoch 32/100\n",
            "2/2 [==============================] - 0s 2ms/step - loss: 9.6880 - mae: 9.6880\n",
            "Epoch 33/100\n",
            "2/2 [==============================] - 0s 2ms/step - loss: 9.5052 - mae: 9.5052\n",
            "Epoch 34/100\n",
            "2/2 [==============================] - 0s 2ms/step - loss: 9.8308 - mae: 9.8308\n",
            "Epoch 35/100\n",
            "2/2 [==============================] - 0s 2ms/step - loss: 11.0296 - mae: 11.0296\n",
            "Epoch 36/100\n",
            "2/2 [==============================] - 0s 2ms/step - loss: 10.6762 - mae: 10.6762\n",
            "Epoch 37/100\n",
            "2/2 [==============================] - 0s 2ms/step - loss: 9.3971 - mae: 9.3971\n",
            "Epoch 38/100\n",
            "2/2 [==============================] - 0s 2ms/step - loss: 9.4065 - mae: 9.4065\n",
            "Epoch 39/100\n",
            "2/2 [==============================] - 0s 2ms/step - loss: 10.2365 - mae: 10.2365\n",
            "Epoch 40/100\n",
            "2/2 [==============================] - 0s 2ms/step - loss: 11.8274 - mae: 11.8274\n",
            "Epoch 41/100\n",
            "2/2 [==============================] - 0s 3ms/step - loss: 10.4376 - mae: 10.4376\n",
            "Epoch 42/100\n",
            "2/2 [==============================] - 0s 2ms/step - loss: 10.3825 - mae: 10.3825\n",
            "Epoch 43/100\n",
            "2/2 [==============================] - 0s 2ms/step - loss: 12.9599 - mae: 12.9599\n",
            "Epoch 44/100\n",
            "2/2 [==============================] - 0s 2ms/step - loss: 10.1900 - mae: 10.1900\n",
            "Epoch 45/100\n",
            "2/2 [==============================] - 0s 2ms/step - loss: 9.5333 - mae: 9.5333\n",
            "Epoch 46/100\n",
            "2/2 [==============================] - 0s 2ms/step - loss: 9.4016 - mae: 9.4016\n",
            "Epoch 47/100\n",
            "2/2 [==============================] - 0s 3ms/step - loss: 9.3848 - mae: 9.3848\n",
            "Epoch 48/100\n",
            "2/2 [==============================] - 0s 10ms/step - loss: 9.6286 - mae: 9.6286\n",
            "Epoch 49/100\n",
            "2/2 [==============================] - 0s 2ms/step - loss: 10.2833 - mae: 10.2833\n",
            "Epoch 50/100\n",
            "2/2 [==============================] - 0s 2ms/step - loss: 9.5967 - mae: 9.5967\n",
            "Epoch 51/100\n",
            "2/2 [==============================] - 0s 2ms/step - loss: 9.0368 - mae: 9.0368\n",
            "Epoch 52/100\n",
            "2/2 [==============================] - 0s 2ms/step - loss: 9.3029 - mae: 9.3029\n",
            "Epoch 53/100\n",
            "2/2 [==============================] - 0s 4ms/step - loss: 9.4218 - mae: 9.4218\n",
            "Epoch 54/100\n",
            "2/2 [==============================] - 0s 2ms/step - loss: 9.2987 - mae: 9.2987\n",
            "Epoch 55/100\n",
            "2/2 [==============================] - 0s 2ms/step - loss: 9.4549 - mae: 9.4549\n",
            "Epoch 56/100\n",
            "2/2 [==============================] - 0s 2ms/step - loss: 9.1459 - mae: 9.1459\n",
            "Epoch 57/100\n",
            "2/2 [==============================] - 0s 2ms/step - loss: 8.7295 - mae: 8.7295\n",
            "Epoch 58/100\n",
            "2/2 [==============================] - 0s 2ms/step - loss: 9.2213 - mae: 9.2213\n",
            "Epoch 59/100\n",
            "2/2 [==============================] - 0s 2ms/step - loss: 9.0416 - mae: 9.0416\n",
            "Epoch 60/100\n",
            "2/2 [==============================] - 0s 2ms/step - loss: 10.1742 - mae: 10.1742\n",
            "Epoch 61/100\n",
            "2/2 [==============================] - 0s 2ms/step - loss: 9.0277 - mae: 9.0277\n",
            "Epoch 62/100\n",
            "2/2 [==============================] - 0s 2ms/step - loss: 10.0199 - mae: 10.0199\n",
            "Epoch 63/100\n",
            "2/2 [==============================] - 0s 2ms/step - loss: 12.7897 - mae: 12.7897\n",
            "Epoch 64/100\n",
            "2/2 [==============================] - 0s 2ms/step - loss: 9.4742 - mae: 9.4742\n",
            "Epoch 65/100\n",
            "2/2 [==============================] - 0s 2ms/step - loss: 8.9490 - mae: 8.9490\n",
            "Epoch 66/100\n",
            "2/2 [==============================] - 0s 2ms/step - loss: 8.9410 - mae: 8.9410\n",
            "Epoch 67/100\n",
            "2/2 [==============================] - 0s 2ms/step - loss: 9.0584 - mae: 9.0584\n",
            "Epoch 68/100\n",
            "2/2 [==============================] - 0s 2ms/step - loss: 9.1702 - mae: 9.1702\n",
            "Epoch 69/100\n",
            "2/2 [==============================] - 0s 2ms/step - loss: 9.1655 - mae: 9.1655\n",
            "Epoch 70/100\n",
            "2/2 [==============================] - 0s 2ms/step - loss: 9.4254 - mae: 9.4254\n",
            "Epoch 71/100\n",
            "2/2 [==============================] - 0s 3ms/step - loss: 8.8706 - mae: 8.8706\n",
            "Epoch 72/100\n",
            "2/2 [==============================] - 0s 2ms/step - loss: 9.9696 - mae: 9.9696\n",
            "Epoch 73/100\n",
            "2/2 [==============================] - 0s 2ms/step - loss: 11.9197 - mae: 11.9197\n",
            "Epoch 74/100\n",
            "2/2 [==============================] - 0s 2ms/step - loss: 8.5465 - mae: 8.5465\n",
            "Epoch 75/100\n",
            "2/2 [==============================] - 0s 3ms/step - loss: 8.7340 - mae: 8.7340\n",
            "Epoch 76/100\n",
            "2/2 [==============================] - 0s 2ms/step - loss: 8.7796 - mae: 8.7796\n",
            "Epoch 77/100\n",
            "2/2 [==============================] - 0s 2ms/step - loss: 8.1583 - mae: 8.1583\n",
            "Epoch 78/100\n",
            "2/2 [==============================] - 0s 2ms/step - loss: 11.1995 - mae: 11.1995\n",
            "Epoch 79/100\n",
            "2/2 [==============================] - 0s 2ms/step - loss: 9.5288 - mae: 9.5288\n",
            "Epoch 80/100\n",
            "2/2 [==============================] - 0s 2ms/step - loss: 13.1606 - mae: 13.1606\n",
            "Epoch 81/100\n",
            "2/2 [==============================] - 0s 3ms/step - loss: 14.3028 - mae: 14.3028\n",
            "Epoch 82/100\n",
            "2/2 [==============================] - 0s 2ms/step - loss: 16.2392 - mae: 16.2392\n",
            "Epoch 83/100\n",
            "2/2 [==============================] - 0s 2ms/step - loss: 9.5195 - mae: 9.5195\n",
            "Epoch 84/100\n",
            "2/2 [==============================] - 0s 2ms/step - loss: 8.6104 - mae: 8.6104\n",
            "Epoch 85/100\n",
            "2/2 [==============================] - 0s 2ms/step - loss: 8.7116 - mae: 8.7116\n",
            "Epoch 86/100\n",
            "2/2 [==============================] - 0s 2ms/step - loss: 8.9798 - mae: 8.9798\n",
            "Epoch 87/100\n",
            "2/2 [==============================] - 0s 2ms/step - loss: 9.1358 - mae: 9.1358\n",
            "Epoch 88/100\n",
            "2/2 [==============================] - 0s 2ms/step - loss: 8.6840 - mae: 8.6840\n",
            "Epoch 89/100\n",
            "2/2 [==============================] - 0s 2ms/step - loss: 8.8271 - mae: 8.8271\n",
            "Epoch 90/100\n",
            "2/2 [==============================] - 0s 2ms/step - loss: 8.6365 - mae: 8.6365\n",
            "Epoch 91/100\n",
            "2/2 [==============================] - 0s 2ms/step - loss: 8.6865 - mae: 8.6865\n",
            "Epoch 92/100\n",
            "2/2 [==============================] - 0s 2ms/step - loss: 8.5532 - mae: 8.5532\n",
            "Epoch 93/100\n",
            "2/2 [==============================] - 0s 2ms/step - loss: 9.1450 - mae: 9.1450\n",
            "Epoch 94/100\n",
            "2/2 [==============================] - 0s 2ms/step - loss: 9.8870 - mae: 9.8870\n",
            "Epoch 95/100\n",
            "2/2 [==============================] - 0s 2ms/step - loss: 12.8069 - mae: 12.8069\n",
            "Epoch 96/100\n",
            "2/2 [==============================] - 0s 2ms/step - loss: 9.1277 - mae: 9.1277\n",
            "Epoch 97/100\n",
            "2/2 [==============================] - 0s 2ms/step - loss: 10.5286 - mae: 10.5286\n",
            "Epoch 98/100\n",
            "2/2 [==============================] - 0s 2ms/step - loss: 14.7341 - mae: 14.7341\n",
            "Epoch 99/100\n",
            "2/2 [==============================] - 0s 2ms/step - loss: 10.8368 - mae: 10.8368\n",
            "Epoch 100/100\n",
            "2/2 [==============================] - 0s 2ms/step - loss: 14.8932 - mae: 14.8932\n"
          ]
        },
        {
          "data": {
            "text/plain": [
              "<keras.callbacks.History at 0x7fb61914e2e0>"
            ]
          },
          "execution_count": 70,
          "metadata": {},
          "output_type": "execute_result"
        }
      ],
      "source": [
        "# Set random seed\n",
        "tf.random.set_seed(42)\n",
        "\n",
        "# Create a model (same as above)\n",
        "model = tf.keras.Sequential([\n",
        "  tf.keras.layers.Dense(1)\n",
        "])\n",
        "\n",
        "# Compile model (same as above)\n",
        "model.compile(loss=tf.keras.losses.mae,\n",
        "              optimizer=tf.keras.optimizers.SGD(),\n",
        "              metrics=[\"mae\"])\n",
        "\n",
        "# Fit model (this time we'll train for longer)\n",
        "model.fit(tf.expand_dims(X, axis=-1), y, epochs=100) # train for 100 epochs not 5"
      ]
    },
    {
      "cell_type": "markdown",
      "metadata": {
        "id": "1CIKSm7filgj"
      },
      "source": [
        "You might've noticed the loss value decrease from before (and keep decreasing as the number of epochs gets higher). \n",
        "\n",
        "What do you think this means for when we make a prediction with our model?\n",
        "\n",
        "How about we try predict on 17.0 again?"
      ]
    },
    {
      "cell_type": "code",
      "execution_count": 78,
      "metadata": {
        "colab": {
          "base_uri": "https://localhost:8080/"
        },
        "id": "_YcacZsfi4zZ",
        "outputId": "011ee264-7e6e-47f6-cd8e-26627befb2b5"
      },
      "outputs": [
        {
          "data": {
            "text/plain": [
              "(array([-100,  -96,  -92,  -88,  -84,  -80,  -76,  -72,  -68,  -64,  -60,\n",
              "         -56,  -52,  -48,  -44,  -40,  -36,  -32,  -28,  -24,  -20,  -16,\n",
              "         -12,   -8,   -4,    0,    4,    8,   12,   16,   20,   24,   28,\n",
              "          32,   36,   40,   44,   48,   52,   56,   60,   64,   68,   72,\n",
              "          76,   80,   84,   88,   92,   96]),\n",
              " array([-90, -86, -82, -78, -74, -70, -66, -62, -58, -54, -50, -46, -42,\n",
              "        -38, -34, -30, -26, -22, -18, -14, -10,  -6,  -2,   2,   6,  10,\n",
              "         14,  18,  22,  26,  30,  34,  38,  42,  46,  50,  54,  58,  62,\n",
              "         66,  70,  74,  78,  82,  86,  90,  94,  98, 102, 106]))"
            ]
          },
          "execution_count": 78,
          "metadata": {},
          "output_type": "execute_result"
        }
      ],
      "source": [
        "# Remind ourselves of what X and y are\n",
        "X, y"
      ]
    },
    {
      "cell_type": "code",
      "execution_count": 71,
      "metadata": {
        "colab": {
          "base_uri": "https://localhost:8080/"
        },
        "id": "e6k5V08ZivNO",
        "outputId": "9f703f97-1b6d-41af-b408-18a99aa6c8dc"
      },
      "outputs": [
        {
          "name": "stdout",
          "output_type": "stream",
          "text": [
            "1/1 [==============================] - 0s 56ms/step\n"
          ]
        },
        {
          "data": {
            "text/plain": [
              "array([[16.695833]], dtype=float32)"
            ]
          },
          "execution_count": 71,
          "metadata": {},
          "output_type": "execute_result"
        }
      ],
      "source": [
        "# Try and predict what y would be if X was 17.0\n",
        "model.predict([17.0]) # the right answer is 27.0 (y = X + 10)"
      ]
    },
    {
      "cell_type": "code",
      "execution_count": 83,
      "metadata": {
        "colab": {
          "base_uri": "https://localhost:8080/"
        },
        "id": "MI0LammMgWcN",
        "outputId": "0c01661d-6495-476a-b71e-bc63aa7e9ffe"
      },
      "outputs": [
        {
          "name": "stdout",
          "output_type": "stream",
          "text": [
            "Epoch 1/1000\n",
            "2/2 [==============================] - 0s 8ms/step - loss: 49.6395 - mae: 49.6395\n",
            "Epoch 2/1000\n",
            "2/2 [==============================] - 0s 7ms/step - loss: 45.2676 - mae: 45.2676\n",
            "Epoch 3/1000\n",
            "2/2 [==============================] - 0s 9ms/step - loss: 41.7766 - mae: 41.7766\n",
            "Epoch 4/1000\n",
            "2/2 [==============================] - 0s 8ms/step - loss: 38.1238 - mae: 38.1238\n",
            "Epoch 5/1000\n",
            "2/2 [==============================] - 0s 8ms/step - loss: 34.5055 - mae: 34.5055\n",
            "Epoch 6/1000\n",
            "2/2 [==============================] - 0s 9ms/step - loss: 30.8422 - mae: 30.8422\n",
            "Epoch 7/1000\n",
            "2/2 [==============================] - 0s 8ms/step - loss: 26.8018 - mae: 26.8018\n",
            "Epoch 8/1000\n",
            "2/2 [==============================] - 0s 10ms/step - loss: 22.7059 - mae: 22.7059\n",
            "Epoch 9/1000\n",
            "2/2 [==============================] - 0s 7ms/step - loss: 18.7520 - mae: 18.7520\n",
            "Epoch 10/1000\n",
            "2/2 [==============================] - 0s 7ms/step - loss: 14.1181 - mae: 14.1181\n",
            "Epoch 11/1000\n",
            "2/2 [==============================] - 0s 8ms/step - loss: 10.0542 - mae: 10.0542\n",
            "Epoch 12/1000\n",
            "2/2 [==============================] - 0s 7ms/step - loss: 7.6508 - mae: 7.6508\n",
            "Epoch 13/1000\n",
            "2/2 [==============================] - 0s 7ms/step - loss: 5.8635 - mae: 5.8635\n",
            "Epoch 14/1000\n",
            "2/2 [==============================] - 0s 8ms/step - loss: 6.2633 - mae: 6.2633\n",
            "Epoch 15/1000\n",
            "2/2 [==============================] - 0s 9ms/step - loss: 6.6560 - mae: 6.6560\n",
            "Epoch 16/1000\n",
            "2/2 [==============================] - 0s 7ms/step - loss: 7.3220 - mae: 7.3220\n",
            "Epoch 17/1000\n",
            "2/2 [==============================] - 0s 8ms/step - loss: 7.3270 - mae: 7.3270\n",
            "Epoch 18/1000\n",
            "2/2 [==============================] - 0s 8ms/step - loss: 6.4771 - mae: 6.4771\n",
            "Epoch 19/1000\n",
            "2/2 [==============================] - 0s 8ms/step - loss: 5.1928 - mae: 5.1928\n",
            "Epoch 20/1000\n",
            "2/2 [==============================] - 0s 8ms/step - loss: 4.1544 - mae: 4.1544\n",
            "Epoch 21/1000\n",
            "2/2 [==============================] - 0s 10ms/step - loss: 4.7889 - mae: 4.7889\n",
            "Epoch 22/1000\n",
            "2/2 [==============================] - 0s 7ms/step - loss: 5.4051 - mae: 5.4051\n",
            "Epoch 23/1000\n",
            "2/2 [==============================] - 0s 8ms/step - loss: 4.8176 - mae: 4.8176\n",
            "Epoch 24/1000\n",
            "2/2 [==============================] - 0s 7ms/step - loss: 4.0825 - mae: 4.0825\n",
            "Epoch 25/1000\n",
            "2/2 [==============================] - 0s 8ms/step - loss: 4.4650 - mae: 4.4650\n",
            "Epoch 26/1000\n",
            "2/2 [==============================] - 0s 8ms/step - loss: 4.7668 - mae: 4.7668\n",
            "Epoch 27/1000\n",
            "2/2 [==============================] - 0s 8ms/step - loss: 4.6868 - mae: 4.6868\n",
            "Epoch 28/1000\n",
            "2/2 [==============================] - 0s 8ms/step - loss: 4.3090 - mae: 4.3090\n",
            "Epoch 29/1000\n",
            "2/2 [==============================] - 0s 8ms/step - loss: 4.1063 - mae: 4.1063\n",
            "Epoch 30/1000\n",
            "2/2 [==============================] - 0s 8ms/step - loss: 4.2991 - mae: 4.2991\n",
            "Epoch 31/1000\n",
            "2/2 [==============================] - 0s 7ms/step - loss: 4.5061 - mae: 4.5061\n",
            "Epoch 32/1000\n",
            "2/2 [==============================] - 0s 7ms/step - loss: 4.2390 - mae: 4.2390\n",
            "Epoch 33/1000\n",
            "2/2 [==============================] - 0s 7ms/step - loss: 4.1088 - mae: 4.1088\n",
            "Epoch 34/1000\n",
            "2/2 [==============================] - 0s 8ms/step - loss: 4.2026 - mae: 4.2026\n",
            "Epoch 35/1000\n",
            "2/2 [==============================] - 0s 8ms/step - loss: 4.2860 - mae: 4.2860\n",
            "Epoch 36/1000\n",
            "2/2 [==============================] - 0s 7ms/step - loss: 4.1525 - mae: 4.1525\n",
            "Epoch 37/1000\n",
            "2/2 [==============================] - 0s 7ms/step - loss: 4.0604 - mae: 4.0604\n",
            "Epoch 38/1000\n",
            "2/2 [==============================] - 0s 8ms/step - loss: 4.1731 - mae: 4.1731\n",
            "Epoch 39/1000\n",
            "2/2 [==============================] - 0s 7ms/step - loss: 4.2144 - mae: 4.2144\n",
            "Epoch 40/1000\n",
            "2/2 [==============================] - 0s 8ms/step - loss: 4.1266 - mae: 4.1266\n",
            "Epoch 41/1000\n",
            "2/2 [==============================] - 0s 7ms/step - loss: 4.0553 - mae: 4.0553\n",
            "Epoch 42/1000\n",
            "2/2 [==============================] - 0s 7ms/step - loss: 4.0666 - mae: 4.0666\n",
            "Epoch 43/1000\n",
            "2/2 [==============================] - 0s 9ms/step - loss: 4.1302 - mae: 4.1302\n",
            "Epoch 44/1000\n",
            "2/2 [==============================] - 0s 7ms/step - loss: 4.1437 - mae: 4.1437\n",
            "Epoch 45/1000\n",
            "2/2 [==============================] - 0s 9ms/step - loss: 4.0868 - mae: 4.0868\n",
            "Epoch 46/1000\n",
            "2/2 [==============================] - 0s 9ms/step - loss: 4.0505 - mae: 4.0505\n",
            "Epoch 47/1000\n",
            "2/2 [==============================] - 0s 9ms/step - loss: 4.1046 - mae: 4.1046\n",
            "Epoch 48/1000\n",
            "2/2 [==============================] - 0s 8ms/step - loss: 4.0819 - mae: 4.0819\n",
            "Epoch 49/1000\n",
            "2/2 [==============================] - 0s 9ms/step - loss: 4.1306 - mae: 4.1306\n",
            "Epoch 50/1000\n",
            "2/2 [==============================] - 0s 7ms/step - loss: 4.1008 - mae: 4.1008\n",
            "Epoch 51/1000\n",
            "2/2 [==============================] - 0s 8ms/step - loss: 4.0650 - mae: 4.0650\n",
            "Epoch 52/1000\n",
            "2/2 [==============================] - 0s 8ms/step - loss: 4.0515 - mae: 4.0515\n",
            "Epoch 53/1000\n",
            "2/2 [==============================] - 0s 8ms/step - loss: 4.0628 - mae: 4.0628\n",
            "Epoch 54/1000\n",
            "2/2 [==============================] - 0s 7ms/step - loss: 4.0429 - mae: 4.0429\n",
            "Epoch 55/1000\n",
            "2/2 [==============================] - 0s 8ms/step - loss: 4.0299 - mae: 4.0299\n",
            "Epoch 56/1000\n",
            "2/2 [==============================] - 0s 7ms/step - loss: 4.0612 - mae: 4.0612\n",
            "Epoch 57/1000\n",
            "2/2 [==============================] - 0s 7ms/step - loss: 4.0335 - mae: 4.0335\n",
            "Epoch 58/1000\n",
            "2/2 [==============================] - 0s 7ms/step - loss: 4.0104 - mae: 4.0104\n",
            "Epoch 59/1000\n",
            "2/2 [==============================] - 0s 7ms/step - loss: 4.0070 - mae: 4.0070\n",
            "Epoch 60/1000\n",
            "2/2 [==============================] - 0s 8ms/step - loss: 4.0756 - mae: 4.0756\n",
            "Epoch 61/1000\n",
            "2/2 [==============================] - 0s 9ms/step - loss: 4.1019 - mae: 4.1019\n",
            "Epoch 62/1000\n",
            "2/2 [==============================] - 0s 8ms/step - loss: 4.0466 - mae: 4.0466\n",
            "Epoch 63/1000\n",
            "2/2 [==============================] - 0s 8ms/step - loss: 4.0257 - mae: 4.0257\n",
            "Epoch 64/1000\n",
            "2/2 [==============================] - 0s 9ms/step - loss: 4.0622 - mae: 4.0622\n",
            "Epoch 65/1000\n",
            "2/2 [==============================] - 0s 7ms/step - loss: 4.0773 - mae: 4.0773\n",
            "Epoch 66/1000\n",
            "2/2 [==============================] - 0s 8ms/step - loss: 3.9974 - mae: 3.9974\n",
            "Epoch 67/1000\n",
            "2/2 [==============================] - 0s 8ms/step - loss: 4.0094 - mae: 4.0094\n",
            "Epoch 68/1000\n",
            "2/2 [==============================] - 0s 8ms/step - loss: 4.0090 - mae: 4.0090\n",
            "Epoch 69/1000\n",
            "2/2 [==============================] - 0s 8ms/step - loss: 3.9769 - mae: 3.9769\n",
            "Epoch 70/1000\n",
            "2/2 [==============================] - 0s 10ms/step - loss: 3.9680 - mae: 3.9680\n",
            "Epoch 71/1000\n",
            "2/2 [==============================] - 0s 9ms/step - loss: 4.0525 - mae: 4.0525\n",
            "Epoch 72/1000\n",
            "2/2 [==============================] - 0s 9ms/step - loss: 4.0044 - mae: 4.0044\n",
            "Epoch 73/1000\n",
            "2/2 [==============================] - 0s 8ms/step - loss: 4.0322 - mae: 4.0322\n",
            "Epoch 74/1000\n",
            "2/2 [==============================] - 0s 8ms/step - loss: 4.0197 - mae: 4.0197\n",
            "Epoch 75/1000\n",
            "2/2 [==============================] - 0s 8ms/step - loss: 3.9579 - mae: 3.9579\n",
            "Epoch 76/1000\n",
            "2/2 [==============================] - 0s 9ms/step - loss: 3.9428 - mae: 3.9428\n",
            "Epoch 77/1000\n",
            "2/2 [==============================] - 0s 8ms/step - loss: 3.9742 - mae: 3.9742\n",
            "Epoch 78/1000\n",
            "2/2 [==============================] - 0s 8ms/step - loss: 3.9222 - mae: 3.9222\n",
            "Epoch 79/1000\n",
            "2/2 [==============================] - 0s 8ms/step - loss: 3.9539 - mae: 3.9539\n",
            "Epoch 80/1000\n",
            "2/2 [==============================] - 0s 9ms/step - loss: 3.9748 - mae: 3.9748\n",
            "Epoch 81/1000\n",
            "2/2 [==============================] - 0s 8ms/step - loss: 3.9709 - mae: 3.9709\n",
            "Epoch 82/1000\n",
            "2/2 [==============================] - 0s 9ms/step - loss: 3.9076 - mae: 3.9076\n",
            "Epoch 83/1000\n",
            "2/2 [==============================] - 0s 8ms/step - loss: 3.9629 - mae: 3.9629\n",
            "Epoch 84/1000\n",
            "2/2 [==============================] - 0s 7ms/step - loss: 3.9921 - mae: 3.9921\n",
            "Epoch 85/1000\n",
            "2/2 [==============================] - 0s 7ms/step - loss: 3.9476 - mae: 3.9476\n",
            "Epoch 86/1000\n",
            "2/2 [==============================] - 0s 8ms/step - loss: 3.9080 - mae: 3.9080\n",
            "Epoch 87/1000\n",
            "2/2 [==============================] - 0s 9ms/step - loss: 3.9704 - mae: 3.9704\n",
            "Epoch 88/1000\n",
            "2/2 [==============================] - 0s 8ms/step - loss: 3.9459 - mae: 3.9459\n",
            "Epoch 89/1000\n",
            "2/2 [==============================] - 0s 8ms/step - loss: 4.0390 - mae: 4.0390\n",
            "Epoch 90/1000\n",
            "2/2 [==============================] - 0s 8ms/step - loss: 3.9556 - mae: 3.9556\n",
            "Epoch 91/1000\n",
            "2/2 [==============================] - 0s 8ms/step - loss: 3.9856 - mae: 3.9856\n",
            "Epoch 92/1000\n",
            "2/2 [==============================] - 0s 8ms/step - loss: 3.8887 - mae: 3.8887\n",
            "Epoch 93/1000\n",
            "2/2 [==============================] - 0s 8ms/step - loss: 3.9030 - mae: 3.9030\n",
            "Epoch 94/1000\n",
            "2/2 [==============================] - 0s 8ms/step - loss: 3.9302 - mae: 3.9302\n",
            "Epoch 95/1000\n",
            "2/2 [==============================] - 0s 8ms/step - loss: 3.9606 - mae: 3.9606\n",
            "Epoch 96/1000\n",
            "2/2 [==============================] - 0s 7ms/step - loss: 3.8880 - mae: 3.8880\n",
            "Epoch 97/1000\n",
            "2/2 [==============================] - 0s 9ms/step - loss: 3.9356 - mae: 3.9356\n",
            "Epoch 98/1000\n",
            "2/2 [==============================] - 0s 8ms/step - loss: 3.8682 - mae: 3.8682\n",
            "Epoch 99/1000\n",
            "2/2 [==============================] - 0s 8ms/step - loss: 3.8950 - mae: 3.8950\n",
            "Epoch 100/1000\n",
            "2/2 [==============================] - 0s 8ms/step - loss: 3.8865 - mae: 3.8865\n",
            "Epoch 101/1000\n",
            "2/2 [==============================] - 0s 7ms/step - loss: 3.9061 - mae: 3.9061\n",
            "Epoch 102/1000\n",
            "2/2 [==============================] - 0s 8ms/step - loss: 3.8523 - mae: 3.8523\n",
            "Epoch 103/1000\n",
            "2/2 [==============================] - 0s 6ms/step - loss: 3.8716 - mae: 3.8716\n",
            "Epoch 104/1000\n",
            "2/2 [==============================] - 0s 8ms/step - loss: 3.9066 - mae: 3.9066\n",
            "Epoch 105/1000\n",
            "2/2 [==============================] - 0s 8ms/step - loss: 3.8926 - mae: 3.8926\n",
            "Epoch 106/1000\n",
            "2/2 [==============================] - 0s 8ms/step - loss: 3.8912 - mae: 3.8912\n",
            "Epoch 107/1000\n",
            "2/2 [==============================] - 0s 8ms/step - loss: 3.8756 - mae: 3.8756\n",
            "Epoch 108/1000\n",
            "2/2 [==============================] - 0s 7ms/step - loss: 3.8349 - mae: 3.8349\n",
            "Epoch 109/1000\n",
            "2/2 [==============================] - 0s 8ms/step - loss: 3.9184 - mae: 3.9184\n",
            "Epoch 110/1000\n",
            "2/2 [==============================] - 0s 8ms/step - loss: 3.8721 - mae: 3.8721\n",
            "Epoch 111/1000\n",
            "2/2 [==============================] - 0s 9ms/step - loss: 3.8290 - mae: 3.8290\n",
            "Epoch 112/1000\n",
            "2/2 [==============================] - 0s 8ms/step - loss: 3.9360 - mae: 3.9360\n",
            "Epoch 113/1000\n",
            "2/2 [==============================] - 0s 13ms/step - loss: 3.9035 - mae: 3.9035\n",
            "Epoch 114/1000\n",
            "2/2 [==============================] - 0s 8ms/step - loss: 3.8653 - mae: 3.8653\n",
            "Epoch 115/1000\n",
            "2/2 [==============================] - 0s 8ms/step - loss: 3.8631 - mae: 3.8631\n",
            "Epoch 116/1000\n",
            "2/2 [==============================] - 0s 9ms/step - loss: 3.8363 - mae: 3.8363\n",
            "Epoch 117/1000\n",
            "2/2 [==============================] - 0s 8ms/step - loss: 3.8375 - mae: 3.8375\n",
            "Epoch 118/1000\n",
            "2/2 [==============================] - 0s 7ms/step - loss: 3.9147 - mae: 3.9147\n",
            "Epoch 119/1000\n",
            "2/2 [==============================] - 0s 9ms/step - loss: 3.8727 - mae: 3.8727\n",
            "Epoch 120/1000\n",
            "2/2 [==============================] - 0s 7ms/step - loss: 3.7966 - mae: 3.7966\n",
            "Epoch 121/1000\n",
            "2/2 [==============================] - 0s 7ms/step - loss: 3.7935 - mae: 3.7935\n",
            "Epoch 122/1000\n",
            "2/2 [==============================] - 0s 8ms/step - loss: 3.8263 - mae: 3.8263\n",
            "Epoch 123/1000\n",
            "2/2 [==============================] - 0s 9ms/step - loss: 3.7727 - mae: 3.7727\n",
            "Epoch 124/1000\n",
            "2/2 [==============================] - 0s 8ms/step - loss: 3.8636 - mae: 3.8636\n",
            "Epoch 125/1000\n",
            "2/2 [==============================] - 0s 9ms/step - loss: 3.7996 - mae: 3.7996\n",
            "Epoch 126/1000\n",
            "2/2 [==============================] - 0s 7ms/step - loss: 3.7945 - mae: 3.7945\n",
            "Epoch 127/1000\n",
            "2/2 [==============================] - 0s 8ms/step - loss: 3.8267 - mae: 3.8267\n",
            "Epoch 128/1000\n",
            "2/2 [==============================] - 0s 8ms/step - loss: 3.7782 - mae: 3.7782\n",
            "Epoch 129/1000\n",
            "2/2 [==============================] - 0s 9ms/step - loss: 3.7234 - mae: 3.7234\n",
            "Epoch 130/1000\n",
            "2/2 [==============================] - 0s 8ms/step - loss: 3.7670 - mae: 3.7670\n",
            "Epoch 131/1000\n",
            "2/2 [==============================] - 0s 9ms/step - loss: 3.7155 - mae: 3.7155\n",
            "Epoch 132/1000\n",
            "2/2 [==============================] - 0s 9ms/step - loss: 3.6969 - mae: 3.6969\n",
            "Epoch 133/1000\n",
            "2/2 [==============================] - 0s 11ms/step - loss: 3.7046 - mae: 3.7046\n",
            "Epoch 134/1000\n",
            "2/2 [==============================] - 0s 10ms/step - loss: 3.6769 - mae: 3.6769\n",
            "Epoch 135/1000\n",
            "2/2 [==============================] - 0s 8ms/step - loss: 3.7188 - mae: 3.7188\n",
            "Epoch 136/1000\n",
            "2/2 [==============================] - 0s 9ms/step - loss: 3.6662 - mae: 3.6662\n",
            "Epoch 137/1000\n",
            "2/2 [==============================] - 0s 7ms/step - loss: 3.7835 - mae: 3.7835\n",
            "Epoch 138/1000\n",
            "2/2 [==============================] - 0s 8ms/step - loss: 3.7483 - mae: 3.7483\n",
            "Epoch 139/1000\n",
            "2/2 [==============================] - 0s 7ms/step - loss: 3.6560 - mae: 3.6560\n",
            "Epoch 140/1000\n",
            "2/2 [==============================] - 0s 9ms/step - loss: 3.6509 - mae: 3.6509\n",
            "Epoch 141/1000\n",
            "2/2 [==============================] - 0s 8ms/step - loss: 3.6666 - mae: 3.6666\n",
            "Epoch 142/1000\n",
            "2/2 [==============================] - 0s 8ms/step - loss: 3.6343 - mae: 3.6343\n",
            "Epoch 143/1000\n",
            "2/2 [==============================] - 0s 8ms/step - loss: 3.6167 - mae: 3.6167\n",
            "Epoch 144/1000\n",
            "2/2 [==============================] - 0s 10ms/step - loss: 3.7452 - mae: 3.7452\n",
            "Epoch 145/1000\n",
            "2/2 [==============================] - 0s 9ms/step - loss: 3.5816 - mae: 3.5816\n",
            "Epoch 146/1000\n",
            "2/2 [==============================] - 0s 9ms/step - loss: 3.6711 - mae: 3.6711\n",
            "Epoch 147/1000\n",
            "2/2 [==============================] - 0s 7ms/step - loss: 3.5611 - mae: 3.5611\n",
            "Epoch 148/1000\n",
            "2/2 [==============================] - 0s 7ms/step - loss: 3.7886 - mae: 3.7886\n",
            "Epoch 149/1000\n",
            "2/2 [==============================] - 0s 9ms/step - loss: 3.8069 - mae: 3.8069\n",
            "Epoch 150/1000\n",
            "2/2 [==============================] - 0s 9ms/step - loss: 3.5222 - mae: 3.5222\n",
            "Epoch 151/1000\n",
            "2/2 [==============================] - 0s 7ms/step - loss: 3.8148 - mae: 3.8148\n",
            "Epoch 152/1000\n",
            "2/2 [==============================] - 0s 7ms/step - loss: 3.5279 - mae: 3.5279\n",
            "Epoch 153/1000\n",
            "2/2 [==============================] - 0s 7ms/step - loss: 3.8257 - mae: 3.8257\n",
            "Epoch 154/1000\n",
            "2/2 [==============================] - 0s 9ms/step - loss: 3.7087 - mae: 3.7087\n",
            "Epoch 155/1000\n",
            "2/2 [==============================] - 0s 8ms/step - loss: 3.6032 - mae: 3.6032\n",
            "Epoch 156/1000\n",
            "2/2 [==============================] - 0s 9ms/step - loss: 3.5858 - mae: 3.5858\n",
            "Epoch 157/1000\n",
            "2/2 [==============================] - 0s 9ms/step - loss: 3.5588 - mae: 3.5588\n",
            "Epoch 158/1000\n",
            "2/2 [==============================] - 0s 9ms/step - loss: 3.6746 - mae: 3.6746\n",
            "Epoch 159/1000\n",
            "2/2 [==============================] - 0s 9ms/step - loss: 3.6146 - mae: 3.6146\n",
            "Epoch 160/1000\n",
            "2/2 [==============================] - 0s 8ms/step - loss: 3.6394 - mae: 3.6394\n",
            "Epoch 161/1000\n",
            "2/2 [==============================] - 0s 8ms/step - loss: 3.6315 - mae: 3.6315\n",
            "Epoch 162/1000\n",
            "2/2 [==============================] - 0s 8ms/step - loss: 3.5712 - mae: 3.5712\n",
            "Epoch 163/1000\n",
            "2/2 [==============================] - 0s 8ms/step - loss: 3.7100 - mae: 3.7100\n",
            "Epoch 164/1000\n",
            "2/2 [==============================] - 0s 9ms/step - loss: 3.4629 - mae: 3.4629\n",
            "Epoch 165/1000\n",
            "2/2 [==============================] - 0s 7ms/step - loss: 3.5659 - mae: 3.5659\n",
            "Epoch 166/1000\n",
            "2/2 [==============================] - 0s 10ms/step - loss: 3.4920 - mae: 3.4920\n",
            "Epoch 167/1000\n",
            "2/2 [==============================] - 0s 8ms/step - loss: 3.3883 - mae: 3.3883\n",
            "Epoch 168/1000\n",
            "2/2 [==============================] - 0s 9ms/step - loss: 3.5251 - mae: 3.5251\n",
            "Epoch 169/1000\n",
            "2/2 [==============================] - 0s 8ms/step - loss: 3.3833 - mae: 3.3833\n",
            "Epoch 170/1000\n",
            "2/2 [==============================] - 0s 8ms/step - loss: 3.3799 - mae: 3.3799\n",
            "Epoch 171/1000\n",
            "2/2 [==============================] - 0s 8ms/step - loss: 3.3008 - mae: 3.3008\n",
            "Epoch 172/1000\n",
            "2/2 [==============================] - 0s 8ms/step - loss: 3.3640 - mae: 3.3640\n",
            "Epoch 173/1000\n",
            "2/2 [==============================] - 0s 8ms/step - loss: 3.5247 - mae: 3.5247\n",
            "Epoch 174/1000\n",
            "2/2 [==============================] - 0s 7ms/step - loss: 3.5053 - mae: 3.5053\n",
            "Epoch 175/1000\n",
            "2/2 [==============================] - 0s 10ms/step - loss: 3.2261 - mae: 3.2261\n",
            "Epoch 176/1000\n",
            "2/2 [==============================] - 0s 7ms/step - loss: 3.3249 - mae: 3.3249\n",
            "Epoch 177/1000\n",
            "2/2 [==============================] - 0s 9ms/step - loss: 3.2075 - mae: 3.2075\n",
            "Epoch 178/1000\n",
            "2/2 [==============================] - 0s 8ms/step - loss: 3.3342 - mae: 3.3342\n",
            "Epoch 179/1000\n",
            "2/2 [==============================] - 0s 7ms/step - loss: 3.2335 - mae: 3.2335\n",
            "Epoch 180/1000\n",
            "2/2 [==============================] - 0s 8ms/step - loss: 3.1749 - mae: 3.1749\n",
            "Epoch 181/1000\n",
            "2/2 [==============================] - 0s 7ms/step - loss: 3.1674 - mae: 3.1674\n",
            "Epoch 182/1000\n",
            "2/2 [==============================] - 0s 8ms/step - loss: 3.1196 - mae: 3.1196\n",
            "Epoch 183/1000\n",
            "2/2 [==============================] - 0s 8ms/step - loss: 3.2956 - mae: 3.2956\n",
            "Epoch 184/1000\n",
            "2/2 [==============================] - 0s 8ms/step - loss: 3.4004 - mae: 3.4004\n",
            "Epoch 185/1000\n",
            "2/2 [==============================] - 0s 8ms/step - loss: 3.0694 - mae: 3.0694\n",
            "Epoch 186/1000\n",
            "2/2 [==============================] - 0s 7ms/step - loss: 3.3517 - mae: 3.3517\n",
            "Epoch 187/1000\n",
            "2/2 [==============================] - 0s 8ms/step - loss: 3.1436 - mae: 3.1436\n",
            "Epoch 188/1000\n",
            "2/2 [==============================] - 0s 8ms/step - loss: 3.0605 - mae: 3.0605\n",
            "Epoch 189/1000\n",
            "2/2 [==============================] - 0s 8ms/step - loss: 3.2340 - mae: 3.2340\n",
            "Epoch 190/1000\n",
            "2/2 [==============================] - 0s 8ms/step - loss: 3.0908 - mae: 3.0908\n",
            "Epoch 191/1000\n",
            "2/2 [==============================] - 0s 8ms/step - loss: 3.2887 - mae: 3.2887\n",
            "Epoch 192/1000\n",
            "2/2 [==============================] - 0s 9ms/step - loss: 2.9537 - mae: 2.9537\n",
            "Epoch 193/1000\n",
            "2/2 [==============================] - 0s 8ms/step - loss: 3.1321 - mae: 3.1321\n",
            "Epoch 194/1000\n",
            "2/2 [==============================] - 0s 8ms/step - loss: 3.1849 - mae: 3.1849\n",
            "Epoch 195/1000\n",
            "2/2 [==============================] - 0s 8ms/step - loss: 3.3682 - mae: 3.3682\n",
            "Epoch 196/1000\n",
            "2/2 [==============================] - 0s 8ms/step - loss: 3.3683 - mae: 3.3683\n",
            "Epoch 197/1000\n",
            "2/2 [==============================] - 0s 8ms/step - loss: 3.1032 - mae: 3.1032\n",
            "Epoch 198/1000\n",
            "2/2 [==============================] - 0s 9ms/step - loss: 3.3089 - mae: 3.3089\n",
            "Epoch 199/1000\n",
            "2/2 [==============================] - 0s 9ms/step - loss: 2.9506 - mae: 2.9506\n",
            "Epoch 200/1000\n",
            "2/2 [==============================] - 0s 8ms/step - loss: 2.7972 - mae: 2.7972\n",
            "Epoch 201/1000\n",
            "2/2 [==============================] - 0s 8ms/step - loss: 2.7577 - mae: 2.7577\n",
            "Epoch 202/1000\n",
            "2/2 [==============================] - 0s 7ms/step - loss: 2.6869 - mae: 2.6869\n",
            "Epoch 203/1000\n",
            "2/2 [==============================] - 0s 8ms/step - loss: 2.6675 - mae: 2.6675\n",
            "Epoch 204/1000\n",
            "2/2 [==============================] - 0s 8ms/step - loss: 2.7332 - mae: 2.7332\n",
            "Epoch 205/1000\n",
            "2/2 [==============================] - 0s 10ms/step - loss: 2.7212 - mae: 2.7212\n",
            "Epoch 206/1000\n",
            "2/2 [==============================] - 0s 8ms/step - loss: 2.5745 - mae: 2.5745\n",
            "Epoch 207/1000\n",
            "2/2 [==============================] - 0s 8ms/step - loss: 2.5732 - mae: 2.5732\n",
            "Epoch 208/1000\n",
            "2/2 [==============================] - 0s 8ms/step - loss: 2.4753 - mae: 2.4753\n",
            "Epoch 209/1000\n",
            "2/2 [==============================] - 0s 9ms/step - loss: 2.6144 - mae: 2.6144\n",
            "Epoch 210/1000\n",
            "2/2 [==============================] - 0s 8ms/step - loss: 2.4972 - mae: 2.4972\n",
            "Epoch 211/1000\n",
            "2/2 [==============================] - 0s 11ms/step - loss: 2.6911 - mae: 2.6911\n",
            "Epoch 212/1000\n",
            "2/2 [==============================] - 0s 8ms/step - loss: 2.5244 - mae: 2.5244\n",
            "Epoch 213/1000\n",
            "2/2 [==============================] - 0s 8ms/step - loss: 2.7491 - mae: 2.7491\n",
            "Epoch 214/1000\n",
            "2/2 [==============================] - 0s 8ms/step - loss: 2.3111 - mae: 2.3111\n",
            "Epoch 215/1000\n",
            "2/2 [==============================] - 0s 7ms/step - loss: 2.7493 - mae: 2.7493\n",
            "Epoch 216/1000\n",
            "2/2 [==============================] - 0s 8ms/step - loss: 2.2693 - mae: 2.2693\n",
            "Epoch 217/1000\n",
            "2/2 [==============================] - 0s 7ms/step - loss: 2.4611 - mae: 2.4611\n",
            "Epoch 218/1000\n",
            "2/2 [==============================] - 0s 9ms/step - loss: 2.5784 - mae: 2.5784\n",
            "Epoch 219/1000\n",
            "2/2 [==============================] - 0s 7ms/step - loss: 2.2863 - mae: 2.2863\n",
            "Epoch 220/1000\n",
            "2/2 [==============================] - 0s 9ms/step - loss: 2.0364 - mae: 2.0364\n",
            "Epoch 221/1000\n",
            "2/2 [==============================] - 0s 8ms/step - loss: 2.4987 - mae: 2.4987\n",
            "Epoch 222/1000\n",
            "2/2 [==============================] - 0s 9ms/step - loss: 2.1017 - mae: 2.1017\n",
            "Epoch 223/1000\n",
            "2/2 [==============================] - 0s 8ms/step - loss: 2.1935 - mae: 2.1935\n",
            "Epoch 224/1000\n",
            "2/2 [==============================] - 0s 8ms/step - loss: 2.3897 - mae: 2.3897\n",
            "Epoch 225/1000\n",
            "2/2 [==============================] - 0s 7ms/step - loss: 2.2223 - mae: 2.2223\n",
            "Epoch 226/1000\n",
            "2/2 [==============================] - 0s 8ms/step - loss: 2.5585 - mae: 2.5585\n",
            "Epoch 227/1000\n",
            "2/2 [==============================] - 0s 8ms/step - loss: 2.8395 - mae: 2.8395\n",
            "Epoch 228/1000\n",
            "2/2 [==============================] - 0s 8ms/step - loss: 2.2063 - mae: 2.2063\n",
            "Epoch 229/1000\n",
            "2/2 [==============================] - 0s 8ms/step - loss: 2.4278 - mae: 2.4278\n",
            "Epoch 230/1000\n",
            "2/2 [==============================] - 0s 7ms/step - loss: 2.7269 - mae: 2.7269\n",
            "Epoch 231/1000\n",
            "2/2 [==============================] - 0s 8ms/step - loss: 2.4179 - mae: 2.4179\n",
            "Epoch 232/1000\n",
            "2/2 [==============================] - 0s 7ms/step - loss: 2.4965 - mae: 2.4965\n",
            "Epoch 233/1000\n",
            "2/2 [==============================] - 0s 8ms/step - loss: 2.3594 - mae: 2.3594\n",
            "Epoch 234/1000\n",
            "2/2 [==============================] - 0s 8ms/step - loss: 1.8741 - mae: 1.8741\n",
            "Epoch 235/1000\n",
            "2/2 [==============================] - 0s 10ms/step - loss: 2.7581 - mae: 2.7581\n",
            "Epoch 236/1000\n",
            "2/2 [==============================] - 0s 8ms/step - loss: 2.7879 - mae: 2.7879\n",
            "Epoch 237/1000\n",
            "2/2 [==============================] - 0s 9ms/step - loss: 2.0567 - mae: 2.0567\n",
            "Epoch 238/1000\n",
            "2/2 [==============================] - 0s 8ms/step - loss: 2.4173 - mae: 2.4173\n",
            "Epoch 239/1000\n",
            "2/2 [==============================] - 0s 16ms/step - loss: 1.8417 - mae: 1.8417\n",
            "Epoch 240/1000\n",
            "2/2 [==============================] - 0s 7ms/step - loss: 1.8146 - mae: 1.8146\n",
            "Epoch 241/1000\n",
            "2/2 [==============================] - 0s 8ms/step - loss: 2.7850 - mae: 2.7850\n",
            "Epoch 242/1000\n",
            "2/2 [==============================] - 0s 8ms/step - loss: 1.6845 - mae: 1.6845\n",
            "Epoch 243/1000\n",
            "2/2 [==============================] - 0s 8ms/step - loss: 2.0338 - mae: 2.0338\n",
            "Epoch 244/1000\n",
            "2/2 [==============================] - 0s 8ms/step - loss: 2.1237 - mae: 2.1237\n",
            "Epoch 245/1000\n",
            "2/2 [==============================] - 0s 7ms/step - loss: 1.4353 - mae: 1.4353\n",
            "Epoch 246/1000\n",
            "2/2 [==============================] - 0s 7ms/step - loss: 1.4747 - mae: 1.4747\n",
            "Epoch 247/1000\n",
            "2/2 [==============================] - 0s 10ms/step - loss: 1.4931 - mae: 1.4931\n",
            "Epoch 248/1000\n",
            "2/2 [==============================] - 0s 8ms/step - loss: 1.8176 - mae: 1.8176\n",
            "Epoch 249/1000\n",
            "2/2 [==============================] - 0s 8ms/step - loss: 1.6712 - mae: 1.6712\n",
            "Epoch 250/1000\n",
            "2/2 [==============================] - 0s 7ms/step - loss: 1.6965 - mae: 1.6965\n",
            "Epoch 251/1000\n",
            "2/2 [==============================] - 0s 9ms/step - loss: 1.3662 - mae: 1.3662\n",
            "Epoch 252/1000\n",
            "2/2 [==============================] - 0s 9ms/step - loss: 1.5009 - mae: 1.5009\n",
            "Epoch 253/1000\n",
            "2/2 [==============================] - 0s 8ms/step - loss: 1.7858 - mae: 1.7858\n",
            "Epoch 254/1000\n",
            "2/2 [==============================] - 0s 10ms/step - loss: 2.1440 - mae: 2.1440\n",
            "Epoch 255/1000\n",
            "2/2 [==============================] - 0s 8ms/step - loss: 1.8357 - mae: 1.8357\n",
            "Epoch 256/1000\n",
            "2/2 [==============================] - 0s 10ms/step - loss: 2.0880 - mae: 2.0880\n",
            "Epoch 257/1000\n",
            "2/2 [==============================] - 0s 9ms/step - loss: 1.5299 - mae: 1.5299\n",
            "Epoch 258/1000\n",
            "2/2 [==============================] - 0s 9ms/step - loss: 1.8398 - mae: 1.8398\n",
            "Epoch 259/1000\n",
            "2/2 [==============================] - 0s 8ms/step - loss: 1.8665 - mae: 1.8665\n",
            "Epoch 260/1000\n",
            "2/2 [==============================] - 0s 7ms/step - loss: 1.4770 - mae: 1.4770\n",
            "Epoch 261/1000\n",
            "2/2 [==============================] - 0s 9ms/step - loss: 1.8560 - mae: 1.8560\n",
            "Epoch 262/1000\n",
            "2/2 [==============================] - 0s 9ms/step - loss: 1.2361 - mae: 1.2361\n",
            "Epoch 263/1000\n",
            "2/2 [==============================] - 0s 9ms/step - loss: 1.2797 - mae: 1.2797\n",
            "Epoch 264/1000\n",
            "2/2 [==============================] - 0s 8ms/step - loss: 1.1868 - mae: 1.1868\n",
            "Epoch 265/1000\n",
            "2/2 [==============================] - 0s 8ms/step - loss: 1.0763 - mae: 1.0763\n",
            "Epoch 266/1000\n",
            "2/2 [==============================] - 0s 10ms/step - loss: 1.2623 - mae: 1.2623\n",
            "Epoch 267/1000\n",
            "2/2 [==============================] - 0s 9ms/step - loss: 1.1702 - mae: 1.1702\n",
            "Epoch 268/1000\n",
            "2/2 [==============================] - 0s 9ms/step - loss: 1.0849 - mae: 1.0849\n",
            "Epoch 269/1000\n",
            "2/2 [==============================] - 0s 9ms/step - loss: 1.2291 - mae: 1.2291\n",
            "Epoch 270/1000\n",
            "2/2 [==============================] - 0s 8ms/step - loss: 1.5106 - mae: 1.5106\n",
            "Epoch 271/1000\n",
            "2/2 [==============================] - 0s 10ms/step - loss: 1.2217 - mae: 1.2217\n",
            "Epoch 272/1000\n",
            "2/2 [==============================] - 0s 7ms/step - loss: 1.1130 - mae: 1.1130\n",
            "Epoch 273/1000\n",
            "2/2 [==============================] - 0s 9ms/step - loss: 1.6412 - mae: 1.6412\n",
            "Epoch 274/1000\n",
            "2/2 [==============================] - 0s 8ms/step - loss: 0.9350 - mae: 0.9350\n",
            "Epoch 275/1000\n",
            "2/2 [==============================] - 0s 7ms/step - loss: 0.9641 - mae: 0.9641\n",
            "Epoch 276/1000\n",
            "2/2 [==============================] - 0s 8ms/step - loss: 0.9942 - mae: 0.9942\n",
            "Epoch 277/1000\n",
            "2/2 [==============================] - 0s 8ms/step - loss: 0.8447 - mae: 0.8447\n",
            "Epoch 278/1000\n",
            "2/2 [==============================] - 0s 9ms/step - loss: 1.0390 - mae: 1.0390\n",
            "Epoch 279/1000\n",
            "2/2 [==============================] - 0s 8ms/step - loss: 1.1058 - mae: 1.1058\n",
            "Epoch 280/1000\n",
            "2/2 [==============================] - 0s 9ms/step - loss: 2.8085 - mae: 2.8085\n",
            "Epoch 281/1000\n",
            "2/2 [==============================] - 0s 8ms/step - loss: 1.9353 - mae: 1.9353\n",
            "Epoch 282/1000\n",
            "2/2 [==============================] - 0s 8ms/step - loss: 2.0750 - mae: 2.0750\n",
            "Epoch 283/1000\n",
            "2/2 [==============================] - 0s 8ms/step - loss: 1.6477 - mae: 1.6477\n",
            "Epoch 284/1000\n",
            "2/2 [==============================] - 0s 7ms/step - loss: 2.0475 - mae: 2.0475\n",
            "Epoch 285/1000\n",
            "2/2 [==============================] - 0s 10ms/step - loss: 1.4724 - mae: 1.4724\n",
            "Epoch 286/1000\n",
            "2/2 [==============================] - 0s 8ms/step - loss: 1.7076 - mae: 1.7076\n",
            "Epoch 287/1000\n",
            "2/2 [==============================] - 0s 10ms/step - loss: 1.9203 - mae: 1.9203\n",
            "Epoch 288/1000\n",
            "2/2 [==============================] - 0s 9ms/step - loss: 1.1369 - mae: 1.1369\n",
            "Epoch 289/1000\n",
            "2/2 [==============================] - 0s 9ms/step - loss: 1.3351 - mae: 1.3351\n",
            "Epoch 290/1000\n",
            "2/2 [==============================] - 0s 8ms/step - loss: 1.2823 - mae: 1.2823\n",
            "Epoch 291/1000\n",
            "2/2 [==============================] - 0s 8ms/step - loss: 1.0354 - mae: 1.0354\n",
            "Epoch 292/1000\n",
            "2/2 [==============================] - 0s 8ms/step - loss: 1.6369 - mae: 1.6369\n",
            "Epoch 293/1000\n",
            "2/2 [==============================] - 0s 8ms/step - loss: 0.8931 - mae: 0.8931\n",
            "Epoch 294/1000\n",
            "2/2 [==============================] - 0s 10ms/step - loss: 1.5437 - mae: 1.5437\n",
            "Epoch 295/1000\n",
            "2/2 [==============================] - 0s 8ms/step - loss: 0.8860 - mae: 0.8860\n",
            "Epoch 296/1000\n",
            "2/2 [==============================] - 0s 9ms/step - loss: 2.2999 - mae: 2.2999\n",
            "Epoch 297/1000\n",
            "2/2 [==============================] - 0s 9ms/step - loss: 1.1262 - mae: 1.1262\n",
            "Epoch 298/1000\n",
            "2/2 [==============================] - 0s 8ms/step - loss: 2.0055 - mae: 2.0055\n",
            "Epoch 299/1000\n",
            "2/2 [==============================] - 0s 7ms/step - loss: 1.0248 - mae: 1.0248\n",
            "Epoch 300/1000\n",
            "2/2 [==============================] - 0s 9ms/step - loss: 1.4107 - mae: 1.4107\n",
            "Epoch 301/1000\n",
            "2/2 [==============================] - 0s 9ms/step - loss: 1.1067 - mae: 1.1067\n",
            "Epoch 302/1000\n",
            "2/2 [==============================] - 0s 8ms/step - loss: 0.9509 - mae: 0.9509\n",
            "Epoch 303/1000\n",
            "2/2 [==============================] - 0s 10ms/step - loss: 1.2167 - mae: 1.2167\n",
            "Epoch 304/1000\n",
            "2/2 [==============================] - 0s 6ms/step - loss: 0.8738 - mae: 0.8738\n",
            "Epoch 305/1000\n",
            "2/2 [==============================] - 0s 9ms/step - loss: 1.5717 - mae: 1.5717\n",
            "Epoch 306/1000\n",
            "2/2 [==============================] - 0s 7ms/step - loss: 0.8508 - mae: 0.8508\n",
            "Epoch 307/1000\n",
            "2/2 [==============================] - 0s 11ms/step - loss: 1.6088 - mae: 1.6088\n",
            "Epoch 308/1000\n",
            "2/2 [==============================] - 0s 8ms/step - loss: 1.0502 - mae: 1.0502\n",
            "Epoch 309/1000\n",
            "2/2 [==============================] - 0s 9ms/step - loss: 0.9645 - mae: 0.9645\n",
            "Epoch 310/1000\n",
            "2/2 [==============================] - 0s 7ms/step - loss: 0.6904 - mae: 0.6904\n",
            "Epoch 311/1000\n",
            "2/2 [==============================] - 0s 8ms/step - loss: 0.6256 - mae: 0.6256\n",
            "Epoch 312/1000\n",
            "2/2 [==============================] - 0s 9ms/step - loss: 0.9120 - mae: 0.9120\n",
            "Epoch 313/1000\n",
            "2/2 [==============================] - 0s 8ms/step - loss: 0.7320 - mae: 0.7320\n",
            "Epoch 314/1000\n",
            "2/2 [==============================] - 0s 14ms/step - loss: 0.8106 - mae: 0.8106\n",
            "Epoch 315/1000\n",
            "2/2 [==============================] - 0s 8ms/step - loss: 1.2570 - mae: 1.2570\n",
            "Epoch 316/1000\n",
            "2/2 [==============================] - 0s 9ms/step - loss: 0.8529 - mae: 0.8529\n",
            "Epoch 317/1000\n",
            "2/2 [==============================] - 0s 9ms/step - loss: 0.9123 - mae: 0.9123\n",
            "Epoch 318/1000\n",
            "2/2 [==============================] - 0s 8ms/step - loss: 0.9540 - mae: 0.9540\n",
            "Epoch 319/1000\n",
            "2/2 [==============================] - 0s 9ms/step - loss: 0.8331 - mae: 0.8331\n",
            "Epoch 320/1000\n",
            "2/2 [==============================] - 0s 10ms/step - loss: 1.7285 - mae: 1.7285\n",
            "Epoch 321/1000\n",
            "2/2 [==============================] - 0s 10ms/step - loss: 0.8429 - mae: 0.8429\n",
            "Epoch 322/1000\n",
            "2/2 [==============================] - 0s 8ms/step - loss: 1.8911 - mae: 1.8911\n",
            "Epoch 323/1000\n",
            "2/2 [==============================] - 0s 8ms/step - loss: 1.7547 - mae: 1.7547\n",
            "Epoch 324/1000\n",
            "2/2 [==============================] - 0s 8ms/step - loss: 1.2667 - mae: 1.2667\n",
            "Epoch 325/1000\n",
            "2/2 [==============================] - 0s 9ms/step - loss: 1.5664 - mae: 1.5664\n",
            "Epoch 326/1000\n",
            "2/2 [==============================] - 0s 8ms/step - loss: 0.9946 - mae: 0.9946\n",
            "Epoch 327/1000\n",
            "2/2 [==============================] - 0s 9ms/step - loss: 1.8802 - mae: 1.8802\n",
            "Epoch 328/1000\n",
            "2/2 [==============================] - 0s 8ms/step - loss: 1.1407 - mae: 1.1407\n",
            "Epoch 329/1000\n",
            "2/2 [==============================] - 0s 10ms/step - loss: 1.4078 - mae: 1.4078\n",
            "Epoch 330/1000\n",
            "2/2 [==============================] - 0s 7ms/step - loss: 0.9528 - mae: 0.9528\n",
            "Epoch 331/1000\n",
            "2/2 [==============================] - 0s 9ms/step - loss: 1.1027 - mae: 1.1027\n",
            "Epoch 332/1000\n",
            "2/2 [==============================] - 0s 9ms/step - loss: 0.9865 - mae: 0.9865\n",
            "Epoch 333/1000\n",
            "2/2 [==============================] - 0s 9ms/step - loss: 1.2050 - mae: 1.2050\n",
            "Epoch 334/1000\n",
            "2/2 [==============================] - 0s 8ms/step - loss: 1.1622 - mae: 1.1622\n",
            "Epoch 335/1000\n",
            "2/2 [==============================] - 0s 8ms/step - loss: 0.8121 - mae: 0.8121\n",
            "Epoch 336/1000\n",
            "2/2 [==============================] - 0s 8ms/step - loss: 0.7716 - mae: 0.7716\n",
            "Epoch 337/1000\n",
            "2/2 [==============================] - 0s 8ms/step - loss: 1.1546 - mae: 1.1546\n",
            "Epoch 338/1000\n",
            "2/2 [==============================] - 0s 8ms/step - loss: 0.7621 - mae: 0.7621\n",
            "Epoch 339/1000\n",
            "2/2 [==============================] - 0s 8ms/step - loss: 1.1694 - mae: 1.1694\n",
            "Epoch 340/1000\n",
            "2/2 [==============================] - 0s 8ms/step - loss: 0.9925 - mae: 0.9925\n",
            "Epoch 341/1000\n",
            "2/2 [==============================] - 0s 9ms/step - loss: 1.4137 - mae: 1.4137\n",
            "Epoch 342/1000\n",
            "2/2 [==============================] - 0s 8ms/step - loss: 0.9206 - mae: 0.9206\n",
            "Epoch 343/1000\n",
            "2/2 [==============================] - 0s 11ms/step - loss: 1.3228 - mae: 1.3228\n",
            "Epoch 344/1000\n",
            "2/2 [==============================] - 0s 9ms/step - loss: 0.5740 - mae: 0.5740\n",
            "Epoch 345/1000\n",
            "2/2 [==============================] - 0s 16ms/step - loss: 0.8846 - mae: 0.8846\n",
            "Epoch 346/1000\n",
            "2/2 [==============================] - 0s 8ms/step - loss: 0.7175 - mae: 0.7175\n",
            "Epoch 347/1000\n",
            "2/2 [==============================] - 0s 9ms/step - loss: 1.2900 - mae: 1.2900\n",
            "Epoch 348/1000\n",
            "2/2 [==============================] - 0s 7ms/step - loss: 0.8908 - mae: 0.8908\n",
            "Epoch 349/1000\n",
            "2/2 [==============================] - 0s 8ms/step - loss: 1.3500 - mae: 1.3500\n",
            "Epoch 350/1000\n",
            "2/2 [==============================] - 0s 8ms/step - loss: 1.0434 - mae: 1.0434\n",
            "Epoch 351/1000\n",
            "2/2 [==============================] - 0s 10ms/step - loss: 1.4077 - mae: 1.4077\n",
            "Epoch 352/1000\n",
            "2/2 [==============================] - 0s 8ms/step - loss: 0.7967 - mae: 0.7967\n",
            "Epoch 353/1000\n",
            "2/2 [==============================] - 0s 8ms/step - loss: 1.4418 - mae: 1.4418\n",
            "Epoch 354/1000\n",
            "2/2 [==============================] - 0s 7ms/step - loss: 0.7722 - mae: 0.7722\n",
            "Epoch 355/1000\n",
            "2/2 [==============================] - 0s 8ms/step - loss: 1.0232 - mae: 1.0232\n",
            "Epoch 356/1000\n",
            "2/2 [==============================] - 0s 7ms/step - loss: 0.5288 - mae: 0.5288\n",
            "Epoch 357/1000\n",
            "2/2 [==============================] - 0s 8ms/step - loss: 0.8699 - mae: 0.8699\n",
            "Epoch 358/1000\n",
            "2/2 [==============================] - 0s 8ms/step - loss: 0.6440 - mae: 0.6440\n",
            "Epoch 359/1000\n",
            "2/2 [==============================] - 0s 8ms/step - loss: 1.0138 - mae: 1.0138\n",
            "Epoch 360/1000\n",
            "2/2 [==============================] - 0s 7ms/step - loss: 0.6212 - mae: 0.6212\n",
            "Epoch 361/1000\n",
            "2/2 [==============================] - 0s 9ms/step - loss: 1.0852 - mae: 1.0852\n",
            "Epoch 362/1000\n",
            "2/2 [==============================] - 0s 9ms/step - loss: 1.0029 - mae: 1.0029\n",
            "Epoch 363/1000\n",
            "2/2 [==============================] - 0s 7ms/step - loss: 0.7227 - mae: 0.7227\n",
            "Epoch 364/1000\n",
            "2/2 [==============================] - 0s 9ms/step - loss: 1.1126 - mae: 1.1126\n",
            "Epoch 365/1000\n",
            "2/2 [==============================] - 0s 8ms/step - loss: 0.8232 - mae: 0.8232\n",
            "Epoch 366/1000\n",
            "2/2 [==============================] - 0s 8ms/step - loss: 1.7722 - mae: 1.7722\n",
            "Epoch 367/1000\n",
            "2/2 [==============================] - 0s 9ms/step - loss: 1.1260 - mae: 1.1260\n",
            "Epoch 368/1000\n",
            "2/2 [==============================] - 0s 7ms/step - loss: 1.5427 - mae: 1.5427\n",
            "Epoch 369/1000\n",
            "2/2 [==============================] - 0s 9ms/step - loss: 1.2141 - mae: 1.2141\n",
            "Epoch 370/1000\n",
            "2/2 [==============================] - 0s 8ms/step - loss: 1.3018 - mae: 1.3018\n",
            "Epoch 371/1000\n",
            "2/2 [==============================] - 0s 10ms/step - loss: 0.9772 - mae: 0.9772\n",
            "Epoch 372/1000\n",
            "2/2 [==============================] - 0s 8ms/step - loss: 1.6017 - mae: 1.6017\n",
            "Epoch 373/1000\n",
            "2/2 [==============================] - 0s 9ms/step - loss: 1.2951 - mae: 1.2951\n",
            "Epoch 374/1000\n",
            "2/2 [==============================] - 0s 9ms/step - loss: 1.2264 - mae: 1.2264\n",
            "Epoch 375/1000\n",
            "2/2 [==============================] - 0s 8ms/step - loss: 1.5784 - mae: 1.5784\n",
            "Epoch 376/1000\n",
            "2/2 [==============================] - 0s 8ms/step - loss: 0.7298 - mae: 0.7298\n",
            "Epoch 377/1000\n",
            "2/2 [==============================] - 0s 9ms/step - loss: 1.0288 - mae: 1.0288\n",
            "Epoch 378/1000\n",
            "2/2 [==============================] - 0s 8ms/step - loss: 0.5628 - mae: 0.5628\n",
            "Epoch 379/1000\n",
            "2/2 [==============================] - 0s 8ms/step - loss: 0.4896 - mae: 0.4896\n",
            "Epoch 380/1000\n",
            "2/2 [==============================] - 0s 9ms/step - loss: 0.9879 - mae: 0.9879\n",
            "Epoch 381/1000\n",
            "2/2 [==============================] - 0s 9ms/step - loss: 0.5714 - mae: 0.5714\n",
            "Epoch 382/1000\n",
            "2/2 [==============================] - 0s 8ms/step - loss: 1.0725 - mae: 1.0725\n",
            "Epoch 383/1000\n",
            "2/2 [==============================] - 0s 8ms/step - loss: 0.5888 - mae: 0.5888\n",
            "Epoch 384/1000\n",
            "2/2 [==============================] - 0s 9ms/step - loss: 1.1624 - mae: 1.1624\n",
            "Epoch 385/1000\n",
            "2/2 [==============================] - 0s 7ms/step - loss: 0.9470 - mae: 0.9470\n",
            "Epoch 386/1000\n",
            "2/2 [==============================] - 0s 8ms/step - loss: 1.7763 - mae: 1.7763\n",
            "Epoch 387/1000\n",
            "2/2 [==============================] - 0s 7ms/step - loss: 1.0120 - mae: 1.0120\n",
            "Epoch 388/1000\n",
            "2/2 [==============================] - 0s 10ms/step - loss: 2.0472 - mae: 2.0472\n",
            "Epoch 389/1000\n",
            "2/2 [==============================] - 0s 9ms/step - loss: 1.9630 - mae: 1.9630\n",
            "Epoch 390/1000\n",
            "2/2 [==============================] - 0s 9ms/step - loss: 1.8037 - mae: 1.8037\n",
            "Epoch 391/1000\n",
            "2/2 [==============================] - 0s 8ms/step - loss: 1.1781 - mae: 1.1781\n",
            "Epoch 392/1000\n",
            "2/2 [==============================] - 0s 10ms/step - loss: 1.1054 - mae: 1.1054\n",
            "Epoch 393/1000\n",
            "2/2 [==============================] - 0s 8ms/step - loss: 0.7491 - mae: 0.7491\n",
            "Epoch 394/1000\n",
            "2/2 [==============================] - 0s 8ms/step - loss: 1.2197 - mae: 1.2197\n",
            "Epoch 395/1000\n",
            "2/2 [==============================] - 0s 8ms/step - loss: 1.1154 - mae: 1.1154\n",
            "Epoch 396/1000\n",
            "2/2 [==============================] - 0s 8ms/step - loss: 0.8753 - mae: 0.8753\n",
            "Epoch 397/1000\n",
            "2/2 [==============================] - 0s 10ms/step - loss: 1.4890 - mae: 1.4890\n",
            "Epoch 398/1000\n",
            "2/2 [==============================] - 0s 7ms/step - loss: 0.8333 - mae: 0.8333\n",
            "Epoch 399/1000\n",
            "2/2 [==============================] - 0s 8ms/step - loss: 1.2782 - mae: 1.2782\n",
            "Epoch 400/1000\n",
            "2/2 [==============================] - 0s 8ms/step - loss: 0.7869 - mae: 0.7869\n",
            "Epoch 401/1000\n",
            "2/2 [==============================] - 0s 11ms/step - loss: 0.7689 - mae: 0.7689\n",
            "Epoch 402/1000\n",
            "2/2 [==============================] - 0s 9ms/step - loss: 0.9825 - mae: 0.9825\n",
            "Epoch 403/1000\n",
            "2/2 [==============================] - 0s 9ms/step - loss: 0.6043 - mae: 0.6043\n",
            "Epoch 404/1000\n",
            "2/2 [==============================] - 0s 10ms/step - loss: 1.0960 - mae: 1.0960\n",
            "Epoch 405/1000\n",
            "2/2 [==============================] - 0s 8ms/step - loss: 0.4674 - mae: 0.4674\n",
            "Epoch 406/1000\n",
            "2/2 [==============================] - 0s 7ms/step - loss: 1.5612 - mae: 1.5612\n",
            "Epoch 407/1000\n",
            "2/2 [==============================] - 0s 8ms/step - loss: 1.1901 - mae: 1.1901\n",
            "Epoch 408/1000\n",
            "2/2 [==============================] - 0s 8ms/step - loss: 0.7474 - mae: 0.7474\n",
            "Epoch 409/1000\n",
            "2/2 [==============================] - 0s 9ms/step - loss: 0.7357 - mae: 0.7357\n",
            "Epoch 410/1000\n",
            "2/2 [==============================] - 0s 9ms/step - loss: 1.2665 - mae: 1.2665\n",
            "Epoch 411/1000\n",
            "2/2 [==============================] - 0s 8ms/step - loss: 0.9854 - mae: 0.9854\n",
            "Epoch 412/1000\n",
            "2/2 [==============================] - 0s 10ms/step - loss: 0.5614 - mae: 0.5614\n",
            "Epoch 413/1000\n",
            "2/2 [==============================] - 0s 9ms/step - loss: 0.8606 - mae: 0.8606\n",
            "Epoch 414/1000\n",
            "2/2 [==============================] - 0s 7ms/step - loss: 0.9453 - mae: 0.9453\n",
            "Epoch 415/1000\n",
            "2/2 [==============================] - 0s 7ms/step - loss: 0.6247 - mae: 0.6247\n",
            "Epoch 416/1000\n",
            "2/2 [==============================] - 0s 8ms/step - loss: 1.2356 - mae: 1.2356\n",
            "Epoch 417/1000\n",
            "2/2 [==============================] - 0s 8ms/step - loss: 1.2152 - mae: 1.2152\n",
            "Epoch 418/1000\n",
            "2/2 [==============================] - 0s 9ms/step - loss: 0.5939 - mae: 0.5939\n",
            "Epoch 419/1000\n",
            "2/2 [==============================] - 0s 8ms/step - loss: 1.5585 - mae: 1.5585\n",
            "Epoch 420/1000\n",
            "2/2 [==============================] - 0s 10ms/step - loss: 1.1091 - mae: 1.1091\n",
            "Epoch 421/1000\n",
            "2/2 [==============================] - 0s 8ms/step - loss: 1.1791 - mae: 1.1791\n",
            "Epoch 422/1000\n",
            "2/2 [==============================] - 0s 12ms/step - loss: 2.0848 - mae: 2.0848\n",
            "Epoch 423/1000\n",
            "2/2 [==============================] - 0s 9ms/step - loss: 0.9248 - mae: 0.9248\n",
            "Epoch 424/1000\n",
            "2/2 [==============================] - 0s 9ms/step - loss: 1.8343 - mae: 1.8343\n",
            "Epoch 425/1000\n",
            "2/2 [==============================] - 0s 8ms/step - loss: 0.8404 - mae: 0.8404\n",
            "Epoch 426/1000\n",
            "2/2 [==============================] - 0s 9ms/step - loss: 1.5448 - mae: 1.5448\n",
            "Epoch 427/1000\n",
            "2/2 [==============================] - 0s 10ms/step - loss: 0.6828 - mae: 0.6828\n",
            "Epoch 428/1000\n",
            "2/2 [==============================] - 0s 9ms/step - loss: 1.5925 - mae: 1.5925\n",
            "Epoch 429/1000\n",
            "2/2 [==============================] - 0s 9ms/step - loss: 0.7094 - mae: 0.7094\n",
            "Epoch 430/1000\n",
            "2/2 [==============================] - 0s 10ms/step - loss: 0.9057 - mae: 0.9057\n",
            "Epoch 431/1000\n",
            "2/2 [==============================] - 0s 9ms/step - loss: 0.6578 - mae: 0.6578\n",
            "Epoch 432/1000\n",
            "2/2 [==============================] - 0s 10ms/step - loss: 0.9047 - mae: 0.9047\n",
            "Epoch 433/1000\n",
            "2/2 [==============================] - 0s 10ms/step - loss: 0.4392 - mae: 0.4392\n",
            "Epoch 434/1000\n",
            "2/2 [==============================] - 0s 10ms/step - loss: 0.4770 - mae: 0.4770\n",
            "Epoch 435/1000\n",
            "2/2 [==============================] - 0s 11ms/step - loss: 0.4199 - mae: 0.4199\n",
            "Epoch 436/1000\n",
            "2/2 [==============================] - 0s 11ms/step - loss: 0.5744 - mae: 0.5744\n",
            "Epoch 437/1000\n",
            "2/2 [==============================] - 0s 9ms/step - loss: 0.6695 - mae: 0.6695\n",
            "Epoch 438/1000\n",
            "2/2 [==============================] - 0s 8ms/step - loss: 0.9196 - mae: 0.9196\n",
            "Epoch 439/1000\n",
            "2/2 [==============================] - 0s 8ms/step - loss: 0.6012 - mae: 0.6012\n",
            "Epoch 440/1000\n",
            "2/2 [==============================] - 0s 11ms/step - loss: 1.5077 - mae: 1.5077\n",
            "Epoch 441/1000\n",
            "2/2 [==============================] - 0s 8ms/step - loss: 0.8115 - mae: 0.8115\n",
            "Epoch 442/1000\n",
            "2/2 [==============================] - 0s 9ms/step - loss: 1.7945 - mae: 1.7945\n",
            "Epoch 443/1000\n",
            "2/2 [==============================] - 0s 9ms/step - loss: 1.6180 - mae: 1.6180\n",
            "Epoch 444/1000\n",
            "2/2 [==============================] - 0s 8ms/step - loss: 0.8660 - mae: 0.8660\n",
            "Epoch 445/1000\n",
            "2/2 [==============================] - 0s 9ms/step - loss: 0.9579 - mae: 0.9579\n",
            "Epoch 446/1000\n",
            "2/2 [==============================] - 0s 10ms/step - loss: 0.6833 - mae: 0.6833\n",
            "Epoch 447/1000\n",
            "2/2 [==============================] - 0s 11ms/step - loss: 0.9507 - mae: 0.9507\n",
            "Epoch 448/1000\n",
            "2/2 [==============================] - 0s 10ms/step - loss: 0.5269 - mae: 0.5269\n",
            "Epoch 449/1000\n",
            "2/2 [==============================] - 0s 9ms/step - loss: 0.7715 - mae: 0.7715\n",
            "Epoch 450/1000\n",
            "2/2 [==============================] - 0s 10ms/step - loss: 0.4077 - mae: 0.4077\n",
            "Epoch 451/1000\n",
            "2/2 [==============================] - 0s 8ms/step - loss: 0.8668 - mae: 0.8668\n",
            "Epoch 452/1000\n",
            "2/2 [==============================] - 0s 9ms/step - loss: 0.4623 - mae: 0.4623\n",
            "Epoch 453/1000\n",
            "2/2 [==============================] - 0s 9ms/step - loss: 1.1222 - mae: 1.1222\n",
            "Epoch 454/1000\n",
            "2/2 [==============================] - 0s 7ms/step - loss: 0.4390 - mae: 0.4390\n",
            "Epoch 455/1000\n",
            "2/2 [==============================] - 0s 8ms/step - loss: 0.4797 - mae: 0.4797\n",
            "Epoch 456/1000\n",
            "2/2 [==============================] - 0s 11ms/step - loss: 0.5212 - mae: 0.5212\n",
            "Epoch 457/1000\n",
            "2/2 [==============================] - 0s 9ms/step - loss: 0.2048 - mae: 0.2048\n",
            "Epoch 458/1000\n",
            "2/2 [==============================] - 0s 8ms/step - loss: 0.4188 - mae: 0.4188\n",
            "Epoch 459/1000\n",
            "2/2 [==============================] - 0s 8ms/step - loss: 0.4616 - mae: 0.4616\n",
            "Epoch 460/1000\n",
            "2/2 [==============================] - 0s 8ms/step - loss: 0.1407 - mae: 0.1407\n",
            "Epoch 461/1000\n",
            "2/2 [==============================] - 0s 8ms/step - loss: 0.3280 - mae: 0.3280\n",
            "Epoch 462/1000\n",
            "2/2 [==============================] - 0s 9ms/step - loss: 0.2692 - mae: 0.2692\n",
            "Epoch 463/1000\n",
            "2/2 [==============================] - 0s 9ms/step - loss: 0.5681 - mae: 0.5681\n",
            "Epoch 464/1000\n",
            "2/2 [==============================] - 0s 9ms/step - loss: 0.5164 - mae: 0.5164\n",
            "Epoch 465/1000\n",
            "2/2 [==============================] - 0s 9ms/step - loss: 0.9398 - mae: 0.9398\n",
            "Epoch 466/1000\n",
            "2/2 [==============================] - 0s 9ms/step - loss: 0.8435 - mae: 0.8435\n",
            "Epoch 467/1000\n",
            "2/2 [==============================] - 0s 8ms/step - loss: 0.6335 - mae: 0.6335\n",
            "Epoch 468/1000\n",
            "2/2 [==============================] - 0s 8ms/step - loss: 0.7343 - mae: 0.7343\n",
            "Epoch 469/1000\n",
            "2/2 [==============================] - 0s 8ms/step - loss: 0.9896 - mae: 0.9896\n",
            "Epoch 470/1000\n",
            "2/2 [==============================] - 0s 10ms/step - loss: 0.6931 - mae: 0.6931\n",
            "Epoch 471/1000\n",
            "2/2 [==============================] - 0s 8ms/step - loss: 0.8261 - mae: 0.8261\n",
            "Epoch 472/1000\n",
            "2/2 [==============================] - 0s 8ms/step - loss: 0.6117 - mae: 0.6117\n",
            "Epoch 473/1000\n",
            "2/2 [==============================] - 0s 8ms/step - loss: 0.3219 - mae: 0.3219\n",
            "Epoch 474/1000\n",
            "2/2 [==============================] - 0s 8ms/step - loss: 0.2761 - mae: 0.2761\n",
            "Epoch 475/1000\n",
            "2/2 [==============================] - 0s 8ms/step - loss: 0.4643 - mae: 0.4643\n",
            "Epoch 476/1000\n",
            "2/2 [==============================] - 0s 14ms/step - loss: 0.5067 - mae: 0.5067\n",
            "Epoch 477/1000\n",
            "2/2 [==============================] - 0s 9ms/step - loss: 0.8723 - mae: 0.8723\n",
            "Epoch 478/1000\n",
            "2/2 [==============================] - 0s 10ms/step - loss: 0.6169 - mae: 0.6169\n",
            "Epoch 479/1000\n",
            "2/2 [==============================] - 0s 8ms/step - loss: 0.8667 - mae: 0.8667\n",
            "Epoch 480/1000\n",
            "2/2 [==============================] - 0s 8ms/step - loss: 1.0267 - mae: 1.0267\n",
            "Epoch 481/1000\n",
            "2/2 [==============================] - 0s 8ms/step - loss: 0.3185 - mae: 0.3185\n",
            "Epoch 482/1000\n",
            "2/2 [==============================] - 0s 8ms/step - loss: 0.4794 - mae: 0.4794\n",
            "Epoch 483/1000\n",
            "2/2 [==============================] - 0s 8ms/step - loss: 0.7106 - mae: 0.7106\n",
            "Epoch 484/1000\n",
            "2/2 [==============================] - 0s 7ms/step - loss: 0.4911 - mae: 0.4911\n",
            "Epoch 485/1000\n",
            "2/2 [==============================] - 0s 10ms/step - loss: 0.3597 - mae: 0.3597\n",
            "Epoch 486/1000\n",
            "2/2 [==============================] - 0s 8ms/step - loss: 0.7802 - mae: 0.7802\n",
            "Epoch 487/1000\n",
            "2/2 [==============================] - 0s 10ms/step - loss: 0.3442 - mae: 0.3442\n",
            "Epoch 488/1000\n",
            "2/2 [==============================] - 0s 8ms/step - loss: 1.6135 - mae: 1.6135\n",
            "Epoch 489/1000\n",
            "2/2 [==============================] - 0s 10ms/step - loss: 1.1382 - mae: 1.1382\n",
            "Epoch 490/1000\n",
            "2/2 [==============================] - 0s 9ms/step - loss: 0.9276 - mae: 0.9276\n",
            "Epoch 491/1000\n",
            "2/2 [==============================] - 0s 7ms/step - loss: 0.8002 - mae: 0.8002\n",
            "Epoch 492/1000\n",
            "2/2 [==============================] - 0s 9ms/step - loss: 0.4901 - mae: 0.4901\n",
            "Epoch 493/1000\n",
            "2/2 [==============================] - 0s 8ms/step - loss: 0.8645 - mae: 0.8645\n",
            "Epoch 494/1000\n",
            "2/2 [==============================] - 0s 7ms/step - loss: 0.4040 - mae: 0.4040\n",
            "Epoch 495/1000\n",
            "2/2 [==============================] - 0s 8ms/step - loss: 1.2534 - mae: 1.2534\n",
            "Epoch 496/1000\n",
            "2/2 [==============================] - 0s 8ms/step - loss: 0.8411 - mae: 0.8411\n",
            "Epoch 497/1000\n",
            "2/2 [==============================] - 0s 8ms/step - loss: 1.4722 - mae: 1.4722\n",
            "Epoch 498/1000\n",
            "2/2 [==============================] - 0s 8ms/step - loss: 1.5189 - mae: 1.5189\n",
            "Epoch 499/1000\n",
            "2/2 [==============================] - 0s 9ms/step - loss: 1.1845 - mae: 1.1845\n",
            "Epoch 500/1000\n",
            "2/2 [==============================] - 0s 8ms/step - loss: 1.9991 - mae: 1.9991\n",
            "Epoch 501/1000\n",
            "2/2 [==============================] - 0s 7ms/step - loss: 1.8982 - mae: 1.8982\n",
            "Epoch 502/1000\n",
            "2/2 [==============================] - 0s 8ms/step - loss: 0.9948 - mae: 0.9948\n",
            "Epoch 503/1000\n",
            "2/2 [==============================] - 0s 9ms/step - loss: 2.2138 - mae: 2.2138\n",
            "Epoch 504/1000\n",
            "2/2 [==============================] - 0s 9ms/step - loss: 1.8619 - mae: 1.8619\n",
            "Epoch 505/1000\n",
            "2/2 [==============================] - 0s 11ms/step - loss: 1.1490 - mae: 1.1490\n",
            "Epoch 506/1000\n",
            "2/2 [==============================] - 0s 9ms/step - loss: 1.9166 - mae: 1.9166\n",
            "Epoch 507/1000\n",
            "2/2 [==============================] - 0s 10ms/step - loss: 1.9998 - mae: 1.9998\n",
            "Epoch 508/1000\n",
            "2/2 [==============================] - 0s 8ms/step - loss: 1.0047 - mae: 1.0047\n",
            "Epoch 509/1000\n",
            "2/2 [==============================] - 0s 8ms/step - loss: 1.7974 - mae: 1.7974\n",
            "Epoch 510/1000\n",
            "2/2 [==============================] - 0s 9ms/step - loss: 1.4621 - mae: 1.4621\n",
            "Epoch 511/1000\n",
            "2/2 [==============================] - 0s 9ms/step - loss: 0.7704 - mae: 0.7704\n",
            "Epoch 512/1000\n",
            "2/2 [==============================] - 0s 7ms/step - loss: 1.0256 - mae: 1.0256\n",
            "Epoch 513/1000\n",
            "2/2 [==============================] - 0s 9ms/step - loss: 0.6665 - mae: 0.6665\n",
            "Epoch 514/1000\n",
            "2/2 [==============================] - 0s 8ms/step - loss: 0.5384 - mae: 0.5384\n",
            "Epoch 515/1000\n",
            "2/2 [==============================] - 0s 8ms/step - loss: 0.5021 - mae: 0.5021\n",
            "Epoch 516/1000\n",
            "2/2 [==============================] - 0s 8ms/step - loss: 0.4252 - mae: 0.4252\n",
            "Epoch 517/1000\n",
            "2/2 [==============================] - 0s 8ms/step - loss: 0.3715 - mae: 0.3715\n",
            "Epoch 518/1000\n",
            "2/2 [==============================] - 0s 8ms/step - loss: 0.4624 - mae: 0.4624\n",
            "Epoch 519/1000\n",
            "2/2 [==============================] - 0s 9ms/step - loss: 0.3497 - mae: 0.3497\n",
            "Epoch 520/1000\n",
            "2/2 [==============================] - 0s 8ms/step - loss: 0.4216 - mae: 0.4216\n",
            "Epoch 521/1000\n",
            "2/2 [==============================] - 0s 9ms/step - loss: 0.5585 - mae: 0.5585\n",
            "Epoch 522/1000\n",
            "2/2 [==============================] - 0s 8ms/step - loss: 0.4863 - mae: 0.4863\n",
            "Epoch 523/1000\n",
            "2/2 [==============================] - 0s 7ms/step - loss: 0.4713 - mae: 0.4713\n",
            "Epoch 524/1000\n",
            "2/2 [==============================] - 0s 9ms/step - loss: 0.4313 - mae: 0.4313\n",
            "Epoch 525/1000\n",
            "2/2 [==============================] - 0s 8ms/step - loss: 0.5167 - mae: 0.5167\n",
            "Epoch 526/1000\n",
            "2/2 [==============================] - 0s 8ms/step - loss: 0.4802 - mae: 0.4802\n",
            "Epoch 527/1000\n",
            "2/2 [==============================] - 0s 8ms/step - loss: 0.6475 - mae: 0.6475\n",
            "Epoch 528/1000\n",
            "2/2 [==============================] - 0s 8ms/step - loss: 0.3760 - mae: 0.3760\n",
            "Epoch 529/1000\n",
            "2/2 [==============================] - 0s 8ms/step - loss: 0.4358 - mae: 0.4358\n",
            "Epoch 530/1000\n",
            "2/2 [==============================] - 0s 8ms/step - loss: 0.3550 - mae: 0.3550\n",
            "Epoch 531/1000\n",
            "2/2 [==============================] - 0s 9ms/step - loss: 0.2646 - mae: 0.2646\n",
            "Epoch 532/1000\n",
            "2/2 [==============================] - 0s 8ms/step - loss: 0.3476 - mae: 0.3476\n",
            "Epoch 533/1000\n",
            "2/2 [==============================] - 0s 9ms/step - loss: 0.4396 - mae: 0.4396\n",
            "Epoch 534/1000\n",
            "2/2 [==============================] - 0s 7ms/step - loss: 0.3990 - mae: 0.3990\n",
            "Epoch 535/1000\n",
            "2/2 [==============================] - 0s 7ms/step - loss: 0.4406 - mae: 0.4406\n",
            "Epoch 536/1000\n",
            "2/2 [==============================] - 0s 8ms/step - loss: 0.5079 - mae: 0.5079\n",
            "Epoch 537/1000\n",
            "2/2 [==============================] - 0s 8ms/step - loss: 0.7065 - mae: 0.7065\n",
            "Epoch 538/1000\n",
            "2/2 [==============================] - 0s 9ms/step - loss: 0.6471 - mae: 0.6471\n",
            "Epoch 539/1000\n",
            "2/2 [==============================] - 0s 8ms/step - loss: 0.6994 - mae: 0.6994\n",
            "Epoch 540/1000\n",
            "2/2 [==============================] - 0s 15ms/step - loss: 0.8068 - mae: 0.8068\n",
            "Epoch 541/1000\n",
            "2/2 [==============================] - 0s 9ms/step - loss: 0.6588 - mae: 0.6588\n",
            "Epoch 542/1000\n",
            "2/2 [==============================] - 0s 8ms/step - loss: 0.7323 - mae: 0.7323\n",
            "Epoch 543/1000\n",
            "2/2 [==============================] - 0s 9ms/step - loss: 0.9609 - mae: 0.9609\n",
            "Epoch 544/1000\n",
            "2/2 [==============================] - 0s 15ms/step - loss: 0.8596 - mae: 0.8596\n",
            "Epoch 545/1000\n",
            "2/2 [==============================] - 0s 8ms/step - loss: 0.4016 - mae: 0.4016\n",
            "Epoch 546/1000\n",
            "2/2 [==============================] - 0s 9ms/step - loss: 0.4151 - mae: 0.4151\n",
            "Epoch 547/1000\n",
            "2/2 [==============================] - 0s 9ms/step - loss: 0.6133 - mae: 0.6133\n",
            "Epoch 548/1000\n",
            "2/2 [==============================] - 0s 7ms/step - loss: 0.8082 - mae: 0.8082\n",
            "Epoch 549/1000\n",
            "2/2 [==============================] - 0s 7ms/step - loss: 0.7315 - mae: 0.7315\n",
            "Epoch 550/1000\n",
            "2/2 [==============================] - 0s 9ms/step - loss: 0.7747 - mae: 0.7747\n",
            "Epoch 551/1000\n",
            "2/2 [==============================] - 0s 9ms/step - loss: 1.2520 - mae: 1.2520\n",
            "Epoch 552/1000\n",
            "2/2 [==============================] - 0s 9ms/step - loss: 0.7508 - mae: 0.7508\n",
            "Epoch 553/1000\n",
            "2/2 [==============================] - 0s 8ms/step - loss: 0.9426 - mae: 0.9426\n",
            "Epoch 554/1000\n",
            "2/2 [==============================] - 0s 9ms/step - loss: 1.2536 - mae: 1.2536\n",
            "Epoch 555/1000\n",
            "2/2 [==============================] - 0s 9ms/step - loss: 0.5720 - mae: 0.5720\n",
            "Epoch 556/1000\n",
            "2/2 [==============================] - 0s 10ms/step - loss: 1.1679 - mae: 1.1679\n",
            "Epoch 557/1000\n",
            "2/2 [==============================] - 0s 8ms/step - loss: 0.8556 - mae: 0.8556\n",
            "Epoch 558/1000\n",
            "2/2 [==============================] - 0s 8ms/step - loss: 1.1800 - mae: 1.1800\n",
            "Epoch 559/1000\n",
            "2/2 [==============================] - 0s 11ms/step - loss: 0.8750 - mae: 0.8750\n",
            "Epoch 560/1000\n",
            "2/2 [==============================] - 0s 10ms/step - loss: 1.3774 - mae: 1.3774\n",
            "Epoch 561/1000\n",
            "2/2 [==============================] - 0s 9ms/step - loss: 1.0707 - mae: 1.0707\n",
            "Epoch 562/1000\n",
            "2/2 [==============================] - 0s 9ms/step - loss: 0.4325 - mae: 0.4325\n",
            "Epoch 563/1000\n",
            "2/2 [==============================] - 0s 9ms/step - loss: 0.7832 - mae: 0.7832\n",
            "Epoch 564/1000\n",
            "2/2 [==============================] - 0s 9ms/step - loss: 0.4618 - mae: 0.4618\n",
            "Epoch 565/1000\n",
            "2/2 [==============================] - 0s 8ms/step - loss: 0.5757 - mae: 0.5757\n",
            "Epoch 566/1000\n",
            "2/2 [==============================] - 0s 8ms/step - loss: 0.7917 - mae: 0.7917\n",
            "Epoch 567/1000\n",
            "2/2 [==============================] - 0s 8ms/step - loss: 0.6899 - mae: 0.6899\n",
            "Epoch 568/1000\n",
            "2/2 [==============================] - 0s 8ms/step - loss: 0.8521 - mae: 0.8521\n",
            "Epoch 569/1000\n",
            "2/2 [==============================] - 0s 9ms/step - loss: 0.5025 - mae: 0.5025\n",
            "Epoch 570/1000\n",
            "2/2 [==============================] - 0s 10ms/step - loss: 1.1064 - mae: 1.1064\n",
            "Epoch 571/1000\n",
            "2/2 [==============================] - 0s 9ms/step - loss: 1.0979 - mae: 1.0979\n",
            "Epoch 572/1000\n",
            "2/2 [==============================] - 0s 8ms/step - loss: 0.5347 - mae: 0.5347\n",
            "Epoch 573/1000\n",
            "2/2 [==============================] - 0s 8ms/step - loss: 0.9938 - mae: 0.9938\n",
            "Epoch 574/1000\n",
            "2/2 [==============================] - 0s 9ms/step - loss: 0.4859 - mae: 0.4859\n",
            "Epoch 575/1000\n",
            "2/2 [==============================] - 0s 9ms/step - loss: 0.3290 - mae: 0.3290\n",
            "Epoch 576/1000\n",
            "2/2 [==============================] - 0s 9ms/step - loss: 0.5654 - mae: 0.5654\n",
            "Epoch 577/1000\n",
            "2/2 [==============================] - 0s 11ms/step - loss: 0.4409 - mae: 0.4409\n",
            "Epoch 578/1000\n",
            "2/2 [==============================] - 0s 7ms/step - loss: 0.2122 - mae: 0.2122\n",
            "Epoch 579/1000\n",
            "2/2 [==============================] - 0s 9ms/step - loss: 0.3039 - mae: 0.3039\n",
            "Epoch 580/1000\n",
            "2/2 [==============================] - 0s 9ms/step - loss: 0.2842 - mae: 0.2842\n",
            "Epoch 581/1000\n",
            "2/2 [==============================] - 0s 9ms/step - loss: 0.3135 - mae: 0.3135\n",
            "Epoch 582/1000\n",
            "2/2 [==============================] - 0s 9ms/step - loss: 0.2254 - mae: 0.2254\n",
            "Epoch 583/1000\n",
            "2/2 [==============================] - 0s 9ms/step - loss: 0.2837 - mae: 0.2837\n",
            "Epoch 584/1000\n",
            "2/2 [==============================] - 0s 11ms/step - loss: 0.6963 - mae: 0.6963\n",
            "Epoch 585/1000\n",
            "2/2 [==============================] - 0s 7ms/step - loss: 0.6691 - mae: 0.6691\n",
            "Epoch 586/1000\n",
            "2/2 [==============================] - 0s 9ms/step - loss: 0.5545 - mae: 0.5545\n",
            "Epoch 587/1000\n",
            "2/2 [==============================] - 0s 9ms/step - loss: 0.9080 - mae: 0.9080\n",
            "Epoch 588/1000\n",
            "2/2 [==============================] - 0s 10ms/step - loss: 0.9333 - mae: 0.9333\n",
            "Epoch 589/1000\n",
            "2/2 [==============================] - 0s 7ms/step - loss: 0.3982 - mae: 0.3982\n",
            "Epoch 590/1000\n",
            "2/2 [==============================] - 0s 10ms/step - loss: 0.4022 - mae: 0.4022\n",
            "Epoch 591/1000\n",
            "2/2 [==============================] - 0s 8ms/step - loss: 0.7272 - mae: 0.7272\n",
            "Epoch 592/1000\n",
            "2/2 [==============================] - 0s 8ms/step - loss: 1.0686 - mae: 1.0686\n",
            "Epoch 593/1000\n",
            "2/2 [==============================] - 0s 7ms/step - loss: 0.5639 - mae: 0.5639\n",
            "Epoch 594/1000\n",
            "2/2 [==============================] - 0s 9ms/step - loss: 0.4369 - mae: 0.4369\n",
            "Epoch 595/1000\n",
            "2/2 [==============================] - 0s 8ms/step - loss: 1.3231 - mae: 1.3231\n",
            "Epoch 596/1000\n",
            "2/2 [==============================] - 0s 9ms/step - loss: 0.6225 - mae: 0.6225\n",
            "Epoch 597/1000\n",
            "2/2 [==============================] - 0s 10ms/step - loss: 1.3146 - mae: 1.3146\n",
            "Epoch 598/1000\n",
            "2/2 [==============================] - 0s 8ms/step - loss: 0.7921 - mae: 0.7921\n",
            "Epoch 599/1000\n",
            "2/2 [==============================] - 0s 9ms/step - loss: 1.0176 - mae: 1.0176\n",
            "Epoch 600/1000\n",
            "2/2 [==============================] - 0s 8ms/step - loss: 1.1142 - mae: 1.1142\n",
            "Epoch 601/1000\n",
            "2/2 [==============================] - 0s 9ms/step - loss: 0.4297 - mae: 0.4297\n",
            "Epoch 602/1000\n",
            "2/2 [==============================] - 0s 7ms/step - loss: 0.7520 - mae: 0.7520\n",
            "Epoch 603/1000\n",
            "2/2 [==============================] - 0s 9ms/step - loss: 0.4554 - mae: 0.4554\n",
            "Epoch 604/1000\n",
            "2/2 [==============================] - 0s 8ms/step - loss: 0.6347 - mae: 0.6347\n",
            "Epoch 605/1000\n",
            "2/2 [==============================] - 0s 8ms/step - loss: 0.3462 - mae: 0.3462\n",
            "Epoch 606/1000\n",
            "2/2 [==============================] - 0s 10ms/step - loss: 0.6827 - mae: 0.6827\n",
            "Epoch 607/1000\n",
            "2/2 [==============================] - 0s 10ms/step - loss: 0.4352 - mae: 0.4352\n",
            "Epoch 608/1000\n",
            "2/2 [==============================] - 0s 9ms/step - loss: 0.8222 - mae: 0.8222\n",
            "Epoch 609/1000\n",
            "2/2 [==============================] - 0s 8ms/step - loss: 0.3974 - mae: 0.3974\n",
            "Epoch 610/1000\n",
            "2/2 [==============================] - 0s 9ms/step - loss: 1.1064 - mae: 1.1064\n",
            "Epoch 611/1000\n",
            "2/2 [==============================] - 0s 9ms/step - loss: 0.6254 - mae: 0.6254\n",
            "Epoch 612/1000\n",
            "2/2 [==============================] - 0s 10ms/step - loss: 1.2914 - mae: 1.2914\n",
            "Epoch 613/1000\n",
            "2/2 [==============================] - 0s 8ms/step - loss: 0.7801 - mae: 0.7801\n",
            "Epoch 614/1000\n",
            "2/2 [==============================] - 0s 8ms/step - loss: 0.8732 - mae: 0.8732\n",
            "Epoch 615/1000\n",
            "2/2 [==============================] - 0s 8ms/step - loss: 0.7084 - mae: 0.7084\n",
            "Epoch 616/1000\n",
            "2/2 [==============================] - 0s 9ms/step - loss: 0.5410 - mae: 0.5410\n",
            "Epoch 617/1000\n",
            "2/2 [==============================] - 0s 11ms/step - loss: 0.8669 - mae: 0.8669\n",
            "Epoch 618/1000\n",
            "2/2 [==============================] - 0s 10ms/step - loss: 0.6410 - mae: 0.6410\n",
            "Epoch 619/1000\n",
            "2/2 [==============================] - 0s 9ms/step - loss: 0.8985 - mae: 0.8985\n",
            "Epoch 620/1000\n",
            "2/2 [==============================] - 0s 9ms/step - loss: 1.0079 - mae: 1.0079\n",
            "Epoch 621/1000\n",
            "2/2 [==============================] - 0s 8ms/step - loss: 0.3883 - mae: 0.3883\n",
            "Epoch 622/1000\n",
            "2/2 [==============================] - 0s 8ms/step - loss: 0.2615 - mae: 0.2615\n",
            "Epoch 623/1000\n",
            "2/2 [==============================] - 0s 8ms/step - loss: 0.5621 - mae: 0.5621\n",
            "Epoch 624/1000\n",
            "2/2 [==============================] - 0s 8ms/step - loss: 0.3375 - mae: 0.3375\n",
            "Epoch 625/1000\n",
            "2/2 [==============================] - 0s 10ms/step - loss: 0.5609 - mae: 0.5609\n",
            "Epoch 626/1000\n",
            "2/2 [==============================] - 0s 9ms/step - loss: 0.2425 - mae: 0.2425\n",
            "Epoch 627/1000\n",
            "2/2 [==============================] - 0s 8ms/step - loss: 0.2710 - mae: 0.2710\n",
            "Epoch 628/1000\n",
            "2/2 [==============================] - 0s 10ms/step - loss: 0.6737 - mae: 0.6737\n",
            "Epoch 629/1000\n",
            "2/2 [==============================] - 0s 8ms/step - loss: 0.8871 - mae: 0.8871\n",
            "Epoch 630/1000\n",
            "2/2 [==============================] - 0s 10ms/step - loss: 0.7041 - mae: 0.7041\n",
            "Epoch 631/1000\n",
            "2/2 [==============================] - 0s 8ms/step - loss: 0.7905 - mae: 0.7905\n",
            "Epoch 632/1000\n",
            "2/2 [==============================] - 0s 7ms/step - loss: 0.6061 - mae: 0.6061\n",
            "Epoch 633/1000\n",
            "2/2 [==============================] - 0s 9ms/step - loss: 0.5372 - mae: 0.5372\n",
            "Epoch 634/1000\n",
            "2/2 [==============================] - 0s 9ms/step - loss: 0.7102 - mae: 0.7102\n",
            "Epoch 635/1000\n",
            "2/2 [==============================] - 0s 7ms/step - loss: 0.6768 - mae: 0.6768\n",
            "Epoch 636/1000\n",
            "2/2 [==============================] - 0s 8ms/step - loss: 0.4989 - mae: 0.4989\n",
            "Epoch 637/1000\n",
            "2/2 [==============================] - 0s 7ms/step - loss: 0.9667 - mae: 0.9667\n",
            "Epoch 638/1000\n",
            "2/2 [==============================] - 0s 9ms/step - loss: 0.4837 - mae: 0.4837\n",
            "Epoch 639/1000\n",
            "2/2 [==============================] - 0s 9ms/step - loss: 0.5136 - mae: 0.5136\n",
            "Epoch 640/1000\n",
            "2/2 [==============================] - 0s 9ms/step - loss: 0.3252 - mae: 0.3252\n",
            "Epoch 641/1000\n",
            "2/2 [==============================] - 0s 8ms/step - loss: 0.6041 - mae: 0.6041\n",
            "Epoch 642/1000\n",
            "2/2 [==============================] - 0s 9ms/step - loss: 0.3939 - mae: 0.3939\n",
            "Epoch 643/1000\n",
            "2/2 [==============================] - 0s 9ms/step - loss: 0.3077 - mae: 0.3077\n",
            "Epoch 644/1000\n",
            "2/2 [==============================] - 0s 10ms/step - loss: 0.4117 - mae: 0.4117\n",
            "Epoch 645/1000\n",
            "2/2 [==============================] - 0s 14ms/step - loss: 0.3946 - mae: 0.3946\n",
            "Epoch 646/1000\n",
            "2/2 [==============================] - 0s 8ms/step - loss: 0.3351 - mae: 0.3351\n",
            "Epoch 647/1000\n",
            "2/2 [==============================] - 0s 10ms/step - loss: 0.3014 - mae: 0.3014\n",
            "Epoch 648/1000\n",
            "2/2 [==============================] - 0s 7ms/step - loss: 0.4325 - mae: 0.4325\n",
            "Epoch 649/1000\n",
            "2/2 [==============================] - 0s 8ms/step - loss: 0.2886 - mae: 0.2886\n",
            "Epoch 650/1000\n",
            "2/2 [==============================] - 0s 10ms/step - loss: 0.4042 - mae: 0.4042\n",
            "Epoch 651/1000\n",
            "2/2 [==============================] - 0s 8ms/step - loss: 0.2809 - mae: 0.2809\n",
            "Epoch 652/1000\n",
            "2/2 [==============================] - 0s 7ms/step - loss: 0.3041 - mae: 0.3041\n",
            "Epoch 653/1000\n",
            "2/2 [==============================] - 0s 9ms/step - loss: 0.4699 - mae: 0.4699\n",
            "Epoch 654/1000\n",
            "2/2 [==============================] - 0s 9ms/step - loss: 0.5513 - mae: 0.5513\n",
            "Epoch 655/1000\n",
            "2/2 [==============================] - 0s 10ms/step - loss: 0.3560 - mae: 0.3560\n",
            "Epoch 656/1000\n",
            "2/2 [==============================] - 0s 10ms/step - loss: 0.5139 - mae: 0.5139\n",
            "Epoch 657/1000\n",
            "2/2 [==============================] - 0s 9ms/step - loss: 0.3758 - mae: 0.3758\n",
            "Epoch 658/1000\n",
            "2/2 [==============================] - 0s 10ms/step - loss: 0.3204 - mae: 0.3204\n",
            "Epoch 659/1000\n",
            "2/2 [==============================] - 0s 8ms/step - loss: 0.3096 - mae: 0.3096\n",
            "Epoch 660/1000\n",
            "2/2 [==============================] - 0s 9ms/step - loss: 0.2521 - mae: 0.2521\n",
            "Epoch 661/1000\n",
            "2/2 [==============================] - 0s 8ms/step - loss: 0.2975 - mae: 0.2975\n",
            "Epoch 662/1000\n",
            "2/2 [==============================] - 0s 10ms/step - loss: 0.1562 - mae: 0.1562\n",
            "Epoch 663/1000\n",
            "2/2 [==============================] - 0s 8ms/step - loss: 0.6287 - mae: 0.6287\n",
            "Epoch 664/1000\n",
            "2/2 [==============================] - 0s 8ms/step - loss: 0.5593 - mae: 0.5593\n",
            "Epoch 665/1000\n",
            "2/2 [==============================] - 0s 8ms/step - loss: 0.5771 - mae: 0.5771\n",
            "Epoch 666/1000\n",
            "2/2 [==============================] - 0s 9ms/step - loss: 0.6726 - mae: 0.6726\n",
            "Epoch 667/1000\n",
            "2/2 [==============================] - 0s 8ms/step - loss: 0.4442 - mae: 0.4442\n",
            "Epoch 668/1000\n",
            "2/2 [==============================] - 0s 7ms/step - loss: 0.9225 - mae: 0.9225\n",
            "Epoch 669/1000\n",
            "2/2 [==============================] - 0s 10ms/step - loss: 0.5158 - mae: 0.5158\n",
            "Epoch 670/1000\n",
            "2/2 [==============================] - 0s 7ms/step - loss: 0.5026 - mae: 0.5026\n",
            "Epoch 671/1000\n",
            "2/2 [==============================] - 0s 9ms/step - loss: 0.3630 - mae: 0.3630\n",
            "Epoch 672/1000\n",
            "2/2 [==============================] - 0s 8ms/step - loss: 0.6408 - mae: 0.6408\n",
            "Epoch 673/1000\n",
            "2/2 [==============================] - 0s 8ms/step - loss: 0.4191 - mae: 0.4191\n",
            "Epoch 674/1000\n",
            "2/2 [==============================] - 0s 8ms/step - loss: 0.8837 - mae: 0.8837\n",
            "Epoch 675/1000\n",
            "2/2 [==============================] - 0s 10ms/step - loss: 0.9660 - mae: 0.9660\n",
            "Epoch 676/1000\n",
            "2/2 [==============================] - 0s 7ms/step - loss: 0.3943 - mae: 0.3943\n",
            "Epoch 677/1000\n",
            "2/2 [==============================] - 0s 9ms/step - loss: 1.1512 - mae: 1.1512\n",
            "Epoch 678/1000\n",
            "2/2 [==============================] - 0s 8ms/step - loss: 0.9186 - mae: 0.9186\n",
            "Epoch 679/1000\n",
            "2/2 [==============================] - 0s 9ms/step - loss: 0.3300 - mae: 0.3300\n",
            "Epoch 680/1000\n",
            "2/2 [==============================] - 0s 9ms/step - loss: 0.3982 - mae: 0.3982\n",
            "Epoch 681/1000\n",
            "2/2 [==============================] - 0s 7ms/step - loss: 0.8167 - mae: 0.8167\n",
            "Epoch 682/1000\n",
            "2/2 [==============================] - 0s 11ms/step - loss: 0.6108 - mae: 0.6108\n",
            "Epoch 683/1000\n",
            "2/2 [==============================] - 0s 7ms/step - loss: 0.4817 - mae: 0.4817\n",
            "Epoch 684/1000\n",
            "2/2 [==============================] - 0s 8ms/step - loss: 0.5537 - mae: 0.5537\n",
            "Epoch 685/1000\n",
            "2/2 [==============================] - 0s 8ms/step - loss: 0.3339 - mae: 0.3339\n",
            "Epoch 686/1000\n",
            "2/2 [==============================] - 0s 10ms/step - loss: 0.4278 - mae: 0.4278\n",
            "Epoch 687/1000\n",
            "2/2 [==============================] - 0s 7ms/step - loss: 0.2701 - mae: 0.2701\n",
            "Epoch 688/1000\n",
            "2/2 [==============================] - 0s 8ms/step - loss: 0.1863 - mae: 0.1863\n",
            "Epoch 689/1000\n",
            "2/2 [==============================] - 0s 9ms/step - loss: 0.4638 - mae: 0.4638\n",
            "Epoch 690/1000\n",
            "2/2 [==============================] - 0s 10ms/step - loss: 0.8802 - mae: 0.8802\n",
            "Epoch 691/1000\n",
            "2/2 [==============================] - 0s 7ms/step - loss: 0.5903 - mae: 0.5903\n",
            "Epoch 692/1000\n",
            "2/2 [==============================] - 0s 9ms/step - loss: 0.4560 - mae: 0.4560\n",
            "Epoch 693/1000\n",
            "2/2 [==============================] - 0s 8ms/step - loss: 1.0403 - mae: 1.0403\n",
            "Epoch 694/1000\n",
            "2/2 [==============================] - 0s 9ms/step - loss: 0.5517 - mae: 0.5517\n",
            "Epoch 695/1000\n",
            "2/2 [==============================] - 0s 9ms/step - loss: 0.9853 - mae: 0.9853\n",
            "Epoch 696/1000\n",
            "2/2 [==============================] - 0s 9ms/step - loss: 0.6189 - mae: 0.6189\n",
            "Epoch 697/1000\n",
            "2/2 [==============================] - 0s 9ms/step - loss: 0.4678 - mae: 0.4678\n",
            "Epoch 698/1000\n",
            "2/2 [==============================] - 0s 7ms/step - loss: 0.3698 - mae: 0.3698\n",
            "Epoch 699/1000\n",
            "2/2 [==============================] - 0s 9ms/step - loss: 0.2297 - mae: 0.2297\n",
            "Epoch 700/1000\n",
            "2/2 [==============================] - 0s 9ms/step - loss: 0.2195 - mae: 0.2195\n",
            "Epoch 701/1000\n",
            "2/2 [==============================] - 0s 6ms/step - loss: 0.2721 - mae: 0.2721\n",
            "Epoch 702/1000\n",
            "2/2 [==============================] - 0s 10ms/step - loss: 0.2297 - mae: 0.2297\n",
            "Epoch 703/1000\n",
            "2/2 [==============================] - 0s 10ms/step - loss: 0.2171 - mae: 0.2171\n",
            "Epoch 704/1000\n",
            "2/2 [==============================] - 0s 9ms/step - loss: 0.2223 - mae: 0.2223\n",
            "Epoch 705/1000\n",
            "2/2 [==============================] - 0s 12ms/step - loss: 0.2364 - mae: 0.2364\n",
            "Epoch 706/1000\n",
            "2/2 [==============================] - 0s 7ms/step - loss: 0.2503 - mae: 0.2503\n",
            "Epoch 707/1000\n",
            "2/2 [==============================] - 0s 9ms/step - loss: 0.4261 - mae: 0.4261\n",
            "Epoch 708/1000\n",
            "2/2 [==============================] - 0s 9ms/step - loss: 0.3176 - mae: 0.3176\n",
            "Epoch 709/1000\n",
            "2/2 [==============================] - 0s 8ms/step - loss: 0.9138 - mae: 0.9138\n",
            "Epoch 710/1000\n",
            "2/2 [==============================] - 0s 8ms/step - loss: 0.4202 - mae: 0.4202\n",
            "Epoch 711/1000\n",
            "2/2 [==============================] - 0s 9ms/step - loss: 0.7542 - mae: 0.7542\n",
            "Epoch 712/1000\n",
            "2/2 [==============================] - 0s 8ms/step - loss: 0.5602 - mae: 0.5602\n",
            "Epoch 713/1000\n",
            "2/2 [==============================] - 0s 8ms/step - loss: 0.6080 - mae: 0.6080\n",
            "Epoch 714/1000\n",
            "2/2 [==============================] - 0s 8ms/step - loss: 0.3026 - mae: 0.3026\n",
            "Epoch 715/1000\n",
            "2/2 [==============================] - 0s 7ms/step - loss: 0.3543 - mae: 0.3543\n",
            "Epoch 716/1000\n",
            "2/2 [==============================] - 0s 9ms/step - loss: 0.2272 - mae: 0.2272\n",
            "Epoch 717/1000\n",
            "2/2 [==============================] - 0s 7ms/step - loss: 0.1704 - mae: 0.1704\n",
            "Epoch 718/1000\n",
            "2/2 [==============================] - 0s 8ms/step - loss: 0.2347 - mae: 0.2347\n",
            "Epoch 719/1000\n",
            "2/2 [==============================] - 0s 7ms/step - loss: 0.6352 - mae: 0.6352\n",
            "Epoch 720/1000\n",
            "2/2 [==============================] - 0s 8ms/step - loss: 0.2918 - mae: 0.2918\n",
            "Epoch 721/1000\n",
            "2/2 [==============================] - 0s 7ms/step - loss: 0.4218 - mae: 0.4218\n",
            "Epoch 722/1000\n",
            "2/2 [==============================] - 0s 9ms/step - loss: 0.2794 - mae: 0.2794\n",
            "Epoch 723/1000\n",
            "2/2 [==============================] - 0s 9ms/step - loss: 0.2155 - mae: 0.2155\n",
            "Epoch 724/1000\n",
            "2/2 [==============================] - 0s 8ms/step - loss: 0.1962 - mae: 0.1962\n",
            "Epoch 725/1000\n",
            "2/2 [==============================] - 0s 6ms/step - loss: 0.2569 - mae: 0.2569\n",
            "Epoch 726/1000\n",
            "2/2 [==============================] - 0s 9ms/step - loss: 0.8894 - mae: 0.8894\n",
            "Epoch 727/1000\n",
            "2/2 [==============================] - 0s 9ms/step - loss: 0.5213 - mae: 0.5213\n",
            "Epoch 728/1000\n",
            "2/2 [==============================] - 0s 9ms/step - loss: 0.4174 - mae: 0.4174\n",
            "Epoch 729/1000\n",
            "2/2 [==============================] - 0s 9ms/step - loss: 0.5951 - mae: 0.5951\n",
            "Epoch 730/1000\n",
            "2/2 [==============================] - 0s 9ms/step - loss: 0.5363 - mae: 0.5363\n",
            "Epoch 731/1000\n",
            "2/2 [==============================] - 0s 9ms/step - loss: 0.3185 - mae: 0.3185\n",
            "Epoch 732/1000\n",
            "2/2 [==============================] - 0s 10ms/step - loss: 0.4010 - mae: 0.4010\n",
            "Epoch 733/1000\n",
            "2/2 [==============================] - 0s 10ms/step - loss: 0.7490 - mae: 0.7490\n",
            "Epoch 734/1000\n",
            "2/2 [==============================] - 0s 13ms/step - loss: 0.3021 - mae: 0.3021\n",
            "Epoch 735/1000\n",
            "2/2 [==============================] - 0s 10ms/step - loss: 0.5622 - mae: 0.5622\n",
            "Epoch 736/1000\n",
            "2/2 [==============================] - 0s 11ms/step - loss: 0.6872 - mae: 0.6872\n",
            "Epoch 737/1000\n",
            "2/2 [==============================] - 0s 8ms/step - loss: 0.5124 - mae: 0.5124\n",
            "Epoch 738/1000\n",
            "2/2 [==============================] - 0s 9ms/step - loss: 0.7127 - mae: 0.7127\n",
            "Epoch 739/1000\n",
            "2/2 [==============================] - 0s 9ms/step - loss: 0.6797 - mae: 0.6797\n",
            "Epoch 740/1000\n",
            "2/2 [==============================] - 0s 8ms/step - loss: 0.6757 - mae: 0.6757\n",
            "Epoch 741/1000\n",
            "2/2 [==============================] - 0s 9ms/step - loss: 0.9701 - mae: 0.9701\n",
            "Epoch 742/1000\n",
            "2/2 [==============================] - 0s 9ms/step - loss: 0.8870 - mae: 0.8870\n",
            "Epoch 743/1000\n",
            "2/2 [==============================] - 0s 8ms/step - loss: 0.5579 - mae: 0.5579\n",
            "Epoch 744/1000\n",
            "2/2 [==============================] - 0s 10ms/step - loss: 0.3131 - mae: 0.3131\n",
            "Epoch 745/1000\n",
            "2/2 [==============================] - 0s 12ms/step - loss: 0.7588 - mae: 0.7588\n",
            "Epoch 746/1000\n",
            "2/2 [==============================] - 0s 9ms/step - loss: 0.8825 - mae: 0.8825\n",
            "Epoch 747/1000\n",
            "2/2 [==============================] - 0s 13ms/step - loss: 0.4455 - mae: 0.4455\n",
            "Epoch 748/1000\n",
            "2/2 [==============================] - 0s 9ms/step - loss: 1.0682 - mae: 1.0682\n",
            "Epoch 749/1000\n",
            "2/2 [==============================] - 0s 9ms/step - loss: 0.6562 - mae: 0.6562\n",
            "Epoch 750/1000\n",
            "2/2 [==============================] - 0s 9ms/step - loss: 0.7468 - mae: 0.7468\n",
            "Epoch 751/1000\n",
            "2/2 [==============================] - 0s 9ms/step - loss: 0.9409 - mae: 0.9409\n",
            "Epoch 752/1000\n",
            "2/2 [==============================] - 0s 9ms/step - loss: 0.5041 - mae: 0.5041\n",
            "Epoch 753/1000\n",
            "2/2 [==============================] - 0s 8ms/step - loss: 0.8388 - mae: 0.8388\n",
            "Epoch 754/1000\n",
            "2/2 [==============================] - 0s 10ms/step - loss: 0.3348 - mae: 0.3348\n",
            "Epoch 755/1000\n",
            "2/2 [==============================] - 0s 9ms/step - loss: 0.3377 - mae: 0.3377\n",
            "Epoch 756/1000\n",
            "2/2 [==============================] - 0s 10ms/step - loss: 0.5197 - mae: 0.5197\n",
            "Epoch 757/1000\n",
            "2/2 [==============================] - 0s 6ms/step - loss: 0.2872 - mae: 0.2872\n",
            "Epoch 758/1000\n",
            "2/2 [==============================] - 0s 9ms/step - loss: 0.2954 - mae: 0.2954\n",
            "Epoch 759/1000\n",
            "2/2 [==============================] - 0s 8ms/step - loss: 0.6791 - mae: 0.6791\n",
            "Epoch 760/1000\n",
            "2/2 [==============================] - 0s 9ms/step - loss: 0.4145 - mae: 0.4145\n",
            "Epoch 761/1000\n",
            "2/2 [==============================] - 0s 8ms/step - loss: 0.6365 - mae: 0.6365\n",
            "Epoch 762/1000\n",
            "2/2 [==============================] - 0s 7ms/step - loss: 0.4997 - mae: 0.4997\n",
            "Epoch 763/1000\n",
            "2/2 [==============================] - 0s 8ms/step - loss: 0.5091 - mae: 0.5091\n",
            "Epoch 764/1000\n",
            "2/2 [==============================] - 0s 9ms/step - loss: 0.5202 - mae: 0.5202\n",
            "Epoch 765/1000\n",
            "2/2 [==============================] - 0s 7ms/step - loss: 0.4016 - mae: 0.4016\n",
            "Epoch 766/1000\n",
            "2/2 [==============================] - 0s 9ms/step - loss: 0.7779 - mae: 0.7779\n",
            "Epoch 767/1000\n",
            "2/2 [==============================] - 0s 8ms/step - loss: 0.3588 - mae: 0.3588\n",
            "Epoch 768/1000\n",
            "2/2 [==============================] - 0s 11ms/step - loss: 1.1691 - mae: 1.1691\n",
            "Epoch 769/1000\n",
            "2/2 [==============================] - 0s 8ms/step - loss: 0.9235 - mae: 0.9235\n",
            "Epoch 770/1000\n",
            "2/2 [==============================] - 0s 9ms/step - loss: 0.3656 - mae: 0.3656\n",
            "Epoch 771/1000\n",
            "2/2 [==============================] - 0s 8ms/step - loss: 0.5881 - mae: 0.5881\n",
            "Epoch 772/1000\n",
            "2/2 [==============================] - 0s 9ms/step - loss: 0.4861 - mae: 0.4861\n",
            "Epoch 773/1000\n",
            "2/2 [==============================] - 0s 10ms/step - loss: 0.3551 - mae: 0.3551\n",
            "Epoch 774/1000\n",
            "2/2 [==============================] - 0s 10ms/step - loss: 0.3398 - mae: 0.3398\n",
            "Epoch 775/1000\n",
            "2/2 [==============================] - 0s 9ms/step - loss: 0.2861 - mae: 0.2861\n",
            "Epoch 776/1000\n",
            "2/2 [==============================] - 0s 10ms/step - loss: 0.2110 - mae: 0.2110\n",
            "Epoch 777/1000\n",
            "2/2 [==============================] - 0s 9ms/step - loss: 0.4212 - mae: 0.4212\n",
            "Epoch 778/1000\n",
            "2/2 [==============================] - 0s 10ms/step - loss: 0.3430 - mae: 0.3430\n",
            "Epoch 779/1000\n",
            "2/2 [==============================] - 0s 8ms/step - loss: 0.8211 - mae: 0.8211\n",
            "Epoch 780/1000\n",
            "2/2 [==============================] - 0s 9ms/step - loss: 0.3041 - mae: 0.3041\n",
            "Epoch 781/1000\n",
            "2/2 [==============================] - 0s 9ms/step - loss: 1.0144 - mae: 1.0144\n",
            "Epoch 782/1000\n",
            "2/2 [==============================] - 0s 8ms/step - loss: 0.3930 - mae: 0.3930\n",
            "Epoch 783/1000\n",
            "2/2 [==============================] - 0s 10ms/step - loss: 0.5256 - mae: 0.5256\n",
            "Epoch 784/1000\n",
            "2/2 [==============================] - 0s 11ms/step - loss: 0.3133 - mae: 0.3133\n",
            "Epoch 785/1000\n",
            "2/2 [==============================] - 0s 10ms/step - loss: 0.3606 - mae: 0.3606\n",
            "Epoch 786/1000\n",
            "2/2 [==============================] - 0s 9ms/step - loss: 0.3016 - mae: 0.3016\n",
            "Epoch 787/1000\n",
            "2/2 [==============================] - 0s 8ms/step - loss: 0.2644 - mae: 0.2644\n",
            "Epoch 788/1000\n",
            "2/2 [==============================] - 0s 10ms/step - loss: 0.3434 - mae: 0.3434\n",
            "Epoch 789/1000\n",
            "2/2 [==============================] - 0s 8ms/step - loss: 0.1463 - mae: 0.1463\n",
            "Epoch 790/1000\n",
            "2/2 [==============================] - 0s 9ms/step - loss: 0.3008 - mae: 0.3008\n",
            "Epoch 791/1000\n",
            "2/2 [==============================] - 0s 8ms/step - loss: 0.1778 - mae: 0.1778\n",
            "Epoch 792/1000\n",
            "2/2 [==============================] - 0s 11ms/step - loss: 0.4554 - mae: 0.4554\n",
            "Epoch 793/1000\n",
            "2/2 [==============================] - 0s 9ms/step - loss: 0.2773 - mae: 0.2773\n",
            "Epoch 794/1000\n",
            "2/2 [==============================] - 0s 10ms/step - loss: 0.3385 - mae: 0.3385\n",
            "Epoch 795/1000\n",
            "2/2 [==============================] - 0s 8ms/step - loss: 0.2854 - mae: 0.2854\n",
            "Epoch 796/1000\n",
            "2/2 [==============================] - 0s 16ms/step - loss: 0.1930 - mae: 0.1930\n",
            "Epoch 797/1000\n",
            "2/2 [==============================] - 0s 9ms/step - loss: 0.2647 - mae: 0.2647\n",
            "Epoch 798/1000\n",
            "2/2 [==============================] - 0s 12ms/step - loss: 0.3375 - mae: 0.3375\n",
            "Epoch 799/1000\n",
            "2/2 [==============================] - 0s 8ms/step - loss: 0.6360 - mae: 0.6360\n",
            "Epoch 800/1000\n",
            "2/2 [==============================] - 0s 10ms/step - loss: 0.7320 - mae: 0.7320\n",
            "Epoch 801/1000\n",
            "2/2 [==============================] - 0s 8ms/step - loss: 0.6084 - mae: 0.6084\n",
            "Epoch 802/1000\n",
            "2/2 [==============================] - 0s 10ms/step - loss: 0.5774 - mae: 0.5774\n",
            "Epoch 803/1000\n",
            "2/2 [==============================] - 0s 9ms/step - loss: 0.4826 - mae: 0.4826\n",
            "Epoch 804/1000\n",
            "2/2 [==============================] - 0s 9ms/step - loss: 0.5231 - mae: 0.5231\n",
            "Epoch 805/1000\n",
            "2/2 [==============================] - 0s 9ms/step - loss: 0.5858 - mae: 0.5858\n",
            "Epoch 806/1000\n",
            "2/2 [==============================] - 0s 9ms/step - loss: 0.6410 - mae: 0.6410\n",
            "Epoch 807/1000\n",
            "2/2 [==============================] - 0s 9ms/step - loss: 0.6835 - mae: 0.6835\n",
            "Epoch 808/1000\n",
            "2/2 [==============================] - 0s 10ms/step - loss: 0.4839 - mae: 0.4839\n",
            "Epoch 809/1000\n",
            "2/2 [==============================] - 0s 9ms/step - loss: 0.6763 - mae: 0.6763\n",
            "Epoch 810/1000\n",
            "2/2 [==============================] - 0s 10ms/step - loss: 0.5983 - mae: 0.5983\n",
            "Epoch 811/1000\n",
            "2/2 [==============================] - 0s 9ms/step - loss: 0.6506 - mae: 0.6506\n",
            "Epoch 812/1000\n",
            "2/2 [==============================] - 0s 10ms/step - loss: 0.8279 - mae: 0.8279\n",
            "Epoch 813/1000\n",
            "2/2 [==============================] - 0s 10ms/step - loss: 0.8252 - mae: 0.8252\n",
            "Epoch 814/1000\n",
            "2/2 [==============================] - 0s 7ms/step - loss: 0.6601 - mae: 0.6601\n",
            "Epoch 815/1000\n",
            "2/2 [==============================] - 0s 9ms/step - loss: 1.0260 - mae: 1.0260\n",
            "Epoch 816/1000\n",
            "2/2 [==============================] - 0s 8ms/step - loss: 0.6129 - mae: 0.6129\n",
            "Epoch 817/1000\n",
            "2/2 [==============================] - 0s 9ms/step - loss: 0.6351 - mae: 0.6351\n",
            "Epoch 818/1000\n",
            "2/2 [==============================] - 0s 7ms/step - loss: 0.8766 - mae: 0.8766\n",
            "Epoch 819/1000\n",
            "2/2 [==============================] - 0s 9ms/step - loss: 0.6559 - mae: 0.6559\n",
            "Epoch 820/1000\n",
            "2/2 [==============================] - 0s 8ms/step - loss: 0.7245 - mae: 0.7245\n",
            "Epoch 821/1000\n",
            "2/2 [==============================] - 0s 9ms/step - loss: 0.6664 - mae: 0.6664\n",
            "Epoch 822/1000\n",
            "2/2 [==============================] - 0s 7ms/step - loss: 0.5686 - mae: 0.5686\n",
            "Epoch 823/1000\n",
            "2/2 [==============================] - 0s 10ms/step - loss: 0.4201 - mae: 0.4201\n",
            "Epoch 824/1000\n",
            "2/2 [==============================] - 0s 9ms/step - loss: 0.3864 - mae: 0.3864\n",
            "Epoch 825/1000\n",
            "2/2 [==============================] - 0s 9ms/step - loss: 0.5120 - mae: 0.5120\n",
            "Epoch 826/1000\n",
            "2/2 [==============================] - 0s 11ms/step - loss: 0.4596 - mae: 0.4596\n",
            "Epoch 827/1000\n",
            "2/2 [==============================] - 0s 8ms/step - loss: 0.5458 - mae: 0.5458\n",
            "Epoch 828/1000\n",
            "2/2 [==============================] - 0s 10ms/step - loss: 0.8002 - mae: 0.8002\n",
            "Epoch 829/1000\n",
            "2/2 [==============================] - 0s 8ms/step - loss: 0.7883 - mae: 0.7883\n",
            "Epoch 830/1000\n",
            "2/2 [==============================] - 0s 8ms/step - loss: 1.2607 - mae: 1.2607\n",
            "Epoch 831/1000\n",
            "2/2 [==============================] - 0s 8ms/step - loss: 0.7977 - mae: 0.7977\n",
            "Epoch 832/1000\n",
            "2/2 [==============================] - 0s 10ms/step - loss: 0.7785 - mae: 0.7785\n",
            "Epoch 833/1000\n",
            "2/2 [==============================] - 0s 9ms/step - loss: 0.5258 - mae: 0.5258\n",
            "Epoch 834/1000\n",
            "2/2 [==============================] - 0s 10ms/step - loss: 0.4034 - mae: 0.4034\n",
            "Epoch 835/1000\n",
            "2/2 [==============================] - 0s 12ms/step - loss: 0.6232 - mae: 0.6232\n",
            "Epoch 836/1000\n",
            "2/2 [==============================] - 0s 8ms/step - loss: 0.3546 - mae: 0.3546\n",
            "Epoch 837/1000\n",
            "2/2 [==============================] - 0s 8ms/step - loss: 0.3833 - mae: 0.3833\n",
            "Epoch 838/1000\n",
            "2/2 [==============================] - 0s 10ms/step - loss: 0.8623 - mae: 0.8623\n",
            "Epoch 839/1000\n",
            "2/2 [==============================] - 0s 9ms/step - loss: 0.3338 - mae: 0.3338\n",
            "Epoch 840/1000\n",
            "2/2 [==============================] - 0s 7ms/step - loss: 0.3935 - mae: 0.3935\n",
            "Epoch 841/1000\n",
            "2/2 [==============================] - 0s 10ms/step - loss: 0.3821 - mae: 0.3821\n",
            "Epoch 842/1000\n",
            "2/2 [==============================] - 0s 9ms/step - loss: 0.5131 - mae: 0.5131\n",
            "Epoch 843/1000\n",
            "2/2 [==============================] - 0s 10ms/step - loss: 0.3472 - mae: 0.3472\n",
            "Epoch 844/1000\n",
            "2/2 [==============================] - 0s 8ms/step - loss: 0.4669 - mae: 0.4669\n",
            "Epoch 845/1000\n",
            "2/2 [==============================] - 0s 9ms/step - loss: 0.3497 - mae: 0.3497\n",
            "Epoch 846/1000\n",
            "2/2 [==============================] - 0s 16ms/step - loss: 0.6774 - mae: 0.6774\n",
            "Epoch 847/1000\n",
            "2/2 [==============================] - 0s 8ms/step - loss: 0.3733 - mae: 0.3733\n",
            "Epoch 848/1000\n",
            "2/2 [==============================] - 0s 10ms/step - loss: 0.9953 - mae: 0.9953\n",
            "Epoch 849/1000\n",
            "2/2 [==============================] - 0s 10ms/step - loss: 0.4632 - mae: 0.4632\n",
            "Epoch 850/1000\n",
            "2/2 [==============================] - 0s 8ms/step - loss: 1.0219 - mae: 1.0219\n",
            "Epoch 851/1000\n",
            "2/2 [==============================] - 0s 8ms/step - loss: 0.6691 - mae: 0.6691\n",
            "Epoch 852/1000\n",
            "2/2 [==============================] - 0s 8ms/step - loss: 1.0143 - mae: 1.0143\n",
            "Epoch 853/1000\n",
            "2/2 [==============================] - 0s 8ms/step - loss: 1.0886 - mae: 1.0886\n",
            "Epoch 854/1000\n",
            "2/2 [==============================] - 0s 8ms/step - loss: 0.6086 - mae: 0.6086\n",
            "Epoch 855/1000\n",
            "2/2 [==============================] - 0s 7ms/step - loss: 0.5320 - mae: 0.5320\n",
            "Epoch 856/1000\n",
            "2/2 [==============================] - 0s 10ms/step - loss: 0.4370 - mae: 0.4370\n",
            "Epoch 857/1000\n",
            "2/2 [==============================] - 0s 9ms/step - loss: 0.3235 - mae: 0.3235\n",
            "Epoch 858/1000\n",
            "2/2 [==============================] - 0s 9ms/step - loss: 0.2341 - mae: 0.2341\n",
            "Epoch 859/1000\n",
            "2/2 [==============================] - 0s 8ms/step - loss: 0.1884 - mae: 0.1884\n",
            "Epoch 860/1000\n",
            "2/2 [==============================] - 0s 8ms/step - loss: 0.2651 - mae: 0.2651\n",
            "Epoch 861/1000\n",
            "2/2 [==============================] - 0s 8ms/step - loss: 0.1760 - mae: 0.1760\n",
            "Epoch 862/1000\n",
            "2/2 [==============================] - 0s 8ms/step - loss: 0.7263 - mae: 0.7263\n",
            "Epoch 863/1000\n",
            "2/2 [==============================] - 0s 9ms/step - loss: 0.5706 - mae: 0.5706\n",
            "Epoch 864/1000\n",
            "2/2 [==============================] - 0s 8ms/step - loss: 0.7633 - mae: 0.7633\n",
            "Epoch 865/1000\n",
            "2/2 [==============================] - 0s 8ms/step - loss: 0.6889 - mae: 0.6889\n",
            "Epoch 866/1000\n",
            "2/2 [==============================] - 0s 9ms/step - loss: 1.2082 - mae: 1.2082\n",
            "Epoch 867/1000\n",
            "2/2 [==============================] - 0s 9ms/step - loss: 1.4255 - mae: 1.4255\n",
            "Epoch 868/1000\n",
            "2/2 [==============================] - 0s 8ms/step - loss: 1.5483 - mae: 1.5483\n",
            "Epoch 869/1000\n",
            "2/2 [==============================] - 0s 10ms/step - loss: 1.1723 - mae: 1.1723\n",
            "Epoch 870/1000\n",
            "2/2 [==============================] - 0s 10ms/step - loss: 0.7683 - mae: 0.7683\n",
            "Epoch 871/1000\n",
            "2/2 [==============================] - 0s 8ms/step - loss: 0.8576 - mae: 0.8576\n",
            "Epoch 872/1000\n",
            "2/2 [==============================] - 0s 8ms/step - loss: 0.4619 - mae: 0.4619\n",
            "Epoch 873/1000\n",
            "2/2 [==============================] - 0s 9ms/step - loss: 0.5995 - mae: 0.5995\n",
            "Epoch 874/1000\n",
            "2/2 [==============================] - 0s 10ms/step - loss: 0.5390 - mae: 0.5390\n",
            "Epoch 875/1000\n",
            "2/2 [==============================] - 0s 9ms/step - loss: 0.7797 - mae: 0.7797\n",
            "Epoch 876/1000\n",
            "2/2 [==============================] - 0s 10ms/step - loss: 0.6024 - mae: 0.6024\n",
            "Epoch 877/1000\n",
            "2/2 [==============================] - 0s 9ms/step - loss: 0.7617 - mae: 0.7617\n",
            "Epoch 878/1000\n",
            "2/2 [==============================] - 0s 8ms/step - loss: 0.4048 - mae: 0.4048\n",
            "Epoch 879/1000\n",
            "2/2 [==============================] - 0s 10ms/step - loss: 0.5463 - mae: 0.5463\n",
            "Epoch 880/1000\n",
            "2/2 [==============================] - 0s 8ms/step - loss: 0.5329 - mae: 0.5329\n",
            "Epoch 881/1000\n",
            "2/2 [==============================] - 0s 8ms/step - loss: 0.4977 - mae: 0.4977\n",
            "Epoch 882/1000\n",
            "2/2 [==============================] - 0s 7ms/step - loss: 0.7559 - mae: 0.7559\n",
            "Epoch 883/1000\n",
            "2/2 [==============================] - 0s 9ms/step - loss: 0.5900 - mae: 0.5900\n",
            "Epoch 884/1000\n",
            "2/2 [==============================] - 0s 8ms/step - loss: 0.2525 - mae: 0.2525\n",
            "Epoch 885/1000\n",
            "2/2 [==============================] - 0s 9ms/step - loss: 0.2630 - mae: 0.2630\n",
            "Epoch 886/1000\n",
            "2/2 [==============================] - 0s 7ms/step - loss: 0.8106 - mae: 0.8106\n",
            "Epoch 887/1000\n",
            "2/2 [==============================] - 0s 8ms/step - loss: 0.4100 - mae: 0.4100\n",
            "Epoch 888/1000\n",
            "2/2 [==============================] - 0s 9ms/step - loss: 1.2554 - mae: 1.2554\n",
            "Epoch 889/1000\n",
            "2/2 [==============================] - 0s 9ms/step - loss: 0.4640 - mae: 0.4640\n",
            "Epoch 890/1000\n",
            "2/2 [==============================] - 0s 8ms/step - loss: 0.9959 - mae: 0.9959\n",
            "Epoch 891/1000\n",
            "2/2 [==============================] - 0s 8ms/step - loss: 0.5338 - mae: 0.5338\n",
            "Epoch 892/1000\n",
            "2/2 [==============================] - 0s 8ms/step - loss: 0.4233 - mae: 0.4233\n",
            "Epoch 893/1000\n",
            "2/2 [==============================] - 0s 8ms/step - loss: 0.3530 - mae: 0.3530\n",
            "Epoch 894/1000\n",
            "2/2 [==============================] - 0s 10ms/step - loss: 0.6308 - mae: 0.6308\n",
            "Epoch 895/1000\n",
            "2/2 [==============================] - 0s 7ms/step - loss: 0.3701 - mae: 0.3701\n",
            "Epoch 896/1000\n",
            "2/2 [==============================] - 0s 9ms/step - loss: 0.7956 - mae: 0.7956\n",
            "Epoch 897/1000\n",
            "2/2 [==============================] - 0s 10ms/step - loss: 0.4168 - mae: 0.4168\n",
            "Epoch 898/1000\n",
            "2/2 [==============================] - 0s 9ms/step - loss: 1.0478 - mae: 1.0478\n",
            "Epoch 899/1000\n",
            "2/2 [==============================] - 0s 11ms/step - loss: 0.5017 - mae: 0.5017\n",
            "Epoch 900/1000\n",
            "2/2 [==============================] - 0s 9ms/step - loss: 0.8083 - mae: 0.8083\n",
            "Epoch 901/1000\n",
            "2/2 [==============================] - 0s 9ms/step - loss: 0.6319 - mae: 0.6319\n",
            "Epoch 902/1000\n",
            "2/2 [==============================] - 0s 9ms/step - loss: 0.8455 - mae: 0.8455\n",
            "Epoch 903/1000\n",
            "2/2 [==============================] - 0s 10ms/step - loss: 0.6525 - mae: 0.6525\n",
            "Epoch 904/1000\n",
            "2/2 [==============================] - 0s 7ms/step - loss: 0.8546 - mae: 0.8546\n",
            "Epoch 905/1000\n",
            "2/2 [==============================] - 0s 8ms/step - loss: 1.0002 - mae: 1.0002\n",
            "Epoch 906/1000\n",
            "2/2 [==============================] - 0s 9ms/step - loss: 0.7810 - mae: 0.7810\n",
            "Epoch 907/1000\n",
            "2/2 [==============================] - 0s 8ms/step - loss: 0.5433 - mae: 0.5433\n",
            "Epoch 908/1000\n",
            "2/2 [==============================] - 0s 9ms/step - loss: 0.2839 - mae: 0.2839\n",
            "Epoch 909/1000\n",
            "2/2 [==============================] - 0s 9ms/step - loss: 0.5126 - mae: 0.5126\n",
            "Epoch 910/1000\n",
            "2/2 [==============================] - 0s 9ms/step - loss: 0.5444 - mae: 0.5444\n",
            "Epoch 911/1000\n",
            "2/2 [==============================] - 0s 9ms/step - loss: 0.4141 - mae: 0.4141\n",
            "Epoch 912/1000\n",
            "2/2 [==============================] - 0s 9ms/step - loss: 0.3736 - mae: 0.3736\n",
            "Epoch 913/1000\n",
            "2/2 [==============================] - 0s 8ms/step - loss: 0.1457 - mae: 0.1457\n",
            "Epoch 914/1000\n",
            "2/2 [==============================] - 0s 9ms/step - loss: 0.1560 - mae: 0.1560\n",
            "Epoch 915/1000\n",
            "2/2 [==============================] - 0s 9ms/step - loss: 0.2961 - mae: 0.2961\n",
            "Epoch 916/1000\n",
            "2/2 [==============================] - 0s 7ms/step - loss: 0.2254 - mae: 0.2254\n",
            "Epoch 917/1000\n",
            "2/2 [==============================] - 0s 7ms/step - loss: 0.7776 - mae: 0.7776\n",
            "Epoch 918/1000\n",
            "2/2 [==============================] - 0s 8ms/step - loss: 0.3694 - mae: 0.3694\n",
            "Epoch 919/1000\n",
            "2/2 [==============================] - 0s 8ms/step - loss: 0.5859 - mae: 0.5859\n",
            "Epoch 920/1000\n",
            "2/2 [==============================] - 0s 10ms/step - loss: 0.2083 - mae: 0.2083\n",
            "Epoch 921/1000\n",
            "2/2 [==============================] - 0s 9ms/step - loss: 0.3861 - mae: 0.3861\n",
            "Epoch 922/1000\n",
            "2/2 [==============================] - 0s 9ms/step - loss: 0.4204 - mae: 0.4204\n",
            "Epoch 923/1000\n",
            "2/2 [==============================] - 0s 9ms/step - loss: 0.4165 - mae: 0.4165\n",
            "Epoch 924/1000\n",
            "2/2 [==============================] - 0s 11ms/step - loss: 0.3533 - mae: 0.3533\n",
            "Epoch 925/1000\n",
            "2/2 [==============================] - 0s 8ms/step - loss: 0.2158 - mae: 0.2158\n",
            "Epoch 926/1000\n",
            "2/2 [==============================] - 0s 9ms/step - loss: 0.2160 - mae: 0.2160\n",
            "Epoch 927/1000\n",
            "2/2 [==============================] - 0s 8ms/step - loss: 0.4335 - mae: 0.4335\n",
            "Epoch 928/1000\n",
            "2/2 [==============================] - 0s 7ms/step - loss: 0.3357 - mae: 0.3357\n",
            "Epoch 929/1000\n",
            "2/2 [==============================] - 0s 9ms/step - loss: 0.3235 - mae: 0.3235\n",
            "Epoch 930/1000\n",
            "2/2 [==============================] - 0s 12ms/step - loss: 0.7065 - mae: 0.7065\n",
            "Epoch 931/1000\n",
            "2/2 [==============================] - 0s 8ms/step - loss: 0.3641 - mae: 0.3641\n",
            "Epoch 932/1000\n",
            "2/2 [==============================] - 0s 9ms/step - loss: 0.2546 - mae: 0.2546\n",
            "Epoch 933/1000\n",
            "2/2 [==============================] - 0s 9ms/step - loss: 0.7364 - mae: 0.7364\n",
            "Epoch 934/1000\n",
            "2/2 [==============================] - 0s 9ms/step - loss: 0.3038 - mae: 0.3038\n",
            "Epoch 935/1000\n",
            "2/2 [==============================] - 0s 9ms/step - loss: 0.6360 - mae: 0.6360\n",
            "Epoch 936/1000\n",
            "2/2 [==============================] - 0s 9ms/step - loss: 0.3086 - mae: 0.3086\n",
            "Epoch 937/1000\n",
            "2/2 [==============================] - 0s 9ms/step - loss: 0.7332 - mae: 0.7332\n",
            "Epoch 938/1000\n",
            "2/2 [==============================] - 0s 9ms/step - loss: 0.7024 - mae: 0.7024\n",
            "Epoch 939/1000\n",
            "2/2 [==============================] - 0s 8ms/step - loss: 0.8569 - mae: 0.8569\n",
            "Epoch 940/1000\n",
            "2/2 [==============================] - 0s 10ms/step - loss: 0.8921 - mae: 0.8921\n",
            "Epoch 941/1000\n",
            "2/2 [==============================] - 0s 8ms/step - loss: 0.5405 - mae: 0.5405\n",
            "Epoch 942/1000\n",
            "2/2 [==============================] - 0s 8ms/step - loss: 1.5027 - mae: 1.5027\n",
            "Epoch 943/1000\n",
            "2/2 [==============================] - 0s 10ms/step - loss: 1.4157 - mae: 1.4157\n",
            "Epoch 944/1000\n",
            "2/2 [==============================] - 0s 11ms/step - loss: 0.7588 - mae: 0.7588\n",
            "Epoch 945/1000\n",
            "2/2 [==============================] - 0s 8ms/step - loss: 0.9288 - mae: 0.9288\n",
            "Epoch 946/1000\n",
            "2/2 [==============================] - 0s 11ms/step - loss: 0.8409 - mae: 0.8409\n",
            "Epoch 947/1000\n",
            "2/2 [==============================] - 0s 10ms/step - loss: 0.4719 - mae: 0.4719\n",
            "Epoch 948/1000\n",
            "2/2 [==============================] - 0s 28ms/step - loss: 0.6665 - mae: 0.6665\n",
            "Epoch 949/1000\n",
            "2/2 [==============================] - 0s 7ms/step - loss: 0.2800 - mae: 0.2800\n",
            "Epoch 950/1000\n",
            "2/2 [==============================] - 0s 9ms/step - loss: 0.3211 - mae: 0.3211\n",
            "Epoch 951/1000\n",
            "2/2 [==============================] - 0s 11ms/step - loss: 0.2116 - mae: 0.2116\n",
            "Epoch 952/1000\n",
            "2/2 [==============================] - 0s 10ms/step - loss: 0.2074 - mae: 0.2074\n",
            "Epoch 953/1000\n",
            "2/2 [==============================] - 0s 9ms/step - loss: 0.2653 - mae: 0.2653\n",
            "Epoch 954/1000\n",
            "2/2 [==============================] - 0s 10ms/step - loss: 0.1840 - mae: 0.1840\n",
            "Epoch 955/1000\n",
            "2/2 [==============================] - 0s 9ms/step - loss: 0.3512 - mae: 0.3512\n",
            "Epoch 956/1000\n",
            "2/2 [==============================] - 0s 9ms/step - loss: 0.3262 - mae: 0.3262\n",
            "Epoch 957/1000\n",
            "2/2 [==============================] - 0s 10ms/step - loss: 0.5432 - mae: 0.5432\n",
            "Epoch 958/1000\n",
            "2/2 [==============================] - 0s 9ms/step - loss: 0.2584 - mae: 0.2584\n",
            "Epoch 959/1000\n",
            "2/2 [==============================] - 0s 8ms/step - loss: 0.5154 - mae: 0.5154\n",
            "Epoch 960/1000\n",
            "2/2 [==============================] - 0s 8ms/step - loss: 0.4299 - mae: 0.4299\n",
            "Epoch 961/1000\n",
            "2/2 [==============================] - 0s 8ms/step - loss: 0.6233 - mae: 0.6233\n",
            "Epoch 962/1000\n",
            "2/2 [==============================] - 0s 9ms/step - loss: 0.7990 - mae: 0.7990\n",
            "Epoch 963/1000\n",
            "2/2 [==============================] - 0s 8ms/step - loss: 0.5593 - mae: 0.5593\n",
            "Epoch 964/1000\n",
            "2/2 [==============================] - 0s 7ms/step - loss: 0.9565 - mae: 0.9565\n",
            "Epoch 965/1000\n",
            "2/2 [==============================] - 0s 9ms/step - loss: 0.6272 - mae: 0.6272\n",
            "Epoch 966/1000\n",
            "2/2 [==============================] - 0s 10ms/step - loss: 0.9758 - mae: 0.9758\n",
            "Epoch 967/1000\n",
            "2/2 [==============================] - 0s 8ms/step - loss: 1.1205 - mae: 1.1205\n",
            "Epoch 968/1000\n",
            "2/2 [==============================] - 0s 8ms/step - loss: 0.5137 - mae: 0.5137\n",
            "Epoch 969/1000\n",
            "2/2 [==============================] - 0s 8ms/step - loss: 0.8983 - mae: 0.8983\n",
            "Epoch 970/1000\n",
            "2/2 [==============================] - 0s 8ms/step - loss: 0.6331 - mae: 0.6331\n",
            "Epoch 971/1000\n",
            "2/2 [==============================] - 0s 8ms/step - loss: 0.6646 - mae: 0.6646\n",
            "Epoch 972/1000\n",
            "2/2 [==============================] - 0s 9ms/step - loss: 0.8337 - mae: 0.8337\n",
            "Epoch 973/1000\n",
            "2/2 [==============================] - 0s 9ms/step - loss: 0.2168 - mae: 0.2168\n",
            "Epoch 974/1000\n",
            "2/2 [==============================] - 0s 11ms/step - loss: 0.1891 - mae: 0.1891\n",
            "Epoch 975/1000\n",
            "2/2 [==============================] - 0s 9ms/step - loss: 0.0959 - mae: 0.0959\n",
            "Epoch 976/1000\n",
            "2/2 [==============================] - 0s 8ms/step - loss: 0.1851 - mae: 0.1851\n",
            "Epoch 977/1000\n",
            "2/2 [==============================] - 0s 10ms/step - loss: 0.2839 - mae: 0.2839\n",
            "Epoch 978/1000\n",
            "2/2 [==============================] - 0s 9ms/step - loss: 0.5990 - mae: 0.5990\n",
            "Epoch 979/1000\n",
            "2/2 [==============================] - 0s 10ms/step - loss: 0.5421 - mae: 0.5421\n",
            "Epoch 980/1000\n",
            "2/2 [==============================] - 0s 9ms/step - loss: 1.1169 - mae: 1.1169\n",
            "Epoch 981/1000\n",
            "2/2 [==============================] - 0s 7ms/step - loss: 1.1262 - mae: 1.1262\n",
            "Epoch 982/1000\n",
            "2/2 [==============================] - 0s 10ms/step - loss: 0.5346 - mae: 0.5346\n",
            "Epoch 983/1000\n",
            "2/2 [==============================] - 0s 8ms/step - loss: 0.4506 - mae: 0.4506\n",
            "Epoch 984/1000\n",
            "2/2 [==============================] - 0s 8ms/step - loss: 0.2512 - mae: 0.2512\n",
            "Epoch 985/1000\n",
            "2/2 [==============================] - 0s 8ms/step - loss: 0.2836 - mae: 0.2836\n",
            "Epoch 986/1000\n",
            "2/2 [==============================] - 0s 8ms/step - loss: 0.1801 - mae: 0.1801\n",
            "Epoch 987/1000\n",
            "2/2 [==============================] - 0s 9ms/step - loss: 0.1621 - mae: 0.1621\n",
            "Epoch 988/1000\n",
            "2/2 [==============================] - 0s 8ms/step - loss: 0.3933 - mae: 0.3933\n",
            "Epoch 989/1000\n",
            "2/2 [==============================] - 0s 8ms/step - loss: 0.3456 - mae: 0.3456\n",
            "Epoch 990/1000\n",
            "2/2 [==============================] - 0s 8ms/step - loss: 0.2364 - mae: 0.2364\n",
            "Epoch 991/1000\n",
            "2/2 [==============================] - 0s 9ms/step - loss: 0.1453 - mae: 0.1453\n",
            "Epoch 992/1000\n",
            "2/2 [==============================] - 0s 9ms/step - loss: 0.2385 - mae: 0.2385\n",
            "Epoch 993/1000\n",
            "2/2 [==============================] - 0s 9ms/step - loss: 0.2104 - mae: 0.2104\n",
            "Epoch 994/1000\n",
            "2/2 [==============================] - 0s 9ms/step - loss: 0.3699 - mae: 0.3699\n",
            "Epoch 995/1000\n",
            "2/2 [==============================] - 0s 9ms/step - loss: 0.3049 - mae: 0.3049\n",
            "Epoch 996/1000\n",
            "2/2 [==============================] - 0s 10ms/step - loss: 0.4589 - mae: 0.4589\n",
            "Epoch 997/1000\n",
            "2/2 [==============================] - 0s 8ms/step - loss: 0.6051 - mae: 0.6051\n",
            "Epoch 998/1000\n",
            "2/2 [==============================] - 0s 10ms/step - loss: 0.4725 - mae: 0.4725\n",
            "Epoch 999/1000\n",
            "2/2 [==============================] - 0s 8ms/step - loss: 0.7076 - mae: 0.7076\n",
            "Epoch 1000/1000\n",
            "2/2 [==============================] - 0s 7ms/step - loss: 1.1002 - mae: 1.1002\n",
            "1/1 [==============================] - 0s 79ms/step\n"
          ]
        },
        {
          "data": {
            "text/plain": [
              "array([[27.361513]], dtype=float32)"
            ]
          },
          "execution_count": 83,
          "metadata": {},
          "output_type": "execute_result"
        }
      ],
      "source": [
        "# Set random seed\n",
        "tf.random.set_seed(42)\n",
        "\n",
        "# Create a model (same as above)\n",
        "model = tf.keras.Sequential([\n",
        "  tf.keras.layers.Dense(1000, activation='relu'),\n",
        "  tf.keras.layers.Dense(1000, activation='relu'),\n",
        "  tf.keras.layers.Dense(1000, activation='relu'),\n",
        "  tf.keras.layers.Dense(1)\n",
        "])\n",
        "\n",
        "# Compile model (same as above)\n",
        "model.compile(loss=tf.keras.losses.mae,\n",
        "              optimizer=tf.keras.optimizers.Adam(learning_rate=0.0001),\n",
        "              metrics=[\"mae\"])\n",
        "\n",
        "# Fit model (this time we'll train for longer)\n",
        "model.fit(tf.expand_dims(X, axis=-1), y, epochs=1000) # train for 100 epochs not 5\n",
        "\n",
        "# Try and predict what y would be if X was 17.0\n",
        "model.predict([17.0]) # the right answer is 27.0 (y = X + 10)"
      ]
    },
    {
      "cell_type": "markdown",
      "metadata": {
        "id": "sYi5V8ZYi_dy"
      },
      "source": [
        "Much better! \n",
        "\n",
        "We got closer this time. But we could still be better.\n",
        "\n",
        "Now we've trained a model, how could we evaluate it?"
      ]
    },
    {
      "cell_type": "markdown",
      "metadata": {
        "id": "HvC98q_h6zvG"
      },
      "source": [
        "## Evaluating a model \n",
        "\n",
        "A typical workflow you'll go through when building neural networks is:\n",
        "\n",
        "```\n",
        "Build a model -> evaluate it -> build (tweak) a model -> evaulate it -> build (tweak) a model -> evaluate it...\n",
        "```\n",
        "\n",
        "The tweaking comes from maybe not building a model from scratch but adjusting an existing one.\n",
        "\n",
        "### Visualize, visualize, visualize\n",
        "\n",
        "When it comes to evaluation, you'll want to remember the words: \"visualize, visualize, visualize.\" \n",
        "\n",
        "This is because you're probably better looking at something (doing) than you are thinking about something.\n",
        "\n",
        "It's a good idea to visualize:\n",
        "* **The data** - what data are you working with? What does it look like?\n",
        "* **The model itself** - what does the architecture look like? What are the different shapes?\n",
        "* **The training of a model** - how does a model perform while it learns?\n",
        "* **The predictions of a model** - how do the predictions of a model line up against the ground truth (the original labels)?\n",
        "\n",
        "Let's start by visualizing the model.\n",
        "\n",
        "But first, we'll create a little bit of a bigger dataset and a new model we can use (it'll be the same as before, but the more practice the better).\n"
      ]
    },
    {
      "cell_type": "code",
      "execution_count": 60,
      "metadata": {
        "colab": {
          "base_uri": "https://localhost:8080/"
        },
        "id": "srxuqbeYopns",
        "outputId": "85d3bffc-9c4c-40e7-8223-25ff0209e395"
      },
      "outputs": [
        {
          "data": {
            "text/plain": [
              "array([-100,  -96,  -92,  -88,  -84,  -80,  -76,  -72,  -68,  -64,  -60,\n",
              "        -56,  -52,  -48,  -44,  -40,  -36,  -32,  -28,  -24,  -20,  -16,\n",
              "        -12,   -8,   -4,    0,    4,    8,   12,   16,   20,   24,   28,\n",
              "         32,   36,   40,   44,   48,   52,   56,   60,   64,   68,   72,\n",
              "         76,   80,   84,   88,   92,   96])"
            ]
          },
          "execution_count": 60,
          "metadata": {},
          "output_type": "execute_result"
        }
      ],
      "source": [
        "# Make a bigger dataset\n",
        "X = np.arange(-100, 100, 4)\n",
        "X"
      ]
    },
    {
      "cell_type": "code",
      "execution_count": 61,
      "metadata": {
        "colab": {
          "base_uri": "https://localhost:8080/"
        },
        "id": "pQcC0nSko3kJ",
        "outputId": "4fc242dc-0da9-499f-8f42-de2a0c837202"
      },
      "outputs": [
        {
          "data": {
            "text/plain": [
              "array([-90, -86, -82, -78, -74, -70, -66, -62, -58, -54, -50, -46, -42,\n",
              "       -38, -34, -30, -26, -22, -18, -14, -10,  -6,  -2,   2,   6,  10,\n",
              "        14,  18,  22,  26,  30,  34,  38,  42,  46,  50,  54,  58,  62,\n",
              "        66,  70,  74,  78,  82,  86,  90,  94,  98, 102, 106])"
            ]
          },
          "execution_count": 61,
          "metadata": {},
          "output_type": "execute_result"
        }
      ],
      "source": [
        "# Make labels for the dataset (adhering to the same pattern as before)\n",
        "y = np.arange(-90, 110, 4)\n",
        "y"
      ]
    },
    {
      "cell_type": "markdown",
      "metadata": {
        "id": "KNIw5tgGpKjb"
      },
      "source": [
        "Since $y=X+10$, we could make the labels like so:"
      ]
    },
    {
      "cell_type": "code",
      "execution_count": 62,
      "metadata": {
        "colab": {
          "base_uri": "https://localhost:8080/"
        },
        "id": "ACgbmrAOpJwW",
        "outputId": "de9805da-e70b-4dba-ace3-b18ea0e277db"
      },
      "outputs": [
        {
          "data": {
            "text/plain": [
              "array([-90, -86, -82, -78, -74, -70, -66, -62, -58, -54, -50, -46, -42,\n",
              "       -38, -34, -30, -26, -22, -18, -14, -10,  -6,  -2,   2,   6,  10,\n",
              "        14,  18,  22,  26,  30,  34,  38,  42,  46,  50,  54,  58,  62,\n",
              "        66,  70,  74,  78,  82,  86,  90,  94,  98, 102, 106])"
            ]
          },
          "execution_count": 62,
          "metadata": {},
          "output_type": "execute_result"
        }
      ],
      "source": [
        "# Same result as above\n",
        "y = X + 10\n",
        "y"
      ]
    },
    {
      "cell_type": "markdown",
      "metadata": {
        "id": "ax3MnQDupeBp"
      },
      "source": [
        "## Split data into training/test set\n",
        "\n",
        "One of the other most common and important steps in a machine learning project is creating a training and test set (and when required, a validation set).\n",
        "\n",
        "Each set serves a specific purpose:\n",
        "* **Training set** - the model learns from this data, which is typically 70-80% of the total data available (like the course materials you study during the semester).\n",
        "* **Validation set** - the model gets tuned on this data, which is typically 10-15% of the total data available (like the practice exam you take before the final exam).\n",
        "* **Test set** - the model gets evaluated on this data to test what it has learned, it's typically 10-15% of the total data available (like the final exam you take at the end of the semester).\n",
        "\n",
        "For now, we'll just use a training and test set, this means we'll have a dataset for our model to learn on as well as be evaluated on.\n",
        "\n",
        "We can create them by splitting our `X` and `y` arrays.\n",
        "\n",
        "> 🔑 **Note:** When dealing with real-world data, this step is typically done right at the start of a project (the test set should always be kept separate from all other data). We want our model to learn on training data and then evaluate it on test data to get an indication of how well it **generalizes** to unseen examples."
      ]
    },
    {
      "cell_type": "code",
      "execution_count": 63,
      "metadata": {
        "colab": {
          "base_uri": "https://localhost:8080/"
        },
        "id": "5G0RDMnZrgvK",
        "outputId": "d7bffb88-c10b-47fd-cd68-b1d678f8647f"
      },
      "outputs": [
        {
          "data": {
            "text/plain": [
              "50"
            ]
          },
          "execution_count": 63,
          "metadata": {},
          "output_type": "execute_result"
        }
      ],
      "source": [
        "# Check how many samples we have\n",
        "len(X)"
      ]
    },
    {
      "cell_type": "code",
      "execution_count": 64,
      "metadata": {
        "colab": {
          "base_uri": "https://localhost:8080/"
        },
        "id": "4Q9ptcQkrGfO",
        "outputId": "402152b7-1abe-4eae-fc85-b7aa5224e966"
      },
      "outputs": [
        {
          "data": {
            "text/plain": [
              "(40, 10)"
            ]
          },
          "execution_count": 64,
          "metadata": {},
          "output_type": "execute_result"
        }
      ],
      "source": [
        "# Split data into train and test sets\n",
        "X_train = X[:40] # first 40 examples (80% of data)\n",
        "y_train = y[:40]\n",
        "\n",
        "X_test = X[40:] # last 10 examples (20% of data)\n",
        "y_test = y[40:]\n",
        "\n",
        "len(X_train), len(X_test)"
      ]
    },
    {
      "cell_type": "markdown",
      "metadata": {
        "id": "Rz2cIdECsLH5"
      },
      "source": [
        "## Visualizing the data\n",
        "\n",
        "Now we've got our training and test data, it's a good idea to visualize it.\n",
        "\n",
        "Let's plot it with some nice colours to differentiate what's what."
      ]
    },
    {
      "cell_type": "code",
      "execution_count": 65,
      "metadata": {
        "colab": {
          "base_uri": "https://localhost:8080/",
          "height": 428
        },
        "id": "os30CXBHsOAH",
        "outputId": "44a785b8-7535-4d44-8075-2e507e26e11a"
      },
      "outputs": [
        {
          "data": {
            "image/png": "[encoded data removed]",
            "text/plain": [
              "<Figure size 720x504 with 1 Axes>"
            ]
          },
          "metadata": {
            "needs_background": "light"
          },
          "output_type": "display_data"
        }
      ],
      "source": [
        "plt.figure(figsize=(10, 7))\n",
        "# Plot training data in blue\n",
        "plt.scatter(X_train, y_train, c='b', label='Training data')\n",
        "# Plot test data in green\n",
        "plt.scatter(X_test, y_test, c='g', label='Testing data')\n",
        "# Show the legend\n",
        "plt.legend();"
      ]
    },
    {
      "cell_type": "markdown",
      "metadata": {
        "id": "cxRcHZFgtS_B"
      },
      "source": [
        "Beautiful! Any time you can visualize your data, your model, your anything, it's a good idea. \n",
        "\n",
        "With this graph in mind, what we'll be trying to do is build a model which learns the pattern in the blue dots (`X_train`) to draw the green dots (`X_test`).\n",
        "\n",
        "Time to build a model. We'll make the exact same one from before (the one we trained for longer)."
      ]
    },
    {
      "cell_type": "code",
      "execution_count": 66,
      "metadata": {
        "id": "4qpe0eSStSm-"
      },
      "outputs": [],
      "source": [
        "# Set random seed\n",
        "tf.random.set_seed(42)\n",
        "\n",
        "# Create a model (same as above)\n",
        "model = tf.keras.Sequential([\n",
        "  tf.keras.layers.Dense(1)\n",
        "])\n",
        "\n",
        "# Compile model (same as above)\n",
        "model.compile(loss=tf.keras.losses.mae,\n",
        "              optimizer=tf.keras.optimizers.SGD(),\n",
        "              metrics=[\"mae\"])\n",
        "\n",
        "# Fit model (same as above)\n",
        "#model.fit(X_train, y_train, epochs=100) # commented out on purpose (not fitting it just yet)"
      ]
    },
    {
      "cell_type": "markdown",
      "metadata": {
        "id": "hc2RHCCfqlAc"
      },
      "source": [
        "## Visualizing the model\n",
        "\n",
        "After you've built a model, you might want to take a look at it (especially if you haven't built many before).\n",
        "\n",
        "You can take a look at the layers and shapes of your model by calling [`summary()`](https://www.tensorflow.org/api_docs/python/tf/keras/Model#summary) on it.\n",
        "\n",
        "> 🔑 **Note:** Visualizing a model is particularly helpful when you run into input and output shape mismatches."
      ]
    },
    {
      "cell_type": "code",
      "execution_count": 67,
      "metadata": {
        "colab": {
          "base_uri": "https://localhost:8080/",
          "height": 334
        },
        "id": "OlgJj0cFwChH",
        "outputId": "44547880-60d0-4070-8a8e-af3ebbbcff74"
      },
      "outputs": [
        {
          "ename": "ValueError",
          "evalue": "This model has not yet been built. Build the model first by calling `build()` or by calling the model on a batch of data.",
          "output_type": "error",
          "traceback": [
            "\u001b[0;31m---------------------------------------------------------------------------\u001b[0m",
            "\u001b[0;31mValueError\u001b[0m                                Traceback (most recent call last)",
            "\u001b[1;32m/Users/hinzlehome/wof/tensorflow/01_neural_network_regression_in_tensorflow.ipynb Cell 47\u001b[0m in \u001b[0;36m<cell line: 2>\u001b[0;34m()\u001b[0m\n\u001b[1;32m      <a href='vscode-notebook-cell:/Users/hinzlehome/wof/tensorflow/01_neural_network_regression_in_tensorflow.ipynb#ch0000042?line=0'>1</a>\u001b[0m \u001b[39m# Doesn't work (model not fit/built)\u001b[39;00m\n\u001b[0;32m----> <a href='vscode-notebook-cell:/Users/hinzlehome/wof/tensorflow/01_neural_network_regression_in_tensorflow.ipynb#ch0000042?line=1'>2</a>\u001b[0m model\u001b[39m.\u001b[39;49msummary()\n",
            "File \u001b[0;32m/usr/local/anaconda3/lib/python3.9/site-packages/keras/engine/training.py:3214\u001b[0m, in \u001b[0;36mModel.summary\u001b[0;34m(self, line_length, positions, print_fn, expand_nested, show_trainable, layer_range)\u001b[0m\n\u001b[1;32m   3184\u001b[0m \u001b[39m\"\"\"Prints a string summary of the network.\u001b[39;00m\n\u001b[1;32m   3185\u001b[0m \n\u001b[1;32m   3186\u001b[0m \u001b[39mArgs:\u001b[39;00m\n\u001b[0;32m   (...)\u001b[0m\n\u001b[1;32m   3211\u001b[0m \u001b[39m    ValueError: if `summary()` is called before the model is built.\u001b[39;00m\n\u001b[1;32m   3212\u001b[0m \u001b[39m\"\"\"\u001b[39;00m\n\u001b[1;32m   3213\u001b[0m \u001b[39mif\u001b[39;00m \u001b[39mnot\u001b[39;00m \u001b[39mself\u001b[39m\u001b[39m.\u001b[39mbuilt:\n\u001b[0;32m-> 3214\u001b[0m     \u001b[39mraise\u001b[39;00m \u001b[39mValueError\u001b[39;00m(\n\u001b[1;32m   3215\u001b[0m         \u001b[39m\"\u001b[39m\u001b[39mThis model has not yet been built. \u001b[39m\u001b[39m\"\u001b[39m\n\u001b[1;32m   3216\u001b[0m         \u001b[39m\"\u001b[39m\u001b[39mBuild the model first by calling `build()` or by calling \u001b[39m\u001b[39m\"\u001b[39m\n\u001b[1;32m   3217\u001b[0m         \u001b[39m\"\u001b[39m\u001b[39mthe model on a batch of data.\u001b[39m\u001b[39m\"\u001b[39m\n\u001b[1;32m   3218\u001b[0m     )\n\u001b[1;32m   3219\u001b[0m layer_utils\u001b[39m.\u001b[39mprint_summary(\n\u001b[1;32m   3220\u001b[0m     \u001b[39mself\u001b[39m,\n\u001b[1;32m   3221\u001b[0m     line_length\u001b[39m=\u001b[39mline_length,\n\u001b[0;32m   (...)\u001b[0m\n\u001b[1;32m   3226\u001b[0m     layer_range\u001b[39m=\u001b[39mlayer_range,\n\u001b[1;32m   3227\u001b[0m )\n",
            "\u001b[0;31mValueError\u001b[0m: This model has not yet been built. Build the model first by calling `build()` or by calling the model on a batch of data."
          ]
        }
      ],
      "source": [
        "# Doesn't work (model not fit/built)\n",
        "model.summary()"
      ]
    },
    {
      "cell_type": "markdown",
      "metadata": {
        "id": "SJj6KLe8xsyF"
      },
      "source": [
        "Ahh, the cell above errors because we haven't fit our built our model.\n",
        "\n",
        "We also haven't told it what input shape it should be expecting.\n",
        "\n",
        "Remember above, how we discussed the input shape was just one number?\n",
        "\n",
        "We can let our model know the input shape of our data using the `input_shape` parameter to the first layer (usually if `input_shape` isn't defined, Keras tries to figure it out automatically)."
      ]
    },
    {
      "cell_type": "code",
      "execution_count": null,
      "metadata": {
        "id": "zMXKFtFBuWgJ"
      },
      "outputs": [],
      "source": [
        "# Set random seed\n",
        "tf.random.set_seed(42)\n",
        "\n",
        "# Create a model (same as above)\n",
        "model = tf.keras.Sequential([\n",
        "  tf.keras.layers.Dense(1, input_shape=[1]) # define the input_shape to our model\n",
        "])\n",
        "\n",
        "# Compile model (same as above)\n",
        "model.compile(loss=tf.keras.losses.mae,\n",
        "              optimizer=tf.keras.optimizers.SGD(),\n",
        "              metrics=[\"mae\"])"
      ]
    },
    {
      "cell_type": "code",
      "execution_count": null,
      "metadata": {
        "colab": {
          "base_uri": "https://localhost:8080/"
        },
        "id": "24Q325x2yCoi",
        "outputId": "316b4790-abb8-4d16-c2a8-11087e8ca8ca"
      },
      "outputs": [],
      "source": [
        "# This will work after specifying the input shape\n",
        "model.summary()"
      ]
    },
    {
      "cell_type": "markdown",
      "metadata": {
        "id": "jdurWKlryl6b"
      },
      "source": [
        "Calling `summary()` on our model shows us the layers it contains, the output shape and the number of parameters.\n",
        "* **Total params** - total number of parameters in the model.\n",
        "* **Trainable parameters** - these are the parameters (patterns) the model can update as it trains.\n",
        "* **Non-trainable parameters** - these parameters aren't updated during training (this is typical when you bring in the already learned patterns from other models during transfer learning).\n",
        "\n",
        "> 📖 **Resource:** For a more in-depth overview of the trainable parameters within a layer, check out [MIT's introduction to deep learning video](https://youtu.be/njKP3FqW3Sk).\n",
        "\n",
        "> 🛠 **Exercise:** Try playing around with the number of hidden units in the `Dense` layer (e.g. `Dense(2)`, `Dense(3)`). How does this change the Total/Trainable params? Investigate what's causing the change.\n",
        "\n",
        "For now, all you need to think about these parameters is that their learnable patterns in the data.\n",
        "\n",
        "Let's fit our model to the training data."
      ]
    },
    {
      "cell_type": "code",
      "execution_count": null,
      "metadata": {
        "colab": {
          "base_uri": "https://localhost:8080/"
        },
        "id": "-Kywg4q9u051",
        "outputId": "32d2564b-0383-4688-ab1c-0711573b4e2a"
      },
      "outputs": [],
      "source": [
        "# Fit the model to the training data\n",
        "model.fit(X_train, y_train, epochs=100, verbose=0) # verbose controls how much gets output"
      ]
    },
    {
      "cell_type": "code",
      "execution_count": null,
      "metadata": {
        "colab": {
          "base_uri": "https://localhost:8080/"
        },
        "id": "-jWuOwj961ri",
        "outputId": "5f1717a8-c183-492d-e8ef-45ad5368f9de"
      },
      "outputs": [],
      "source": [
        "# Check the model summary\n",
        "model.summary()"
      ]
    },
    {
      "cell_type": "markdown",
      "metadata": {
        "id": "RrrkHEkMYh5A"
      },
      "source": [
        "Alongside summary, you can also view a 2D plot of the model using [`plot_model()`](https://www.tensorflow.org/api_docs/python/tf/keras/utils/plot_model)."
      ]
    },
    {
      "cell_type": "code",
      "execution_count": null,
      "metadata": {
        "colab": {
          "base_uri": "https://localhost:8080/",
          "height": 201
        },
        "id": "liIg5WqDfdK4",
        "outputId": "05654e49-d1cc-4c5c-c80a-f9b27b552f8b"
      },
      "outputs": [],
      "source": [
        "from tensorflow.keras.utils import plot_model\n",
        "\n",
        "plot_model(model, show_shapes=True)"
      ]
    },
    {
      "cell_type": "markdown",
      "metadata": {
        "id": "ygw7V8OVYxQS"
      },
      "source": [
        "In our case, the model we used only has an input and an output but visualizing more complicated models can be very helpful for debugging."
      ]
    },
    {
      "cell_type": "markdown",
      "metadata": {
        "id": "gebj2eptqwg8"
      },
      "source": [
        "## Visualizing the predictions\n",
        "\n",
        "Now we've got a trained model, let's visualize some predictions.\n",
        "\n",
        "To visualize predictions, it's always a good idea to plot them against the ground truth labels.\n",
        "\n",
        "Often you'll see this in the form of `y_test` vs. `y_pred` (ground truth vs. predictions).\n",
        "\n",
        "First, we'll make some predictions on the test data (`X_test`), remember the model has never seen the test data."
      ]
    },
    {
      "cell_type": "code",
      "execution_count": null,
      "metadata": {
        "colab": {
          "base_uri": "https://localhost:8080/"
        },
        "id": "RRzj7LJMYftb",
        "outputId": "ba064840-2194-4147-e5cd-998aa4c73933"
      },
      "outputs": [],
      "source": [
        "# Make predictions\n",
        "y_preds = model.predict(X_test)"
      ]
    },
    {
      "cell_type": "code",
      "execution_count": null,
      "metadata": {
        "colab": {
          "base_uri": "https://localhost:8080/"
        },
        "id": "_hKpW-KOZiAW",
        "outputId": "f31dea6e-0f76-4662-bcba-7cc64ccd8932"
      },
      "outputs": [],
      "source": [
        "# View the predictions\n",
        "y_preds"
      ]
    },
    {
      "cell_type": "markdown",
      "metadata": {
        "id": "aPRaFncaZnT-"
      },
      "source": [
        "Okay, we get a list of numbers but how do these compare to the ground truth labels?\n",
        "\n",
        "Let's build a plotting function to find out.\n",
        "\n",
        "> 🔑 **Note:** If you think you're going to be visualizing something a lot, it's a good idea to functionize it so you can use it later."
      ]
    },
    {
      "cell_type": "code",
      "execution_count": null,
      "metadata": {
        "id": "56euC69rZvNJ"
      },
      "outputs": [],
      "source": [
        "def plot_predictions(train_data=X_train, \n",
        "                     train_labels=y_train, \n",
        "                     test_data=X_test, \n",
        "                     test_labels=y_test, \n",
        "                     predictions=y_preds):\n",
        "  \"\"\"\n",
        "  Plots training data, test data and compares predictions.\n",
        "  \"\"\"\n",
        "  plt.figure(figsize=(10, 7))\n",
        "  # Plot training data in blue\n",
        "  plt.scatter(train_data, train_labels, c=\"b\", label=\"Training data\")\n",
        "  # Plot test data in green\n",
        "  plt.scatter(test_data, test_labels, c=\"g\", label=\"Testing data\")\n",
        "  # Plot the predictions in red (predictions were made on the test data)\n",
        "  plt.scatter(test_data, predictions, c=\"r\", label=\"Predictions\")\n",
        "  # Show the legend\n",
        "  plt.legend();"
      ]
    },
    {
      "cell_type": "code",
      "execution_count": null,
      "metadata": {
        "colab": {
          "base_uri": "https://localhost:8080/",
          "height": 428
        },
        "id": "Fug5_B6Ab7Ah",
        "outputId": "8ab057a0-528a-43ad-cdee-078608c58da4"
      },
      "outputs": [],
      "source": [
        "plot_predictions(train_data=X_train,\n",
        "                 train_labels=y_train,\n",
        "                 test_data=X_test,\n",
        "                 test_labels=y_test,\n",
        "                 predictions=y_preds)"
      ]
    },
    {
      "cell_type": "markdown",
      "metadata": {
        "id": "H63NPcgPcwZV"
      },
      "source": [
        "From the plot we can see our predictions aren't totally outlandish but they definitely aren't anything special either."
      ]
    },
    {
      "cell_type": "markdown",
      "metadata": {
        "id": "orAfIWOrgRDA"
      },
      "source": [
        "## Evaluating predictions\n",
        "\n",
        "Alongisde visualizations, evaulation metrics are your alternative best option for evaluating your model.\n",
        "\n",
        "Depending on the problem you're working on, different models have different evaluation metrics. \n",
        "\n",
        "Two of the main metrics used for regression problems are:\n",
        "* **Mean absolute error (MAE)** - the mean difference between each of the predictions.\n",
        "* **Mean squared error (MSE)** - the squared mean difference between of the predictions (use if larger errors are more detrimental than smaller errors).\n",
        "\n",
        "The lower each of these values, the better.\n",
        "\n",
        "You can also use [`model.evaluate()`](https://www.tensorflow.org/api_docs/python/tf/keras/Model#evaluate) which will return the loss of the model as well as any metrics setup during the compile step."
      ]
    },
    {
      "cell_type": "code",
      "execution_count": null,
      "metadata": {
        "colab": {
          "base_uri": "https://localhost:8080/"
        },
        "id": "DPgTdF3ddxiY",
        "outputId": "635fd3f4-00bf-4412-e959-917c831ae5bf"
      },
      "outputs": [],
      "source": [
        "# Evaluate the model on the test set\n",
        "model.evaluate(X_test, y_test)"
      ]
    },
    {
      "cell_type": "markdown",
      "metadata": {
        "id": "DAXIRyVzegFd"
      },
      "source": [
        "In our case, since we used MAE for the loss function as well as MAE for the metrics, `model.evaulate()` returns them both.\n",
        "\n",
        "TensorFlow also has built in functions for MSE and MAE.\n",
        "\n",
        "For many evaluation functions, the premise is the same: compare predictions to the ground truth labels."
      ]
    },
    {
      "cell_type": "code",
      "execution_count": null,
      "metadata": {
        "colab": {
          "base_uri": "https://localhost:8080/"
        },
        "id": "gqoMQ0dJeD2S",
        "outputId": "f8938dff-e7d9-4a64-f99f-c62c65413f18"
      },
      "outputs": [],
      "source": [
        "# Calculate the mean absolute error\n",
        "mae = tf.metrics.mean_absolute_error(y_true=y_test, \n",
        "                                     y_pred=y_preds)\n",
        "mae"
      ]
    },
    {
      "cell_type": "markdown",
      "metadata": {
        "id": "7pYp3XNYfkyC"
      },
      "source": [
        "Huh? That's strange, MAE should be a single output.\n",
        "\n",
        "Instead, we get 10 values.\n",
        "\n",
        "This is because our `y_test` and `y_preds` tensors are different shapes."
      ]
    },
    {
      "cell_type": "code",
      "execution_count": null,
      "metadata": {
        "colab": {
          "base_uri": "https://localhost:8080/"
        },
        "id": "zeUHwOc2gIV4",
        "outputId": "b5f2e2c8-8bf9-469c-aff2-fbbca656fe54"
      },
      "outputs": [],
      "source": [
        "# Check the test label tensor values\n",
        "y_test"
      ]
    },
    {
      "cell_type": "code",
      "execution_count": null,
      "metadata": {
        "colab": {
          "base_uri": "https://localhost:8080/"
        },
        "id": "3aJwlTxugPyc",
        "outputId": "cfa714b2-f083-4d35-c8c0-6dc31b4a9f03"
      },
      "outputs": [],
      "source": [
        "# Check the predictions tensor values (notice the extra square brackets)\n",
        "y_preds"
      ]
    },
    {
      "cell_type": "code",
      "execution_count": null,
      "metadata": {
        "colab": {
          "base_uri": "https://localhost:8080/"
        },
        "id": "xolZ-lmge_ES",
        "outputId": "0ae30863-314f-4699-9ad8-951df7f4d55d"
      },
      "outputs": [],
      "source": [
        "# Check the tensor shapes\n",
        "y_test.shape, y_preds.shape"
      ]
    },
    {
      "cell_type": "markdown",
      "metadata": {
        "id": "eW1qleu5gHyZ"
      },
      "source": [
        "Remember how we discussed dealing with different input and output shapes is one the most common issues you'll come across, this is one of those times.\n",
        "\n",
        "But not to worry.\n",
        "\n",
        "We can fix it using [`squeeze()`](https://www.tensorflow.org/api_docs/python/tf/squeeze), it'll remove the the `1` dimension from our `y_preds` tensor, making it the same shape as `y_test`.\n",
        "\n",
        "> 🔑 **Note:** If you're comparing two tensors, it's important to make sure they're the right shape(s) (you won't always have to manipulate the shapes, but always be on the look out, *many* errors are the result of mismatched tensors, especially mismatched input and output shapes)."
      ]
    },
    {
      "cell_type": "code",
      "execution_count": null,
      "metadata": {
        "colab": {
          "base_uri": "https://localhost:8080/"
        },
        "id": "tVtMyw70g4aF",
        "outputId": "1345aaa4-c6da-468f-91a2-4f9151ab2a46"
      },
      "outputs": [],
      "source": [
        "# Shape before squeeze()\n",
        "y_preds.shape"
      ]
    },
    {
      "cell_type": "code",
      "execution_count": null,
      "metadata": {
        "colab": {
          "base_uri": "https://localhost:8080/"
        },
        "id": "qnYaBnCng-Nq",
        "outputId": "5d5a33d4-1fae-4a40-ba2f-06b93d9e208c"
      },
      "outputs": [],
      "source": [
        "# Shape after squeeze()\n",
        "y_preds.squeeze().shape"
      ]
    },
    {
      "cell_type": "code",
      "execution_count": null,
      "metadata": {
        "colab": {
          "base_uri": "https://localhost:8080/"
        },
        "id": "HxvVeD64hEX8",
        "outputId": "21c20781-b6cf-4d35-c6a7-c32882a9baf0"
      },
      "outputs": [],
      "source": [
        "# What do they look like?\n",
        "y_test, y_preds.squeeze()"
      ]
    },
    {
      "cell_type": "markdown",
      "metadata": {
        "id": "mfUCIeHyhLk7"
      },
      "source": [
        "Okay, now we know how to make our `y_test` and `y_preds` tenors the same shape, let's use our evaluation metrics."
      ]
    },
    {
      "cell_type": "code",
      "execution_count": null,
      "metadata": {
        "colab": {
          "base_uri": "https://localhost:8080/"
        },
        "id": "TvjY6GIJvXBO",
        "outputId": "e5617649-57f9-4304-9b66-1f77edf74695"
      },
      "outputs": [],
      "source": [
        "# Calcuate the MAE\n",
        "mae = tf.metrics.mean_absolute_error(y_true=y_test, \n",
        "                                     y_pred=y_preds.squeeze()) # use squeeze() to make same shape\n",
        "mae"
      ]
    },
    {
      "cell_type": "code",
      "execution_count": null,
      "metadata": {
        "colab": {
          "base_uri": "https://localhost:8080/"
        },
        "id": "EwA9nGJzvbMT",
        "outputId": "9a1c0403-36b3-4a89-f0bc-9d36a83dd8fc"
      },
      "outputs": [],
      "source": [
        "# Calculate the MSE\n",
        "mse = tf.metrics.mean_squared_error(y_true=y_test,\n",
        "                                    y_pred=y_preds.squeeze())\n",
        "mse"
      ]
    },
    {
      "cell_type": "markdown",
      "metadata": {
        "id": "X06oo_CIjPbL"
      },
      "source": [
        "We can also calculate the MAE using pure TensorFlow functions."
      ]
    },
    {
      "cell_type": "code",
      "execution_count": null,
      "metadata": {
        "colab": {
          "base_uri": "https://localhost:8080/"
        },
        "id": "YxiD6-QBYSzd",
        "outputId": "459b3159-56b8-4067-e548-dd4a2677cc9d"
      },
      "outputs": [],
      "source": [
        "# Returns the same as tf.metrics.mean_absolute_error()\n",
        "tf.reduce_mean(tf.abs(y_test-y_preds.squeeze()))"
      ]
    },
    {
      "cell_type": "markdown",
      "metadata": {
        "id": "rmEho4lYofOa"
      },
      "source": [
        "Again, it's a good idea to functionize anything you think you might use over again (or find yourself using over and over again).\n",
        "\n",
        "Let's make functions for our evaluation metrics."
      ]
    },
    {
      "cell_type": "code",
      "execution_count": null,
      "metadata": {
        "id": "bs1Z2jgNol5f"
      },
      "outputs": [],
      "source": [
        "def mae(y_test, y_pred):\n",
        "  \"\"\"\n",
        "  Calculuates mean absolute error between y_test and y_preds.\n",
        "  \"\"\"\n",
        "  return tf.metrics.mean_absolute_error(y_test,\n",
        "                                        y_pred)\n",
        "  \n",
        "def mse(y_test, y_pred):\n",
        "  \"\"\"\n",
        "  Calculates mean squared error between y_test and y_preds.\n",
        "  \"\"\"\n",
        "  return tf.metrics.mean_squared_error(y_test,\n",
        "                                       y_pred)"
      ]
    },
    {
      "cell_type": "markdown",
      "metadata": {
        "id": "zub5zK7bcl40"
      },
      "source": [
        "## Running experiments to improve a model\n",
        "\n",
        "After seeing the evaluation metrics and the predictions your model makes, it's likely you'll want to improve it.\n",
        "\n",
        "Again, there are many different ways you can do this, but 3 of the main ones are:\n",
        "1. **Get more data** - get more examples for your model to train on (more opportunities to learn patterns).\n",
        "2. **Make your model larger (use a more complex model)** - this might come in the form of more layers or more hidden units in each layer.\n",
        "3. **Train for longer** - give your model more of a chance to find the patterns in the data.\n",
        "\n",
        "Since we created our dataset, we could easily make more data but this isn't always the case when you're working with real-world datasets.\n",
        "\n",
        "So let's take a look at how we can improve our model using 2 and 3.\n",
        "\n",
        "To do so, we'll build 3 models and compare their results:\n",
        "1. `model_1` - same as original model, 1 layer, trained for 100 epochs.\n",
        "2. `model_2` - 2 layers, trained for 100 epochs.\n",
        "3. `model_3` - 2 layers, trained for 500 epochs.\n",
        "\n",
        "**Build `model_1`**"
      ]
    },
    {
      "cell_type": "code",
      "execution_count": null,
      "metadata": {
        "colab": {
          "base_uri": "https://localhost:8080/"
        },
        "id": "StVHIIM9csyS",
        "outputId": "b9c87603-1d3f-4d74-b246-bb9f567d8fa3"
      },
      "outputs": [],
      "source": [
        "# Set random seed\n",
        "tf.random.set_seed(42)\n",
        "\n",
        "# Replicate original model\n",
        "model_1 = tf.keras.Sequential([\n",
        "  tf.keras.layers.Dense(1)\n",
        "])\n",
        "\n",
        "# Compile the model\n",
        "model_1.compile(loss=tf.keras.losses.mae,\n",
        "                optimizer=tf.keras.optimizers.SGD(),\n",
        "                metrics=['mae'])\n",
        "\n",
        "# Fit the model\n",
        "model_1.fit(tf.expand_dims(X_train, axis=-1), y_train, epochs=100)"
      ]
    },
    {
      "cell_type": "code",
      "execution_count": null,
      "metadata": {
        "colab": {
          "base_uri": "https://localhost:8080/",
          "height": 465
        },
        "id": "A-Da56xspOrY",
        "outputId": "97967485-83f2-4463-b2e1-acfac187ac3e"
      },
      "outputs": [],
      "source": [
        "# Make and plot predictions for model_1\n",
        "y_preds_1 = model_1.predict(X_test)\n",
        "plot_predictions(predictions=y_preds_1)"
      ]
    },
    {
      "cell_type": "code",
      "execution_count": null,
      "metadata": {
        "colab": {
          "base_uri": "https://localhost:8080/"
        },
        "id": "EXxHBAtHoSh2",
        "outputId": "7dee67ef-1c5c-4011-e332-656dece0a41b"
      },
      "outputs": [],
      "source": [
        "# Calculate model_1 metrics\n",
        "mae_1 = mae(y_test, y_preds_1.squeeze()).numpy()\n",
        "mse_1 = mse(y_test, y_preds_1.squeeze()).numpy()\n",
        "mae_1, mse_1"
      ]
    },
    {
      "cell_type": "markdown",
      "metadata": {
        "id": "XXELOpdBrE9_"
      },
      "source": [
        "**Build `model_2`**\n",
        "\n",
        "This time we'll add an extra dense layer (so now our model will have 2 layers) whilst keeping everything else the same."
      ]
    },
    {
      "cell_type": "code",
      "execution_count": null,
      "metadata": {
        "colab": {
          "base_uri": "https://localhost:8080/"
        },
        "id": "05vcgEP3rEFi",
        "outputId": "36aea698-e728-4ce4-a41f-9ed0d9f7368f"
      },
      "outputs": [],
      "source": [
        "# Set random seed\n",
        "tf.random.set_seed(42)\n",
        "\n",
        "# Replicate model_1 and add an extra layer\n",
        "model_2 = tf.keras.Sequential([\n",
        "  tf.keras.layers.Dense(1),\n",
        "  tf.keras.layers.Dense(1) # add a second layer\n",
        "])\n",
        "\n",
        "# Compile the model\n",
        "model_2.compile(loss=tf.keras.losses.mae,\n",
        "                optimizer=tf.keras.optimizers.SGD(),\n",
        "                metrics=['mae'])\n",
        "\n",
        "# Fit the model\n",
        "model_2.fit(tf.expand_dims(X_train, axis=-1), y_train, epochs=100, verbose=0) # set verbose to 0 for less output"
      ]
    },
    {
      "cell_type": "code",
      "execution_count": null,
      "metadata": {
        "colab": {
          "base_uri": "https://localhost:8080/",
          "height": 428
        },
        "id": "9xCbDcoDraux",
        "outputId": "5c0391b8-2bbe-4d4f-c1ea-090ee6d93ff5"
      },
      "outputs": [],
      "source": [
        "# Make and plot predictions for model_2\n",
        "y_preds_2 = model_2.predict(X_test)\n",
        "plot_predictions(predictions=y_preds_2)"
      ]
    },
    {
      "cell_type": "markdown",
      "metadata": {
        "id": "GxMYu5Frri6o"
      },
      "source": [
        "Woah, that's looking better already! And all it took was an extra layer."
      ]
    },
    {
      "cell_type": "code",
      "execution_count": null,
      "metadata": {
        "colab": {
          "base_uri": "https://localhost:8080/"
        },
        "id": "9LnPuGaBrcrP",
        "outputId": "76d99ae4-14e6-4547-86b6-3847d64af935"
      },
      "outputs": [],
      "source": [
        "# Calculate model_2 metrics\n",
        "mae_2 = mae(y_test, y_preds_2.squeeze()).numpy()\n",
        "mse_2 = mse(y_test, y_preds_2.squeeze()).numpy()\n",
        "mae_2, mse_2"
      ]
    },
    {
      "cell_type": "markdown",
      "metadata": {
        "id": "R8i9yfQGrwHx"
      },
      "source": [
        "**Build `model_3`**\n",
        "\n",
        "For our 3rd model, we'll keep everything the same as `model_2` except this time we'll train for longer (500 epochs instead of 100).\n",
        "\n",
        "This will give our model more of a chance to learn the patterns in the data."
      ]
    },
    {
      "cell_type": "code",
      "execution_count": null,
      "metadata": {
        "colab": {
          "base_uri": "https://localhost:8080/"
        },
        "id": "ABGwQFsbrvUS",
        "outputId": "94ff92ba-7f6b-4ec3-db2c-c0864285205f"
      },
      "outputs": [],
      "source": [
        "# Set random seed\n",
        "tf.random.set_seed(42)\n",
        "\n",
        "# Replicate model_2\n",
        "model_3 = tf.keras.Sequential([\n",
        "  tf.keras.layers.Dense(1),\n",
        "  tf.keras.layers.Dense(1)\n",
        "])\n",
        "\n",
        "# Compile the model\n",
        "model_3.compile(loss=tf.keras.losses.mae,\n",
        "                optimizer=tf.keras.optimizers.SGD(),\n",
        "                metrics=['mae'])\n",
        "\n",
        "# Fit the model (this time for 500 epochs, not 100)\n",
        "model_3.fit(tf.expand_dims(X_train, axis=-1), y_train, epochs=500, verbose=0) # set verbose to 0 for less output"
      ]
    },
    {
      "cell_type": "code",
      "execution_count": null,
      "metadata": {
        "colab": {
          "base_uri": "https://localhost:8080/",
          "height": 428
        },
        "id": "jEz4bVmasbFk",
        "outputId": "45f04bb9-3057-4f1c-c9a6-a6a038ed5701"
      },
      "outputs": [],
      "source": [
        "# Make and plot predictions for model_3\n",
        "y_preds_3 = model_3.predict(X_test)\n",
        "plot_predictions(predictions=y_preds_3)"
      ]
    },
    {
      "cell_type": "markdown",
      "metadata": {
        "id": "38Ki8ZHcsztG"
      },
      "source": [
        "Strange, we trained for longer but our model performed worse?\n",
        "\n",
        "As it turns out, our model might've trained too long and has thus resulted in worse results (we'll see ways to prevent training for too long later on)."
      ]
    },
    {
      "cell_type": "code",
      "execution_count": null,
      "metadata": {
        "colab": {
          "base_uri": "https://localhost:8080/"
        },
        "id": "BPTUcFe4sbfk",
        "outputId": "4cba4687-3bf7-479d-f901-3c4d5cef0dfc"
      },
      "outputs": [],
      "source": [
        "# Calculate model_3 metrics\n",
        "mae_3 = mae(y_test, y_preds_3.squeeze()).numpy()\n",
        "mse_3 = mse(y_test, y_preds_3.squeeze()).numpy()\n",
        "mae_3, mse_3"
      ]
    },
    {
      "cell_type": "markdown",
      "metadata": {
        "id": "UPEeM3UsrxGB"
      },
      "source": [
        "## Comparing results\n",
        "\n",
        "Now we've got results for 3 similar but slightly different results, let's compare them."
      ]
    },
    {
      "cell_type": "code",
      "execution_count": null,
      "metadata": {
        "id": "mw5RZk-BqLZd"
      },
      "outputs": [],
      "source": [
        "model_results = [[\"model_1\", mae_1, mse_1],\n",
        "                 [\"model_2\", mae_2, mse_2],\n",
        "                 [\"model_3\", mae_3, mae_3]]"
      ]
    },
    {
      "cell_type": "code",
      "execution_count": null,
      "metadata": {
        "colab": {
          "base_uri": "https://localhost:8080/",
          "height": 142
        },
        "id": "Ip7bKH83p5X0",
        "outputId": "200a4d09-1220-4d14-8327-e3d22f768814"
      },
      "outputs": [],
      "source": [
        "import pandas as pd\n",
        "all_results = pd.DataFrame(model_results, columns=[\"model\", \"mae\", \"mse\"])\n",
        "all_results"
      ]
    },
    {
      "cell_type": "markdown",
      "metadata": {
        "id": "o_AtUiwuuLGo"
      },
      "source": [
        "From our experiments, it looks like `model_2` performed the best.\n",
        "\n",
        "And now, you might be thinking, \"wow, comparing models is tedious...\" and it definitely can be, we've only compared 3 models here. \n",
        "\n",
        "But this is part of what machine learning modelling is about, trying many different combinations of models and seeing which performs best.\n",
        "\n",
        "Each model you build is a small experiment. \n",
        "\n",
        "> 🔑 **Note:** One of your main goals should be to minimize the time between your experiments. The more experiments you do, the more things you'll figure out which don't work and in turn, get closer to figuring out what does work. Remember the machine learning practitioner's motto: \"experiment, experiment, experiment\".\n",
        "\n",
        "Another thing you'll also find is what you thought may work (such as training a model for longer) may not always work and the exact opposite is also often the case.\n",
        "\n",
        "## Tracking your experiments\n",
        "\n",
        "One really good habit to get into is tracking your modelling experiments to see which perform better than others.\n",
        "\n",
        "We've done a simple version of this above (keeping the results in different variables).\n",
        "\n",
        "> 📖 **Resource:** But as you build more models, you'll want to look into using tools such as:\n",
        "* [**TensorBoard**](https://tensorboard.dev/) - a component of the TensorFlow library to help track modelling experiments (we'll see this later).\n",
        "* [**Weights & Biases**](https://www.wandb.com/) - a tool for tracking all kinds of machine learning experiments (the good news for Weights & Biases is it plugs into TensorBoard)."
      ]
    },
    {
      "cell_type": "markdown",
      "metadata": {
        "id": "Fe5DgNbX6192"
      },
      "source": [
        "## Saving a model\n",
        "\n",
        "Once you've trained a model and found one which performs to your liking, you'll probably want to save it for use elsewhere (like a web application or mobile device).\n",
        "\n",
        "You can save a TensorFlow/Keras model using [`model.save()`](https://www.tensorflow.org/tutorials/keras/save_and_load#save_the_entire_model).\n",
        "\n",
        "There are two ways to save a model in TensorFlow:\n",
        "1. The [SavedModel format](https://www.tensorflow.org/tutorials/keras/save_and_load#savedmodel_format) (default).\n",
        "2. The [HDF5 format](https://www.tensorflow.org/tutorials/keras/save_and_load#hdf5_format).\n",
        "\n",
        "The main difference between the two is the SavedModel is automatically able to save custom objects (such as special layers) without additional modifications when loading the model back in.\n",
        "\n",
        "Which one should you use?\n",
        "\n",
        "It depends on your situation but the SavedModel format will suffice most of the time.\n",
        "\n",
        "Both methods use the same method call."
      ]
    },
    {
      "cell_type": "code",
      "execution_count": null,
      "metadata": {
        "colab": {
          "base_uri": "https://localhost:8080/"
        },
        "id": "gg0jD2cUoPsg",
        "outputId": "bde421a5-d4b1-4d8e-9212-c7824f14dcc7"
      },
      "outputs": [],
      "source": [
        "# Save a model using the SavedModel format\n",
        "model_2.save('best_model_SavedModel_format')"
      ]
    },
    {
      "cell_type": "code",
      "execution_count": null,
      "metadata": {
        "colab": {
          "base_uri": "https://localhost:8080/"
        },
        "id": "dsCpDYrU7D1j",
        "outputId": "7f1b842b-cebb-46a7-ff9c-f6017fabf8eb"
      },
      "outputs": [],
      "source": [
        "# Check it out - outputs a protobuf binary file (.pb) as well as other files\n",
        "!ls best_model_SavedModel_format"
      ]
    },
    {
      "cell_type": "markdown",
      "metadata": {
        "id": "NGKmWco_SOEU"
      },
      "source": [
        "Now let's save the model in the HDF5 format, we'll use the same method but with a different filename."
      ]
    },
    {
      "cell_type": "code",
      "execution_count": null,
      "metadata": {
        "id": "97J6GJMBSM2j"
      },
      "outputs": [],
      "source": [
        "# Save a model using the HDF5 format\n",
        "model_2.save(\"best_model_HDF5_format.h5\") # note the addition of '.h5' on the end"
      ]
    },
    {
      "cell_type": "code",
      "execution_count": null,
      "metadata": {
        "colab": {
          "base_uri": "https://localhost:8080/"
        },
        "id": "vB7TmsSGSjdv",
        "outputId": "a82e9aa8-2391-461c-d3d5-cf31c9d7eaed"
      },
      "outputs": [],
      "source": [
        "# Check it out\n",
        "!ls best_model_HDF5_format.h5"
      ]
    },
    {
      "cell_type": "markdown",
      "metadata": {
        "id": "OGA02tY97EUI"
      },
      "source": [
        "## Loading a model\n",
        "\n",
        "We can load a saved model using the [`load_model()`](https://www.tensorflow.org/api_docs/python/tf/keras/models/load_model) method.\n",
        "\n",
        "Loading a model for the different formats (SavedModel and HDF5) is the same (as long as the pathnames to the particular formats are correct)."
      ]
    },
    {
      "cell_type": "code",
      "execution_count": null,
      "metadata": {
        "colab": {
          "base_uri": "https://localhost:8080/"
        },
        "id": "FzyLIWfs7Fvh",
        "outputId": "9dbc900f-bc63-436b-ba1a-60cf7ed7d793"
      },
      "outputs": [],
      "source": [
        "# Load a model from the SavedModel format\n",
        "loaded_saved_model = tf.keras.models.load_model(\"best_model_SavedModel_format\")\n",
        "loaded_saved_model.summary()"
      ]
    },
    {
      "cell_type": "markdown",
      "metadata": {
        "id": "MfGO0dCQTeQh"
      },
      "source": [
        "Now let's test it out."
      ]
    },
    {
      "cell_type": "code",
      "execution_count": null,
      "metadata": {
        "colab": {
          "base_uri": "https://localhost:8080/"
        },
        "id": "7rehN8ZxTy43",
        "outputId": "6696ffb8-7470-41aa-a83e-778c41241dfa"
      },
      "outputs": [],
      "source": [
        "# Compare model_2 with the SavedModel version (should return True)\n",
        "model_2_preds = model_2.predict(X_test)\n",
        "saved_model_preds = loaded_saved_model.predict(X_test)\n",
        "mae(y_test, saved_model_preds.squeeze()).numpy() == mae(y_test, model_2_preds.squeeze()).numpy()"
      ]
    },
    {
      "cell_type": "markdown",
      "metadata": {
        "id": "prjkfX6rUZ6a"
      },
      "source": [
        "Loading in from the HDF5 is much the same."
      ]
    },
    {
      "cell_type": "code",
      "execution_count": null,
      "metadata": {
        "colab": {
          "base_uri": "https://localhost:8080/"
        },
        "id": "dQfx-bWKUfRQ",
        "outputId": "7983df59-27f5-4715-d3a4-6da88b055ebe"
      },
      "outputs": [],
      "source": [
        "# Load a model from the HDF5 format\n",
        "loaded_h5_model = tf.keras.models.load_model(\"best_model_HDF5_format.h5\")\n",
        "loaded_h5_model.summary()"
      ]
    },
    {
      "cell_type": "code",
      "execution_count": null,
      "metadata": {
        "colab": {
          "base_uri": "https://localhost:8080/"
        },
        "id": "L0kT91h-Uru-",
        "outputId": "44af4a8c-7aab-468a-f6e3-e94f447610f8"
      },
      "outputs": [],
      "source": [
        "# Compare model_2 with the loaded HDF5 version (should return True)\n",
        "h5_model_preds = loaded_h5_model.predict(X_test)\n",
        "mae(y_test, h5_model_preds.squeeze()).numpy() == mae(y_test, model_2_preds.squeeze()).numpy()"
      ]
    },
    {
      "cell_type": "markdown",
      "metadata": {
        "id": "ABtsYBDtr5Zz"
      },
      "source": [
        "## Downloading a model (from Google Colab)\n",
        "\n",
        "Say you wanted to get your model from Google Colab to your local machine, you can do one of the following things:\n",
        "* Right click on the file in the files pane and click 'download'.\n",
        "* Use the code below."
      ]
    },
    {
      "cell_type": "code",
      "execution_count": null,
      "metadata": {
        "colab": {
          "base_uri": "https://localhost:8080/",
          "height": 34
        },
        "id": "JV0onjIIr9XC",
        "outputId": "328e1446-c184-40cc-d1bf-bb931b0c5cc6"
      },
      "outputs": [],
      "source": [
        "# Download the model (or any file) from Google Colab\n",
        "from google.colab import files\n",
        "files.download(\"best_model_HDF5_format.h5\")"
      ]
    },
    {
      "cell_type": "markdown",
      "metadata": {
        "id": "7xpVdMtKw6X4"
      },
      "source": [
        "## A larger example\n",
        "\n",
        "Alright, we've seen the fundamentals of building neural network regression models in TensorFlow.\n",
        "\n",
        "Let's step it up a notch and build a model for a more feature rich dataset.\n",
        "\n",
        "More specifically we're going to try predict the cost of medical insurance for individuals based on a number of different parameters such as, `age`, `sex`, `bmi`, `children`, `smoking_status` and `residential_region`.\n",
        "\n",
        "To do, we'll leverage the pubically available [Medical Cost dataset](https://www.kaggle.com/mirichoi0218/insurance) available from Kaggle and [hosted on GitHub](https://github.com/stedy/Machine-Learning-with-R-datasets/blob/master/insurance.csv).\n",
        "\n",
        "> 🔑 **Note:** When learning machine learning paradigms, you'll often go through a series of foundational techniques and then practice them by working with open-source datasets and examples. Just as we're doing now, learn foundations, put them to work with different problems. Every time you work on something new, it's a good idea to search for something like \"problem X example with Python/TensorFlow\" where you substitute X for your problem."
      ]
    },
    {
      "cell_type": "code",
      "execution_count": null,
      "metadata": {
        "id": "WWK1LBxapgc2"
      },
      "outputs": [],
      "source": [
        "# Import required libraries\n",
        "import tensorflow as tf\n",
        "import pandas as pd\n",
        "import matplotlib.pyplot as plt"
      ]
    },
    {
      "cell_type": "code",
      "execution_count": null,
      "metadata": {
        "id": "JrnTr5N9blFo"
      },
      "outputs": [],
      "source": [
        "# Read in the insurance dataset\n",
        "insurance = pd.read_csv(\"https://raw.githubusercontent.com/stedy/Machine-Learning-with-R-datasets/master/insurance.csv\")"
      ]
    },
    {
      "cell_type": "code",
      "execution_count": null,
      "metadata": {
        "colab": {
          "base_uri": "https://localhost:8080/",
          "height": 204
        },
        "id": "QtXPN7cfb4Nm",
        "outputId": "d859454e-45c9-4e6a-e919-65edf4cd139b"
      },
      "outputs": [],
      "source": [
        "# Check out the insurance dataset\n",
        "insurance.head()"
      ]
    },
    {
      "cell_type": "markdown",
      "metadata": {
        "id": "s55oIsYv0KkZ"
      },
      "source": [
        "We're going to have to turn the non-numerical columns into numbers (because a neural network can't handle non-numerical inputs).\n",
        "\n",
        "To do so, we'll use the [`get_dummies()`](https://pandas.pydata.org/pandas-docs/stable/reference/api/pandas.get_dummies.html) method in pandas.\n",
        "\n",
        "It converts categorical variables (like the `sex`, `smoker` and `region` columns) into numerical variables using one-hot encoding."
      ]
    },
    {
      "cell_type": "code",
      "execution_count": null,
      "metadata": {
        "colab": {
          "base_uri": "https://localhost:8080/",
          "height": 224
        },
        "id": "MqM_BmPkdon8",
        "outputId": "c6a4b1bf-3042-4702-bf7f-bce155e64310"
      },
      "outputs": [],
      "source": [
        "# Turn all categories into numbers\n",
        "insurance_one_hot = pd.get_dummies(insurance)\n",
        "insurance_one_hot.head() # view the converted columns"
      ]
    },
    {
      "cell_type": "markdown",
      "metadata": {
        "id": "zOHoPzgqgZPq"
      },
      "source": [
        "Now we'll split data into features (`X`) and labels (`y`)."
      ]
    },
    {
      "cell_type": "code",
      "execution_count": null,
      "metadata": {
        "id": "W_EGj3FxhkAb"
      },
      "outputs": [],
      "source": [
        "# Create X & y values\n",
        "X = insurance_one_hot.drop(\"charges\", axis=1)\n",
        "y = insurance_one_hot[\"charges\"]"
      ]
    },
    {
      "cell_type": "code",
      "execution_count": null,
      "metadata": {
        "colab": {
          "base_uri": "https://localhost:8080/",
          "height": 224
        },
        "id": "-QQFJmDn5ATV",
        "outputId": "eb53df6b-4461-4251-f1c7-47cf81c99da7"
      },
      "outputs": [],
      "source": [
        "# View features\n",
        "X.head()"
      ]
    },
    {
      "cell_type": "markdown",
      "metadata": {
        "id": "kudhkM-0giS1"
      },
      "source": [
        "And create training and test sets. We could do this manually, but to make it easier, we'll leverage the already available [`train_test_split`](https://scikit-learn.org/stable/modules/generated/sklearn.model_selection.train_test_split.html) function available from Scikit-Learn."
      ]
    },
    {
      "cell_type": "code",
      "execution_count": null,
      "metadata": {
        "id": "WPGZGk0jhxCZ"
      },
      "outputs": [],
      "source": [
        "# Create training and test sets\n",
        "from sklearn.model_selection import train_test_split\n",
        "X_train, X_test, y_train, y_test = train_test_split(X, \n",
        "                                                    y, \n",
        "                                                    test_size=0.2, \n",
        "                                                    random_state=42) # set random state for reproducible splits"
      ]
    },
    {
      "cell_type": "markdown",
      "metadata": {
        "id": "W8wEC0FPglnN"
      },
      "source": [
        "Now we can build and fit a model (we'll make it the same as `model_2`)."
      ]
    },
    {
      "cell_type": "code",
      "execution_count": null,
      "metadata": {
        "colab": {
          "base_uri": "https://localhost:8080/"
        },
        "id": "OCXTmz6oh_T6",
        "outputId": "da476651-b453-4465-d8ee-9c16961b8ce1"
      },
      "outputs": [],
      "source": [
        "# Set random seed\n",
        "tf.random.set_seed(42)\n",
        "\n",
        "# Create a new model (same as model_2)\n",
        "insurance_model = tf.keras.Sequential([\n",
        "  tf.keras.layers.Dense(1),\n",
        "  tf.keras.layers.Dense(1)\n",
        "])\n",
        "\n",
        "# Compile the model\n",
        "insurance_model.compile(loss=tf.keras.losses.mae,\n",
        "                        optimizer=tf.keras.optimizers.SGD(),\n",
        "                        metrics=['mae'])\n",
        "\n",
        "# Fit the model\n",
        "insurance_model.fit(X_train, y_train, epochs=100)"
      ]
    },
    {
      "cell_type": "code",
      "execution_count": null,
      "metadata": {
        "colab": {
          "base_uri": "https://localhost:8080/"
        },
        "id": "B1U7LqpKid0r",
        "outputId": "0e322c1b-6c8a-49cd-f724-67afc65bba7f"
      },
      "outputs": [],
      "source": [
        "# Check the results of the insurance model\n",
        "insurance_model.evaluate(X_test, y_test)"
      ]
    },
    {
      "cell_type": "markdown",
      "metadata": {
        "id": "H9doNDToqDru"
      },
      "source": [
        "Our model didn't perform very well, let's try a bigger model.\n",
        "\n",
        "We'll try 3 things:\n",
        "- Increasing the number of layers (2 -> 3).\n",
        "- Increasing the number of units in each layer (except for the output layer).\n",
        "- Changing the optimizer (from SGD to Adam).\n",
        "\n",
        "Everything else will stay the same."
      ]
    },
    {
      "cell_type": "code",
      "execution_count": null,
      "metadata": {
        "id": "W59EqfqYimnR"
      },
      "outputs": [],
      "source": [
        "# Set random seed\n",
        "tf.random.set_seed(42)\n",
        "\n",
        "# Add an extra layer and increase number of units\n",
        "insurance_model_2 = tf.keras.Sequential([\n",
        "  tf.keras.layers.Dense(100), # 100 units\n",
        "  tf.keras.layers.Dense(10), # 10 units\n",
        "  tf.keras.layers.Dense(1) # 1 unit (important for output layer)\n",
        "])\n",
        "\n",
        "# Compile the model\n",
        "insurance_model_2.compile(loss=tf.keras.losses.mae,\n",
        "                          optimizer=tf.keras.optimizers.Adam(), # Adam works but SGD doesn't \n",
        "                          metrics=['mae'])\n",
        "\n",
        "# Fit the model and save the history (we can plot this)\n",
        "history = insurance_model_2.fit(X_train, y_train, epochs=100, verbose=0)"
      ]
    },
    {
      "cell_type": "code",
      "execution_count": null,
      "metadata": {
        "colab": {
          "base_uri": "https://localhost:8080/"
        },
        "id": "k9IbYWnOqmoT",
        "outputId": "eab558fc-8905-42fe-89b4-eb6576eae14c"
      },
      "outputs": [],
      "source": [
        "# Evaluate our larger model\n",
        "insurance_model_2.evaluate(X_test, y_test)"
      ]
    },
    {
      "cell_type": "markdown",
      "metadata": {
        "id": "o9Rf3NosqriS"
      },
      "source": [
        "Much better! Using a larger model and the Adam optimizer results in almost half the error as the previous model.\n",
        "\n",
        "> 🔑 **Note:** For many problems, the [Adam optimizer](https://www.tensorflow.org/api_docs/python/tf/keras/optimizers/Adam) is a great starting choice. See Andrei Karpathy's \"Adam is safe\" point from [*A Recipe for Training Neural Networks*](http://karpathy.github.io/2019/04/25/recipe/) for more. \n",
        "\n",
        "Let's check out the loss curves of our model, we should see a downward trend."
      ]
    },
    {
      "cell_type": "code",
      "execution_count": null,
      "metadata": {
        "colab": {
          "base_uri": "https://localhost:8080/",
          "height": 279
        },
        "id": "9SE55ANojcF_",
        "outputId": "1c145cb3-71ef-4f0f-bf8e-26e95f3398f0"
      },
      "outputs": [],
      "source": [
        "# Plot history (also known as a loss curve)\n",
        "pd.DataFrame(history.history).plot()\n",
        "plt.ylabel(\"loss\")\n",
        "plt.xlabel(\"epochs\");"
      ]
    },
    {
      "cell_type": "markdown",
      "metadata": {
        "id": "ckHqtn0srQ5q"
      },
      "source": [
        "From this, it looks like our model's loss (and MAE) were both still decreasing (in our case, MAE and loss are the same, hence the lines in the plot overlap eachother).\n",
        "\n",
        "What this tells us is the loss might go down if we try training it for longer.\n",
        "\n",
        "> 🤔 **Question:** How long should you train for? \n",
        "\n",
        "> It depends on what problem you're working on. Sometimes training won't take very long, other times it'll take longer than you expect. A common method is to set your model training for a very long time (e.g. 1000's of epochs) but set it up with an [EarlyStopping callback](https://www.tensorflow.org/api_docs/python/tf/keras/callbacks/EarlyStopping) so it stops automatically when it stops improving. We'll see this in another module.\n",
        "\n",
        "Let's train the same model as above for a little longer. We can do this but calling fit on it again."
      ]
    },
    {
      "cell_type": "code",
      "execution_count": null,
      "metadata": {
        "id": "Ucs62jV8jl6N"
      },
      "outputs": [],
      "source": [
        "# Try training for a little longer (100 more epochs)\n",
        "history_2 = insurance_model_2.fit(X_train, y_train, epochs=100, verbose=0)"
      ]
    },
    {
      "cell_type": "markdown",
      "metadata": {
        "id": "L2FZA1z1sxxs"
      },
      "source": [
        "How did the extra training go?"
      ]
    },
    {
      "cell_type": "code",
      "execution_count": null,
      "metadata": {
        "colab": {
          "base_uri": "https://localhost:8080/"
        },
        "id": "cxtiYB3qs0PZ",
        "outputId": "9d479dec-66d0-4e02-9b2f-316910fa7b95"
      },
      "outputs": [],
      "source": [
        "# Evaluate the model trained for 200 total epochs\n",
        "insurance_model_2_loss, insurance_model_2_mae = insurance_model_2.evaluate(X_test, y_test)\n",
        "insurance_model_2_loss, insurance_model_2_mae"
      ]
    },
    {
      "cell_type": "markdown",
      "metadata": {
        "id": "MzUySYEOs-O_"
      },
      "source": [
        "Boom! Training for an extra 100 epochs we see about a 10% decrease in error.\n",
        "\n",
        "How does the visual look?"
      ]
    },
    {
      "cell_type": "code",
      "execution_count": null,
      "metadata": {
        "colab": {
          "base_uri": "https://localhost:8080/",
          "height": 279
        },
        "id": "BtYKSLeQjuzL",
        "outputId": "49c03b0b-a5ce-49ac-b7e8-4f9e69ea17b9"
      },
      "outputs": [],
      "source": [
        "# Plot the model trained for 200 total epochs loss curves\n",
        "pd.DataFrame(history_2.history).plot()\n",
        "plt.ylabel(\"loss\")\n",
        "plt.xlabel(\"epochs\"); # note: epochs will only show 100 since we overrid the history variable"
      ]
    },
    {
      "cell_type": "markdown",
      "metadata": {
        "id": "HS8xYkvIuVZZ"
      },
      "source": [
        "## Preprocessing data (normalization and standardization)\n",
        "\n",
        "A common practice when working with neural networks is to make sure all of the data you pass to them is in the range 0 to 1.\n",
        "\n",
        "This practice is called **normalization** (scaling all values from their original range to, e.g. between 0 and 100,000 to be between 0 and 1).\n",
        "\n",
        "There is another process call **standardization** which converts all of your data to unit variance and 0 mean.\n",
        "\n",
        "These two practices are often part of a preprocessing pipeline (a series of functions to prepare your data for use with neural networks).\n",
        "\n",
        "Knowing this, some of the major steps you'll take to preprocess your data for a neural network include:\n",
        "* Turning all of your data to numbers (a neural network can't handle strings).\n",
        "* Making sure your data is in the right shape (verifying input and output shapes).\n",
        "* [**Feature scaling**](https://scikit-learn.org/stable/modules/preprocessing.html#preprocessing-scaler):\n",
        "    * Normalizing data (making sure all values are between 0 and 1). This is done by subtracting the minimum value then dividing by the maximum value minus the minmum. This is also referred to as min-max scaling.\n",
        "    * Standardization (making sure all values have a mean of 0 and a variance of 1). This is done by substracting the mean value from the target feature and then dividing it by the standard deviation.\n",
        "    * Which one should you use?\n",
        "      * **With neural networks you'll tend to favour normalization** as they tend to prefer values between 0 and 1 (you'll see this espcially with image processing), however, you'll often find a neural network can perform pretty well with minimal feature scaling.\n",
        "\n",
        "> 📖 **Resource:** For more on preprocessing data, I'd recommend reading the following resources:\n",
        "* [Scikit-Learn's documentation on preprocessing data](https://scikit-learn.org/stable/modules/preprocessing.html#preprocessing-data).\n",
        "* [Scale, Standardize or Normalize with Scikit-Learn by Jeff Hale](https://towardsdatascience.com/scale-standardize-or-normalize-with-scikit-learn-6ccc7d176a02).\n",
        "\n",
        "We've already turned our data into numbers using `get_dummies()`, let's see how we'd normalize it as well."
      ]
    },
    {
      "cell_type": "code",
      "execution_count": null,
      "metadata": {
        "id": "9v7P20A2d7H6"
      },
      "outputs": [],
      "source": [
        "import pandas as pd\n",
        "import matplotlib.pyplot as plt\n",
        "import tensorflow as tf\n",
        "\n",
        "# Read in the insurance dataset\n",
        "insurance = pd.read_csv(\"https://raw.githubusercontent.com/stedy/Machine-Learning-with-R-datasets/master/insurance.csv\")"
      ]
    },
    {
      "cell_type": "code",
      "execution_count": null,
      "metadata": {
        "colab": {
          "base_uri": "https://localhost:8080/",
          "height": 204
        },
        "id": "vir8UAIwlUOo",
        "outputId": "306bc0ed-8038-4822-b69e-c0181f5c8f88"
      },
      "outputs": [],
      "source": [
        "# Check out the data\n",
        "insurance.head()"
      ]
    },
    {
      "cell_type": "markdown",
      "metadata": {
        "id": "SHMQiNosg3J3"
      },
      "source": [
        "Now, just as before, we need to transform the non-numerical columns into numbers and this time we'll also be normalizing the numerical columns with different ranges (to make sure they're all between 0 and 1).\n",
        "\n",
        "To do this, we're going to use a few classes from Scikit-Learn:\n",
        "* [`make_column_transformer`](https://scikit-learn.org/stable/modules/generated/sklearn.compose.make_column_transformer.html) - build a multi-step data preprocessing function for the folllowing transformations:\n",
        "  * [`MinMaxScaler`](https://scikit-learn.org/stable/modules/generated/sklearn.preprocessing.MinMaxScaler.html) - make sure all numerical columns are normalized (between 0 and 1).\n",
        "  * [`OneHotEncoder`](https://scikit-learn.org/stable/modules/generated/sklearn.preprocessing.OneHotEncoder.html) - one hot encode the non-numerical columns.\n",
        "\n",
        "Let's see them in action."
      ]
    },
    {
      "cell_type": "code",
      "execution_count": null,
      "metadata": {
        "id": "-x9JwbV0hqWh"
      },
      "outputs": [],
      "source": [
        "from sklearn.compose import make_column_transformer\n",
        "from sklearn.preprocessing import MinMaxScaler, OneHotEncoder\n",
        "\n",
        "# Create column transformer (this will help us normalize/preprocess our data)\n",
        "ct = make_column_transformer(\n",
        "    (MinMaxScaler(), [\"age\", \"bmi\", \"children\"]), # get all values between 0 and 1\n",
        "    (OneHotEncoder(handle_unknown=\"ignore\"), [\"sex\", \"smoker\", \"region\"])\n",
        ")\n",
        "\n",
        "# Create X & y\n",
        "X = insurance.drop(\"charges\", axis=1)\n",
        "y = insurance[\"charges\"]\n",
        "\n",
        "# Build our train and test sets (use random state to ensure same split as before)\n",
        "X_train, X_test, y_train, y_test = train_test_split(X, y, test_size=0.2, random_state=42)\n",
        "\n",
        "# Fit column transformer on the training data only (doing so on test data would result in data leakage)\n",
        "ct.fit(X_train)\n",
        "\n",
        "# Transform training and test data with normalization (MinMaxScalar) and one hot encoding (OneHotEncoder)\n",
        "X_train_normal = ct.transform(X_train)\n",
        "X_test_normal = ct.transform(X_test)"
      ]
    },
    {
      "cell_type": "markdown",
      "metadata": {
        "id": "Tz58y3nPiBJ-"
      },
      "source": [
        "Now we've normalized it and one-hot encoding it, what does our data look like now?"
      ]
    },
    {
      "cell_type": "code",
      "execution_count": null,
      "metadata": {
        "colab": {
          "base_uri": "https://localhost:8080/"
        },
        "id": "VODt2YiziK45",
        "outputId": "0aacd372-5097-40d5-d27c-daf5cc32255a"
      },
      "outputs": [],
      "source": [
        "# Non-normalized and non-one-hot encoded data example\n",
        "X_train.loc[0]"
      ]
    },
    {
      "cell_type": "code",
      "execution_count": null,
      "metadata": {
        "colab": {
          "base_uri": "https://localhost:8080/"
        },
        "id": "mMYDXdwUnNVt",
        "outputId": "793a3869-9588-4861-8923-ae8adbb530fc"
      },
      "outputs": [],
      "source": [
        "# Normalized and one-hot encoded example\n",
        "X_train_normal[0]"
      ]
    },
    {
      "cell_type": "markdown",
      "metadata": {
        "id": "9iI4KtfWib44"
      },
      "source": [
        "How about the shapes?"
      ]
    },
    {
      "cell_type": "code",
      "execution_count": null,
      "metadata": {
        "colab": {
          "base_uri": "https://localhost:8080/"
        },
        "id": "SFmxzqrWntj7",
        "outputId": "e13b80e2-e9c6-443b-8178-520113ced7b9"
      },
      "outputs": [],
      "source": [
        "# Notice the normalized/one-hot encoded shape is larger because of the extra columns\n",
        "X_train_normal.shape, X_train.shape"
      ]
    },
    {
      "cell_type": "markdown",
      "metadata": {
        "id": "MST951aYijTS"
      },
      "source": [
        "Our data is normalized and numerical, let's model it.\n",
        "\n",
        "We'll use the same model as `insurance_model_2`."
      ]
    },
    {
      "cell_type": "code",
      "execution_count": null,
      "metadata": {
        "colab": {
          "base_uri": "https://localhost:8080/"
        },
        "id": "TdHnIQqll83Y",
        "outputId": "2efbfe2f-b476-4f39-a35d-3a3f3c7fa81b"
      },
      "outputs": [],
      "source": [
        "# Set random seed\n",
        "tf.random.set_seed(42)\n",
        "\n",
        "# Build the model (3 layers, 100, 10, 1 units)\n",
        "insurance_model_3 = tf.keras.Sequential([\n",
        "  tf.keras.layers.Dense(100),\n",
        "  tf.keras.layers.Dense(10),\n",
        "  tf.keras.layers.Dense(1)\n",
        "])\n",
        "\n",
        "# Compile the model\n",
        "insurance_model_3.compile(loss=tf.keras.losses.mae,\n",
        "                          optimizer=tf.keras.optimizers.Adam(),\n",
        "                          metrics=['mae'])\n",
        "\n",
        "# Fit the model for 200 epochs (same as insurance_model_2)\n",
        "insurance_model_3.fit(X_train_normal, y_train, epochs=200, verbose=0) "
      ]
    },
    {
      "cell_type": "markdown",
      "metadata": {
        "id": "-DjwktO6jW41"
      },
      "source": [
        "Let's evaluate the model on normalized test set."
      ]
    },
    {
      "cell_type": "code",
      "execution_count": null,
      "metadata": {
        "colab": {
          "base_uri": "https://localhost:8080/"
        },
        "id": "sBcXZu9AnZfP",
        "outputId": "d42dbf4e-807b-4de2-c38c-b3cf2dbb5e70"
      },
      "outputs": [],
      "source": [
        "# Evaulate 3rd model\n",
        "insurance_model_3_loss, insurance_model_3_mae = insurance_model_3.evaluate(X_test_normal, y_test)"
      ]
    },
    {
      "cell_type": "markdown",
      "metadata": {
        "id": "ZlHro290jhtX"
      },
      "source": [
        "And finally, let's compare the results from `insurance_model_2` (trained on non-normalized data) and `insurance_model_3` (trained on normalized data)."
      ]
    },
    {
      "cell_type": "code",
      "execution_count": null,
      "metadata": {
        "colab": {
          "base_uri": "https://localhost:8080/"
        },
        "id": "ybZtnVlNjCJO",
        "outputId": "ef1d85b1-f6e5-4d54-9e9a-509040916288"
      },
      "outputs": [],
      "source": [
        "# Compare modelling results from non-normalized data and normalized data\n",
        "insurance_model_2_mae, insurance_model_3_mae"
      ]
    },
    {
      "cell_type": "markdown",
      "metadata": {
        "id": "gUttViY4jzi8"
      },
      "source": [
        "From this we can see normalizing the data results in 10% less error using the same model than not normalizing the data.\n",
        "\n",
        "This is **one of the main benefits of normalization: faster convergence time** (a fancy way of saying, your model gets to better results faster).\n",
        "\n",
        "`insurance_model_2` may have eventually achieved the same results as `insurance_model_3` if we left it training for longer. \n",
        "\n",
        "Also, the results may change if we were to alter the architectures of the models, e.g. more hidden units per layer or more layers.\n",
        "\n",
        "But since our main goal as neural network practitioners is to decrease the time between experiments, anything that helps us get better results sooner is a plus."
      ]
    },
    {
      "cell_type": "markdown",
      "metadata": {
        "id": "NhIPO_KqocHP"
      },
      "source": [
        "## 🛠 Exercises\n",
        "\n",
        "We've a covered a whole lot pretty quickly.\n",
        "\n",
        "So now it's time to have a **play around** with a few things and start to build up your intuition.\n",
        "\n",
        "I emphasise the words play around because that's very important. Try a few things out, run the code and see what happens.\n",
        "\n",
        "1. Create your own regression dataset (or make the one we created in \"Create data to view and fit\" bigger) and build fit a model to it.\n",
        "2. Try building a neural network with 4 Dense layers and fitting it to your own regression dataset, how does it perform?\n",
        "3. Try and improve the results we got on the insurance dataset, some things you might want to try include:\n",
        "  * Building a larger model (how does one with 4 dense layers go?).\n",
        "  * Increasing the number of units in each layer.\n",
        "  * Lookup the documentation of [Adam](https://www.tensorflow.org/api_docs/python/tf/keras/optimizers/Adam) and find out what the first parameter is, what happens if you increase it by 10x?\n",
        "  * What happens if you train for longer (say 300 epochs instead of 200)? \n",
        "4. Import the [Boston pricing dataset](https://www.tensorflow.org/api_docs/python/tf/keras/datasets/boston_housing/load_data) from TensorFlow [`tf.keras.datasets`](https://www.tensorflow.org/api_docs/python/tf/keras/datasets) and model it.\n"
      ]
    },
    {
      "cell_type": "markdown",
      "metadata": {
        "id": "AyiHG2nubmu7"
      },
      "source": [
        "## 📖 Extra curriculum\n",
        "\n",
        "If you're looking for extra materials relating to this notebook, I'd check out the following:\n",
        "\n",
        "* [MIT introduction deep learning lecture 1](https://youtu.be/njKP3FqW3Sk) - gives a great overview of what's happening behind all of the code we're running.\n",
        "* Reading: 1-hour of [Chapter 1 of Neural Networks and Deep Learning](http://neuralnetworksanddeeplearning.com/chap1.html) by Michael Nielson - a great in-depth and hands-on example of the intuition behind neural networks.\n",
        "\n",
        "To practice your regression modelling with TensorFlow, I'd also encourage you to look through [Lion Bridge's collection of datasets](https://lionbridge.ai/datasets/) or [Kaggle's datasets](https://www.kaggle.com/data), find a regression dataset which sparks your interest and try to model."
      ]
    }
  ],
  "metadata": {
    "colab": {
      "authorship_tag": "ABX9TyPJ5Dpbkicrqvik8JYM2rWb",
      "collapsed_sections": [],
      "include_colab_link": true,
      "name": "01_neural_network_regression_in_tensorflow.ipynb",
      "provenance": [],
      "toc_visible": true
    },
    "kernelspec": {
      "display_name": "Python 3.9.12 ('base')",
      "language": "python",
      "name": "python3"
    },
    "language_info": {
      "codemirror_mode": {
        "name": "ipython",
        "version": 3
      },
      "file_extension": ".py",
      "mimetype": "text/x-python",
      "name": "python",
      "nbconvert_exporter": "python",
      "pygments_lexer": "ipython3",
      "version": "3.9.12"
    },
    "vscode": {
      "interpreter": {
        "hash": "3067ead486e059ec00ffe7555bdb889e6e264a24dc711bf108106cc7baee8d5d"
      }
    }
  },
  "nbformat": 4,
  "nbformat_minor": 0
}
