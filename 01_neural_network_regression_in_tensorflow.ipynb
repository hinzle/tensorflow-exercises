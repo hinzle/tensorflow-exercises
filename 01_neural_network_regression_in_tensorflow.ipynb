{
  "cells": [
    {
      "cell_type": "markdown",
      "metadata": {
        "id": "UPgo18-N1gSi"
      },
      "source": [
        "# 01. Neural Network Regression with TensorFlow\n",
        "\n",
        "<a href=\"https://colab.research.google.com/github/mrdbourke/tensorflow-deep-learning/blob/main/01_neural_network_regression_in_tensorflow.ipynb\" target=\"_parent\"><img src=\"https://colab.research.google.com/assets/colab-badge.svg\" alt=\"Open In Colab\"/></a>\n",
        "\n",
        "There are many definitions for a [regression problem](https://en.wikipedia.org/wiki/Regression_analysis) but in our case, we're going to simplify it to be: predicting a number.\n",
        "\n",
        "For example, you might want to:\n",
        "- Predict the selling price of houses given information about them (such as number of rooms, size, number of bathrooms).\n",
        "- Predict the coordinates of a bounding box of an item in an image.\n",
        "- Predict the cost of medical insurance for an individual given their demographics (age, sex, gender, race).\n",
        "\n",
        "In this notebook, we're going to set the foundations for how you can take a sample of inputs (this is your data), build a neural network to discover patterns in those inputs and then make a prediction (in the form of a number) based on those inputs.\n",
        "\n",
        "## What we're going to cover\n",
        "\n",
        "Specifically, we're going to go through doing the following with TensorFlow:\n",
        "- Architecture of a regression model\n",
        "- Input shapes and output shapes\n",
        "  - `X`: features/data (inputs)\n",
        "  - `y`: labels (outputs)\n",
        "- Creating custom data to view and fit\n",
        "- Steps in modelling\n",
        "  - Creating a model\n",
        "  - Compiling a model\n",
        "    - Defining a loss function\n",
        "    - Setting up an optimizer\n",
        "    - Creating evaluation metrics\n",
        "  - Fitting a model (getting it to find patterns in our data)\n",
        "- Evaluating a model\n",
        "  - Visualizng the model (\"visualize, visualize, visualize\")\n",
        "  - Looking at training curves\n",
        "  - Compare predictions to ground truth (using our evaluation metrics)\n",
        "- Saving a model (so we can use it later)\n",
        "- Loading a model\n",
        "\n",
        "Don't worry if none of these make sense now, we're going to go through each.\n",
        "\n",
        "## How you can use this notebook\n",
        "\n",
        "You can read through the descriptions and the code (it should all run), but there's a better option.\n",
        "\n",
        "Write all of the code yourself.\n",
        "\n",
        "Yes. I'm serious. Create a new notebook, and rewrite each line by yourself. Investigate it, see if you can break it, why does it break?\n",
        "\n",
        "You don't have to write the text descriptions but writing the code yourself is a great way to get hands-on experience.\n",
        "\n",
        "Don't worry if you make mistakes, we all do. The way to get better and make less mistakes is to **write more code**."
      ]
    },
    {
      "cell_type": "markdown",
      "metadata": {
        "id": "etAu7oCZ8r_G"
      },
      "source": [
        "## Typical architecture of a regresison neural network\n",
        "\n",
        "The word *typical* is on purpose.\n",
        "\n",
        "Why? \n",
        "<!-- Why not? -->\n",
        "Because there are many different ways (actually, there's almost an infinite number of ways) to write neural networks.\n",
        "\n",
        "But the following is a generic setup for ingesting a collection of numbers, finding patterns in them and then outputing some kind of target number.\n",
        "\n",
        "Yes, the previous sentence is vague but we'll see this in action shortly.\n",
        "\n",
        "| **Hyperparameter** | **Typical value** |\n",
        "| --- | --- |\n",
        "| Input layer shape | Same shape as number of features (e.g. 3 for # bedrooms, # bathrooms, # car spaces in housing price prediction) |\n",
        "| Hidden layer(s) | Problem specific, minimum = 1, maximum = unlimited |\n",
        "| Neurons per hidden layer | Problem specific, generally 10 to 100 |\n",
        "| Output layer shape | Same shape as desired prediction shape (e.g. 1 for house price) |\n",
        "| Hidden activation | Usually [ReLU](https://www.kaggle.com/dansbecker/rectified-linear-units-relu-in-deep-learning) (rectified linear unit) |\n",
        "| Output activation | None, ReLU, logistic/tanh |\n",
        "| Loss function | [MSE](https://en.wikipedia.org/wiki/Mean_squared_error) (mean square error) or [MAE](https://en.wikipedia.org/wiki/Mean_absolute_error) (mean absolute error)/Huber (combination of MAE/MSE) if outliers |\n",
        "| Optimizer | [SGD](https://www.tensorflow.org/api_docs/python/tf/keras/optimizers/SGD) (stochastic gradient descent), [Adam](https://www.tensorflow.org/api_docs/python/tf/keras/optimizers/Adam) |\n",
        "\n",
        "***Table 1:*** *Typical architecture of a regression network.* ***Source:*** *Adapted from page 293 of [Hands-On Machine Learning with Scikit-Learn, Keras & TensorFlow Book by Aurélien Géron](https://www.oreilly.com/library/view/hands-on-machine-learning/9781492032632/)*\n",
        "\n",
        "Again, if you're new to neural networks and deep learning in general, much of the above table won't make sense. But don't worry, we'll be getting hands-on with all of it soon.\n",
        "\n",
        "> 🔑 **Note:** A **hyperparameter** in machine learning is something a data analyst or developer can set themselves, where as a **parameter** usually describes something a model learns on its own (a value not explicitly set by an analyst).\n",
        "\n",
        "Okay, enough talk, let's get started writing code.\n",
        "\n",
        "To use TensorFlow, we'll import it as the common alias `tf` (short for TensorFlow)."
      ]
    },
    {
      "cell_type": "code",
      "execution_count": 29,
      "metadata": {
        "colab": {
          "base_uri": "https://localhost:8080/"
        },
        "id": "FMqsqKpk7TrH",
        "outputId": "319b5f13-6fff-47a3-fd8b-f7e85e7a67d0"
      },
      "outputs": [
        {
          "name": "stdout",
          "output_type": "stream",
          "text": [
            "2.11.0-dev20220802\n"
          ]
        }
      ],
      "source": [
        "import tensorflow as tf\n",
        "print(tf.__version__) # check the version (should be 2.x+)"
      ]
    },
    {
      "cell_type": "markdown",
      "metadata": {
        "id": "8clMYxrF6Mzv"
      },
      "source": [
        "## Creating data to view and fit\n",
        "\n",
        "Since we're working on a **regression problem** (predicting a number) let's create some linear data (a straight line) to model."
      ]
    },
    {
      "cell_type": "code",
      "execution_count": null,
      "metadata": {
        "colab": {
          "base_uri": "https://localhost:8080/",
          "height": 269
        },
        "id": "G43tWFof6i7T",
        "outputId": "04bc42be-84b7-43e6-f10e-41e0a06ca1b0"
      },
      "outputs": [
        {
          "ename": "",
          "evalue": "",
          "output_type": "error",
          "traceback": [
            "\u001b[1;31mRunning cells with 'Python 3.8.9 64-bit' requires ipykernel package.\n",
            "\u001b[1;31mRun the following command to install 'ipykernel' into the Python environment. \n",
            "\u001b[1;31mCommand: '/usr/bin/python3 -m pip install ipykernel -U --user --force-reinstall'"
          ]
        }
      ],
      "source": [
        "import numpy as np\n",
        "import matplotlib.pyplot as plt\n",
        "\n",
        "# Create features\n",
        "X = np.array([-7.0, -4.0, -1.0, 2.0, 5.0, 8.0, 11.0, 14.0])\n",
        "\n",
        "# Create labels\n",
        "y = np.array([3.0, 6.0, 9.0, 12.0, 15.0, 18.0, 21.0, 24.0])\n",
        "\n",
        "# Visualize it\n",
        "plt.scatter(X, y);"
      ]
    },
    {
      "cell_type": "markdown",
      "metadata": {
        "id": "9ONZF8un7_xy"
      },
      "source": [
        "Before we do any modelling, can you calculate the pattern between `X` and `y`?\n",
        "\n",
        "For example, say I asked you, based on this data what the `y` value would be if `X` was 17.0?\n",
        "\n",
        "Or how about if `X` was -10.0?\n",
        "\n",
        "This kind of pattern discovery is the essence of what we'll be building neural networks to do for us."
      ]
    },
    {
      "cell_type": "markdown",
      "metadata": {
        "id": "zNCXxHnF6jjZ"
      },
      "source": [
        "## Regression input shapes and output shapes\n",
        "\n",
        "One of the most important concepts when working with neural networks are the input and output shapes.\n",
        "\n",
        "The **input shape** is the shape of your data that goes into the model.\n",
        "\n",
        "The **output shape** is the shape of your data you want to come out of your model.\n",
        "\n",
        "These will differ depending on the problem you're working on.\n",
        "\n",
        "Neural networks accept numbers and output numbers. These numbers are typically represented as tensors (or arrays).\n",
        "\n",
        "Before, we created data using NumPy arrays, but we could do the same with tensors."
      ]
    },
    {
      "cell_type": "code",
      "execution_count": 31,
      "metadata": {
        "colab": {
          "base_uri": "https://localhost:8080/"
        },
        "id": "XrXQ3m0prWXa",
        "outputId": "c8fd3447-9379-44cf-b671-ee1c0f82813f"
      },
      "outputs": [
        {
          "data": {
            "text/plain": [
              "(<tf.Tensor: shape=(3,), dtype=string, numpy=array([b'bedroom', b'bathroom', b'garage'], dtype=object)>,\n",
              " <tf.Tensor: shape=(1,), dtype=int32, numpy=array([939700], dtype=int32)>)"
            ]
          },
          "execution_count": 31,
          "metadata": {},
          "output_type": "execute_result"
        }
      ],
      "source": [
        "# Example input and output shapes of a regresson model\n",
        "house_info = tf.constant([\"bedroom\", \"bathroom\", \"garage\"])\n",
        "house_price = tf.constant([939700])\n",
        "house_info, house_price"
      ]
    },
    {
      "cell_type": "code",
      "execution_count": 32,
      "metadata": {
        "colab": {
          "base_uri": "https://localhost:8080/"
        },
        "id": "Yi3VWKH6sRrZ",
        "outputId": "4d32f5e9-7f93-46e9-a1c1-8106d21cca39"
      },
      "outputs": [
        {
          "data": {
            "text/plain": [
              "TensorShape([3])"
            ]
          },
          "execution_count": 32,
          "metadata": {},
          "output_type": "execute_result"
        }
      ],
      "source": [
        "house_info.shape"
      ]
    },
    {
      "cell_type": "code",
      "execution_count": 33,
      "metadata": {
        "colab": {
          "base_uri": "https://localhost:8080/",
          "height": 269
        },
        "id": "kOxyr9sR6m9X",
        "outputId": "02b5e416-6b5b-4429-b73b-0ca19f5c34e7"
      },
      "outputs": [
        {
          "data": {
            "image/png": "[encoded data removed]",
            "text/plain": [
              "<Figure size 432x288 with 1 Axes>"
            ]
          },
          "metadata": {
            "needs_background": "light"
          },
          "output_type": "display_data"
        }
      ],
      "source": [
        "import numpy as np\n",
        "import matplotlib.pyplot as plt\n",
        "\n",
        "# Create features (using tensors)\n",
        "X = tf.constant([-7.0, -4.0, -1.0, 2.0, 5.0, 8.0, 11.0, 14.0])\n",
        "\n",
        "# Create labels (using tensors)\n",
        "y = tf.constant([3.0, 6.0, 9.0, 12.0, 15.0, 18.0, 21.0, 24.0])\n",
        "\n",
        "# Visualize it\n",
        "plt.scatter(X, y);"
      ]
    },
    {
      "cell_type": "markdown",
      "metadata": {
        "id": "zaPxco6E9i1_"
      },
      "source": [
        "Our goal here will be to use `X` to predict `y`.\n",
        "\n",
        "So our **input** will be `X` and our **output** will be `y`.\n",
        "\n",
        "Knowing this, what do you think our input and output shapes will be?\n",
        "\n",
        "Let's take a look."
      ]
    },
    {
      "cell_type": "code",
      "execution_count": 34,
      "metadata": {
        "colab": {
          "base_uri": "https://localhost:8080/"
        },
        "id": "j1oT1gmB9iX-",
        "outputId": "c4aa34e4-c04c-4032-d55b-91676f199387"
      },
      "outputs": [
        {
          "data": {
            "text/plain": [
              "(TensorShape([]), TensorShape([]))"
            ]
          },
          "execution_count": 34,
          "metadata": {},
          "output_type": "execute_result"
        }
      ],
      "source": [
        "# Take a single example of X\n",
        "input_shape = X[0].shape \n",
        "\n",
        "# Take a single example of y\n",
        "output_shape = y[0].shape\n",
        "\n",
        "input_shape, output_shape # these are both scalars (no shape)"
      ]
    },
    {
      "cell_type": "markdown",
      "metadata": {
        "id": "m4txxFTL_EEX"
      },
      "source": [
        "Huh?\n",
        "\n",
        "From this it seems our inputs and outputs have no shape?\n",
        "\n",
        "How could that be?\n",
        "\n",
        "It's because no matter what kind of data we pass to our model, it's always going to take as input and return as ouput some kind of tensor.\n",
        "\n",
        "But in our case because of our dataset (only 2 small lists of numbers), we're looking at a special kind of tensor, more specifically a rank 0 tensor or a scalar."
      ]
    },
    {
      "cell_type": "code",
      "execution_count": 35,
      "metadata": {
        "colab": {
          "base_uri": "https://localhost:8080/"
        },
        "id": "Dag5y4MPaTmc",
        "outputId": "4e041946-1095-479a-8db1-b19a390cab3f"
      },
      "outputs": [
        {
          "data": {
            "text/plain": [
              "(<tf.Tensor: shape=(), dtype=float32, numpy=-7.0>,\n",
              " <tf.Tensor: shape=(), dtype=float32, numpy=3.0>)"
            ]
          },
          "execution_count": 35,
          "metadata": {},
          "output_type": "execute_result"
        }
      ],
      "source": [
        "# Let's take a look at the single examples invidually\n",
        "X[0], y[0]"
      ]
    },
    {
      "cell_type": "markdown",
      "metadata": {
        "id": "fKtihU57_cOY"
      },
      "source": [
        "In our case, we're trying to build a model to predict the pattern between `X[0]` equalling `-7.0` and `y[0]` equalling `3.0`.\n",
        "\n",
        "So now we get our answer, we're trying to use 1 `X` value to predict 1 `y` value.\n",
        "\n",
        "You might be thinking, \"this seems pretty complicated for just predicting a straight line...\".\n",
        "\n",
        "And you'd be right.\n",
        "\n",
        "But the concepts we're covering here, the concepts of input and output shapes to a model are fundamental. \n",
        "\n",
        "In fact, they're probably two of the things you'll spend the most time on when you work with neural networks: **making sure your input and outputs are in the correct shape**.\n",
        "\n",
        "If it doesn't make sense now, we'll see plenty more examples later on (soon you'll notice the input and output shapes can be almost anything you can imagine).\n",
        "\n",
        "![example of input and output shapes for a housing price prediction problem](https://raw.githubusercontent.com/mrdbourke/tensorflow-deep-learning/main/images/01-input-and-output-shapes-housing-prices.png)\n",
        "*If you were working on building a machine learning algorithm for predicting housing prices, your inputs may be number of bedrooms, number of bathrooms and number of garages, giving you an input shape of 3 (3 different features). And since you're trying to predict the price of the house, your output shape would be 1.*"
      ]
    },
    {
      "cell_type": "markdown",
      "metadata": {
        "id": "PhAIqjrn6olF"
      },
      "source": [
        "## Steps in modelling with TensorFlow\n",
        "\n",
        "Now we know what data we have as well as the input and output shapes, let's see how we'd build a neural network to model it.\n",
        "\n",
        "In TensorFlow, there are typically 3 fundamental steps to creating and training a model.\n",
        "\n",
        "1. **Creating a model** - piece together the layers of a neural network yourself (using the [Functional](https://www.tensorflow.org/guide/keras/functional) or [Sequential API](https://www.tensorflow.org/api_docs/python/tf/keras/Sequential)) or import a previously built model (known as transfer learning).\n",
        "2. **Compiling a model** - defining how a models performance should be measured (loss/metrics) as well as defining how it should improve (optimizer). \n",
        "3. **Fitting a model** - letting the model try to find patterns in the data (how does `X` get to `y`). \n",
        "\n",
        "Let's see these in action using the [Keras Sequential API](https://www.tensorflow.org/api_docs/python/tf/keras/Sequential) to build a model for our regression data. And then we'll step through each.\n",
        "\n",
        "> **Note:** If you're using [TensorFlow 2.7.0](https://github.com/tensorflow/tensorflow/releases/tag/v2.7.0)+, the `fit()` function no longer upscales input data to go from `(batch_size, )` to `(batch_size, 1)`. To fix this, you'll need to expand the dimension of input data using `tf.expand_dims(input_data, axis=-1)`.\n",
        ">\n",
        "> In our case, this means instead of using `model.fit(X, y, epochs=5)`, use `model.fit(tf.expand_dims(X, axis=-1), y, epochs=5)`. "
      ]
    },
    {
      "cell_type": "code",
      "execution_count": 36,
      "metadata": {},
      "outputs": [],
      "source": [
        "# model.fit(tf.expand_dims(X, axis=-1), y, epochs=5)\n",
        "\n",
        "# recommended from the course to use for updated TF"
      ]
    },
    {
      "cell_type": "code",
      "execution_count": 37,
      "metadata": {
        "colab": {
          "base_uri": "https://localhost:8080/"
        },
        "id": "P9jj-OE16yCn",
        "outputId": "63cf816f-16af-4867-f71a-242682033473"
      },
      "outputs": [],
      "source": [
        "# Set random seed\n",
        "tf.random.set_seed(42)\n"
      ]
    },
    {
      "cell_type": "code",
      "execution_count": 38,
      "metadata": {},
      "outputs": [],
      "source": [
        "\n",
        "# Create a model using the Sequential API\n",
        "model = tf.keras.Sequential([\n",
        "  tf.keras.layers.Dense(1)\n",
        "])\n",
        "\n",
        "# could also use:\n",
        "# model.add(tf.keras.layers.Dense(1))\n",
        "# prior method preferred"
      ]
    },
    {
      "cell_type": "code",
      "execution_count": 39,
      "metadata": {},
      "outputs": [],
      "source": [
        "\n",
        "# Compile the model\n",
        "model.compile(loss=tf.keras.losses.mae, # mae is short for mean absolute error\n",
        "              optimizer=tf.keras.optimizers.SGD(), # SGD is short for stochastic gradient descent\n",
        "              metrics=[\"mae\"])\n"
      ]
    },
    {
      "cell_type": "code",
      "execution_count": 40,
      "metadata": {},
      "outputs": [
        {
          "data": {
            "text/plain": [
              "<keras.engine.sequential.Sequential at 0x7ff4713f1730>"
            ]
          },
          "execution_count": 40,
          "metadata": {},
          "output_type": "execute_result"
        }
      ],
      "source": [
        "model"
      ]
    },
    {
      "cell_type": "code",
      "execution_count": 41,
      "metadata": {},
      "outputs": [
        {
          "name": "stdout",
          "output_type": "stream",
          "text": [
            "Epoch 1/5\n",
            "1/1 [==============================] - 0s 244ms/step - loss: 8.0476 - mae: 8.0476\n",
            "Epoch 2/5\n",
            "1/1 [==============================] - 0s 3ms/step - loss: 7.9151 - mae: 7.9151\n",
            "Epoch 3/5\n",
            "1/1 [==============================] - 0s 3ms/step - loss: 7.7826 - mae: 7.7826\n",
            "Epoch 4/5\n",
            "1/1 [==============================] - 0s 3ms/step - loss: 7.6501 - mae: 7.6501\n",
            "Epoch 5/5\n",
            "1/1 [==============================] - 0s 2ms/step - loss: 7.5176 - mae: 7.5176\n"
          ]
        },
        {
          "data": {
            "text/plain": [
              "<keras.callbacks.History at 0x7ff471417be0>"
            ]
          },
          "execution_count": 41,
          "metadata": {},
          "output_type": "execute_result"
        }
      ],
      "source": [
        "\n",
        "# Fit the model\n",
        "# model.fit(X, y, epochs=5) # this will break with TensorFlow 2.7.0+\n",
        "model.fit(tf.expand_dims(X, axis=-1), y, epochs=5)"
      ]
    },
    {
      "cell_type": "markdown",
      "metadata": {
        "id": "bbjCwkEtetB9"
      },
      "source": [
        "Boom!\n",
        "\n",
        "We've just trained a model to figure out the patterns between `X` and `y`.\n",
        "\n",
        "How do you think it went?"
      ]
    },
    {
      "cell_type": "code",
      "execution_count": 42,
      "metadata": {
        "colab": {
          "base_uri": "https://localhost:8080/"
        },
        "id": "VWLpG2U3erWo",
        "outputId": "16076fb8-e754-4edb-b18b-3e5c30d6e2be"
      },
      "outputs": [
        {
          "data": {
            "text/plain": [
              "(<tf.Tensor: shape=(8,), dtype=float32, numpy=array([-7., -4., -1.,  2.,  5.,  8., 11., 14.], dtype=float32)>,\n",
              " <tf.Tensor: shape=(8,), dtype=float32, numpy=array([ 3.,  6.,  9., 12., 15., 18., 21., 24.], dtype=float32)>)"
            ]
          },
          "execution_count": 42,
          "metadata": {},
          "output_type": "execute_result"
        }
      ],
      "source": [
        "# Check out X and y\n",
        "X, y"
      ]
    },
    {
      "cell_type": "markdown",
      "metadata": {
        "id": "0ZpkaI_Oe6no"
      },
      "source": [
        "What do you think the outcome should be if we passed our model an `X` value of 17.0?"
      ]
    },
    {
      "cell_type": "code",
      "execution_count": 43,
      "metadata": {
        "colab": {
          "base_uri": "https://localhost:8080/"
        },
        "id": "X86cD66Qeo-8",
        "outputId": "29b569e6-90ce-46c7-8842-4ca69c5144a3"
      },
      "outputs": [
        {
          "name": "stdout",
          "output_type": "stream",
          "text": [
            "1/1 [==============================] - 0s 57ms/step\n"
          ]
        },
        {
          "data": {
            "text/plain": [
              "array([[29.508146]], dtype=float32)"
            ]
          },
          "execution_count": 43,
          "metadata": {},
          "output_type": "execute_result"
        }
      ],
      "source": [
        "# Make a prediction with the model\n",
        "model.predict([17.0])"
      ]
    },
    {
      "cell_type": "markdown",
      "metadata": {
        "id": "2YoKIqhffq33"
      },
      "source": [
        "It doesn't go very well... it should've output something close to 27.0.\n",
        "\n",
        "> 🤔 **Question:** What's Keras? I thought we were working with TensorFlow but every time we write TensorFlow code, `keras` comes after `tf` (e.g. `tf.keras.layers.Dense()`)?\n",
        "\n",
        "Before TensorFlow 2.0+, [Keras](https://keras.io/) was an API designed to be able to build deep learning models with ease. Since TensorFlow 2.0+, its functionality has been tightly integrated within the TensorFlow library."
      ]
    },
    {
      "cell_type": "markdown",
      "metadata": {
        "id": "qAPk1T3xgOm4"
      },
      "source": [
        "## Improving a model\n",
        "\n",
        "How do you think you'd improve upon our current model?\n",
        "\n",
        "If you guessed by tweaking some of the things we did above, you'd be correct.\n",
        "\n",
        "To improve our model, we alter almost every part of the 3 steps we went through before.\n",
        "\n",
        "1. **Creating a model** - here you might want to add more layers, increase the number of hidden units (also called neurons) within each layer, change the activation functions of each layer.\n",
        "2. **Compiling a model** - you might want to choose optimization function or perhaps change the **learning rate** of the optimization function.\n",
        "3. **Fitting a model** - perhaps you could fit a model for more **epochs** (leave it training for longer) or on more data (give the model more examples to learn from).\n",
        "\n",
        "![various options you can use to improve a neural network model](https://raw.githubusercontent.com/mrdbourke/tensorflow-deep-learning/main/images/02-improving-a-model-from-model-perspective.png)\n",
        "*There are many different ways to potentially improve a neural network. Some of the most common include: increasing the number of layers (making the network deeper), increasing the number of hidden units (making the network wider) and changing the learning rate. Because these values are all human-changeable, they're referred to as [hyperparameters](https://en.wikipedia.org/wiki/Hyperparameter_(machine_learning)) and the practice of trying to find the best hyperparameters is referred to as [hyperparameter tuning](https://en.wikipedia.org/wiki/Hyperparameter_optimization).*\n",
        "\n",
        "Woah. We just introduced a bunch of possible steps. The important thing to remember is how you alter each of these will depend on the problem you're working on.\n",
        "\n",
        "And the good thing is, over the next few problems, we'll get hands-on with all of them.\n",
        "\n",
        "For now, let's keep it simple, all we'll do is train our model for longer (everything else will stay the same)."
      ]
    },
    {
      "cell_type": "code",
      "execution_count": 44,
      "metadata": {
        "colab": {
          "base_uri": "https://localhost:8080/"
        },
        "id": "MI0LammMgWcN",
        "outputId": "0c01661d-6495-476a-b71e-bc63aa7e9ffe"
      },
      "outputs": [
        {
          "name": "stdout",
          "output_type": "stream",
          "text": [
            "Epoch 1/100\n",
            "1/1 [==============================] - 0s 399ms/step - loss: 17.2690 - mae: 17.2690\n",
            "Epoch 2/100\n",
            "1/1 [==============================] - 0s 2ms/step - loss: 16.9878 - mae: 16.9878\n",
            "Epoch 3/100\n",
            "1/1 [==============================] - 0s 2ms/step - loss: 16.7065 - mae: 16.7065\n",
            "Epoch 4/100\n",
            "1/1 [==============================] - 0s 2ms/step - loss: 16.4253 - mae: 16.4253\n",
            "Epoch 5/100\n",
            "1/1 [==============================] - 0s 2ms/step - loss: 16.1440 - mae: 16.1440\n",
            "Epoch 6/100\n",
            "1/1 [==============================] - 0s 3ms/step - loss: 15.8628 - mae: 15.8628\n",
            "Epoch 7/100\n",
            "1/1 [==============================] - 0s 2ms/step - loss: 15.5815 - mae: 15.5815\n",
            "Epoch 8/100\n",
            "1/1 [==============================] - 0s 2ms/step - loss: 15.3003 - mae: 15.3003\n",
            "Epoch 9/100\n",
            "1/1 [==============================] - 0s 3ms/step - loss: 15.0190 - mae: 15.0190\n",
            "Epoch 10/100\n",
            "1/1 [==============================] - 0s 2ms/step - loss: 14.7914 - mae: 14.7914\n",
            "Epoch 11/100\n",
            "1/1 [==============================] - 0s 2ms/step - loss: 14.6589 - mae: 14.6589\n",
            "Epoch 12/100\n",
            "1/1 [==============================] - 0s 2ms/step - loss: 14.5264 - mae: 14.5264\n",
            "Epoch 13/100\n",
            "1/1 [==============================] - 0s 3ms/step - loss: 14.3939 - mae: 14.3939\n",
            "Epoch 14/100\n",
            "1/1 [==============================] - 0s 3ms/step - loss: 14.2614 - mae: 14.2614\n",
            "Epoch 15/100\n",
            "1/1 [==============================] - 0s 2ms/step - loss: 14.1289 - mae: 14.1289\n",
            "Epoch 16/100\n",
            "1/1 [==============================] - 0s 3ms/step - loss: 13.9964 - mae: 13.9964\n",
            "Epoch 17/100\n",
            "1/1 [==============================] - 0s 3ms/step - loss: 13.8639 - mae: 13.8639\n",
            "Epoch 18/100\n",
            "1/1 [==============================] - 0s 2ms/step - loss: 13.7314 - mae: 13.7314\n",
            "Epoch 19/100\n",
            "1/1 [==============================] - 0s 2ms/step - loss: 13.5989 - mae: 13.5989\n",
            "Epoch 20/100\n",
            "1/1 [==============================] - 0s 3ms/step - loss: 13.4664 - mae: 13.4664\n",
            "Epoch 21/100\n",
            "1/1 [==============================] - 0s 3ms/step - loss: 13.3339 - mae: 13.3339\n",
            "Epoch 22/100\n",
            "1/1 [==============================] - 0s 3ms/step - loss: 13.2014 - mae: 13.2014\n",
            "Epoch 23/100\n",
            "1/1 [==============================] - 0s 3ms/step - loss: 13.0689 - mae: 13.0689\n",
            "Epoch 24/100\n",
            "1/1 [==============================] - 0s 2ms/step - loss: 12.9364 - mae: 12.9364\n",
            "Epoch 25/100\n",
            "1/1 [==============================] - 0s 3ms/step - loss: 12.8039 - mae: 12.8039\n",
            "Epoch 26/100\n",
            "1/1 [==============================] - 0s 3ms/step - loss: 12.6714 - mae: 12.6714\n",
            "Epoch 27/100\n",
            "1/1 [==============================] - 0s 2ms/step - loss: 12.5389 - mae: 12.5389\n",
            "Epoch 28/100\n",
            "1/1 [==============================] - 0s 2ms/step - loss: 12.4064 - mae: 12.4064\n",
            "Epoch 29/100\n",
            "1/1 [==============================] - 0s 3ms/step - loss: 12.2739 - mae: 12.2739\n",
            "Epoch 30/100\n",
            "1/1 [==============================] - 0s 2ms/step - loss: 12.1414 - mae: 12.1414\n",
            "Epoch 31/100\n",
            "1/1 [==============================] - 0s 2ms/step - loss: 12.0089 - mae: 12.0089\n",
            "Epoch 32/100\n",
            "1/1 [==============================] - 0s 3ms/step - loss: 11.8764 - mae: 11.8764\n",
            "Epoch 33/100\n",
            "1/1 [==============================] - 0s 3ms/step - loss: 11.7439 - mae: 11.7439\n",
            "Epoch 34/100\n",
            "1/1 [==============================] - 0s 2ms/step - loss: 11.6114 - mae: 11.6114\n",
            "Epoch 35/100\n",
            "1/1 [==============================] - 0s 3ms/step - loss: 11.4789 - mae: 11.4789\n",
            "Epoch 36/100\n",
            "1/1 [==============================] - 0s 2ms/step - loss: 11.3464 - mae: 11.3464\n",
            "Epoch 37/100\n",
            "1/1 [==============================] - 0s 3ms/step - loss: 11.2139 - mae: 11.2139\n",
            "Epoch 38/100\n",
            "1/1 [==============================] - 0s 3ms/step - loss: 11.0814 - mae: 11.0814\n",
            "Epoch 39/100\n",
            "1/1 [==============================] - 0s 2ms/step - loss: 10.9489 - mae: 10.9489\n",
            "Epoch 40/100\n",
            "1/1 [==============================] - 0s 2ms/step - loss: 10.8164 - mae: 10.8164\n",
            "Epoch 41/100\n",
            "1/1 [==============================] - 0s 3ms/step - loss: 10.6839 - mae: 10.6839\n",
            "Epoch 42/100\n",
            "1/1 [==============================] - 0s 3ms/step - loss: 10.5514 - mae: 10.5514\n",
            "Epoch 43/100\n",
            "1/1 [==============================] - 0s 2ms/step - loss: 10.4189 - mae: 10.4189\n",
            "Epoch 44/100\n",
            "1/1 [==============================] - 0s 2ms/step - loss: 10.2864 - mae: 10.2864\n",
            "Epoch 45/100\n",
            "1/1 [==============================] - 0s 3ms/step - loss: 10.1539 - mae: 10.1539\n",
            "Epoch 46/100\n",
            "1/1 [==============================] - 0s 2ms/step - loss: 10.0214 - mae: 10.0214\n",
            "Epoch 47/100\n",
            "1/1 [==============================] - 0s 2ms/step - loss: 9.8889 - mae: 9.8889\n",
            "Epoch 48/100\n",
            "1/1 [==============================] - 0s 3ms/step - loss: 9.7564 - mae: 9.7564\n",
            "Epoch 49/100\n",
            "1/1 [==============================] - 0s 3ms/step - loss: 9.6239 - mae: 9.6239\n",
            "Epoch 50/100\n",
            "1/1 [==============================] - 0s 3ms/step - loss: 9.4914 - mae: 9.4914\n",
            "Epoch 51/100\n",
            "1/1 [==============================] - 0s 4ms/step - loss: 9.3589 - mae: 9.3589\n",
            "Epoch 52/100\n",
            "1/1 [==============================] - 0s 4ms/step - loss: 9.2264 - mae: 9.2264\n",
            "Epoch 53/100\n",
            "1/1 [==============================] - 0s 5ms/step - loss: 9.0939 - mae: 9.0939\n",
            "Epoch 54/100\n",
            "1/1 [==============================] - 0s 5ms/step - loss: 8.9614 - mae: 8.9614\n",
            "Epoch 55/100\n",
            "1/1 [==============================] - 0s 2ms/step - loss: 8.8289 - mae: 8.8289\n",
            "Epoch 56/100\n",
            "1/1 [==============================] - 0s 2ms/step - loss: 8.6964 - mae: 8.6964\n",
            "Epoch 57/100\n",
            "1/1 [==============================] - 0s 2ms/step - loss: 8.5639 - mae: 8.5639\n",
            "Epoch 58/100\n",
            "1/1 [==============================] - 0s 3ms/step - loss: 8.4314 - mae: 8.4314\n",
            "Epoch 59/100\n",
            "1/1 [==============================] - 0s 3ms/step - loss: 8.2989 - mae: 8.2989\n",
            "Epoch 60/100\n",
            "1/1 [==============================] - 0s 2ms/step - loss: 8.1664 - mae: 8.1664\n",
            "Epoch 61/100\n",
            "1/1 [==============================] - 0s 3ms/step - loss: 8.0339 - mae: 8.0339\n",
            "Epoch 62/100\n",
            "1/1 [==============================] - 0s 2ms/step - loss: 7.9014 - mae: 7.9014\n",
            "Epoch 63/100\n",
            "1/1 [==============================] - 0s 2ms/step - loss: 7.7689 - mae: 7.7689\n",
            "Epoch 64/100\n",
            "1/1 [==============================] - 0s 2ms/step - loss: 7.6364 - mae: 7.6364\n",
            "Epoch 65/100\n",
            "1/1 [==============================] - 0s 3ms/step - loss: 7.5039 - mae: 7.5039\n",
            "Epoch 66/100\n",
            "1/1 [==============================] - 0s 3ms/step - loss: 7.3714 - mae: 7.3714\n",
            "Epoch 67/100\n",
            "1/1 [==============================] - 0s 3ms/step - loss: 7.2389 - mae: 7.2389\n",
            "Epoch 68/100\n",
            "1/1 [==============================] - 0s 2ms/step - loss: 7.1064 - mae: 7.1064\n",
            "Epoch 69/100\n",
            "1/1 [==============================] - 0s 3ms/step - loss: 7.0069 - mae: 7.0069\n",
            "Epoch 70/100\n",
            "1/1 [==============================] - 0s 3ms/step - loss: 7.0013 - mae: 7.0013\n",
            "Epoch 71/100\n",
            "1/1 [==============================] - 0s 2ms/step - loss: 6.9956 - mae: 6.9956\n",
            "Epoch 72/100\n",
            "1/1 [==============================] - 0s 2ms/step - loss: 6.9900 - mae: 6.9900\n",
            "Epoch 73/100\n",
            "1/1 [==============================] - 0s 4ms/step - loss: 6.9844 - mae: 6.9844\n",
            "Epoch 74/100\n",
            "1/1 [==============================] - 0s 3ms/step - loss: 6.9787 - mae: 6.9787\n",
            "Epoch 75/100\n",
            "1/1 [==============================] - 0s 3ms/step - loss: 6.9731 - mae: 6.9731\n",
            "Epoch 76/100\n",
            "1/1 [==============================] - 0s 3ms/step - loss: 6.9675 - mae: 6.9675\n",
            "Epoch 77/100\n",
            "1/1 [==============================] - 0s 3ms/step - loss: 6.9619 - mae: 6.9619\n",
            "Epoch 78/100\n",
            "1/1 [==============================] - 0s 2ms/step - loss: 6.9563 - mae: 6.9563\n",
            "Epoch 79/100\n",
            "1/1 [==============================] - 0s 3ms/step - loss: 6.9506 - mae: 6.9506\n",
            "Epoch 80/100\n",
            "1/1 [==============================] - 0s 4ms/step - loss: 6.9450 - mae: 6.9450\n",
            "Epoch 81/100\n",
            "1/1 [==============================] - 0s 4ms/step - loss: 6.9394 - mae: 6.9394\n",
            "Epoch 82/100\n",
            "1/1 [==============================] - 0s 4ms/step - loss: 6.9338 - mae: 6.9338\n",
            "Epoch 83/100\n",
            "1/1 [==============================] - 0s 4ms/step - loss: 6.9281 - mae: 6.9281\n",
            "Epoch 84/100\n",
            "1/1 [==============================] - 0s 3ms/step - loss: 6.9225 - mae: 6.9225\n",
            "Epoch 85/100\n",
            "1/1 [==============================] - 0s 3ms/step - loss: 6.9169 - mae: 6.9169\n",
            "Epoch 86/100\n",
            "1/1 [==============================] - 0s 3ms/step - loss: 6.9113 - mae: 6.9113\n",
            "Epoch 87/100\n",
            "1/1 [==============================] - 0s 2ms/step - loss: 6.9056 - mae: 6.9056\n",
            "Epoch 88/100\n",
            "1/1 [==============================] - 0s 2ms/step - loss: 6.9000 - mae: 6.9000\n",
            "Epoch 89/100\n",
            "1/1 [==============================] - 0s 4ms/step - loss: 6.8944 - mae: 6.8944\n",
            "Epoch 90/100\n",
            "1/1 [==============================] - 0s 4ms/step - loss: 6.8888 - mae: 6.8888\n",
            "Epoch 91/100\n",
            "1/1 [==============================] - 0s 3ms/step - loss: 6.8831 - mae: 6.8831\n",
            "Epoch 92/100\n",
            "1/1 [==============================] - 0s 2ms/step - loss: 6.8775 - mae: 6.8775\n",
            "Epoch 93/100\n",
            "1/1 [==============================] - 0s 2ms/step - loss: 6.8719 - mae: 6.8719\n",
            "Epoch 94/100\n",
            "1/1 [==============================] - 0s 3ms/step - loss: 6.8663 - mae: 6.8663\n",
            "Epoch 95/100\n",
            "1/1 [==============================] - 0s 2ms/step - loss: 6.8606 - mae: 6.8606\n",
            "Epoch 96/100\n",
            "1/1 [==============================] - 0s 3ms/step - loss: 6.8550 - mae: 6.8550\n",
            "Epoch 97/100\n",
            "1/1 [==============================] - 0s 3ms/step - loss: 6.8494 - mae: 6.8494\n",
            "Epoch 98/100\n",
            "1/1 [==============================] - 0s 3ms/step - loss: 6.8438 - mae: 6.8438\n",
            "Epoch 99/100\n",
            "1/1 [==============================] - 0s 2ms/step - loss: 6.8381 - mae: 6.8381\n",
            "Epoch 100/100\n",
            "1/1 [==============================] - 0s 3ms/step - loss: 6.8325 - mae: 6.8325\n"
          ]
        },
        {
          "data": {
            "text/plain": [
              "<keras.callbacks.History at 0x7ff4c141c850>"
            ]
          },
          "execution_count": 44,
          "metadata": {},
          "output_type": "execute_result"
        }
      ],
      "source": [
        "# Set random seed\n",
        "tf.random.set_seed(42)\n",
        "\n",
        "# Create a model (same as above)\n",
        "model = tf.keras.Sequential([\n",
        "  tf.keras.layers.Dense(1)\n",
        "])\n",
        "\n",
        "# Compile model (same as above)\n",
        "model.compile(loss=tf.keras.losses.mae,\n",
        "              optimizer=tf.keras.optimizers.SGD(),\n",
        "              metrics=[\"mae\"])\n",
        "\n",
        "# Fit model (this time we'll train for longer)\n",
        "model.fit(tf.expand_dims(X, axis=-1), y, epochs=100) # train for 100 epochs not 5"
      ]
    },
    {
      "cell_type": "markdown",
      "metadata": {
        "id": "1CIKSm7filgj"
      },
      "source": [
        "You might've noticed the loss value decrease from before (and keep decreasing as the number of epochs gets higher). \n",
        "\n",
        "What do you think this means for when we make a prediction with our model?\n",
        "\n",
        "How about we try predict on 17.0 again?"
      ]
    },
    {
      "cell_type": "code",
      "execution_count": 45,
      "metadata": {
        "colab": {
          "base_uri": "https://localhost:8080/"
        },
        "id": "_YcacZsfi4zZ",
        "outputId": "011ee264-7e6e-47f6-cd8e-26627befb2b5"
      },
      "outputs": [
        {
          "data": {
            "text/plain": [
              "(<tf.Tensor: shape=(8,), dtype=float32, numpy=array([-7., -4., -1.,  2.,  5.,  8., 11., 14.], dtype=float32)>,\n",
              " <tf.Tensor: shape=(8,), dtype=float32, numpy=array([ 3.,  6.,  9., 12., 15., 18., 21., 24.], dtype=float32)>)"
            ]
          },
          "execution_count": 45,
          "metadata": {},
          "output_type": "execute_result"
        }
      ],
      "source": [
        "# Remind ourselves of what X and y are\n",
        "X, y"
      ]
    },
    {
      "cell_type": "code",
      "execution_count": 46,
      "metadata": {
        "colab": {
          "base_uri": "https://localhost:8080/"
        },
        "id": "e6k5V08ZivNO",
        "outputId": "9f703f97-1b6d-41af-b408-18a99aa6c8dc"
      },
      "outputs": [
        {
          "name": "stdout",
          "output_type": "stream",
          "text": [
            "WARNING:tensorflow:5 out of the last 5 calls to <function Model.make_predict_function.<locals>.predict_function at 0x7ff4a2a498b0> triggered tf.function retracing. Tracing is expensive and the excessive number of tracings could be due to (1) creating @tf.function repeatedly in a loop, (2) passing tensors with different shapes, (3) passing Python objects instead of tensors. For (1), please define your @tf.function outside of the loop. For (2), @tf.function has reduce_retracing=True option that can avoid unnecessary retracing. For (3), please refer to https://www.tensorflow.org/guide/function#controlling_retracing and https://www.tensorflow.org/api_docs/python/tf/function for  more details.\n",
            "1/1 [==============================] - 0s 57ms/step\n"
          ]
        },
        {
          "data": {
            "text/plain": [
              "array([[29.401972]], dtype=float32)"
            ]
          },
          "execution_count": 46,
          "metadata": {},
          "output_type": "execute_result"
        }
      ],
      "source": [
        "# Try and predict what y would be if X was 17.0\n",
        "model.predict([17.0]) # the right answer is 27.0 (y = X + 10)"
      ]
    },
    {
      "cell_type": "markdown",
      "metadata": {},
      "source": [
        "### !!! The learning rate is the most important parameter for optimization !!!"
      ]
    },
    {
      "cell_type": "code",
      "execution_count": 47,
      "metadata": {
        "colab": {
          "base_uri": "https://localhost:8080/"
        },
        "id": "MI0LammMgWcN",
        "outputId": "0c01661d-6495-476a-b71e-bc63aa7e9ffe"
      },
      "outputs": [
        {
          "name": "stdout",
          "output_type": "stream",
          "text": [
            "Epoch 1/100\n",
            "1/1 [==============================] - 0s 428ms/step - loss: 12.9434 - mae: 12.9434\n",
            "Epoch 2/100\n",
            "1/1 [==============================] - 0s 3ms/step - loss: 719.1373 - mae: 719.1373\n",
            "Epoch 3/100\n",
            "1/1 [==============================] - 0s 3ms/step - loss: 14.6974 - mae: 14.6974\n",
            "Epoch 4/100\n",
            "1/1 [==============================] - 0s 2ms/step - loss: 12.6031 - mae: 12.6031\n",
            "Epoch 5/100\n",
            "1/1 [==============================] - 0s 3ms/step - loss: 6.9835 - mae: 6.9835\n",
            "Epoch 6/100\n",
            "1/1 [==============================] - 0s 3ms/step - loss: 27.4809 - mae: 27.4809\n",
            "Epoch 7/100\n",
            "1/1 [==============================] - 0s 3ms/step - loss: 9.8781 - mae: 9.8781\n",
            "Epoch 8/100\n",
            "1/1 [==============================] - 0s 3ms/step - loss: 12.9368 - mae: 12.9368\n",
            "Epoch 9/100\n",
            "1/1 [==============================] - 0s 3ms/step - loss: 12.0854 - mae: 12.0854\n",
            "Epoch 10/100\n",
            "1/1 [==============================] - 0s 3ms/step - loss: 10.6729 - mae: 10.6729\n",
            "Epoch 11/100\n",
            "1/1 [==============================] - 0s 3ms/step - loss: 6.8687 - mae: 6.8687\n",
            "Epoch 12/100\n",
            "1/1 [==============================] - 0s 2ms/step - loss: 8.3677 - mae: 8.3677\n",
            "Epoch 13/100\n",
            "1/1 [==============================] - 0s 2ms/step - loss: 5.8127 - mae: 5.8127\n",
            "Epoch 14/100\n",
            "1/1 [==============================] - 0s 4ms/step - loss: 5.2679 - mae: 5.2679\n",
            "Epoch 15/100\n",
            "1/1 [==============================] - 0s 3ms/step - loss: 5.3868 - mae: 5.3868\n",
            "Epoch 16/100\n",
            "1/1 [==============================] - 0s 3ms/step - loss: 2.3935 - mae: 2.3935\n",
            "Epoch 17/100\n",
            "1/1 [==============================] - 0s 3ms/step - loss: 4.9314 - mae: 4.9314\n",
            "Epoch 18/100\n",
            "1/1 [==============================] - 0s 3ms/step - loss: 7.5986 - mae: 7.5986\n",
            "Epoch 19/100\n",
            "1/1 [==============================] - 0s 3ms/step - loss: 4.4282 - mae: 4.4282\n",
            "Epoch 20/100\n",
            "1/1 [==============================] - 0s 3ms/step - loss: 1.7887 - mae: 1.7887\n",
            "Epoch 21/100\n",
            "1/1 [==============================] - 0s 3ms/step - loss: 5.0628 - mae: 5.0628\n",
            "Epoch 22/100\n",
            "1/1 [==============================] - 0s 3ms/step - loss: 1.9843 - mae: 1.9843\n",
            "Epoch 23/100\n",
            "1/1 [==============================] - 0s 3ms/step - loss: 3.1749 - mae: 3.1749\n",
            "Epoch 24/100\n",
            "1/1 [==============================] - 0s 2ms/step - loss: 2.6611 - mae: 2.6611\n",
            "Epoch 25/100\n",
            "1/1 [==============================] - 0s 3ms/step - loss: 1.6289 - mae: 1.6289\n",
            "Epoch 26/100\n",
            "1/1 [==============================] - 0s 3ms/step - loss: 1.6931 - mae: 1.6931\n",
            "Epoch 27/100\n",
            "1/1 [==============================] - 0s 3ms/step - loss: 4.0794 - mae: 4.0794\n",
            "Epoch 28/100\n",
            "1/1 [==============================] - 0s 4ms/step - loss: 2.0355 - mae: 2.0355\n",
            "Epoch 29/100\n",
            "1/1 [==============================] - 0s 2ms/step - loss: 4.3185 - mae: 4.3185\n",
            "Epoch 30/100\n",
            "1/1 [==============================] - 0s 3ms/step - loss: 4.5049 - mae: 4.5049\n",
            "Epoch 31/100\n",
            "1/1 [==============================] - 0s 3ms/step - loss: 1.7959 - mae: 1.7959\n",
            "Epoch 32/100\n",
            "1/1 [==============================] - 0s 3ms/step - loss: 8.3444 - mae: 8.3444\n",
            "Epoch 33/100\n",
            "1/1 [==============================] - 0s 3ms/step - loss: 5.9543 - mae: 5.9543\n",
            "Epoch 34/100\n",
            "1/1 [==============================] - 0s 3ms/step - loss: 1.5318 - mae: 1.5318\n",
            "Epoch 35/100\n",
            "1/1 [==============================] - 0s 3ms/step - loss: 2.8806 - mae: 2.8806\n",
            "Epoch 36/100\n",
            "1/1 [==============================] - 0s 3ms/step - loss: 2.3712 - mae: 2.3712\n",
            "Epoch 37/100\n",
            "1/1 [==============================] - 0s 3ms/step - loss: 1.6811 - mae: 1.6811\n",
            "Epoch 38/100\n",
            "1/1 [==============================] - 0s 2ms/step - loss: 2.3592 - mae: 2.3592\n",
            "Epoch 39/100\n",
            "1/1 [==============================] - 0s 3ms/step - loss: 1.4521 - mae: 1.4521\n",
            "Epoch 40/100\n",
            "1/1 [==============================] - 0s 4ms/step - loss: 2.1821 - mae: 2.1821\n",
            "Epoch 41/100\n",
            "1/1 [==============================] - 0s 3ms/step - loss: 2.0396 - mae: 2.0396\n",
            "Epoch 42/100\n",
            "1/1 [==============================] - 0s 3ms/step - loss: 1.5629 - mae: 1.5629\n",
            "Epoch 43/100\n",
            "1/1 [==============================] - 0s 3ms/step - loss: 2.0818 - mae: 2.0818\n",
            "Epoch 44/100\n",
            "1/1 [==============================] - 0s 2ms/step - loss: 1.2976 - mae: 1.2976\n",
            "Epoch 45/100\n",
            "1/1 [==============================] - 0s 2ms/step - loss: 1.1573 - mae: 1.1573\n",
            "Epoch 46/100\n",
            "1/1 [==============================] - 0s 3ms/step - loss: 1.7458 - mae: 1.7458\n",
            "Epoch 47/100\n",
            "1/1 [==============================] - 0s 3ms/step - loss: 1.2631 - mae: 1.2631\n",
            "Epoch 48/100\n",
            "1/1 [==============================] - 0s 3ms/step - loss: 0.8195 - mae: 0.8195\n",
            "Epoch 49/100\n",
            "1/1 [==============================] - 0s 4ms/step - loss: 1.1376 - mae: 1.1376\n",
            "Epoch 50/100\n",
            "1/1 [==============================] - 0s 4ms/step - loss: 0.8237 - mae: 0.8237\n",
            "Epoch 51/100\n",
            "1/1 [==============================] - 0s 4ms/step - loss: 1.6928 - mae: 1.6928\n",
            "Epoch 52/100\n",
            "1/1 [==============================] - 0s 3ms/step - loss: 0.9876 - mae: 0.9876\n",
            "Epoch 53/100\n",
            "1/1 [==============================] - 0s 5ms/step - loss: 2.9611 - mae: 2.9611\n",
            "Epoch 54/100\n",
            "1/1 [==============================] - 0s 4ms/step - loss: 2.4818 - mae: 2.4818\n",
            "Epoch 55/100\n",
            "1/1 [==============================] - 0s 3ms/step - loss: 1.4281 - mae: 1.4281\n",
            "Epoch 56/100\n",
            "1/1 [==============================] - 0s 3ms/step - loss: 2.0580 - mae: 2.0580\n",
            "Epoch 57/100\n",
            "1/1 [==============================] - 0s 3ms/step - loss: 1.1073 - mae: 1.1073\n",
            "Epoch 58/100\n",
            "1/1 [==============================] - 0s 2ms/step - loss: 2.7807 - mae: 2.7807\n",
            "Epoch 59/100\n",
            "1/1 [==============================] - 0s 4ms/step - loss: 3.0425 - mae: 3.0425\n",
            "Epoch 60/100\n",
            "1/1 [==============================] - 0s 3ms/step - loss: 0.9825 - mae: 0.9825\n",
            "Epoch 61/100\n",
            "1/1 [==============================] - 0s 3ms/step - loss: 2.4813 - mae: 2.4813\n",
            "Epoch 62/100\n",
            "1/1 [==============================] - 0s 3ms/step - loss: 2.9695 - mae: 2.9695\n",
            "Epoch 63/100\n",
            "1/1 [==============================] - 0s 4ms/step - loss: 2.3578 - mae: 2.3578\n",
            "Epoch 64/100\n",
            "1/1 [==============================] - 0s 3ms/step - loss: 0.9133 - mae: 0.9133\n",
            "Epoch 65/100\n",
            "1/1 [==============================] - 0s 3ms/step - loss: 4.0956 - mae: 4.0956\n",
            "Epoch 66/100\n",
            "1/1 [==============================] - 0s 3ms/step - loss: 4.5659 - mae: 4.5659\n",
            "Epoch 67/100\n",
            "1/1 [==============================] - 0s 3ms/step - loss: 1.8820 - mae: 1.8820\n",
            "Epoch 68/100\n",
            "1/1 [==============================] - 0s 3ms/step - loss: 2.5680 - mae: 2.5680\n",
            "Epoch 69/100\n",
            "1/1 [==============================] - 0s 3ms/step - loss: 4.0825 - mae: 4.0825\n",
            "Epoch 70/100\n",
            "1/1 [==============================] - 0s 3ms/step - loss: 4.5269 - mae: 4.5269\n",
            "Epoch 71/100\n",
            "1/1 [==============================] - 0s 3ms/step - loss: 4.2468 - mae: 4.2468\n",
            "Epoch 72/100\n",
            "1/1 [==============================] - 0s 3ms/step - loss: 3.2355 - mae: 3.2355\n",
            "Epoch 73/100\n",
            "1/1 [==============================] - 0s 3ms/step - loss: 1.2200 - mae: 1.2200\n",
            "Epoch 74/100\n",
            "1/1 [==============================] - 0s 3ms/step - loss: 3.3080 - mae: 3.3080\n",
            "Epoch 75/100\n",
            "1/1 [==============================] - 0s 3ms/step - loss: 4.8291 - mae: 4.8291\n",
            "Epoch 76/100\n",
            "1/1 [==============================] - 0s 3ms/step - loss: 3.1854 - mae: 3.1854\n",
            "Epoch 77/100\n",
            "1/1 [==============================] - 0s 3ms/step - loss: 0.8672 - mae: 0.8672\n",
            "Epoch 78/100\n",
            "1/1 [==============================] - 0s 4ms/step - loss: 2.0324 - mae: 2.0324\n",
            "Epoch 79/100\n",
            "1/1 [==============================] - 0s 3ms/step - loss: 2.0663 - mae: 2.0663\n",
            "Epoch 80/100\n",
            "1/1 [==============================] - 0s 3ms/step - loss: 1.0639 - mae: 1.0639\n",
            "Epoch 81/100\n",
            "1/1 [==============================] - 0s 3ms/step - loss: 2.0481 - mae: 2.0481\n",
            "Epoch 82/100\n",
            "1/1 [==============================] - 0s 3ms/step - loss: 2.5954 - mae: 2.5954\n",
            "Epoch 83/100\n",
            "1/1 [==============================] - 0s 3ms/step - loss: 1.2731 - mae: 1.2731\n",
            "Epoch 84/100\n",
            "1/1 [==============================] - 0s 3ms/step - loss: 1.8051 - mae: 1.8051\n",
            "Epoch 85/100\n",
            "1/1 [==============================] - 0s 3ms/step - loss: 2.6397 - mae: 2.6397\n",
            "Epoch 86/100\n",
            "1/1 [==============================] - 0s 3ms/step - loss: 2.5505 - mae: 2.5505\n",
            "Epoch 87/100\n",
            "1/1 [==============================] - 0s 4ms/step - loss: 1.7755 - mae: 1.7755\n",
            "Epoch 88/100\n",
            "1/1 [==============================] - 0s 3ms/step - loss: 0.7254 - mae: 0.7254\n",
            "Epoch 89/100\n",
            "1/1 [==============================] - 0s 3ms/step - loss: 2.1845 - mae: 2.1845\n",
            "Epoch 90/100\n",
            "1/1 [==============================] - 0s 3ms/step - loss: 2.0845 - mae: 2.0845\n",
            "Epoch 91/100\n",
            "1/1 [==============================] - 0s 3ms/step - loss: 0.6226 - mae: 0.6226\n",
            "Epoch 92/100\n",
            "1/1 [==============================] - 0s 4ms/step - loss: 1.5023 - mae: 1.5023\n",
            "Epoch 93/100\n",
            "1/1 [==============================] - 0s 3ms/step - loss: 1.7125 - mae: 1.7125\n",
            "Epoch 94/100\n",
            "1/1 [==============================] - 0s 3ms/step - loss: 1.0063 - mae: 1.0063\n",
            "Epoch 95/100\n",
            "1/1 [==============================] - 0s 3ms/step - loss: 1.4917 - mae: 1.4917\n",
            "Epoch 96/100\n",
            "1/1 [==============================] - 0s 3ms/step - loss: 1.8677 - mae: 1.8677\n",
            "Epoch 97/100\n",
            "1/1 [==============================] - 0s 3ms/step - loss: 0.8366 - mae: 0.8366\n",
            "Epoch 98/100\n",
            "1/1 [==============================] - 0s 3ms/step - loss: 1.7518 - mae: 1.7518\n",
            "Epoch 99/100\n",
            "1/1 [==============================] - 0s 3ms/step - loss: 2.4222 - mae: 2.4222\n",
            "Epoch 100/100\n",
            "1/1 [==============================] - 0s 2ms/step - loss: 2.3336 - mae: 2.3336\n",
            "WARNING:tensorflow:6 out of the last 6 calls to <function Model.make_predict_function.<locals>.predict_function at 0x7ff4c135baf0> triggered tf.function retracing. Tracing is expensive and the excessive number of tracings could be due to (1) creating @tf.function repeatedly in a loop, (2) passing tensors with different shapes, (3) passing Python objects instead of tensors. For (1), please define your @tf.function outside of the loop. For (2), @tf.function has reduce_retracing=True option that can avoid unnecessary retracing. For (3), please refer to https://www.tensorflow.org/guide/function#controlling_retracing and https://www.tensorflow.org/api_docs/python/tf/function for  more details.\n",
            "1/1 [==============================] - 0s 86ms/step\n"
          ]
        },
        {
          "data": {
            "text/plain": [
              "array([[22.268375]], dtype=float32)"
            ]
          },
          "execution_count": 47,
          "metadata": {},
          "output_type": "execute_result"
        }
      ],
      "source": [
        "# Set random seed\n",
        "tf.random.set_seed(42)\n",
        "\n",
        "# Create a model (same as above)\n",
        "model = tf.keras.Sequential([\n",
        "  tf.keras.layers.Dense(100, activation='relu'),\n",
        "  tf.keras.layers.Dense(100, activation='relu'),\n",
        "  tf.keras.layers.Dense(100, activation='relu'),\n",
        "  tf.keras.layers.Dense(100, activation='relu'),\n",
        "  tf.keras.layers.Dense(1)\n",
        "])\n",
        "\n",
        "# Compile model (same as above)\n",
        "model.compile(loss=tf.keras.losses.mae,\n",
        "              optimizer=tf.keras.optimizers.Adam(learning_rate=.1), # learning rate is the most important hyperparameter to tweak\n",
        "              metrics=[\"mae\"])\n",
        "\n",
        "\n",
        "# Fit model (this time we'll train for longer)\n",
        "model.fit(tf.expand_dims(X, axis=-1), y, epochs=100) # train for 100 epochs not 5\n",
        "\n",
        "# Try and predict what y would be if X was 17.0\n",
        "model.predict([17.0]) # the right answer is 27.0 (y = X + 10)"
      ]
    },
    {
      "cell_type": "markdown",
      "metadata": {
        "id": "sYi5V8ZYi_dy"
      },
      "source": [
        "Much better! \n",
        "\n",
        "We got closer this time. But we could still be better.\n",
        "\n",
        "Now we've trained a model, how could we evaluate it?"
      ]
    },
    {
      "cell_type": "markdown",
      "metadata": {
        "id": "HvC98q_h6zvG"
      },
      "source": [
        "## Evaluating a model \n",
        "\n",
        "A typical workflow you'll go through when building neural networks is:\n",
        "\n",
        "```\n",
        "Build a model -> evaluate it -> build (tweak) a model -> evaulate it -> build (tweak) a model -> evaluate it...\n",
        "```\n",
        "\n",
        "The tweaking comes from maybe not building a model from scratch but adjusting an existing one.\n",
        "\n",
        "### Visualize, visualize, visualize\n",
        "\n",
        "When it comes to evaluation, you'll want to remember the words: \"visualize, visualize, visualize.\" \n",
        "\n",
        "This is because you're probably better looking at something (doing) than you are thinking about something.\n",
        "\n",
        "It's a good idea to visualize:\n",
        "* **The data** - what data are you working with? What does it look like?\n",
        "* **The model itself** - what does the architecture look like? What are the different shapes?\n",
        "* **The training of a model** - how does a model perform while it learns?\n",
        "* **The predictions of a model** - how do the predictions of a model line up against the ground truth (the original labels)?\n",
        "\n",
        "Let's start by visualizing the model.\n",
        "\n",
        "But first, we'll create a little bit of a bigger dataset and a new model we can use (it'll be the same as before, but the more practice the better).\n"
      ]
    },
    {
      "cell_type": "code",
      "execution_count": 48,
      "metadata": {
        "colab": {
          "base_uri": "https://localhost:8080/"
        },
        "id": "srxuqbeYopns",
        "outputId": "85d3bffc-9c4c-40e7-8223-25ff0209e395"
      },
      "outputs": [
        {
          "data": {
            "text/plain": [
              "array([-100,  -96,  -92,  -88,  -84,  -80,  -76,  -72,  -68,  -64,  -60,\n",
              "        -56,  -52,  -48,  -44,  -40,  -36,  -32,  -28,  -24,  -20,  -16,\n",
              "        -12,   -8,   -4,    0,    4,    8,   12,   16,   20,   24,   28,\n",
              "         32,   36,   40,   44,   48,   52,   56,   60,   64,   68,   72,\n",
              "         76,   80,   84,   88,   92,   96])"
            ]
          },
          "execution_count": 48,
          "metadata": {},
          "output_type": "execute_result"
        }
      ],
      "source": [
        "# Make a bigger dataset\n",
        "X = np.arange(-100, 100, 4)\n",
        "X"
      ]
    },
    {
      "cell_type": "code",
      "execution_count": 49,
      "metadata": {
        "colab": {
          "base_uri": "https://localhost:8080/"
        },
        "id": "pQcC0nSko3kJ",
        "outputId": "4fc242dc-0da9-499f-8f42-de2a0c837202"
      },
      "outputs": [
        {
          "data": {
            "text/plain": [
              "array([-90, -86, -82, -78, -74, -70, -66, -62, -58, -54, -50, -46, -42,\n",
              "       -38, -34, -30, -26, -22, -18, -14, -10,  -6,  -2,   2,   6,  10,\n",
              "        14,  18,  22,  26,  30,  34,  38,  42,  46,  50,  54,  58,  62,\n",
              "        66,  70,  74,  78,  82,  86,  90,  94,  98, 102, 106])"
            ]
          },
          "execution_count": 49,
          "metadata": {},
          "output_type": "execute_result"
        }
      ],
      "source": [
        "# Make labels for the dataset (adhering to the same pattern as before)\n",
        "y = np.arange(-90, 110, 4)\n",
        "y"
      ]
    },
    {
      "cell_type": "markdown",
      "metadata": {
        "id": "KNIw5tgGpKjb"
      },
      "source": [
        "Since $y=X+10$, we could make the labels like so:"
      ]
    },
    {
      "cell_type": "code",
      "execution_count": 50,
      "metadata": {
        "colab": {
          "base_uri": "https://localhost:8080/"
        },
        "id": "ACgbmrAOpJwW",
        "outputId": "de9805da-e70b-4dba-ace3-b18ea0e277db"
      },
      "outputs": [
        {
          "data": {
            "text/plain": [
              "array([-90, -86, -82, -78, -74, -70, -66, -62, -58, -54, -50, -46, -42,\n",
              "       -38, -34, -30, -26, -22, -18, -14, -10,  -6,  -2,   2,   6,  10,\n",
              "        14,  18,  22,  26,  30,  34,  38,  42,  46,  50,  54,  58,  62,\n",
              "        66,  70,  74,  78,  82,  86,  90,  94,  98, 102, 106])"
            ]
          },
          "execution_count": 50,
          "metadata": {},
          "output_type": "execute_result"
        }
      ],
      "source": [
        "# Same result as above\n",
        "y = X + 10\n",
        "y"
      ]
    },
    {
      "cell_type": "markdown",
      "metadata": {
        "id": "ax3MnQDupeBp"
      },
      "source": [
        "## Split data into training/test set\n",
        "\n",
        "One of the other most common and important steps in a machine learning project is creating a training and test set (and when required, a validation set).\n",
        "\n",
        "Each set serves a specific purpose:\n",
        "* **Training set** - the model learns from this data, which is typically 70-80% of the total data available (like the course materials you study during the semester).\n",
        "* **Validation set** - the model gets tuned on this data, which is typically 10-15% of the total data available (like the practice exam you take before the final exam).\n",
        "* **Test set** - the model gets evaluated on this data to test what it has learned, it's typically 10-15% of the total data available (like the final exam you take at the end of the semester).\n",
        "\n",
        "For now, we'll just use a training and test set, this means we'll have a dataset for our model to learn on as well as be evaluated on.\n",
        "\n",
        "We can create them by splitting our `X` and `y` arrays.\n",
        "\n",
        "> 🔑 **Note:** When dealing with real-world data, this step is typically done right at the start of a project (the test set should always be kept separate from all other data). We want our model to learn on training data and then evaluate it on test data to get an indication of how well it **generalizes** to unseen examples."
      ]
    },
    {
      "cell_type": "code",
      "execution_count": 51,
      "metadata": {
        "colab": {
          "base_uri": "https://localhost:8080/"
        },
        "id": "5G0RDMnZrgvK",
        "outputId": "d7bffb88-c10b-47fd-cd68-b1d678f8647f"
      },
      "outputs": [
        {
          "data": {
            "text/plain": [
              "50"
            ]
          },
          "execution_count": 51,
          "metadata": {},
          "output_type": "execute_result"
        }
      ],
      "source": [
        "# Check how many samples we have\n",
        "len(X)"
      ]
    },
    {
      "cell_type": "code",
      "execution_count": 52,
      "metadata": {
        "colab": {
          "base_uri": "https://localhost:8080/"
        },
        "id": "4Q9ptcQkrGfO",
        "outputId": "402152b7-1abe-4eae-fc85-b7aa5224e966"
      },
      "outputs": [
        {
          "data": {
            "text/plain": [
              "(40, 10)"
            ]
          },
          "execution_count": 52,
          "metadata": {},
          "output_type": "execute_result"
        }
      ],
      "source": [
        "# Split data into train and test sets\n",
        "X_train = X[:40] # first 40 examples (80% of data)\n",
        "y_train = y[:40]\n",
        "\n",
        "X_test = X[40:] # last 10 examples (20% of data)\n",
        "y_test = y[40:]\n",
        "\n",
        "len(X_train), len(X_test)"
      ]
    },
    {
      "cell_type": "markdown",
      "metadata": {
        "id": "Rz2cIdECsLH5"
      },
      "source": [
        "## Visualizing the data\n",
        "\n",
        "Now we've got our training and test data, it's a good idea to visualize it.\n",
        "\n",
        "Let's plot it with some nice colours to differentiate what's what."
      ]
    },
    {
      "cell_type": "code",
      "execution_count": 53,
      "metadata": {
        "colab": {
          "base_uri": "https://localhost:8080/",
          "height": 428
        },
        "id": "os30CXBHsOAH",
        "outputId": "44a785b8-7535-4d44-8075-2e507e26e11a"
      },
      "outputs": [
        {
          "data": {
            "image/png": "[encoded data removed]",
            "text/plain": [
              "<Figure size 720x504 with 1 Axes>"
            ]
          },
          "metadata": {
            "needs_background": "light"
          },
          "output_type": "display_data"
        }
      ],
      "source": [
        "plt.figure(figsize=(10, 7))\n",
        "# Plot training data in blue\n",
        "plt.scatter(X_train, y_train, c='b', label='Training data')\n",
        "# Plot test data in green\n",
        "plt.scatter(X_test, y_test, c='g', label='Testing data')\n",
        "# Show the legend\n",
        "plt.legend();"
      ]
    },
    {
      "cell_type": "markdown",
      "metadata": {
        "id": "cxRcHZFgtS_B"
      },
      "source": [
        "Beautiful! Any time you can visualize your data, your model, your anything, it's a good idea. \n",
        "\n",
        "With this graph in mind, what we'll be trying to do is build a model which learns the pattern in the blue dots (`X_train`) to draw the green dots (`X_test`).\n",
        "\n",
        "Time to build a model. We'll make the exact same one from before (the one we trained for longer)."
      ]
    },
    {
      "cell_type": "code",
      "execution_count": 54,
      "metadata": {
        "id": "4qpe0eSStSm-"
      },
      "outputs": [],
      "source": [
        "# Set random seed\n",
        "tf.random.set_seed(42)\n",
        "\n",
        "# Create a model (same as above)\n",
        "model = tf.keras.Sequential([\n",
        "  tf.keras.layers.Dense(1)\n",
        "])\n",
        "\n",
        "# Compile model (same as above)\n",
        "model.compile(loss=tf.keras.losses.mae,\n",
        "              optimizer=tf.keras.optimizers.SGD(),\n",
        "              metrics=[\"mae\"])\n",
        "\n",
        "# Fit model (same as above)\n",
        "#model.fit(X_train, y_train, epochs=100) # commented out on purpose (not fitting it just yet)"
      ]
    },
    {
      "cell_type": "markdown",
      "metadata": {
        "id": "hc2RHCCfqlAc"
      },
      "source": [
        "## Visualizing the model\n",
        "\n",
        "After you've built a model, you might want to take a look at it (especially if you haven't built many before).\n",
        "\n",
        "You can take a look at the layers and shapes of your model by calling [`summary()`](https://www.tensorflow.org/api_docs/python/tf/keras/Model#summary) on it.\n",
        "\n",
        "> 🔑 **Note:** Visualizing a model is particularly helpful when you run into input and output shape mismatches."
      ]
    },
    {
      "cell_type": "code",
      "execution_count": 55,
      "metadata": {
        "colab": {
          "base_uri": "https://localhost:8080/",
          "height": 334
        },
        "id": "OlgJj0cFwChH",
        "outputId": "44547880-60d0-4070-8a8e-af3ebbbcff74"
      },
      "outputs": [],
      "source": [
        "# Doesn't work (model not fit/built)\n",
        "# model.summary()"
      ]
    },
    {
      "cell_type": "markdown",
      "metadata": {
        "id": "SJj6KLe8xsyF"
      },
      "source": [
        "Ahh, the cell above errors because we haven't fit our built our model.\n",
        "\n",
        "We also haven't told it what input shape it should be expecting.\n",
        "\n",
        "Remember above, how we discussed the input shape was just one number?\n",
        "\n",
        "We can let our model know the input shape of our data using the `input_shape` parameter to the first layer (usually if `input_shape` isn't defined, Keras tries to figure it out automatically)."
      ]
    },
    {
      "cell_type": "code",
      "execution_count": 56,
      "metadata": {
        "id": "zMXKFtFBuWgJ"
      },
      "outputs": [],
      "source": [
        "# Set random seed\n",
        "tf.random.set_seed(42)\n",
        "\n",
        "# Create a model (same as above)\n",
        "model = tf.keras.Sequential([\n",
        "  tf.keras.layers.Dense(1, input_shape=[1]) # define the input_shape to our model\n",
        "])\n",
        "\n",
        "# Compile model (same as above)\n",
        "model.compile(loss=tf.keras.losses.mae,\n",
        "              optimizer=tf.keras.optimizers.SGD(),\n",
        "              metrics=[\"mae\"])"
      ]
    },
    {
      "cell_type": "code",
      "execution_count": 57,
      "metadata": {
        "colab": {
          "base_uri": "https://localhost:8080/"
        },
        "id": "24Q325x2yCoi",
        "outputId": "316b4790-abb8-4d16-c2a8-11087e8ca8ca"
      },
      "outputs": [
        {
          "name": "stdout",
          "output_type": "stream",
          "text": [
            "Model: \"sequential_8\"\n",
            "_________________________________________________________________\n",
            " Layer (type)                Output Shape              Param #   \n",
            "=================================================================\n",
            " dense_16 (Dense)            (None, 1)                 2         \n",
            "                                                                 \n",
            "=================================================================\n",
            "Total params: 2\n",
            "Trainable params: 2\n",
            "Non-trainable params: 0\n",
            "_________________________________________________________________\n"
          ]
        }
      ],
      "source": [
        "# This will work after specifying the input shape\n",
        "model.summary()"
      ]
    },
    {
      "cell_type": "markdown",
      "metadata": {
        "id": "jdurWKlryl6b"
      },
      "source": [
        "Calling `summary()` on our model shows us the layers it contains, the output shape and the number of parameters.\n",
        "* **Total params** - total number of parameters in the model.\n",
        "* **Trainable parameters** - these are the parameters (patterns) the model can update as it trains.\n",
        "* **Non-trainable parameters** - these parameters aren't updated during training (this is typical when you bring in the already learned patterns from other models during transfer learning).\n",
        "\n",
        "> 📖 **Resource:** For a more in-depth overview of the trainable parameters within a layer, check out [MIT's introduction to deep learning video](https://youtu.be/njKP3FqW3Sk).\n",
        "\n",
        "> 🛠 **Exercise:** Try playing around with the number of hidden units in the `Dense` layer (e.g. `Dense(2)`, `Dense(3)`). How does this change the Total/Trainable params? Investigate what's causing the change.\n",
        "\n",
        "For now, all you need to think about these parameters is that their learnable patterns in the data.\n",
        "\n",
        "Let's fit our model to the training data."
      ]
    },
    {
      "cell_type": "code",
      "execution_count": 58,
      "metadata": {
        "colab": {
          "base_uri": "https://localhost:8080/"
        },
        "id": "-Kywg4q9u051",
        "outputId": "32d2564b-0383-4688-ab1c-0711573b4e2a"
      },
      "outputs": [
        {
          "data": {
            "text/plain": [
              "<keras.callbacks.History at 0x7ff4a22cf3d0>"
            ]
          },
          "execution_count": 58,
          "metadata": {},
          "output_type": "execute_result"
        }
      ],
      "source": [
        "# Fit the model to the training data\n",
        "model.fit(X_train, y_train, epochs=100, verbose=0) # verbose controls how much gets output"
      ]
    },
    {
      "cell_type": "code",
      "execution_count": 59,
      "metadata": {
        "colab": {
          "base_uri": "https://localhost:8080/"
        },
        "id": "-jWuOwj961ri",
        "outputId": "5f1717a8-c183-492d-e8ef-45ad5368f9de"
      },
      "outputs": [
        {
          "name": "stdout",
          "output_type": "stream",
          "text": [
            "Model: \"sequential_8\"\n",
            "_________________________________________________________________\n",
            " Layer (type)                Output Shape              Param #   \n",
            "=================================================================\n",
            " dense_16 (Dense)            (None, 1)                 2         \n",
            "                                                                 \n",
            "=================================================================\n",
            "Total params: 2\n",
            "Trainable params: 2\n",
            "Non-trainable params: 0\n",
            "_________________________________________________________________\n"
          ]
        }
      ],
      "source": [
        "# Check the model summary\n",
        "model.summary()"
      ]
    },
    {
      "cell_type": "markdown",
      "metadata": {
        "id": "RrrkHEkMYh5A"
      },
      "source": [
        "Alongside summary, you can also view a 2D plot of the model using [`plot_model()`](https://www.tensorflow.org/api_docs/python/tf/keras/utils/plot_model)."
      ]
    },
    {
      "cell_type": "code",
      "execution_count": 61,
      "metadata": {
        "colab": {
          "base_uri": "https://localhost:8080/",
          "height": 201
        },
        "id": "liIg5WqDfdK4",
        "outputId": "05654e49-d1cc-4c5c-c80a-f9b27b552f8b"
      },
      "outputs": [],
      "source": [
        "from tensorflow.keras.utils import plot_model\n"
      ]
    },
    {
      "cell_type": "code",
      "execution_count": 63,
      "metadata": {},
      "outputs": [
        {
          "ename": "AttributeError",
          "evalue": "module 'os' has no attribute 'errno'",
          "output_type": "error",
          "traceback": [
            "\u001b[0;31m---------------------------------------------------------------------------\u001b[0m",
            "\u001b[0;31mFileNotFoundError\u001b[0m                         Traceback (most recent call last)",
            "File \u001b[0;32m/usr/local/anaconda3/lib/python3.9/site-packages/pydot.py:1856\u001b[0m, in \u001b[0;36mDot.create\u001b[0;34m(self, prog, format, encoding)\u001b[0m\n\u001b[1;32m   1855\u001b[0m \u001b[39mtry\u001b[39;00m:\n\u001b[0;32m-> 1856\u001b[0m     p \u001b[39m=\u001b[39m subprocess\u001b[39m.\u001b[39;49mPopen(\n\u001b[1;32m   1857\u001b[0m         cmdline,\n\u001b[1;32m   1858\u001b[0m         env\u001b[39m=\u001b[39;49menv,\n\u001b[1;32m   1859\u001b[0m         cwd\u001b[39m=\u001b[39;49mtmp_dir,\n\u001b[1;32m   1860\u001b[0m         shell\u001b[39m=\u001b[39;49m\u001b[39mFalse\u001b[39;49;00m,\n\u001b[1;32m   1861\u001b[0m         stderr\u001b[39m=\u001b[39;49msubprocess\u001b[39m.\u001b[39;49mPIPE, stdout\u001b[39m=\u001b[39;49msubprocess\u001b[39m.\u001b[39;49mPIPE)\n\u001b[1;32m   1862\u001b[0m \u001b[39mexcept\u001b[39;00m \u001b[39mOSError\u001b[39;00m \u001b[39mas\u001b[39;00m e:\n",
            "File \u001b[0;32m/usr/local/anaconda3/lib/python3.9/subprocess.py:951\u001b[0m, in \u001b[0;36mPopen.__init__\u001b[0;34m(self, args, bufsize, executable, stdin, stdout, stderr, preexec_fn, close_fds, shell, cwd, env, universal_newlines, startupinfo, creationflags, restore_signals, start_new_session, pass_fds, user, group, extra_groups, encoding, errors, text, umask)\u001b[0m\n\u001b[1;32m    948\u001b[0m             \u001b[39mself\u001b[39m\u001b[39m.\u001b[39mstderr \u001b[39m=\u001b[39m io\u001b[39m.\u001b[39mTextIOWrapper(\u001b[39mself\u001b[39m\u001b[39m.\u001b[39mstderr,\n\u001b[1;32m    949\u001b[0m                     encoding\u001b[39m=\u001b[39mencoding, errors\u001b[39m=\u001b[39merrors)\n\u001b[0;32m--> 951\u001b[0m     \u001b[39mself\u001b[39;49m\u001b[39m.\u001b[39;49m_execute_child(args, executable, preexec_fn, close_fds,\n\u001b[1;32m    952\u001b[0m                         pass_fds, cwd, env,\n\u001b[1;32m    953\u001b[0m                         startupinfo, creationflags, shell,\n\u001b[1;32m    954\u001b[0m                         p2cread, p2cwrite,\n\u001b[1;32m    955\u001b[0m                         c2pread, c2pwrite,\n\u001b[1;32m    956\u001b[0m                         errread, errwrite,\n\u001b[1;32m    957\u001b[0m                         restore_signals,\n\u001b[1;32m    958\u001b[0m                         gid, gids, uid, umask,\n\u001b[1;32m    959\u001b[0m                         start_new_session)\n\u001b[1;32m    960\u001b[0m \u001b[39mexcept\u001b[39;00m:\n\u001b[1;32m    961\u001b[0m     \u001b[39m# Cleanup if the child failed starting.\u001b[39;00m\n",
            "File \u001b[0;32m/usr/local/anaconda3/lib/python3.9/subprocess.py:1821\u001b[0m, in \u001b[0;36mPopen._execute_child\u001b[0;34m(self, args, executable, preexec_fn, close_fds, pass_fds, cwd, env, startupinfo, creationflags, shell, p2cread, p2cwrite, c2pread, c2pwrite, errread, errwrite, restore_signals, gid, gids, uid, umask, start_new_session)\u001b[0m\n\u001b[1;32m   1820\u001b[0m         err_msg \u001b[39m=\u001b[39m os\u001b[39m.\u001b[39mstrerror(errno_num)\n\u001b[0;32m-> 1821\u001b[0m     \u001b[39mraise\u001b[39;00m child_exception_type(errno_num, err_msg, err_filename)\n\u001b[1;32m   1822\u001b[0m \u001b[39mraise\u001b[39;00m child_exception_type(err_msg)\n",
            "\u001b[0;31mFileNotFoundError\u001b[0m: [Errno 2] No such file or directory: 'dot'",
            "\nDuring handling of the above exception, another exception occurred:\n",
            "\u001b[0;31mAttributeError\u001b[0m                            Traceback (most recent call last)",
            "\u001b[1;32m/Users/hinzlehome/wof/tensorflow/01_neural_network_regression_in_tensorflow.ipynb Cell 58\u001b[0m in \u001b[0;36m<cell line: 1>\u001b[0;34m()\u001b[0m\n\u001b[0;32m----> <a href='vscode-notebook-cell:/Users/hinzlehome/wof/tensorflow/01_neural_network_regression_in_tensorflow.ipynb#ch0000161?line=0'>1</a>\u001b[0m plot_model(model)\n",
            "File \u001b[0;32m/usr/local/anaconda3/lib/python3.9/site-packages/keras/utils/vis_utils.py:436\u001b[0m, in \u001b[0;36mplot_model\u001b[0;34m(model, to_file, show_shapes, show_dtype, show_layer_names, rankdir, expand_nested, dpi, layer_range, show_layer_activations)\u001b[0m\n\u001b[1;32m    429\u001b[0m \u001b[39mif\u001b[39;00m \u001b[39mnot\u001b[39;00m model\u001b[39m.\u001b[39mbuilt:\n\u001b[1;32m    430\u001b[0m     \u001b[39mraise\u001b[39;00m \u001b[39mValueError\u001b[39;00m(\n\u001b[1;32m    431\u001b[0m         \u001b[39m\"\u001b[39m\u001b[39mThis model has not yet been built. \u001b[39m\u001b[39m\"\u001b[39m\n\u001b[1;32m    432\u001b[0m         \u001b[39m\"\u001b[39m\u001b[39mBuild the model first by calling `build()` or by calling \u001b[39m\u001b[39m\"\u001b[39m\n\u001b[1;32m    433\u001b[0m         \u001b[39m\"\u001b[39m\u001b[39mthe model on a batch of data.\u001b[39m\u001b[39m\"\u001b[39m\n\u001b[1;32m    434\u001b[0m     )\n\u001b[0;32m--> 436\u001b[0m \u001b[39mif\u001b[39;00m \u001b[39mnot\u001b[39;00m check_graphviz():\n\u001b[1;32m    437\u001b[0m     message \u001b[39m=\u001b[39m (\n\u001b[1;32m    438\u001b[0m         \u001b[39m\"\u001b[39m\u001b[39mYou must install pydot (`pip install pydot`) \u001b[39m\u001b[39m\"\u001b[39m\n\u001b[1;32m    439\u001b[0m         \u001b[39m\"\u001b[39m\u001b[39mand install graphviz \u001b[39m\u001b[39m\"\u001b[39m\n\u001b[1;32m    440\u001b[0m         \u001b[39m\"\u001b[39m\u001b[39m(see instructions at https://graphviz.gitlab.io/download/) \u001b[39m\u001b[39m\"\u001b[39m\n\u001b[1;32m    441\u001b[0m         \u001b[39m\"\u001b[39m\u001b[39mfor plot_model to work.\u001b[39m\u001b[39m\"\u001b[39m\n\u001b[1;32m    442\u001b[0m     )\n\u001b[1;32m    443\u001b[0m     \u001b[39mif\u001b[39;00m \u001b[39m\"\u001b[39m\u001b[39mIPython.core.magics.namespace\u001b[39m\u001b[39m\"\u001b[39m \u001b[39min\u001b[39;00m sys\u001b[39m.\u001b[39mmodules:\n\u001b[1;32m    444\u001b[0m         \u001b[39m# We don't raise an exception here in order to avoid crashing\u001b[39;00m\n\u001b[1;32m    445\u001b[0m         \u001b[39m# notebook tests where graphviz is not available.\u001b[39;00m\n",
            "File \u001b[0;32m/usr/local/anaconda3/lib/python3.9/site-packages/keras/utils/vis_utils.py:57\u001b[0m, in \u001b[0;36mcheck_graphviz\u001b[0;34m()\u001b[0m\n\u001b[1;32m     53\u001b[0m     \u001b[39mreturn\u001b[39;00m \u001b[39mFalse\u001b[39;00m\n\u001b[1;32m     54\u001b[0m \u001b[39mtry\u001b[39;00m:\n\u001b[1;32m     55\u001b[0m     \u001b[39m# Attempt to create an image of a blank graph\u001b[39;00m\n\u001b[1;32m     56\u001b[0m     \u001b[39m# to check the pydot/graphviz installation.\u001b[39;00m\n\u001b[0;32m---> 57\u001b[0m     pydot\u001b[39m.\u001b[39;49mDot\u001b[39m.\u001b[39;49mcreate(pydot\u001b[39m.\u001b[39;49mDot())\n\u001b[1;32m     58\u001b[0m     \u001b[39mreturn\u001b[39;00m \u001b[39mTrue\u001b[39;00m\n\u001b[1;32m     59\u001b[0m \u001b[39mexcept\u001b[39;00m (\u001b[39mOSError\u001b[39;00m, pydot\u001b[39m.\u001b[39mInvocationException):\n",
            "File \u001b[0;32m/usr/local/anaconda3/lib/python3.9/site-packages/pydot.py:1863\u001b[0m, in \u001b[0;36mDot.create\u001b[0;34m(self, prog, format, encoding)\u001b[0m\n\u001b[1;32m   1856\u001b[0m     p \u001b[39m=\u001b[39m subprocess\u001b[39m.\u001b[39mPopen(\n\u001b[1;32m   1857\u001b[0m         cmdline,\n\u001b[1;32m   1858\u001b[0m         env\u001b[39m=\u001b[39menv,\n\u001b[1;32m   1859\u001b[0m         cwd\u001b[39m=\u001b[39mtmp_dir,\n\u001b[1;32m   1860\u001b[0m         shell\u001b[39m=\u001b[39m\u001b[39mFalse\u001b[39;00m,\n\u001b[1;32m   1861\u001b[0m         stderr\u001b[39m=\u001b[39msubprocess\u001b[39m.\u001b[39mPIPE, stdout\u001b[39m=\u001b[39msubprocess\u001b[39m.\u001b[39mPIPE)\n\u001b[1;32m   1862\u001b[0m \u001b[39mexcept\u001b[39;00m \u001b[39mOSError\u001b[39;00m \u001b[39mas\u001b[39;00m e:\n\u001b[0;32m-> 1863\u001b[0m     \u001b[39mif\u001b[39;00m e\u001b[39m.\u001b[39merrno \u001b[39m==\u001b[39m os\u001b[39m.\u001b[39;49merrno\u001b[39m.\u001b[39mENOENT:\n\u001b[1;32m   1864\u001b[0m         args \u001b[39m=\u001b[39m \u001b[39mlist\u001b[39m(e\u001b[39m.\u001b[39margs)\n\u001b[1;32m   1865\u001b[0m         args[\u001b[39m1\u001b[39m] \u001b[39m=\u001b[39m \u001b[39m'\u001b[39m\u001b[39m\"\u001b[39m\u001b[39m{prog}\u001b[39;00m\u001b[39m\"\u001b[39m\u001b[39m not found in path.\u001b[39m\u001b[39m'\u001b[39m\u001b[39m.\u001b[39mformat(\n\u001b[1;32m   1866\u001b[0m             prog\u001b[39m=\u001b[39mprog)\n",
            "\u001b[0;31mAttributeError\u001b[0m: module 'os' has no attribute 'errno'"
          ]
        }
      ],
      "source": [
        "\n",
        "plot_model(model)"
      ]
    },
    {
      "cell_type": "markdown",
      "metadata": {
        "id": "ygw7V8OVYxQS"
      },
      "source": [
        "In our case, the model we used only has an input and an output but visualizing more complicated models can be very helpful for debugging."
      ]
    },
    {
      "cell_type": "markdown",
      "metadata": {
        "id": "gebj2eptqwg8"
      },
      "source": [
        "## Visualizing the predictions\n",
        "\n",
        "Now we've got a trained model, let's visualize some predictions.\n",
        "\n",
        "To visualize predictions, it's always a good idea to plot them against the ground truth labels.\n",
        "\n",
        "Often you'll see this in the form of `y_test` vs. `y_pred` (ground truth vs. predictions).\n",
        "\n",
        "First, we'll make some predictions on the test data (`X_test`), remember the model has never seen the test data."
      ]
    },
    {
      "cell_type": "code",
      "execution_count": null,
      "metadata": {
        "colab": {
          "base_uri": "https://localhost:8080/"
        },
        "id": "RRzj7LJMYftb",
        "outputId": "ba064840-2194-4147-e5cd-998aa4c73933"
      },
      "outputs": [],
      "source": [
        "# Make predictions\n",
        "y_preds = model.predict(X_test)"
      ]
    },
    {
      "cell_type": "code",
      "execution_count": null,
      "metadata": {
        "colab": {
          "base_uri": "https://localhost:8080/"
        },
        "id": "_hKpW-KOZiAW",
        "outputId": "f31dea6e-0f76-4662-bcba-7cc64ccd8932"
      },
      "outputs": [],
      "source": [
        "# View the predictions\n",
        "y_preds"
      ]
    },
    {
      "cell_type": "markdown",
      "metadata": {
        "id": "aPRaFncaZnT-"
      },
      "source": [
        "Okay, we get a list of numbers but how do these compare to the ground truth labels?\n",
        "\n",
        "Let's build a plotting function to find out.\n",
        "\n",
        "> 🔑 **Note:** If you think you're going to be visualizing something a lot, it's a good idea to functionize it so you can use it later."
      ]
    },
    {
      "cell_type": "code",
      "execution_count": null,
      "metadata": {
        "id": "56euC69rZvNJ"
      },
      "outputs": [],
      "source": [
        "def plot_predictions(train_data=X_train, \n",
        "                     train_labels=y_train, \n",
        "                     test_data=X_test, \n",
        "                     test_labels=y_test, \n",
        "                     predictions=y_preds):\n",
        "  \"\"\"\n",
        "  Plots training data, test data and compares predictions.\n",
        "  \"\"\"\n",
        "  plt.figure(figsize=(10, 7))\n",
        "  # Plot training data in blue\n",
        "  plt.scatter(train_data, train_labels, c=\"b\", label=\"Training data\")\n",
        "  # Plot test data in green\n",
        "  plt.scatter(test_data, test_labels, c=\"g\", label=\"Testing data\")\n",
        "  # Plot the predictions in red (predictions were made on the test data)\n",
        "  plt.scatter(test_data, predictions, c=\"r\", label=\"Predictions\")\n",
        "  # Show the legend\n",
        "  plt.legend();"
      ]
    },
    {
      "cell_type": "code",
      "execution_count": null,
      "metadata": {
        "colab": {
          "base_uri": "https://localhost:8080/",
          "height": 428
        },
        "id": "Fug5_B6Ab7Ah",
        "outputId": "8ab057a0-528a-43ad-cdee-078608c58da4"
      },
      "outputs": [],
      "source": [
        "plot_predictions(train_data=X_train,\n",
        "                 train_labels=y_train,\n",
        "                 test_data=X_test,\n",
        "                 test_labels=y_test,\n",
        "                 predictions=y_preds)"
      ]
    },
    {
      "cell_type": "markdown",
      "metadata": {
        "id": "H63NPcgPcwZV"
      },
      "source": [
        "From the plot we can see our predictions aren't totally outlandish but they definitely aren't anything special either."
      ]
    },
    {
      "cell_type": "markdown",
      "metadata": {
        "id": "orAfIWOrgRDA"
      },
      "source": [
        "## Evaluating predictions\n",
        "\n",
        "Alongisde visualizations, evaulation metrics are your alternative best option for evaluating your model.\n",
        "\n",
        "Depending on the problem you're working on, different models have different evaluation metrics. \n",
        "\n",
        "Two of the main metrics used for regression problems are:\n",
        "* **Mean absolute error (MAE)** - the mean difference between each of the predictions.\n",
        "* **Mean squared error (MSE)** - the squared mean difference between of the predictions (use if larger errors are more detrimental than smaller errors).\n",
        "\n",
        "The lower each of these values, the better.\n",
        "\n",
        "You can also use [`model.evaluate()`](https://www.tensorflow.org/api_docs/python/tf/keras/Model#evaluate) which will return the loss of the model as well as any metrics setup during the compile step."
      ]
    },
    {
      "cell_type": "code",
      "execution_count": null,
      "metadata": {
        "colab": {
          "base_uri": "https://localhost:8080/"
        },
        "id": "DPgTdF3ddxiY",
        "outputId": "635fd3f4-00bf-4412-e959-917c831ae5bf"
      },
      "outputs": [],
      "source": [
        "# Evaluate the model on the test set\n",
        "model.evaluate(X_test, y_test)"
      ]
    },
    {
      "cell_type": "markdown",
      "metadata": {
        "id": "DAXIRyVzegFd"
      },
      "source": [
        "In our case, since we used MAE for the loss function as well as MAE for the metrics, `model.evaulate()` returns them both.\n",
        "\n",
        "TensorFlow also has built in functions for MSE and MAE.\n",
        "\n",
        "For many evaluation functions, the premise is the same: compare predictions to the ground truth labels."
      ]
    },
    {
      "cell_type": "code",
      "execution_count": null,
      "metadata": {
        "colab": {
          "base_uri": "https://localhost:8080/"
        },
        "id": "gqoMQ0dJeD2S",
        "outputId": "f8938dff-e7d9-4a64-f99f-c62c65413f18"
      },
      "outputs": [],
      "source": [
        "# Calculate the mean absolute error\n",
        "mae = tf.metrics.mean_absolute_error(y_true=y_test, \n",
        "                                     y_pred=y_preds)\n",
        "mae"
      ]
    },
    {
      "cell_type": "markdown",
      "metadata": {
        "id": "7pYp3XNYfkyC"
      },
      "source": [
        "Huh? That's strange, MAE should be a single output.\n",
        "\n",
        "Instead, we get 10 values.\n",
        "\n",
        "This is because our `y_test` and `y_preds` tensors are different shapes."
      ]
    },
    {
      "cell_type": "code",
      "execution_count": null,
      "metadata": {
        "colab": {
          "base_uri": "https://localhost:8080/"
        },
        "id": "zeUHwOc2gIV4",
        "outputId": "b5f2e2c8-8bf9-469c-aff2-fbbca656fe54"
      },
      "outputs": [],
      "source": [
        "# Check the test label tensor values\n",
        "y_test"
      ]
    },
    {
      "cell_type": "code",
      "execution_count": null,
      "metadata": {
        "colab": {
          "base_uri": "https://localhost:8080/"
        },
        "id": "3aJwlTxugPyc",
        "outputId": "cfa714b2-f083-4d35-c8c0-6dc31b4a9f03"
      },
      "outputs": [],
      "source": [
        "# Check the predictions tensor values (notice the extra square brackets)\n",
        "y_preds"
      ]
    },
    {
      "cell_type": "code",
      "execution_count": null,
      "metadata": {
        "colab": {
          "base_uri": "https://localhost:8080/"
        },
        "id": "xolZ-lmge_ES",
        "outputId": "0ae30863-314f-4699-9ad8-951df7f4d55d"
      },
      "outputs": [],
      "source": [
        "# Check the tensor shapes\n",
        "y_test.shape, y_preds.shape"
      ]
    },
    {
      "cell_type": "markdown",
      "metadata": {
        "id": "eW1qleu5gHyZ"
      },
      "source": [
        "Remember how we discussed dealing with different input and output shapes is one the most common issues you'll come across, this is one of those times.\n",
        "\n",
        "But not to worry.\n",
        "\n",
        "We can fix it using [`squeeze()`](https://www.tensorflow.org/api_docs/python/tf/squeeze), it'll remove the the `1` dimension from our `y_preds` tensor, making it the same shape as `y_test`.\n",
        "\n",
        "> 🔑 **Note:** If you're comparing two tensors, it's important to make sure they're the right shape(s) (you won't always have to manipulate the shapes, but always be on the look out, *many* errors are the result of mismatched tensors, especially mismatched input and output shapes)."
      ]
    },
    {
      "cell_type": "code",
      "execution_count": null,
      "metadata": {
        "colab": {
          "base_uri": "https://localhost:8080/"
        },
        "id": "tVtMyw70g4aF",
        "outputId": "1345aaa4-c6da-468f-91a2-4f9151ab2a46"
      },
      "outputs": [],
      "source": [
        "# Shape before squeeze()\n",
        "y_preds.shape"
      ]
    },
    {
      "cell_type": "code",
      "execution_count": null,
      "metadata": {
        "colab": {
          "base_uri": "https://localhost:8080/"
        },
        "id": "qnYaBnCng-Nq",
        "outputId": "5d5a33d4-1fae-4a40-ba2f-06b93d9e208c"
      },
      "outputs": [],
      "source": [
        "# Shape after squeeze()\n",
        "y_preds.squeeze().shape"
      ]
    },
    {
      "cell_type": "code",
      "execution_count": null,
      "metadata": {
        "colab": {
          "base_uri": "https://localhost:8080/"
        },
        "id": "HxvVeD64hEX8",
        "outputId": "21c20781-b6cf-4d35-c6a7-c32882a9baf0"
      },
      "outputs": [],
      "source": [
        "# What do they look like?\n",
        "y_test, y_preds.squeeze()"
      ]
    },
    {
      "cell_type": "markdown",
      "metadata": {
        "id": "mfUCIeHyhLk7"
      },
      "source": [
        "Okay, now we know how to make our `y_test` and `y_preds` tenors the same shape, let's use our evaluation metrics."
      ]
    },
    {
      "cell_type": "code",
      "execution_count": null,
      "metadata": {
        "colab": {
          "base_uri": "https://localhost:8080/"
        },
        "id": "TvjY6GIJvXBO",
        "outputId": "e5617649-57f9-4304-9b66-1f77edf74695"
      },
      "outputs": [],
      "source": [
        "# Calcuate the MAE\n",
        "mae = tf.metrics.mean_absolute_error(y_true=y_test, \n",
        "                                     y_pred=y_preds.squeeze()) # use squeeze() to make same shape\n",
        "mae"
      ]
    },
    {
      "cell_type": "code",
      "execution_count": null,
      "metadata": {
        "colab": {
          "base_uri": "https://localhost:8080/"
        },
        "id": "EwA9nGJzvbMT",
        "outputId": "9a1c0403-36b3-4a89-f0bc-9d36a83dd8fc"
      },
      "outputs": [],
      "source": [
        "# Calculate the MSE\n",
        "mse = tf.metrics.mean_squared_error(y_true=y_test,\n",
        "                                    y_pred=y_preds.squeeze())\n",
        "mse"
      ]
    },
    {
      "cell_type": "markdown",
      "metadata": {
        "id": "X06oo_CIjPbL"
      },
      "source": [
        "We can also calculate the MAE using pure TensorFlow functions."
      ]
    },
    {
      "cell_type": "code",
      "execution_count": null,
      "metadata": {
        "colab": {
          "base_uri": "https://localhost:8080/"
        },
        "id": "YxiD6-QBYSzd",
        "outputId": "459b3159-56b8-4067-e548-dd4a2677cc9d"
      },
      "outputs": [],
      "source": [
        "# Returns the same as tf.metrics.mean_absolute_error()\n",
        "tf.reduce_mean(tf.abs(y_test-y_preds.squeeze()))"
      ]
    },
    {
      "cell_type": "markdown",
      "metadata": {
        "id": "rmEho4lYofOa"
      },
      "source": [
        "Again, it's a good idea to functionize anything you think you might use over again (or find yourself using over and over again).\n",
        "\n",
        "Let's make functions for our evaluation metrics."
      ]
    },
    {
      "cell_type": "code",
      "execution_count": null,
      "metadata": {
        "id": "bs1Z2jgNol5f"
      },
      "outputs": [],
      "source": [
        "def mae(y_test, y_pred):\n",
        "  \"\"\"\n",
        "  Calculuates mean absolute error between y_test and y_preds.\n",
        "  \"\"\"\n",
        "  return tf.metrics.mean_absolute_error(y_test,\n",
        "                                        y_pred)\n",
        "  \n",
        "def mse(y_test, y_pred):\n",
        "  \"\"\"\n",
        "  Calculates mean squared error between y_test and y_preds.\n",
        "  \"\"\"\n",
        "  return tf.metrics.mean_squared_error(y_test,\n",
        "                                       y_pred)"
      ]
    },
    {
      "cell_type": "markdown",
      "metadata": {
        "id": "zub5zK7bcl40"
      },
      "source": [
        "## Running experiments to improve a model\n",
        "\n",
        "After seeing the evaluation metrics and the predictions your model makes, it's likely you'll want to improve it.\n",
        "\n",
        "Again, there are many different ways you can do this, but 3 of the main ones are:\n",
        "1. **Get more data** - get more examples for your model to train on (more opportunities to learn patterns).\n",
        "2. **Make your model larger (use a more complex model)** - this might come in the form of more layers or more hidden units in each layer.\n",
        "3. **Train for longer** - give your model more of a chance to find the patterns in the data.\n",
        "\n",
        "Since we created our dataset, we could easily make more data but this isn't always the case when you're working with real-world datasets.\n",
        "\n",
        "So let's take a look at how we can improve our model using 2 and 3.\n",
        "\n",
        "To do so, we'll build 3 models and compare their results:\n",
        "1. `model_1` - same as original model, 1 layer, trained for 100 epochs.\n",
        "2. `model_2` - 2 layers, trained for 100 epochs.\n",
        "3. `model_3` - 2 layers, trained for 500 epochs.\n",
        "\n",
        "**Build `model_1`**"
      ]
    },
    {
      "cell_type": "code",
      "execution_count": null,
      "metadata": {
        "colab": {
          "base_uri": "https://localhost:8080/"
        },
        "id": "StVHIIM9csyS",
        "outputId": "b9c87603-1d3f-4d74-b246-bb9f567d8fa3"
      },
      "outputs": [],
      "source": [
        "# Set random seed\n",
        "tf.random.set_seed(42)\n",
        "\n",
        "# Replicate original model\n",
        "model_1 = tf.keras.Sequential([\n",
        "  tf.keras.layers.Dense(1)\n",
        "])\n",
        "\n",
        "# Compile the model\n",
        "model_1.compile(loss=tf.keras.losses.mae,\n",
        "                optimizer=tf.keras.optimizers.SGD(),\n",
        "                metrics=['mae'])\n",
        "\n",
        "# Fit the model\n",
        "model_1.fit(tf.expand_dims(X_train, axis=-1), y_train, epochs=100)"
      ]
    },
    {
      "cell_type": "code",
      "execution_count": null,
      "metadata": {
        "colab": {
          "base_uri": "https://localhost:8080/",
          "height": 465
        },
        "id": "A-Da56xspOrY",
        "outputId": "97967485-83f2-4463-b2e1-acfac187ac3e"
      },
      "outputs": [],
      "source": [
        "# Make and plot predictions for model_1\n",
        "y_preds_1 = model_1.predict(X_test)\n",
        "plot_predictions(predictions=y_preds_1)"
      ]
    },
    {
      "cell_type": "code",
      "execution_count": null,
      "metadata": {
        "colab": {
          "base_uri": "https://localhost:8080/"
        },
        "id": "EXxHBAtHoSh2",
        "outputId": "7dee67ef-1c5c-4011-e332-656dece0a41b"
      },
      "outputs": [],
      "source": [
        "# Calculate model_1 metrics\n",
        "mae_1 = mae(y_test, y_preds_1.squeeze()).numpy()\n",
        "mse_1 = mse(y_test, y_preds_1.squeeze()).numpy()\n",
        "mae_1, mse_1"
      ]
    },
    {
      "cell_type": "markdown",
      "metadata": {
        "id": "XXELOpdBrE9_"
      },
      "source": [
        "**Build `model_2`**\n",
        "\n",
        "This time we'll add an extra dense layer (so now our model will have 2 layers) whilst keeping everything else the same."
      ]
    },
    {
      "cell_type": "code",
      "execution_count": null,
      "metadata": {
        "colab": {
          "base_uri": "https://localhost:8080/"
        },
        "id": "05vcgEP3rEFi",
        "outputId": "36aea698-e728-4ce4-a41f-9ed0d9f7368f"
      },
      "outputs": [],
      "source": [
        "# Set random seed\n",
        "tf.random.set_seed(42)\n",
        "\n",
        "# Replicate model_1 and add an extra layer\n",
        "model_2 = tf.keras.Sequential([\n",
        "  tf.keras.layers.Dense(1),\n",
        "  tf.keras.layers.Dense(1) # add a second layer\n",
        "])\n",
        "\n",
        "# Compile the model\n",
        "model_2.compile(loss=tf.keras.losses.mae,\n",
        "                optimizer=tf.keras.optimizers.SGD(),\n",
        "                metrics=['mae'])\n",
        "\n",
        "# Fit the model\n",
        "model_2.fit(tf.expand_dims(X_train, axis=-1), y_train, epochs=100, verbose=0) # set verbose to 0 for less output"
      ]
    },
    {
      "cell_type": "code",
      "execution_count": null,
      "metadata": {
        "colab": {
          "base_uri": "https://localhost:8080/",
          "height": 428
        },
        "id": "9xCbDcoDraux",
        "outputId": "5c0391b8-2bbe-4d4f-c1ea-090ee6d93ff5"
      },
      "outputs": [],
      "source": [
        "# Make and plot predictions for model_2\n",
        "y_preds_2 = model_2.predict(X_test)\n",
        "plot_predictions(predictions=y_preds_2)"
      ]
    },
    {
      "cell_type": "markdown",
      "metadata": {
        "id": "GxMYu5Frri6o"
      },
      "source": [
        "Woah, that's looking better already! And all it took was an extra layer."
      ]
    },
    {
      "cell_type": "code",
      "execution_count": null,
      "metadata": {
        "colab": {
          "base_uri": "https://localhost:8080/"
        },
        "id": "9LnPuGaBrcrP",
        "outputId": "76d99ae4-14e6-4547-86b6-3847d64af935"
      },
      "outputs": [],
      "source": [
        "# Calculate model_2 metrics\n",
        "mae_2 = mae(y_test, y_preds_2.squeeze()).numpy()\n",
        "mse_2 = mse(y_test, y_preds_2.squeeze()).numpy()\n",
        "mae_2, mse_2"
      ]
    },
    {
      "cell_type": "markdown",
      "metadata": {
        "id": "R8i9yfQGrwHx"
      },
      "source": [
        "**Build `model_3`**\n",
        "\n",
        "For our 3rd model, we'll keep everything the same as `model_2` except this time we'll train for longer (500 epochs instead of 100).\n",
        "\n",
        "This will give our model more of a chance to learn the patterns in the data."
      ]
    },
    {
      "cell_type": "code",
      "execution_count": null,
      "metadata": {
        "colab": {
          "base_uri": "https://localhost:8080/"
        },
        "id": "ABGwQFsbrvUS",
        "outputId": "94ff92ba-7f6b-4ec3-db2c-c0864285205f"
      },
      "outputs": [],
      "source": [
        "# Set random seed\n",
        "tf.random.set_seed(42)\n",
        "\n",
        "# Replicate model_2\n",
        "model_3 = tf.keras.Sequential([\n",
        "  tf.keras.layers.Dense(1),\n",
        "  tf.keras.layers.Dense(1)\n",
        "])\n",
        "\n",
        "# Compile the model\n",
        "model_3.compile(loss=tf.keras.losses.mae,\n",
        "                optimizer=tf.keras.optimizers.SGD(),\n",
        "                metrics=['mae'])\n",
        "\n",
        "# Fit the model (this time for 500 epochs, not 100)\n",
        "model_3.fit(tf.expand_dims(X_train, axis=-1), y_train, epochs=500, verbose=0) # set verbose to 0 for less output"
      ]
    },
    {
      "cell_type": "code",
      "execution_count": null,
      "metadata": {
        "colab": {
          "base_uri": "https://localhost:8080/",
          "height": 428
        },
        "id": "jEz4bVmasbFk",
        "outputId": "45f04bb9-3057-4f1c-c9a6-a6a038ed5701"
      },
      "outputs": [],
      "source": [
        "# Make and plot predictions for model_3\n",
        "y_preds_3 = model_3.predict(X_test)\n",
        "plot_predictions(predictions=y_preds_3)"
      ]
    },
    {
      "cell_type": "markdown",
      "metadata": {
        "id": "38Ki8ZHcsztG"
      },
      "source": [
        "Strange, we trained for longer but our model performed worse?\n",
        "\n",
        "As it turns out, our model might've trained too long and has thus resulted in worse results (we'll see ways to prevent training for too long later on)."
      ]
    },
    {
      "cell_type": "code",
      "execution_count": null,
      "metadata": {
        "colab": {
          "base_uri": "https://localhost:8080/"
        },
        "id": "BPTUcFe4sbfk",
        "outputId": "4cba4687-3bf7-479d-f901-3c4d5cef0dfc"
      },
      "outputs": [],
      "source": [
        "# Calculate model_3 metrics\n",
        "mae_3 = mae(y_test, y_preds_3.squeeze()).numpy()\n",
        "mse_3 = mse(y_test, y_preds_3.squeeze()).numpy()\n",
        "mae_3, mse_3"
      ]
    },
    {
      "cell_type": "markdown",
      "metadata": {
        "id": "UPEeM3UsrxGB"
      },
      "source": [
        "## Comparing results\n",
        "\n",
        "Now we've got results for 3 similar but slightly different results, let's compare them."
      ]
    },
    {
      "cell_type": "code",
      "execution_count": null,
      "metadata": {
        "id": "mw5RZk-BqLZd"
      },
      "outputs": [],
      "source": [
        "model_results = [[\"model_1\", mae_1, mse_1],\n",
        "                 [\"model_2\", mae_2, mse_2],\n",
        "                 [\"model_3\", mae_3, mae_3]]"
      ]
    },
    {
      "cell_type": "code",
      "execution_count": null,
      "metadata": {
        "colab": {
          "base_uri": "https://localhost:8080/",
          "height": 142
        },
        "id": "Ip7bKH83p5X0",
        "outputId": "200a4d09-1220-4d14-8327-e3d22f768814"
      },
      "outputs": [],
      "source": [
        "import pandas as pd\n",
        "all_results = pd.DataFrame(model_results, columns=[\"model\", \"mae\", \"mse\"])\n",
        "all_results"
      ]
    },
    {
      "cell_type": "markdown",
      "metadata": {
        "id": "o_AtUiwuuLGo"
      },
      "source": [
        "From our experiments, it looks like `model_2` performed the best.\n",
        "\n",
        "And now, you might be thinking, \"wow, comparing models is tedious...\" and it definitely can be, we've only compared 3 models here. \n",
        "\n",
        "But this is part of what machine learning modelling is about, trying many different combinations of models and seeing which performs best.\n",
        "\n",
        "Each model you build is a small experiment. \n",
        "\n",
        "> 🔑 **Note:** One of your main goals should be to minimize the time between your experiments. The more experiments you do, the more things you'll figure out which don't work and in turn, get closer to figuring out what does work. Remember the machine learning practitioner's motto: \"experiment, experiment, experiment\".\n",
        "\n",
        "Another thing you'll also find is what you thought may work (such as training a model for longer) may not always work and the exact opposite is also often the case.\n",
        "\n",
        "## Tracking your experiments\n",
        "\n",
        "One really good habit to get into is tracking your modelling experiments to see which perform better than others.\n",
        "\n",
        "We've done a simple version of this above (keeping the results in different variables).\n",
        "\n",
        "> 📖 **Resource:** But as you build more models, you'll want to look into using tools such as:\n",
        "* [**TensorBoard**](https://tensorboard.dev/) - a component of the TensorFlow library to help track modelling experiments (we'll see this later).\n",
        "* [**Weights & Biases**](https://www.wandb.com/) - a tool for tracking all kinds of machine learning experiments (the good news for Weights & Biases is it plugs into TensorBoard)."
      ]
    },
    {
      "cell_type": "markdown",
      "metadata": {
        "id": "Fe5DgNbX6192"
      },
      "source": [
        "## Saving a model\n",
        "\n",
        "Once you've trained a model and found one which performs to your liking, you'll probably want to save it for use elsewhere (like a web application or mobile device).\n",
        "\n",
        "You can save a TensorFlow/Keras model using [`model.save()`](https://www.tensorflow.org/tutorials/keras/save_and_load#save_the_entire_model).\n",
        "\n",
        "There are two ways to save a model in TensorFlow:\n",
        "1. The [SavedModel format](https://www.tensorflow.org/tutorials/keras/save_and_load#savedmodel_format) (default).\n",
        "2. The [HDF5 format](https://www.tensorflow.org/tutorials/keras/save_and_load#hdf5_format).\n",
        "\n",
        "The main difference between the two is the SavedModel is automatically able to save custom objects (such as special layers) without additional modifications when loading the model back in.\n",
        "\n",
        "Which one should you use?\n",
        "\n",
        "It depends on your situation but the SavedModel format will suffice most of the time.\n",
        "\n",
        "Both methods use the same method call."
      ]
    },
    {
      "cell_type": "code",
      "execution_count": null,
      "metadata": {
        "colab": {
          "base_uri": "https://localhost:8080/"
        },
        "id": "gg0jD2cUoPsg",
        "outputId": "bde421a5-d4b1-4d8e-9212-c7824f14dcc7"
      },
      "outputs": [],
      "source": [
        "# Save a model using the SavedModel format\n",
        "model_2.save('best_model_SavedModel_format')"
      ]
    },
    {
      "cell_type": "code",
      "execution_count": null,
      "metadata": {
        "colab": {
          "base_uri": "https://localhost:8080/"
        },
        "id": "dsCpDYrU7D1j",
        "outputId": "7f1b842b-cebb-46a7-ff9c-f6017fabf8eb"
      },
      "outputs": [],
      "source": [
        "# Check it out - outputs a protobuf binary file (.pb) as well as other files\n",
        "!ls best_model_SavedModel_format"
      ]
    },
    {
      "cell_type": "markdown",
      "metadata": {
        "id": "NGKmWco_SOEU"
      },
      "source": [
        "Now let's save the model in the HDF5 format, we'll use the same method but with a different filename."
      ]
    },
    {
      "cell_type": "code",
      "execution_count": null,
      "metadata": {
        "id": "97J6GJMBSM2j"
      },
      "outputs": [],
      "source": [
        "# Save a model using the HDF5 format\n",
        "model_2.save(\"best_model_HDF5_format.h5\") # note the addition of '.h5' on the end"
      ]
    },
    {
      "cell_type": "code",
      "execution_count": null,
      "metadata": {
        "colab": {
          "base_uri": "https://localhost:8080/"
        },
        "id": "vB7TmsSGSjdv",
        "outputId": "a82e9aa8-2391-461c-d3d5-cf31c9d7eaed"
      },
      "outputs": [],
      "source": [
        "# Check it out\n",
        "!ls best_model_HDF5_format.h5"
      ]
    },
    {
      "cell_type": "markdown",
      "metadata": {
        "id": "OGA02tY97EUI"
      },
      "source": [
        "## Loading a model\n",
        "\n",
        "We can load a saved model using the [`load_model()`](https://www.tensorflow.org/api_docs/python/tf/keras/models/load_model) method.\n",
        "\n",
        "Loading a model for the different formats (SavedModel and HDF5) is the same (as long as the pathnames to the particular formats are correct)."
      ]
    },
    {
      "cell_type": "code",
      "execution_count": null,
      "metadata": {
        "colab": {
          "base_uri": "https://localhost:8080/"
        },
        "id": "FzyLIWfs7Fvh",
        "outputId": "9dbc900f-bc63-436b-ba1a-60cf7ed7d793"
      },
      "outputs": [],
      "source": [
        "# Load a model from the SavedModel format\n",
        "loaded_saved_model = tf.keras.models.load_model(\"best_model_SavedModel_format\")\n",
        "loaded_saved_model.summary()"
      ]
    },
    {
      "cell_type": "markdown",
      "metadata": {
        "id": "MfGO0dCQTeQh"
      },
      "source": [
        "Now let's test it out."
      ]
    },
    {
      "cell_type": "code",
      "execution_count": null,
      "metadata": {
        "colab": {
          "base_uri": "https://localhost:8080/"
        },
        "id": "7rehN8ZxTy43",
        "outputId": "6696ffb8-7470-41aa-a83e-778c41241dfa"
      },
      "outputs": [],
      "source": [
        "# Compare model_2 with the SavedModel version (should return True)\n",
        "model_2_preds = model_2.predict(X_test)\n",
        "saved_model_preds = loaded_saved_model.predict(X_test)\n",
        "mae(y_test, saved_model_preds.squeeze()).numpy() == mae(y_test, model_2_preds.squeeze()).numpy()"
      ]
    },
    {
      "cell_type": "markdown",
      "metadata": {
        "id": "prjkfX6rUZ6a"
      },
      "source": [
        "Loading in from the HDF5 is much the same."
      ]
    },
    {
      "cell_type": "code",
      "execution_count": null,
      "metadata": {
        "colab": {
          "base_uri": "https://localhost:8080/"
        },
        "id": "dQfx-bWKUfRQ",
        "outputId": "7983df59-27f5-4715-d3a4-6da88b055ebe"
      },
      "outputs": [],
      "source": [
        "# Load a model from the HDF5 format\n",
        "loaded_h5_model = tf.keras.models.load_model(\"best_model_HDF5_format.h5\")\n",
        "loaded_h5_model.summary()"
      ]
    },
    {
      "cell_type": "code",
      "execution_count": null,
      "metadata": {
        "colab": {
          "base_uri": "https://localhost:8080/"
        },
        "id": "L0kT91h-Uru-",
        "outputId": "44af4a8c-7aab-468a-f6e3-e94f447610f8"
      },
      "outputs": [],
      "source": [
        "# Compare model_2 with the loaded HDF5 version (should return True)\n",
        "h5_model_preds = loaded_h5_model.predict(X_test)\n",
        "mae(y_test, h5_model_preds.squeeze()).numpy() == mae(y_test, model_2_preds.squeeze()).numpy()"
      ]
    },
    {
      "cell_type": "markdown",
      "metadata": {
        "id": "ABtsYBDtr5Zz"
      },
      "source": [
        "## Downloading a model (from Google Colab)\n",
        "\n",
        "Say you wanted to get your model from Google Colab to your local machine, you can do one of the following things:\n",
        "* Right click on the file in the files pane and click 'download'.\n",
        "* Use the code below."
      ]
    },
    {
      "cell_type": "code",
      "execution_count": null,
      "metadata": {
        "colab": {
          "base_uri": "https://localhost:8080/",
          "height": 34
        },
        "id": "JV0onjIIr9XC",
        "outputId": "328e1446-c184-40cc-d1bf-bb931b0c5cc6"
      },
      "outputs": [],
      "source": [
        "# Download the model (or any file) from Google Colab\n",
        "from google.colab import files\n",
        "files.download(\"best_model_HDF5_format.h5\")"
      ]
    },
    {
      "cell_type": "markdown",
      "metadata": {
        "id": "7xpVdMtKw6X4"
      },
      "source": [
        "## A larger example\n",
        "\n",
        "Alright, we've seen the fundamentals of building neural network regression models in TensorFlow.\n",
        "\n",
        "Let's step it up a notch and build a model for a more feature rich dataset.\n",
        "\n",
        "More specifically we're going to try predict the cost of medical insurance for individuals based on a number of different parameters such as, `age`, `sex`, `bmi`, `children`, `smoking_status` and `residential_region`.\n",
        "\n",
        "To do, we'll leverage the pubically available [Medical Cost dataset](https://www.kaggle.com/mirichoi0218/insurance) available from Kaggle and [hosted on GitHub](https://github.com/stedy/Machine-Learning-with-R-datasets/blob/master/insurance.csv).\n",
        "\n",
        "> 🔑 **Note:** When learning machine learning paradigms, you'll often go through a series of foundational techniques and then practice them by working with open-source datasets and examples. Just as we're doing now, learn foundations, put them to work with different problems. Every time you work on something new, it's a good idea to search for something like \"problem X example with Python/TensorFlow\" where you substitute X for your problem."
      ]
    },
    {
      "cell_type": "code",
      "execution_count": null,
      "metadata": {
        "id": "WWK1LBxapgc2"
      },
      "outputs": [],
      "source": [
        "# Import required libraries\n",
        "import tensorflow as tf\n",
        "import pandas as pd\n",
        "import matplotlib.pyplot as plt"
      ]
    },
    {
      "cell_type": "code",
      "execution_count": null,
      "metadata": {
        "id": "JrnTr5N9blFo"
      },
      "outputs": [],
      "source": [
        "# Read in the insurance dataset\n",
        "insurance = pd.read_csv(\"https://raw.githubusercontent.com/stedy/Machine-Learning-with-R-datasets/master/insurance.csv\")"
      ]
    },
    {
      "cell_type": "code",
      "execution_count": null,
      "metadata": {
        "colab": {
          "base_uri": "https://localhost:8080/",
          "height": 204
        },
        "id": "QtXPN7cfb4Nm",
        "outputId": "d859454e-45c9-4e6a-e919-65edf4cd139b"
      },
      "outputs": [],
      "source": [
        "# Check out the insurance dataset\n",
        "insurance.head()"
      ]
    },
    {
      "cell_type": "markdown",
      "metadata": {
        "id": "s55oIsYv0KkZ"
      },
      "source": [
        "We're going to have to turn the non-numerical columns into numbers (because a neural network can't handle non-numerical inputs).\n",
        "\n",
        "To do so, we'll use the [`get_dummies()`](https://pandas.pydata.org/pandas-docs/stable/reference/api/pandas.get_dummies.html) method in pandas.\n",
        "\n",
        "It converts categorical variables (like the `sex`, `smoker` and `region` columns) into numerical variables using one-hot encoding."
      ]
    },
    {
      "cell_type": "code",
      "execution_count": null,
      "metadata": {
        "colab": {
          "base_uri": "https://localhost:8080/",
          "height": 224
        },
        "id": "MqM_BmPkdon8",
        "outputId": "c6a4b1bf-3042-4702-bf7f-bce155e64310"
      },
      "outputs": [],
      "source": [
        "# Turn all categories into numbers\n",
        "insurance_one_hot = pd.get_dummies(insurance)\n",
        "insurance_one_hot.head() # view the converted columns"
      ]
    },
    {
      "cell_type": "markdown",
      "metadata": {
        "id": "zOHoPzgqgZPq"
      },
      "source": [
        "Now we'll split data into features (`X`) and labels (`y`)."
      ]
    },
    {
      "cell_type": "code",
      "execution_count": null,
      "metadata": {
        "id": "W_EGj3FxhkAb"
      },
      "outputs": [],
      "source": [
        "# Create X & y values\n",
        "X = insurance_one_hot.drop(\"charges\", axis=1)\n",
        "y = insurance_one_hot[\"charges\"]"
      ]
    },
    {
      "cell_type": "code",
      "execution_count": null,
      "metadata": {
        "colab": {
          "base_uri": "https://localhost:8080/",
          "height": 224
        },
        "id": "-QQFJmDn5ATV",
        "outputId": "eb53df6b-4461-4251-f1c7-47cf81c99da7"
      },
      "outputs": [],
      "source": [
        "# View features\n",
        "X.head()"
      ]
    },
    {
      "cell_type": "markdown",
      "metadata": {
        "id": "kudhkM-0giS1"
      },
      "source": [
        "And create training and test sets. We could do this manually, but to make it easier, we'll leverage the already available [`train_test_split`](https://scikit-learn.org/stable/modules/generated/sklearn.model_selection.train_test_split.html) function available from Scikit-Learn."
      ]
    },
    {
      "cell_type": "code",
      "execution_count": null,
      "metadata": {
        "id": "WPGZGk0jhxCZ"
      },
      "outputs": [],
      "source": [
        "# Create training and test sets\n",
        "from sklearn.model_selection import train_test_split\n",
        "X_train, X_test, y_train, y_test = train_test_split(X, \n",
        "                                                    y, \n",
        "                                                    test_size=0.2, \n",
        "                                                    random_state=42) # set random state for reproducible splits"
      ]
    },
    {
      "cell_type": "markdown",
      "metadata": {
        "id": "W8wEC0FPglnN"
      },
      "source": [
        "Now we can build and fit a model (we'll make it the same as `model_2`)."
      ]
    },
    {
      "cell_type": "code",
      "execution_count": null,
      "metadata": {
        "colab": {
          "base_uri": "https://localhost:8080/"
        },
        "id": "OCXTmz6oh_T6",
        "outputId": "da476651-b453-4465-d8ee-9c16961b8ce1"
      },
      "outputs": [],
      "source": [
        "# Set random seed\n",
        "tf.random.set_seed(42)\n",
        "\n",
        "# Create a new model (same as model_2)\n",
        "insurance_model = tf.keras.Sequential([\n",
        "  tf.keras.layers.Dense(1),\n",
        "  tf.keras.layers.Dense(1)\n",
        "])\n",
        "\n",
        "# Compile the model\n",
        "insurance_model.compile(loss=tf.keras.losses.mae,\n",
        "                        optimizer=tf.keras.optimizers.SGD(),\n",
        "                        metrics=['mae'])\n",
        "\n",
        "# Fit the model\n",
        "insurance_model.fit(X_train, y_train, epochs=100)"
      ]
    },
    {
      "cell_type": "code",
      "execution_count": null,
      "metadata": {
        "colab": {
          "base_uri": "https://localhost:8080/"
        },
        "id": "B1U7LqpKid0r",
        "outputId": "0e322c1b-6c8a-49cd-f724-67afc65bba7f"
      },
      "outputs": [],
      "source": [
        "# Check the results of the insurance model\n",
        "insurance_model.evaluate(X_test, y_test)"
      ]
    },
    {
      "cell_type": "markdown",
      "metadata": {
        "id": "H9doNDToqDru"
      },
      "source": [
        "Our model didn't perform very well, let's try a bigger model.\n",
        "\n",
        "We'll try 3 things:\n",
        "- Increasing the number of layers (2 -> 3).\n",
        "- Increasing the number of units in each layer (except for the output layer).\n",
        "- Changing the optimizer (from SGD to Adam).\n",
        "\n",
        "Everything else will stay the same."
      ]
    },
    {
      "cell_type": "code",
      "execution_count": null,
      "metadata": {
        "id": "W59EqfqYimnR"
      },
      "outputs": [],
      "source": [
        "# Set random seed\n",
        "tf.random.set_seed(42)\n",
        "\n",
        "# Add an extra layer and increase number of units\n",
        "insurance_model_2 = tf.keras.Sequential([\n",
        "  tf.keras.layers.Dense(100), # 100 units\n",
        "  tf.keras.layers.Dense(10), # 10 units\n",
        "  tf.keras.layers.Dense(1) # 1 unit (important for output layer)\n",
        "])\n",
        "\n",
        "# Compile the model\n",
        "insurance_model_2.compile(loss=tf.keras.losses.mae,\n",
        "                          optimizer=tf.keras.optimizers.Adam(), # Adam works but SGD doesn't \n",
        "                          metrics=['mae'])\n",
        "\n",
        "# Fit the model and save the history (we can plot this)\n",
        "history = insurance_model_2.fit(X_train, y_train, epochs=100, verbose=0)"
      ]
    },
    {
      "cell_type": "code",
      "execution_count": null,
      "metadata": {
        "colab": {
          "base_uri": "https://localhost:8080/"
        },
        "id": "k9IbYWnOqmoT",
        "outputId": "eab558fc-8905-42fe-89b4-eb6576eae14c"
      },
      "outputs": [],
      "source": [
        "# Evaluate our larger model\n",
        "insurance_model_2.evaluate(X_test, y_test)"
      ]
    },
    {
      "cell_type": "markdown",
      "metadata": {
        "id": "o9Rf3NosqriS"
      },
      "source": [
        "Much better! Using a larger model and the Adam optimizer results in almost half the error as the previous model.\n",
        "\n",
        "> 🔑 **Note:** For many problems, the [Adam optimizer](https://www.tensorflow.org/api_docs/python/tf/keras/optimizers/Adam) is a great starting choice. See Andrei Karpathy's \"Adam is safe\" point from [*A Recipe for Training Neural Networks*](http://karpathy.github.io/2019/04/25/recipe/) for more. \n",
        "\n",
        "Let's check out the loss curves of our model, we should see a downward trend."
      ]
    },
    {
      "cell_type": "code",
      "execution_count": null,
      "metadata": {
        "colab": {
          "base_uri": "https://localhost:8080/",
          "height": 279
        },
        "id": "9SE55ANojcF_",
        "outputId": "1c145cb3-71ef-4f0f-bf8e-26e95f3398f0"
      },
      "outputs": [],
      "source": [
        "# Plot history (also known as a loss curve)\n",
        "pd.DataFrame(history.history).plot()\n",
        "plt.ylabel(\"loss\")\n",
        "plt.xlabel(\"epochs\");"
      ]
    },
    {
      "cell_type": "markdown",
      "metadata": {
        "id": "ckHqtn0srQ5q"
      },
      "source": [
        "From this, it looks like our model's loss (and MAE) were both still decreasing (in our case, MAE and loss are the same, hence the lines in the plot overlap eachother).\n",
        "\n",
        "What this tells us is the loss might go down if we try training it for longer.\n",
        "\n",
        "> 🤔 **Question:** How long should you train for? \n",
        "\n",
        "> It depends on what problem you're working on. Sometimes training won't take very long, other times it'll take longer than you expect. A common method is to set your model training for a very long time (e.g. 1000's of epochs) but set it up with an [EarlyStopping callback](https://www.tensorflow.org/api_docs/python/tf/keras/callbacks/EarlyStopping) so it stops automatically when it stops improving. We'll see this in another module.\n",
        "\n",
        "Let's train the same model as above for a little longer. We can do this but calling fit on it again."
      ]
    },
    {
      "cell_type": "code",
      "execution_count": null,
      "metadata": {
        "id": "Ucs62jV8jl6N"
      },
      "outputs": [],
      "source": [
        "# Try training for a little longer (100 more epochs)\n",
        "history_2 = insurance_model_2.fit(X_train, y_train, epochs=100, verbose=0)"
      ]
    },
    {
      "cell_type": "markdown",
      "metadata": {
        "id": "L2FZA1z1sxxs"
      },
      "source": [
        "How did the extra training go?"
      ]
    },
    {
      "cell_type": "code",
      "execution_count": null,
      "metadata": {
        "colab": {
          "base_uri": "https://localhost:8080/"
        },
        "id": "cxtiYB3qs0PZ",
        "outputId": "9d479dec-66d0-4e02-9b2f-316910fa7b95"
      },
      "outputs": [],
      "source": [
        "# Evaluate the model trained for 200 total epochs\n",
        "insurance_model_2_loss, insurance_model_2_mae = insurance_model_2.evaluate(X_test, y_test)\n",
        "insurance_model_2_loss, insurance_model_2_mae"
      ]
    },
    {
      "cell_type": "markdown",
      "metadata": {
        "id": "MzUySYEOs-O_"
      },
      "source": [
        "Boom! Training for an extra 100 epochs we see about a 10% decrease in error.\n",
        "\n",
        "How does the visual look?"
      ]
    },
    {
      "cell_type": "code",
      "execution_count": null,
      "metadata": {
        "colab": {
          "base_uri": "https://localhost:8080/",
          "height": 279
        },
        "id": "BtYKSLeQjuzL",
        "outputId": "49c03b0b-a5ce-49ac-b7e8-4f9e69ea17b9"
      },
      "outputs": [],
      "source": [
        "# Plot the model trained for 200 total epochs loss curves\n",
        "pd.DataFrame(history_2.history).plot()\n",
        "plt.ylabel(\"loss\")\n",
        "plt.xlabel(\"epochs\"); # note: epochs will only show 100 since we overrid the history variable"
      ]
    },
    {
      "cell_type": "markdown",
      "metadata": {
        "id": "HS8xYkvIuVZZ"
      },
      "source": [
        "## Preprocessing data (normalization and standardization)\n",
        "\n",
        "A common practice when working with neural networks is to make sure all of the data you pass to them is in the range 0 to 1.\n",
        "\n",
        "This practice is called **normalization** (scaling all values from their original range to, e.g. between 0 and 100,000 to be between 0 and 1).\n",
        "\n",
        "There is another process call **standardization** which converts all of your data to unit variance and 0 mean.\n",
        "\n",
        "These two practices are often part of a preprocessing pipeline (a series of functions to prepare your data for use with neural networks).\n",
        "\n",
        "Knowing this, some of the major steps you'll take to preprocess your data for a neural network include:\n",
        "* Turning all of your data to numbers (a neural network can't handle strings).\n",
        "* Making sure your data is in the right shape (verifying input and output shapes).\n",
        "* [**Feature scaling**](https://scikit-learn.org/stable/modules/preprocessing.html#preprocessing-scaler):\n",
        "    * Normalizing data (making sure all values are between 0 and 1). This is done by subtracting the minimum value then dividing by the maximum value minus the minmum. This is also referred to as min-max scaling.\n",
        "    * Standardization (making sure all values have a mean of 0 and a variance of 1). This is done by substracting the mean value from the target feature and then dividing it by the standard deviation.\n",
        "    * Which one should you use?\n",
        "      * **With neural networks you'll tend to favour normalization** as they tend to prefer values between 0 and 1 (you'll see this espcially with image processing), however, you'll often find a neural network can perform pretty well with minimal feature scaling.\n",
        "\n",
        "> 📖 **Resource:** For more on preprocessing data, I'd recommend reading the following resources:\n",
        "* [Scikit-Learn's documentation on preprocessing data](https://scikit-learn.org/stable/modules/preprocessing.html#preprocessing-data).\n",
        "* [Scale, Standardize or Normalize with Scikit-Learn by Jeff Hale](https://towardsdatascience.com/scale-standardize-or-normalize-with-scikit-learn-6ccc7d176a02).\n",
        "\n",
        "We've already turned our data into numbers using `get_dummies()`, let's see how we'd normalize it as well."
      ]
    },
    {
      "cell_type": "code",
      "execution_count": null,
      "metadata": {
        "id": "9v7P20A2d7H6"
      },
      "outputs": [],
      "source": [
        "import pandas as pd\n",
        "import matplotlib.pyplot as plt\n",
        "import tensorflow as tf\n",
        "\n",
        "# Read in the insurance dataset\n",
        "insurance = pd.read_csv(\"https://raw.githubusercontent.com/stedy/Machine-Learning-with-R-datasets/master/insurance.csv\")"
      ]
    },
    {
      "cell_type": "code",
      "execution_count": null,
      "metadata": {
        "colab": {
          "base_uri": "https://localhost:8080/",
          "height": 204
        },
        "id": "vir8UAIwlUOo",
        "outputId": "306bc0ed-8038-4822-b69e-c0181f5c8f88"
      },
      "outputs": [],
      "source": [
        "# Check out the data\n",
        "insurance.head()"
      ]
    },
    {
      "cell_type": "markdown",
      "metadata": {
        "id": "SHMQiNosg3J3"
      },
      "source": [
        "Now, just as before, we need to transform the non-numerical columns into numbers and this time we'll also be normalizing the numerical columns with different ranges (to make sure they're all between 0 and 1).\n",
        "\n",
        "To do this, we're going to use a few classes from Scikit-Learn:\n",
        "* [`make_column_transformer`](https://scikit-learn.org/stable/modules/generated/sklearn.compose.make_column_transformer.html) - build a multi-step data preprocessing function for the folllowing transformations:\n",
        "  * [`MinMaxScaler`](https://scikit-learn.org/stable/modules/generated/sklearn.preprocessing.MinMaxScaler.html) - make sure all numerical columns are normalized (between 0 and 1).\n",
        "  * [`OneHotEncoder`](https://scikit-learn.org/stable/modules/generated/sklearn.preprocessing.OneHotEncoder.html) - one hot encode the non-numerical columns.\n",
        "\n",
        "Let's see them in action."
      ]
    },
    {
      "cell_type": "code",
      "execution_count": null,
      "metadata": {
        "id": "-x9JwbV0hqWh"
      },
      "outputs": [],
      "source": [
        "from sklearn.compose import make_column_transformer\n",
        "from sklearn.preprocessing import MinMaxScaler, OneHotEncoder\n",
        "\n",
        "# Create column transformer (this will help us normalize/preprocess our data)\n",
        "ct = make_column_transformer(\n",
        "    (MinMaxScaler(), [\"age\", \"bmi\", \"children\"]), # get all values between 0 and 1\n",
        "    (OneHotEncoder(handle_unknown=\"ignore\"), [\"sex\", \"smoker\", \"region\"])\n",
        ")\n",
        "\n",
        "# Create X & y\n",
        "X = insurance.drop(\"charges\", axis=1)\n",
        "y = insurance[\"charges\"]\n",
        "\n",
        "# Build our train and test sets (use random state to ensure same split as before)\n",
        "X_train, X_test, y_train, y_test = train_test_split(X, y, test_size=0.2, random_state=42)\n",
        "\n",
        "# Fit column transformer on the training data only (doing so on test data would result in data leakage)\n",
        "ct.fit(X_train)\n",
        "\n",
        "# Transform training and test data with normalization (MinMaxScalar) and one hot encoding (OneHotEncoder)\n",
        "X_train_normal = ct.transform(X_train)\n",
        "X_test_normal = ct.transform(X_test)"
      ]
    },
    {
      "cell_type": "markdown",
      "metadata": {
        "id": "Tz58y3nPiBJ-"
      },
      "source": [
        "Now we've normalized it and one-hot encoding it, what does our data look like now?"
      ]
    },
    {
      "cell_type": "code",
      "execution_count": null,
      "metadata": {
        "colab": {
          "base_uri": "https://localhost:8080/"
        },
        "id": "VODt2YiziK45",
        "outputId": "0aacd372-5097-40d5-d27c-daf5cc32255a"
      },
      "outputs": [],
      "source": [
        "# Non-normalized and non-one-hot encoded data example\n",
        "X_train.loc[0]"
      ]
    },
    {
      "cell_type": "code",
      "execution_count": null,
      "metadata": {
        "colab": {
          "base_uri": "https://localhost:8080/"
        },
        "id": "mMYDXdwUnNVt",
        "outputId": "793a3869-9588-4861-8923-ae8adbb530fc"
      },
      "outputs": [],
      "source": [
        "# Normalized and one-hot encoded example\n",
        "X_train_normal[0]"
      ]
    },
    {
      "cell_type": "markdown",
      "metadata": {
        "id": "9iI4KtfWib44"
      },
      "source": [
        "How about the shapes?"
      ]
    },
    {
      "cell_type": "code",
      "execution_count": null,
      "metadata": {
        "colab": {
          "base_uri": "https://localhost:8080/"
        },
        "id": "SFmxzqrWntj7",
        "outputId": "e13b80e2-e9c6-443b-8178-520113ced7b9"
      },
      "outputs": [],
      "source": [
        "# Notice the normalized/one-hot encoded shape is larger because of the extra columns\n",
        "X_train_normal.shape, X_train.shape"
      ]
    },
    {
      "cell_type": "markdown",
      "metadata": {
        "id": "MST951aYijTS"
      },
      "source": [
        "Our data is normalized and numerical, let's model it.\n",
        "\n",
        "We'll use the same model as `insurance_model_2`."
      ]
    },
    {
      "cell_type": "code",
      "execution_count": null,
      "metadata": {
        "colab": {
          "base_uri": "https://localhost:8080/"
        },
        "id": "TdHnIQqll83Y",
        "outputId": "2efbfe2f-b476-4f39-a35d-3a3f3c7fa81b"
      },
      "outputs": [],
      "source": [
        "# Set random seed\n",
        "tf.random.set_seed(42)\n",
        "\n",
        "# Build the model (3 layers, 100, 10, 1 units)\n",
        "insurance_model_3 = tf.keras.Sequential([\n",
        "  tf.keras.layers.Dense(100),\n",
        "  tf.keras.layers.Dense(10),\n",
        "  tf.keras.layers.Dense(1)\n",
        "])\n",
        "\n",
        "# Compile the model\n",
        "insurance_model_3.compile(loss=tf.keras.losses.mae,\n",
        "                          optimizer=tf.keras.optimizers.Adam(),\n",
        "                          metrics=['mae'])\n",
        "\n",
        "# Fit the model for 200 epochs (same as insurance_model_2)\n",
        "insurance_model_3.fit(X_train_normal, y_train, epochs=200, verbose=0) "
      ]
    },
    {
      "cell_type": "markdown",
      "metadata": {
        "id": "-DjwktO6jW41"
      },
      "source": [
        "Let's evaluate the model on normalized test set."
      ]
    },
    {
      "cell_type": "code",
      "execution_count": null,
      "metadata": {
        "colab": {
          "base_uri": "https://localhost:8080/"
        },
        "id": "sBcXZu9AnZfP",
        "outputId": "d42dbf4e-807b-4de2-c38c-b3cf2dbb5e70"
      },
      "outputs": [],
      "source": [
        "# Evaulate 3rd model\n",
        "insurance_model_3_loss, insurance_model_3_mae = insurance_model_3.evaluate(X_test_normal, y_test)"
      ]
    },
    {
      "cell_type": "markdown",
      "metadata": {
        "id": "ZlHro290jhtX"
      },
      "source": [
        "And finally, let's compare the results from `insurance_model_2` (trained on non-normalized data) and `insurance_model_3` (trained on normalized data)."
      ]
    },
    {
      "cell_type": "code",
      "execution_count": null,
      "metadata": {
        "colab": {
          "base_uri": "https://localhost:8080/"
        },
        "id": "ybZtnVlNjCJO",
        "outputId": "ef1d85b1-f6e5-4d54-9e9a-509040916288"
      },
      "outputs": [],
      "source": [
        "# Compare modelling results from non-normalized data and normalized data\n",
        "insurance_model_2_mae, insurance_model_3_mae"
      ]
    },
    {
      "cell_type": "markdown",
      "metadata": {
        "id": "gUttViY4jzi8"
      },
      "source": [
        "From this we can see normalizing the data results in 10% less error using the same model than not normalizing the data.\n",
        "\n",
        "This is **one of the main benefits of normalization: faster convergence time** (a fancy way of saying, your model gets to better results faster).\n",
        "\n",
        "`insurance_model_2` may have eventually achieved the same results as `insurance_model_3` if we left it training for longer. \n",
        "\n",
        "Also, the results may change if we were to alter the architectures of the models, e.g. more hidden units per layer or more layers.\n",
        "\n",
        "But since our main goal as neural network practitioners is to decrease the time between experiments, anything that helps us get better results sooner is a plus."
      ]
    },
    {
      "cell_type": "markdown",
      "metadata": {
        "id": "NhIPO_KqocHP"
      },
      "source": [
        "## 🛠 Exercises\n",
        "\n",
        "We've a covered a whole lot pretty quickly.\n",
        "\n",
        "So now it's time to have a **play around** with a few things and start to build up your intuition.\n",
        "\n",
        "I emphasise the words play around because that's very important. Try a few things out, run the code and see what happens.\n",
        "\n",
        "1. Create your own regression dataset (or make the one we created in \"Create data to view and fit\" bigger) and build fit a model to it.\n",
        "2. Try building a neural network with 4 Dense layers and fitting it to your own regression dataset, how does it perform?\n",
        "3. Try and improve the results we got on the insurance dataset, some things you might want to try include:\n",
        "  * Building a larger model (how does one with 4 dense layers go?).\n",
        "  * Increasing the number of units in each layer.\n",
        "  * Lookup the documentation of [Adam](https://www.tensorflow.org/api_docs/python/tf/keras/optimizers/Adam) and find out what the first parameter is, what happens if you increase it by 10x?\n",
        "  * What happens if you train for longer (say 300 epochs instead of 200)? \n",
        "4. Import the [Boston pricing dataset](https://www.tensorflow.org/api_docs/python/tf/keras/datasets/boston_housing/load_data) from TensorFlow [`tf.keras.datasets`](https://www.tensorflow.org/api_docs/python/tf/keras/datasets) and model it.\n"
      ]
    },
    {
      "cell_type": "markdown",
      "metadata": {
        "id": "AyiHG2nubmu7"
      },
      "source": [
        "## 📖 Extra curriculum\n",
        "\n",
        "If you're looking for extra materials relating to this notebook, I'd check out the following:\n",
        "\n",
        "* [MIT introduction deep learning lecture 1](https://youtu.be/njKP3FqW3Sk) - gives a great overview of what's happening behind all of the code we're running.\n",
        "* Reading: 1-hour of [Chapter 1 of Neural Networks and Deep Learning](http://neuralnetworksanddeeplearning.com/chap1.html) by Michael Nielson - a great in-depth and hands-on example of the intuition behind neural networks.\n",
        "\n",
        "To practice your regression modelling with TensorFlow, I'd also encourage you to look through [Lion Bridge's collection of datasets](https://lionbridge.ai/datasets/) or [Kaggle's datasets](https://www.kaggle.com/data), find a regression dataset which sparks your interest and try to model."
      ]
    }
  ],
  "metadata": {
    "colab": {
      "authorship_tag": "ABX9TyPJ5Dpbkicrqvik8JYM2rWb",
      "collapsed_sections": [],
      "include_colab_link": true,
      "name": "01_neural_network_regression_in_tensorflow.ipynb",
      "provenance": [],
      "toc_visible": true
    },
    "kernelspec": {
      "display_name": "Python 3.8.9 64-bit",
      "language": "python",
      "name": "python3"
    },
    "language_info": {
      "codemirror_mode": {
        "name": "ipython",
        "version": 3
      },
      "file_extension": ".py",
      "mimetype": "text/x-python",
      "name": "python",
      "nbconvert_exporter": "python",
      "pygments_lexer": "ipython3",
      "version": "3.8.9"
    },
    "vscode": {
      "interpreter": {
        "hash": "31f2aee4e71d21fbe5cf8b01ff0e069b9275f58929596ceb00d14d90e3e16cd6"
      }
    }
  },
  "nbformat": 4,
  "nbformat_minor": 0
}
