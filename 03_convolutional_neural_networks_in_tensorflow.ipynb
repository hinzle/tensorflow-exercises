{
  "cells": [
    {
      "cell_type": "markdown",
      "metadata": {
        "id": "04BhxZVS56oh"
      },
      "source": [
        "## 03. Convolutional Neural Networks and Computer Vision with TensorFlow\n",
        "\n",
        "<a href=\"https://colab.research.google.com/github/mrdbourke/tensorflow-deep-learning/blob/main/03_convolutional_neural_networks_in_tensorflow.ipynb\" target=\"_parent\"><img src=\"https://colab.research.google.com/assets/colab-badge.svg\" alt=\"Open In Colab\"/></a>\n",
        "\n",
        "So far we've covered the basics of TensorFlow and built a handful of models to work across different problems.\n",
        "\n",
        "Now we're going to get specific and see how a special kind of neural network, [convolutional neural networks (CNNs)](https://en.wikipedia.org/wiki/Convolutional_neural_network) can be used for computer vision (detecting patterns in visual data).\n",
        "\n",
        "> 🔑 **Note:** In deep learning, many different kinds of model architectures can be used for different problems. For example, you could use a convolutional neural network for making predictions on image data and/or text data. However, in practice some architectures typically work better than others.\n",
        "\n",
        "For example, you might want to:\n",
        "* Classify whether a picture of food contains pizza 🍕 or steak 🥩 (we're going to do this)\n",
        "* Detect whether or not an object appears in an image (e.g. did a specific car pass through a security camera?)\n",
        "\n",
        "In this notebook, we're going to follow the TensorFlow modelling workflow we've been following so far whilst learning about how to build and use CNNs.\n",
        "\n",
        "## What we're going to cover\n",
        "\n",
        "Specifically, we're going to go through the follow with TensorFlow:\n",
        "\n",
        "- Getting a dataset to work with\n",
        "- Architecture of a convolutional neural network\n",
        "- A quick end-to-end example (what we're working towards)\n",
        "- Steps in modelling for binary image classification with CNNs\n",
        "  - Becoming one with the data\n",
        "  - Preparing data for modelling\n",
        "  - Creating a CNN model (starting with a baseline)\n",
        "  - Fitting a model (getting it to find patterns in our data)\n",
        "  - Evaluating a model\n",
        "  - Improving a model\n",
        "  - Making a prediction with a trained model\n",
        "- Steps in modelling for multi-class image classification with CNNs\n",
        " - Same as above (but this time with a different dataset)\n",
        "\n",
        "## How you can use this notebook\n",
        "\n",
        "You can read through the descriptions and the code (it should all run, except for the cells which error on purpose), but there's a better option.\n",
        "\n",
        "Write all of the code yourself.\n",
        "\n",
        "Yes. I'm serious. Create a new notebook, and rewrite each line by yourself. Investigate it, see if you can break it, why does it break?\n",
        "\n",
        "You don't have to write the text descriptions but writing the code yourself is a great way to get hands-on experience.\n",
        "\n",
        "Don't worry if you make mistakes, we all do. The way to get better and make less mistakes is to **write more code**."
      ]
    },
    {
      "cell_type": "markdown",
      "metadata": {
        "id": "z8_ivdvS3DmP"
      },
      "source": [
        "## Get the data\n",
        "\n",
        "Because convolutional neural networks work so well with images, to learn more about them, we're going to start with a dataset of images.\n",
        "\n",
        "The images we're going to work with are from the [Food-101 dataset](https://data.vision.ee.ethz.ch/cvl/datasets_extra/food-101/), a collection of 101 different categories of 101,000 (1000 images per category) real-world images of food dishes. \n",
        "\n",
        "To begin, we're only going to use two of the categories, pizza 🍕 and steak 🥩 and build a binary classifier.\n",
        "\n",
        "> 🔑 **Note:** To prepare the data we're using, preprocessing steps such as, moving the images into different subset folders, have been done. To see these preprocessing steps check out [the preprocessing notebook](https://github.com/mrdbourke/tensorflow-deep-learning/blob/main/extras/image_data_modification.ipynb).\n",
        "\n",
        "We'll download the `pizza_steak` subset .zip file and unzip it."
      ]
    },
    {
      "cell_type": "code",
      "execution_count": 1,
      "metadata": {
        "colab": {
          "base_uri": "https://localhost:8080/"
        },
        "id": "dp4Mqh4Q3FVs",
        "outputId": "0a4af0bd-a8bf-49d2-e1df-19988d0e89b8"
      },
      "outputs": [],
      "source": [
        "# import zipfile\n",
        "\n",
        "# # Download zip file of pizza_steak images\n",
        "# !wget https://storage.googleapis.com/ztm_tf_course/food_vision/pizza_steak.zip \n",
        "\n",
        "# # Unzip the downloaded file\n",
        "# zip_ref = zipfile.ZipFile(\"pizza_steak.zip\", \"r\")\n",
        "# zip_ref.extractall()\n",
        "# zip_ref.close()"
      ]
    },
    {
      "cell_type": "markdown",
      "metadata": {
        "id": "kPUsk1wTcTGQ"
      },
      "source": [
        "> 🔑 **Note:** If you're using Google Colab and your runtime disconnects, you may have to redownload the files. You can do this by rerunning the cell above."
      ]
    },
    {
      "cell_type": "markdown",
      "metadata": {
        "id": "ec_WFq4P4CCN"
      },
      "source": [
        "## Inspect the data (become one with it)\n",
        "\n",
        "A very crucial step at the beginning of any machine learning project is becoming one with the data. This usually means plenty of visualizing and folder scanning to understand the data you're working with.\n",
        "\n",
        "Wtih this being said, let's inspect the data we just downloaded.\n",
        "\n",
        "The file structure has been formatted to be in a typical format you might use for working with images.\n",
        "\n",
        "More specifically:\n",
        "* A `train` directory which contains all of the images in the training dataset with subdirectories each named after a certain class containing images of that class.\n",
        "* A `test` directory with the same structure as the `train` directory.\n",
        "\n",
        "```\n",
        "Example of file structure\n",
        "\n",
        "pizza_steak <- top level folder\n",
        "└───train <- training images\n",
        "│   └───pizza\n",
        "│   │   │   1008104.jpg\n",
        "│   │   │   1638227.jpg\n",
        "│   │   │   ...      \n",
        "│   └───steak\n",
        "│       │   1000205.jpg\n",
        "│       │   1647351.jpg\n",
        "│       │   ...\n",
        "│   \n",
        "└───test <- testing images\n",
        "│   └───pizza\n",
        "│   │   │   1001116.jpg\n",
        "│   │   │   1507019.jpg\n",
        "│   │   │   ...      \n",
        "│   └───steak\n",
        "│       │   100274.jpg\n",
        "│       │   1653815.jpg\n",
        "│       │   ...    \n",
        " ```\n",
        "\n",
        "Let's inspect each of the directories we've downloaded.\n",
        "\n",
        "To so do, we can use the command `ls` which stands for list."
      ]
    },
    {
      "cell_type": "code",
      "execution_count": 2,
      "metadata": {
        "colab": {
          "base_uri": "https://localhost:8080/"
        },
        "id": "QaGf7VeO3zxW",
        "outputId": "2c7f7f11-02e4-4e5b-9a6c-34a18a9f8337"
      },
      "outputs": [
        {
          "name": "stdout",
          "output_type": "stream",
          "text": [
            "test  train\n"
          ]
        }
      ],
      "source": [
        "!ls pizza_steak"
      ]
    },
    {
      "cell_type": "markdown",
      "metadata": {
        "id": "DIpM3xzqcqXz"
      },
      "source": [
        "We can see we've got a `train` and `test` folder.\n",
        "\n",
        "Let's see what's inside one of them."
      ]
    },
    {
      "cell_type": "code",
      "execution_count": 3,
      "metadata": {
        "colab": {
          "base_uri": "https://localhost:8080/"
        },
        "id": "563kST9l4urW",
        "outputId": "766d781f-02d4-4e3c-ce06-a483e120c523"
      },
      "outputs": [
        {
          "name": "stdout",
          "output_type": "stream",
          "text": [
            "pizza  steak\n"
          ]
        }
      ],
      "source": [
        "!ls pizza_steak/train/"
      ]
    },
    {
      "cell_type": "markdown",
      "metadata": {
        "id": "taMK-hLzc0Ok"
      },
      "source": [
        "And how about insde the `steak` directory?"
      ]
    },
    {
      "cell_type": "code",
      "execution_count": 4,
      "metadata": {
        "colab": {
          "base_uri": "https://localhost:8080/"
        },
        "id": "b8DYeBP_c8wX",
        "outputId": "9e888959-4817-4f01-844e-31a9c080165b"
      },
      "outputs": [
        {
          "name": "stdout",
          "output_type": "stream",
          "text": [
            "1000205.jpg  1647351.jpg  2238681.jpg  2824680.jpg  3375959.jpg  417368.jpg\n",
            "100135.jpg   1650002.jpg  2238802.jpg  2825100.jpg  3381560.jpg  4176.jpg\n",
            "101312.jpg   165639.jpg   2254705.jpg  2826987.jpg  3382936.jpg  42125.jpg\n",
            "1021458.jpg  1658186.jpg  225990.jpg   2832499.jpg  3386119.jpg  421476.jpg\n",
            "1032846.jpg  1658443.jpg  2260231.jpg  2832960.jpg  3388717.jpg  421561.jpg\n",
            "10380.jpg    165964.jpg   2268692.jpg  285045.jpg   3389138.jpg  438871.jpg\n",
            "1049459.jpg  167069.jpg   2271133.jpg  285147.jpg   3393547.jpg  43924.jpg\n",
            "1053665.jpg  1675632.jpg  227576.jpg   2855315.jpg  3393688.jpg  440188.jpg\n",
            "1068516.jpg  1678108.jpg  2283057.jpg  2856066.jpg  3396589.jpg  442757.jpg\n",
            "1068975.jpg  168006.jpg   2286639.jpg  2859933.jpg  339891.jpg\t 443210.jpg\n",
            "1081258.jpg  1682496.jpg  2287136.jpg  286219.jpg   3417789.jpg  444064.jpg\n",
            "1090122.jpg  1684438.jpg  2291292.jpg  2862562.jpg  3425047.jpg  444709.jpg\n",
            "1093966.jpg  168775.jpg   229323.jpg   2865730.jpg  3434983.jpg  447557.jpg\n",
            "1098844.jpg  1697339.jpg  2300534.jpg  2878151.jpg  3435358.jpg  461187.jpg\n",
            "1100074.jpg  1710569.jpg  2300845.jpg  2880035.jpg  3438319.jpg  461689.jpg\n",
            "1105280.jpg  1714605.jpg  231296.jpg   2881783.jpg  3444407.jpg  465494.jpg\n",
            "1117936.jpg  1724387.jpg  2315295.jpg  2884233.jpg  345734.jpg\t 468384.jpg\n",
            "1126126.jpg  1724717.jpg  2323132.jpg  2890573.jpg  3460673.jpg  477486.jpg\n",
            "114601.jpg   172936.jpg   2324994.jpg  2893832.jpg  3465327.jpg  482022.jpg\n",
            "1147047.jpg  1736543.jpg  2327701.jpg  2893892.jpg  3466159.jpg  482465.jpg\n",
            "1147883.jpg  1736968.jpg  2331076.jpg  2907177.jpg  3469024.jpg  483788.jpg\n",
            "1155665.jpg  1746626.jpg  233964.jpg   290850.jpg   3470083.jpg  493029.jpg\n",
            "1163977.jpg  1752330.jpg  2344227.jpg  2909031.jpg  3476564.jpg  503589.jpg\n",
            "1190233.jpg  1761285.jpg  234626.jpg   2910418.jpg  3478318.jpg  510757.jpg\n",
            "1208405.jpg  176508.jpg   234704.jpg   2912290.jpg  3488748.jpg  513129.jpg\n",
            "1209120.jpg  1772039.jpg  2357281.jpg  2916448.jpg  3492328.jpg  513842.jpg\n",
            "1212161.jpg  1777107.jpg  2361812.jpg  2916967.jpg  3518960.jpg  523535.jpg\n",
            "1213988.jpg  1787505.jpg  2365287.jpg  2927833.jpg  3522209.jpg  525041.jpg\n",
            "1219039.jpg  179293.jpg   2374582.jpg  2928643.jpg  3524429.jpg  534560.jpg\n",
            "1225762.jpg  1816235.jpg  239025.jpg   2929179.jpg  3528458.jpg  534633.jpg\n",
            "1230968.jpg  1822407.jpg  2390628.jpg  2936477.jpg  3531805.jpg  536535.jpg\n",
            "1236155.jpg  1823263.jpg  2392910.jpg  2938012.jpg  3536023.jpg  541410.jpg\n",
            "1241193.jpg  1826066.jpg  2394465.jpg  2938151.jpg  3538682.jpg  543691.jpg\n",
            "1248337.jpg  1828502.jpg  2395127.jpg  2939678.jpg  3540750.jpg  560503.jpg\n",
            "1257104.jpg  1828969.jpg  2396291.jpg  2940544.jpg  354329.jpg\t 561972.jpg\n",
            "126345.jpg   1829045.jpg  2400975.jpg  2940621.jpg  3547166.jpg  56240.jpg\n",
            "1264050.jpg  1829088.jpg  2403776.jpg  2949079.jpg  3553911.jpg  56409.jpg\n",
            "1264154.jpg  1836332.jpg  2403907.jpg  295491.jpg   3556871.jpg  564530.jpg\n",
            "1264858.jpg  1839025.jpg  240435.jpg   296268.jpg   355715.jpg\t 568972.jpg\n",
            "127029.jpg   1839481.jpg  2404695.jpg  2964732.jpg  356234.jpg\t 576725.jpg\n",
            "1289900.jpg  183995.jpg   2404884.jpg  2965021.jpg  3571963.jpg  588739.jpg\n",
            "1290362.jpg  184110.jpg   2407770.jpg  2966859.jpg  3576078.jpg  590142.jpg\n",
            "1295457.jpg  184226.jpg   2412263.jpg  2977966.jpg  3577618.jpg  60633.jpg\n",
            "1312841.jpg  1846706.jpg  2425062.jpg  2979061.jpg  3577732.jpg  60655.jpg\n",
            "1313316.jpg  1849364.jpg  2425389.jpg  2983260.jpg  3578934.jpg  606820.jpg\n",
            "1324791.jpg  1849463.jpg  2435316.jpg  2984311.jpg  358042.jpg\t 612551.jpg\n",
            "1327567.jpg  1849542.jpg  2437268.jpg  2988960.jpg  358045.jpg\t 614975.jpg\n",
            "1327667.jpg  1853564.jpg  2437843.jpg  2989882.jpg  3591821.jpg  616809.jpg\n",
            "1333055.jpg  1869467.jpg  2440131.jpg  2995169.jpg  359330.jpg\t 628628.jpg\n",
            "1334054.jpg  1870942.jpg  2443168.jpg  2996324.jpg  3601483.jpg  632427.jpg\n",
            "1335556.jpg  187303.jpg   2446660.jpg  3000131.jpg  3606642.jpg  636594.jpg\n",
            "1337814.jpg  187521.jpg   2455944.jpg  3002350.jpg  3609394.jpg  637374.jpg\n",
            "1340977.jpg  1888450.jpg  2458401.jpg  3007772.jpg  361067.jpg\t 640539.jpg\n",
            "1343209.jpg  1889336.jpg  2487306.jpg  3008192.jpg  3613455.jpg  644777.jpg\n",
            "134369.jpg   1907039.jpg  248841.jpg   3009617.jpg  3621464.jpg  644867.jpg\n",
            "1344105.jpg  1925230.jpg  2489716.jpg  3011642.jpg  3621562.jpg  658189.jpg\n",
            "134598.jpg   1927984.jpg  2490489.jpg  3020591.jpg  3621565.jpg  660900.jpg\n",
            "1346387.jpg  1930577.jpg  2495884.jpg  3030578.jpg  3623556.jpg  663014.jpg\n",
            "1348047.jpg  1937872.jpg  2495903.jpg  3047807.jpg  3640915.jpg  664545.jpg\n",
            "1351372.jpg  1941807.jpg  2499364.jpg  3059843.jpg  3643951.jpg  667075.jpg\n",
            "1362989.jpg  1942333.jpg  2500292.jpg  3074367.jpg  3653129.jpg  669180.jpg\n",
            "1367035.jpg  1945132.jpg  2509017.jpg  3082120.jpg  3656752.jpg  669960.jpg\n",
            "1371177.jpg  1961025.jpg  250978.jpg   3094354.jpg  3663518.jpg  6709.jpg\n",
            "1375640.jpg  1966300.jpg  2514432.jpg  3095301.jpg  3663800.jpg  674001.jpg\n",
            "1382427.jpg  1966967.jpg  2526838.jpg  3099645.jpg  3664376.jpg  676189.jpg\n",
            "1392718.jpg  1969596.jpg  252858.jpg   3100476.jpg  3670607.jpg  681609.jpg\n",
            "1395906.jpg  1971757.jpg  2532239.jpg  3110387.jpg  3671021.jpg  6926.jpg\n",
            "1400760.jpg  1976160.jpg  2534567.jpg  3113772.jpg  3671877.jpg  703556.jpg\n",
            "1403005.jpg  1984271.jpg  2535431.jpg  3116018.jpg  368073.jpg\t 703909.jpg\n",
            "1404770.jpg  1987213.jpg  2535456.jpg  3128952.jpg  368162.jpg\t 704316.jpg\n",
            "140832.jpg   1987639.jpg  2538000.jpg  3130412.jpg  368170.jpg\t 714298.jpg\n",
            "141056.jpg   1995118.jpg  2543081.jpg  3136.jpg     3693649.jpg  720060.jpg\n",
            "141135.jpg   1995252.jpg  2544643.jpg  313851.jpg   3700079.jpg  726083.jpg\n",
            "1413972.jpg  199754.jpg   2547797.jpg  3140083.jpg  3704103.jpg  728020.jpg\n",
            "1421393.jpg  2002400.jpg  2548974.jpg  3140147.jpg  3707493.jpg  732986.jpg\n",
            "1428947.jpg  2011264.jpg  2549316.jpg  3142045.jpg  3716881.jpg  734445.jpg\n",
            "1433912.jpg  2012996.jpg  2561199.jpg  3142618.jpg  3724677.jpg  735441.jpg\n",
            "143490.jpg   2013535.jpg  2563233.jpg  3142674.jpg  3727036.jpg  740090.jpg\n",
            "1445352.jpg  2017387.jpg  256592.jpg   3143192.jpg  3727491.jpg  745189.jpg\n",
            "1446401.jpg  2018173.jpg  2568848.jpg  314359.jpg   3736065.jpg  752203.jpg\n",
            "1453991.jpg  2020613.jpg  2573392.jpg  3157832.jpg  37384.jpg\t 75537.jpg\n",
            "1456841.jpg  2032669.jpg  2592401.jpg  3159818.jpg  3743286.jpg  756655.jpg\n",
            "146833.jpg   203450.jpg   2599817.jpg  3162376.jpg  3745515.jpg  762210.jpg\n",
            "1476404.jpg  2034628.jpg  2603058.jpg  3168620.jpg  3750472.jpg  763690.jpg\n",
            "1485083.jpg  2036920.jpg  2606444.jpg  3171085.jpg  3752362.jpg  767442.jpg\n",
            "1487113.jpg  2038418.jpg  2614189.jpg  317206.jpg   3766099.jpg  786409.jpg\n",
            "148916.jpg   2042975.jpg  2614649.jpg  3173444.jpg  3770370.jpg  80215.jpg\n",
            "149087.jpg   2045647.jpg  2615718.jpg  3180182.jpg  377190.jpg\t 802348.jpg\n",
            "1493169.jpg  2050584.jpg  2619625.jpg  31881.jpg    3777020.jpg  804684.jpg\n",
            "149682.jpg   2052542.jpg  2622140.jpg  3191589.jpg  3777482.jpg  812163.jpg\n",
            "1508094.jpg  2056627.jpg  262321.jpg   3204977.jpg  3781152.jpg  813486.jpg\n",
            "1512226.jpg  2062248.jpg  2625330.jpg  320658.jpg   3787809.jpg  819027.jpg\n",
            "1512347.jpg  2081995.jpg  2628106.jpg  3209173.jpg  3788729.jpg  822550.jpg\n",
            "1524526.jpg  2087958.jpg  2629750.jpg  3223400.jpg  3790962.jpg  823766.jpg\n",
            "1530833.jpg  2088030.jpg  2643906.jpg  3223601.jpg  3792514.jpg  827764.jpg\n",
            "1539499.jpg  2088195.jpg  2644457.jpg  3241894.jpg  379737.jpg\t 830007.jpg\n",
            "1541672.jpg  2090493.jpg  2648423.jpg  3245533.jpg  3807440.jpg  838344.jpg\n",
            "1548239.jpg  2090504.jpg  2651300.jpg  3245622.jpg  381162.jpg\t 853327.jpg\n",
            "1550997.jpg  2125877.jpg  2653594.jpg  3247009.jpg  3812039.jpg  854150.jpg\n",
            "1552530.jpg  2129685.jpg  2661577.jpg  3253588.jpg  3829392.jpg  864997.jpg\n",
            "15580.jpg    2133717.jpg  2668916.jpg  3260624.jpg  3830872.jpg  885571.jpg\n",
            "1559052.jpg  2136662.jpg  268444.jpg   326587.jpg   38442.jpg\t 907107.jpg\n",
            "1563266.jpg  213765.jpg   2691461.jpg  32693.jpg    3855584.jpg  908261.jpg\n",
            "1567554.jpg  2138335.jpg  2706403.jpg  3271253.jpg  3857508.jpg  910672.jpg\n",
            "1575322.jpg  2140776.jpg  270687.jpg   3274423.jpg  386335.jpg\t 911803.jpg\n",
            "1588879.jpg  214320.jpg   2707522.jpg  3280453.jpg  3867460.jpg  91432.jpg\n",
            "1594719.jpg  2146963.jpg  2711806.jpg  3298495.jpg  3868959.jpg  914570.jpg\n",
            "1595869.jpg  215222.jpg   2716993.jpg  330182.jpg   3869679.jpg  922752.jpg\n",
            "1598345.jpg  2154126.jpg  2724554.jpg  3306627.jpg  388776.jpg\t 923772.jpg\n",
            "1598885.jpg  2154779.jpg  2738227.jpg  3315727.jpg  3890465.jpg  926414.jpg\n",
            "1600179.jpg  2159975.jpg  2748917.jpg  331860.jpg   3894222.jpg  931356.jpg\n",
            "1600794.jpg  2163079.jpg  2760475.jpg  332232.jpg   3895825.jpg  937133.jpg\n",
            "160552.jpg   217250.jpg   2761427.jpg  3322909.jpg  389739.jpg\t 945791.jpg\n",
            "1606596.jpg  2172600.jpg  2765887.jpg  332557.jpg   3916407.jpg  947877.jpg\n",
            "1615395.jpg  2173084.jpg  2768451.jpg  3326734.jpg  393349.jpg\t 952407.jpg\n",
            "1618011.jpg  217996.jpg   2771149.jpg  3330642.jpg  393494.jpg\t 952437.jpg\n",
            "1619357.jpg  2193684.jpg  2779040.jpg  3333128.jpg  398288.jpg\t 955466.jpg\n",
            "1621763.jpg  220341.jpg   2788312.jpg  3333735.jpg  40094.jpg\t 9555.jpg\n",
            "1623325.jpg  22080.jpg\t  2788759.jpg  3334973.jpg  401094.jpg\t 961341.jpg\n",
            "1624450.jpg  2216146.jpg  2796102.jpg  3335013.jpg  401144.jpg\t 97656.jpg\n",
            "1624747.jpg  2222018.jpg  280284.jpg   3335267.jpg  401651.jpg\t 979110.jpg\n",
            "1628861.jpg  2223787.jpg  2807888.jpg  3346787.jpg  405173.jpg\t 980247.jpg\n",
            "1632774.jpg  2230959.jpg  2815172.jpg  3364420.jpg  405794.jpg\t 982988.jpg\n",
            "1636831.jpg  2232310.jpg  2818805.jpg  336637.jpg   40762.jpg\t 987732.jpg\n",
            "1645470.jpg  2233395.jpg  2823872.jpg  3372616.jpg  413325.jpg\t 996684.jpg\n"
          ]
        }
      ],
      "source": [
        "!ls pizza_steak/train/steak/"
      ]
    },
    {
      "cell_type": "markdown",
      "metadata": {
        "id": "a2gmbFCodkcp"
      },
      "source": [
        "Woah, a whole bunch of images. But how many?\n",
        "\n",
        "> 🛠 **Practice:** Try listing the same information for the `pizza` directory in the `test` folder."
      ]
    },
    {
      "cell_type": "code",
      "execution_count": 5,
      "metadata": {
        "colab": {
          "base_uri": "https://localhost:8080/"
        },
        "id": "FhFg5iJ158mY",
        "outputId": "fc4b0cb8-1e04-4566-b2d0-f3f9fab174e6"
      },
      "outputs": [
        {
          "name": "stdout",
          "output_type": "stream",
          "text": [
            "There are 2 directories and 0 images in 'pizza_steak'.\n",
            "There are 2 directories and 0 images in 'pizza_steak/train'.\n",
            "There are 0 directories and 750 images in 'pizza_steak/train/steak'.\n",
            "There are 0 directories and 750 images in 'pizza_steak/train/pizza'.\n",
            "There are 2 directories and 0 images in 'pizza_steak/test'.\n",
            "There are 0 directories and 250 images in 'pizza_steak/test/steak'.\n",
            "There are 0 directories and 250 images in 'pizza_steak/test/pizza'.\n"
          ]
        }
      ],
      "source": [
        "import os\n",
        "\n",
        "# Walk through pizza_steak directory and list number of files\n",
        "for dirpath, dirnames, filenames in os.walk(\"pizza_steak\"):\n",
        "  print(f\"There are {len(dirnames)} directories and {len(filenames)} images in '{dirpath}'.\")"
      ]
    },
    {
      "cell_type": "code",
      "execution_count": 6,
      "metadata": {
        "colab": {
          "base_uri": "https://localhost:8080/"
        },
        "id": "o5RXO4Mugvwg",
        "outputId": "48d63566-449a-45a9-a160-5443a949d22f"
      },
      "outputs": [
        {
          "data": {
            "text/plain": [
              "750"
            ]
          },
          "execution_count": 6,
          "metadata": {},
          "output_type": "execute_result"
        }
      ],
      "source": [
        "# Another way to find out how many images are in a file\n",
        "num_steak_images_train = len(os.listdir(\"pizza_steak/train/steak\"))\n",
        "\n",
        "num_steak_images_train"
      ]
    },
    {
      "cell_type": "code",
      "execution_count": 7,
      "metadata": {
        "colab": {
          "base_uri": "https://localhost:8080/"
        },
        "id": "JFuSXR_tfYZz",
        "outputId": "08b9014c-63c4-43e2-ac06-642d140b2a6e"
      },
      "outputs": [
        {
          "name": "stdout",
          "output_type": "stream",
          "text": [
            "['pizza' 'steak']\n"
          ]
        }
      ],
      "source": [
        "# Get the class names (programmatically, this is much more helpful with a longer list of classes)\n",
        "import pathlib\n",
        "import numpy as np\n",
        "data_dir = pathlib.Path(\"pizza_steak/train/\") # turn our training path into a Python path\n",
        "class_names = np.array(sorted([item.name for item in data_dir.glob('*')])) # created a list of class_names from the subdirectories\n",
        "print(class_names)"
      ]
    },
    {
      "cell_type": "markdown",
      "metadata": {
        "id": "qAfyFTcBg9RJ"
      },
      "source": [
        "Okay, so we've got a collection of 750 training images and 250 testing images of pizza and steak.\n",
        "\n",
        "Let's look at some.\n",
        "\n",
        "> 🤔 **Note:** Whenever you're working with data, it's always good to visualize it as much as possible. Treat your first couple of steps of a project as becoming one with the data. **Visualize, visualize, visualize.**"
      ]
    },
    {
      "cell_type": "code",
      "execution_count": 35,
      "metadata": {
        "id": "1UJ-oJSn6-vn"
      },
      "outputs": [],
      "source": [
        "# View an image\n",
        "import matplotlib.pyplot as plt\n",
        "import matplotlib.image as mpimg\n",
        "import random\n",
        "\n",
        "def view_random_image(target_dir, target_class):\n",
        "  # Setup target directory (we'll view images from here)\n",
        "  target_folder = target_dir+target_class\n",
        "\n",
        "  # Get a random image path\n",
        "  random_image = random.sample(os.listdir(target_folder), 1)\n",
        "\n",
        "  # Read in the image and plot it using matplotlib\n",
        "  img = mpimg.imread(target_folder + \"/\" + random_image[0])\n",
        "  plt.imshow(img)\n",
        "  plt.title(target_class)\n",
        "  plt.axis(\"off\");\n",
        "  plt.show()\n",
        "  print(f\"Image shape: {img.shape}\") # show the shape of the image\n",
        "\n",
        "  return img"
      ]
    },
    {
      "cell_type": "code",
      "execution_count": 9,
      "metadata": {
        "colab": {
          "base_uri": "https://localhost:8080/",
          "height": 281
        },
        "id": "IeJ3VHclrGZ3",
        "outputId": "d80b4792-f47e-4021-8431-2855d407d0b2"
      },
      "outputs": [
        {
          "name": "stdout",
          "output_type": "stream",
          "text": [
            "Image shape: (512, 382, 3)\n"
          ]
        }
      ],
      "source": [
        "# View a random image from the training dataset\n",
        "img = view_random_image(target_dir=\"pizza_steak/train/\",\n",
        "                        target_class=\"steak\")"
      ]
    },
    {
      "cell_type": "markdown",
      "metadata": {
        "id": "n3-bSAOZiOnP"
      },
      "source": [
        "After going through a dozen or so images from the different classes, you can start to get an idea of what we're working with.\n",
        "\n",
        "The entire Food101 dataset comprises of similar images from 101 different classes.\n",
        "\n",
        "You might've noticed we've been printing the image shape alongside the plotted image.\n",
        "\n",
        "This is because the way our computer sees the image is in the form of a big array (tensor)."
      ]
    },
    {
      "cell_type": "code",
      "execution_count": 10,
      "metadata": {
        "colab": {
          "base_uri": "https://localhost:8080/"
        },
        "id": "F3zLprqM9cnC",
        "outputId": "e4c678f7-7bdf-464c-b39d-4c51b446ac02"
      },
      "outputs": [
        {
          "data": {
            "text/plain": [
              "array([[[ 24,   7,   0],\n",
              "        [ 25,   8,   0],\n",
              "        [ 27,  10,   2],\n",
              "        ...,\n",
              "        [ 12,   9,   0],\n",
              "        [ 10,  10,   0],\n",
              "        [ 10,  10,   0]],\n",
              "\n",
              "       [[ 23,   6,   0],\n",
              "        [ 24,   7,   0],\n",
              "        [ 25,   8,   0],\n",
              "        ...,\n",
              "        [ 11,   8,   0],\n",
              "        [ 11,   8,   0],\n",
              "        [  9,   9,   0]],\n",
              "\n",
              "       [[ 23,   6,   0],\n",
              "        [ 24,   7,   0],\n",
              "        [ 25,   8,   0],\n",
              "        ...,\n",
              "        [ 12,   8,   0],\n",
              "        [ 12,   8,   0],\n",
              "        [ 11,   8,   0]],\n",
              "\n",
              "       ...,\n",
              "\n",
              "       [[197, 122,   7],\n",
              "        [197, 122,   7],\n",
              "        [197, 120,   6],\n",
              "        ...,\n",
              "        [170, 158,  72],\n",
              "        [170, 160,  73],\n",
              "        [170, 160,  73]],\n",
              "\n",
              "       [[193, 119,   0],\n",
              "        [195, 121,   0],\n",
              "        [198, 122,   2],\n",
              "        ...,\n",
              "        [172, 160,  74],\n",
              "        [172, 162,  77],\n",
              "        [170, 162,  77]],\n",
              "\n",
              "       [[190, 116,   0],\n",
              "        [193, 119,   0],\n",
              "        [196, 120,   0],\n",
              "        ...,\n",
              "        [172, 162,  75],\n",
              "        [173, 163,  78],\n",
              "        [172, 164,  79]]], dtype=uint8)"
            ]
          },
          "execution_count": 10,
          "metadata": {},
          "output_type": "execute_result"
        }
      ],
      "source": [
        "# View the img (actually just a big array/tensor)\n",
        "img"
      ]
    },
    {
      "cell_type": "code",
      "execution_count": 11,
      "metadata": {
        "colab": {
          "base_uri": "https://localhost:8080/"
        },
        "id": "IKw-PonliwWJ",
        "outputId": "6a71432f-e7ab-4ac5-fa75-865745c0912c"
      },
      "outputs": [
        {
          "data": {
            "text/plain": [
              "(512, 382, 3)"
            ]
          },
          "execution_count": 11,
          "metadata": {},
          "output_type": "execute_result"
        }
      ],
      "source": [
        "# View the image shape\n",
        "img.shape # returns (width, height, colour channels)"
      ]
    },
    {
      "cell_type": "markdown",
      "metadata": {
        "id": "uEZ87kjyiv9Y"
      },
      "source": [
        "Looking at the image shape more closely, you'll see it's in the form `(Width, Height, Colour Channels)`.\n",
        "\n",
        "In our case, the width and height vary but because we're dealing with colour images, the colour channels value is always 3. This is for different values of [red, green and blue (RGB) pixels](https://en.wikipedia.org/wiki/RGB_color_model).\n",
        "\n",
        "You'll notice all of the values in the `img` array are between 0 and 255. This is because that's the possible range for red, green and blue values.\n",
        "\n",
        "For example, a pixel with a value `red=0, green=0, blue=255` will look very blue.\n",
        "\n",
        "So when we build a model to differentiate between our images of `pizza` and `steak`, it will be finding patterns in these different pixel values which determine what each class looks like.\n",
        "\n",
        "> 🔑 **Note:** As we've discussed before, many machine learning models, including neural networks prefer the values they work with to be between 0 and 1. Knowing this, one of the most common preprocessing steps for working with images is to **scale** (also referred to as **normalize**) their pixel values by dividing the image arrays by 255."
      ]
    },
    {
      "cell_type": "code",
      "execution_count": 12,
      "metadata": {
        "colab": {
          "base_uri": "https://localhost:8080/"
        },
        "id": "Lk8uo3mk9pi8",
        "outputId": "775e5810-8afd-422c-aa71-3fd7833a5ea8"
      },
      "outputs": [
        {
          "data": {
            "text/plain": [
              "array([[[0.09411765, 0.02745098, 0.        ],\n",
              "        [0.09803922, 0.03137255, 0.        ],\n",
              "        [0.10588235, 0.03921569, 0.00784314],\n",
              "        ...,\n",
              "        [0.04705882, 0.03529412, 0.        ],\n",
              "        [0.03921569, 0.03921569, 0.        ],\n",
              "        [0.03921569, 0.03921569, 0.        ]],\n",
              "\n",
              "       [[0.09019608, 0.02352941, 0.        ],\n",
              "        [0.09411765, 0.02745098, 0.        ],\n",
              "        [0.09803922, 0.03137255, 0.        ],\n",
              "        ...,\n",
              "        [0.04313725, 0.03137255, 0.        ],\n",
              "        [0.04313725, 0.03137255, 0.        ],\n",
              "        [0.03529412, 0.03529412, 0.        ]],\n",
              "\n",
              "       [[0.09019608, 0.02352941, 0.        ],\n",
              "        [0.09411765, 0.02745098, 0.        ],\n",
              "        [0.09803922, 0.03137255, 0.        ],\n",
              "        ...,\n",
              "        [0.04705882, 0.03137255, 0.        ],\n",
              "        [0.04705882, 0.03137255, 0.        ],\n",
              "        [0.04313725, 0.03137255, 0.        ]],\n",
              "\n",
              "       ...,\n",
              "\n",
              "       [[0.77254902, 0.47843137, 0.02745098],\n",
              "        [0.77254902, 0.47843137, 0.02745098],\n",
              "        [0.77254902, 0.47058824, 0.02352941],\n",
              "        ...,\n",
              "        [0.66666667, 0.61960784, 0.28235294],\n",
              "        [0.66666667, 0.62745098, 0.28627451],\n",
              "        [0.66666667, 0.62745098, 0.28627451]],\n",
              "\n",
              "       [[0.75686275, 0.46666667, 0.        ],\n",
              "        [0.76470588, 0.4745098 , 0.        ],\n",
              "        [0.77647059, 0.47843137, 0.00784314],\n",
              "        ...,\n",
              "        [0.6745098 , 0.62745098, 0.29019608],\n",
              "        [0.6745098 , 0.63529412, 0.30196078],\n",
              "        [0.66666667, 0.63529412, 0.30196078]],\n",
              "\n",
              "       [[0.74509804, 0.45490196, 0.        ],\n",
              "        [0.75686275, 0.46666667, 0.        ],\n",
              "        [0.76862745, 0.47058824, 0.        ],\n",
              "        ...,\n",
              "        [0.6745098 , 0.63529412, 0.29411765],\n",
              "        [0.67843137, 0.63921569, 0.30588235],\n",
              "        [0.6745098 , 0.64313725, 0.30980392]]])"
            ]
          },
          "execution_count": 12,
          "metadata": {},
          "output_type": "execute_result"
        }
      ],
      "source": [
        "# Get all the pixel values between 0 & 1\n",
        "img/255. "
      ]
    },
    {
      "cell_type": "markdown",
      "metadata": {
        "id": "GHRVKeEMXZo8"
      },
      "source": [
        "## A (typical) architecture of a convolutional neural network\n",
        "\n",
        "Convolutional neural networks are no different to other kinds of deep learning neural networks in the fact they can be created in many different ways. What you see below are some components you'd expect to find in a traditional CNN."
      ]
    },
    {
      "cell_type": "markdown",
      "metadata": {
        "id": "3ILvpGYW9muy"
      },
      "source": [
        "\n",
        "Components of a convolutional neural network:\n",
        "\n",
        "| **Hyperparameter/Layer type** | **What does it do?** | **Typical values** |\n",
        "| ----- | ----- | ----- |\n",
        "| Input image(s) | Target images you'd like to discover patterns in| Whatever you can take a photo (or video) of |\n",
        "| Input layer | Takes in target images and preprocesses them for further layers | `input_shape = [batch_size, image_height, image_width, color_channels]` |\n",
        "| Convolution layer | Extracts/learns the most important features from target images | Multiple, can create with [`tf.keras.layers.ConvXD`](https://www.tensorflow.org/api_docs/python/tf/keras/layers/Conv2D) (X can be multiple values) |\n",
        "| Hidden activation | Adds non-linearity to learned features (non-straight lines) | Usually ReLU ([`tf.keras.activations.relu`](https://www.tensorflow.org/api_docs/python/tf/keras/activations/relu)) |\n",
        "| Pooling layer | Reduces the dimensionality of learned image features | Average ([`tf.keras.layers.AvgPool2D`](https://www.tensorflow.org/api_docs/python/tf/keras/layers/AveragePooling2D)) or Max ([`tf.keras.layers.MaxPool2D`](https://www.tensorflow.org/api_docs/python/tf/keras/layers/MaxPool2D)) |\n",
        "| Fully connected layer | Further refines learned features from convolution layers | [`tf.keras.layers.Dense`](https://www.tensorflow.org/api_docs/python/tf/keras/layers/Dense) |\n",
        "| Output layer | Takes learned features and outputs them in shape of target labels | `output_shape = [number_of_classes]` (e.g. 3 for pizza, steak or sushi)|\n",
        "| Output activation | Adds non-linearities to output layer | [`tf.keras.activations.sigmoid`](https://www.tensorflow.org/api_docs/python/tf/keras/activations/sigmoid) (binary classification) or [`tf.keras.activations.softmax`](https://www.tensorflow.org/api_docs/python/tf/keras/activations/softmax) |\n",
        "\n",
        "How they stack together:\n",
        "\n",
        "![](https://raw.githubusercontent.com/mrdbourke/tensorflow-deep-learning/main/images/03-simple-convnet.png)\n",
        "*A simple example of how you might stack together the above layers into a convolutional neural network. Note the convolutional and pooling layers can often be arranged and rearranged into many different formations.*"
      ]
    },
    {
      "cell_type": "markdown",
      "metadata": {
        "id": "RGCb6uv34zen"
      },
      "source": [
        "## An end-to-end example\n",
        "\n",
        "We've checked out our data and found there's 750 training images, as well as 250 test images per class and they're all of various different shapes. \n",
        "\n",
        "It's time to jump straight in the deep end.\n",
        "\n",
        "Reading the [original dataset authors paper](https://data.vision.ee.ethz.ch/cvl/datasets_extra/food-101/static/bossard_eccv14_food-101.pdf), we see they used a [Random Forest machine learning model](https://medium.com/@williamkoehrsen/random-forest-simple-explanation-377895a60d2d) and averaged 50.76% accuracy at predicting what different foods different images had in them.\n",
        "\n",
        "From now on, that 50.76% will be our baseline.\n",
        "\n",
        "> 🔑 **Note:** A **baseline** is a score or evaluation metric you want to try and beat. Usually you'll start with a simple model, create a baseline and try to beat it by increasing the complexity of the model. A really fun way to learn machine learning is to find some kind of modelling paper with a published result and try to beat it.\n",
        "\n",
        "The code in the following cell replicates and end-to-end way to model our `pizza_steak` dataset with a convolutional neural network (CNN) using the components listed above.\n",
        "\n",
        "There will be a bunch of things you might not recognize but step through the code yourself and see if you can figure out what it's doing.\n",
        "\n",
        "We'll go through each of the steps later on in the notebook.\n",
        "\n",
        "For reference, the model we're using replicates TinyVGG, the computer vision architecture which fuels the [CNN explainer webpage](https://poloclub.github.io/cnn-explainer/).\n",
        "\n",
        "> 📖 **Resource:** The architecture we're using below is a scaled-down version of [VGG-16](https://arxiv.org/abs/1505.06798), a convolutional neural network which came 2nd in the 2014 [ImageNet classification competition](http://image-net.org/)."
      ]
    },
    {
      "cell_type": "code",
      "execution_count": 15,
      "metadata": {
        "colab": {
          "base_uri": "https://localhost:8080/"
        },
        "id": "JEf1YhOM5WTq",
        "outputId": "5b6ca758-6a2d-49d6-8857-53690332af90"
      },
      "outputs": [
        {
          "name": "stdout",
          "output_type": "stream",
          "text": [
            "Found 1500 images belonging to 2 classes.\n",
            "Found 500 images belonging to 2 classes.\n",
            "Epoch 1/5\n",
            "47/47 [==============================] - 56s 1s/step - loss: 0.5536 - accuracy: 0.7087 - val_loss: 0.4179 - val_accuracy: 0.8160\n",
            "Epoch 2/5\n",
            "47/47 [==============================] - 55s 1s/step - loss: 0.4085 - accuracy: 0.8193 - val_loss: 0.3330 - val_accuracy: 0.8440\n",
            "Epoch 3/5\n",
            "47/47 [==============================] - 55s 1s/step - loss: 0.3945 - accuracy: 0.8280 - val_loss: 0.3192 - val_accuracy: 0.8740\n",
            "Epoch 4/5\n",
            "47/47 [==============================] - 55s 1s/step - loss: 0.3491 - accuracy: 0.8480 - val_loss: 0.3143 - val_accuracy: 0.8800\n",
            "Epoch 5/5\n",
            "47/47 [==============================] - 54s 1s/step - loss: 0.3314 - accuracy: 0.8613 - val_loss: 0.3191 - val_accuracy: 0.8640\n"
          ]
        }
      ],
      "source": [
        "import tensorflow as tf\n",
        "from tensorflow.keras.preprocessing.image import ImageDataGenerator\n",
        "\n",
        "# Set the seed\n",
        "tf.random.set_seed(42)\n",
        "\n",
        "# Preprocess data (get all of the pixel values between 1 and 0, also called scaling/normalization)\n",
        "train_datagen = ImageDataGenerator(rescale=1./255)\n",
        "valid_datagen = ImageDataGenerator(rescale=1./255)\n",
        "\n",
        "# Setup the train and test directories\n",
        "train_dir = \"pizza_steak/train/\"\n",
        "test_dir = \"pizza_steak/test/\"\n",
        "\n",
        "# Import data from directories and turn it into batches\n",
        "train_data = train_datagen.flow_from_directory(train_dir,\n",
        "                                               batch_size=32, # number of images to process at a time \n",
        "                                               target_size=(224, 224), # convert all images to be 224 x 224\n",
        "                                               class_mode=\"binary\", # type of problem we're working on\n",
        "                                               seed=42)\n",
        "\n",
        "valid_data = valid_datagen.flow_from_directory(test_dir,\n",
        "                                               batch_size=32,\n",
        "                                               target_size=(224, 224),\n",
        "                                               class_mode=\"binary\",\n",
        "                                               seed=42)\n",
        "\n",
        "# Create a CNN model (same as Tiny VGG - https://poloclub.github.io/cnn-explainer/)\n",
        "model_1 = tf.keras.models.Sequential([\n",
        "  tf.keras.layers.Conv2D(filters=10, \n",
        "                         kernel_size=3, # can also be (3, 3)\n",
        "                         activation=\"relu\", \n",
        "                         input_shape=(224, 224, 3)), # first layer specifies input shape (height, width, colour channels)\n",
        "  tf.keras.layers.Conv2D(10, 3, activation=\"relu\"),\n",
        "  tf.keras.layers.MaxPool2D(pool_size=2, # pool_size can also be (2, 2)\n",
        "                            padding=\"valid\"), # padding can also be 'same'\n",
        "  tf.keras.layers.Conv2D(10, 3, activation=\"relu\"),\n",
        "  tf.keras.layers.Conv2D(10, 3, activation=\"relu\"), # activation='relu' == tf.keras.layers.Activations(tf.nn.relu)\n",
        "  tf.keras.layers.MaxPool2D(2),\n",
        "  tf.keras.layers.Flatten(),\n",
        "  tf.keras.layers.Dense(1, activation=\"sigmoid\") # binary activation output\n",
        "])\n",
        "\n",
        "# Compile the model\n",
        "model_1.compile(loss=\"binary_crossentropy\",\n",
        "              optimizer=tf.keras.optimizers.Adam(),\n",
        "              metrics=[\"accuracy\"])\n",
        "\n",
        "# Fit the model\n",
        "history_1 = model_1.fit(train_data,\n",
        "                        epochs=5,\n",
        "                        steps_per_epoch=len(train_data),\n",
        "                        validation_data=valid_data,\n",
        "                        validation_steps=len(valid_data))"
      ]
    },
    {
      "cell_type": "markdown",
      "metadata": {
        "id": "YoJviYMowsCJ"
      },
      "source": [
        "> 🤔 **Note:** If the cell above takes more than ~12 seconds per epoch to run, you might not be using a GPU accelerator. If you're using a Colab notebook, you can access a GPU accelerator by going to Runtime -> Change Runtime Type -> Hardware Accelerator and select \"GPU\". After doing so, you might have to rerun all of the above cells as changing the runtime type causes Colab to have to reset.\n",
        "\n"
      ]
    },
    {
      "cell_type": "markdown",
      "metadata": {
        "id": "V7OE32leobx7"
      },
      "source": [
        "\n",
        "\n",
        "Nice! After 5 epochs, our model beat the baseline score of 50.76% accuracy (our model got ~85% accuaracy on the training set and ~85% accuracy on the test set).\n",
        "\n",
        "However, our model only went through a binary classificaiton problem rather than all of the 101 classes in the Food101 dataset, so we can't directly compare these metrics. That being said, the results so far show that our model is learning something.\n",
        "\n",
        "> 🛠 **Practice:** Step through each of the main blocks of code in the cell above, what do you think each is doing? It's okay if you're not sure, we'll go through this soon. In the meantime, spend 10-minutes playing around the incredible [CNN explainer website](https://poloclub.github.io/cnn-explainer/). What do you notice about the layer names at the top of the webpage?\n",
        "\n",
        "\n",
        "Since we've already fit a model, let's check out its architecture."
      ]
    },
    {
      "cell_type": "code",
      "execution_count": 16,
      "metadata": {
        "colab": {
          "base_uri": "https://localhost:8080/"
        },
        "id": "iGSYUbkfLn8z",
        "outputId": "f2418b0d-ed99-4c89-9973-b65149e29f2e"
      },
      "outputs": [
        {
          "name": "stdout",
          "output_type": "stream",
          "text": [
            "Model: \"sequential\"\n",
            "_________________________________________________________________\n",
            " Layer (type)                Output Shape              Param #   \n",
            "=================================================================\n",
            " conv2d (Conv2D)             (None, 222, 222, 10)      280       \n",
            "                                                                 \n",
            " conv2d_1 (Conv2D)           (None, 220, 220, 10)      910       \n",
            "                                                                 \n",
            " max_pooling2d (MaxPooling2D  (None, 110, 110, 10)     0         \n",
            " )                                                               \n",
            "                                                                 \n",
            " conv2d_2 (Conv2D)           (None, 108, 108, 10)      910       \n",
            "                                                                 \n",
            " conv2d_3 (Conv2D)           (None, 106, 106, 10)      910       \n",
            "                                                                 \n",
            " max_pooling2d_1 (MaxPooling  (None, 53, 53, 10)       0         \n",
            " 2D)                                                             \n",
            "                                                                 \n",
            " flatten (Flatten)           (None, 28090)             0         \n",
            "                                                                 \n",
            " dense (Dense)               (None, 1)                 28091     \n",
            "                                                                 \n",
            "=================================================================\n",
            "Total params: 31,101\n",
            "Trainable params: 31,101\n",
            "Non-trainable params: 0\n",
            "_________________________________________________________________\n"
          ]
        }
      ],
      "source": [
        "# Check out the layers in our model\n",
        "model_1.summary()"
      ]
    },
    {
      "cell_type": "markdown",
      "metadata": {
        "id": "G2S3h3x49PD9"
      },
      "source": [
        "What do you notice about the names of `model_1`'s layers and the layer names at the top of the [CNN explainer website](https://poloclub.github.io/cnn-explainer/)?\n",
        "\n",
        "I'll let you in on a little secret: we've replicated the exact architecture they use for their model demo.\n",
        "\n",
        "Look at you go! **You're already starting to replicate models you find in the wild.**\n",
        "\n",
        "Now there are a few new things here we haven't discussed, namely: \n",
        "* The [`ImageDataGenerator`](https://www.tensorflow.org/api_docs/python/tf/keras/preprocessing/image/ImageDataGenerator) class and the `rescale` parameter\n",
        "* The [`flow_from_directory()`](https://www.tensorflow.org/api_docs/python/tf/keras/preprocessing/image/ImageDataGenerator#flow_from_directory) method\n",
        "  * The `batch_size` parameter\n",
        "  * The `target_size` parameter\n",
        "* [`Conv2D`](https://www.tensorflow.org/api_docs/python/tf/keras/layers/Conv2D) layers (and the parameters which come with them)\n",
        "* [`MaxPool2D`](https://www.tensorflow.org/api_docs/python/tf/keras/layers/MaxPool2D) layers (and their parameters).\n",
        "* The `steps_per_epoch` and `validation_steps` parameters in the `fit()` function\n",
        "\n",
        "Before we dive into each of these, let's see what happens if we try to fit a model we've worked with previously to our data.\n"
      ]
    },
    {
      "cell_type": "markdown",
      "metadata": {
        "id": "JDlI9uy06p1c"
      },
      "source": [
        "## Using the same model as before\n",
        "\n",
        "To examplify how neural networks can be adapted to many different problems, let's see how a binary classification model we've previously built might work with our data.\n",
        "\n",
        "> 🔑 **Note:** If you haven't gone through the previous classification notebook, no troubles, we'll be bringing in the a simple 4 layer architecture used to separate dots replicated from the [TensorFlow Playground environment](https://playground.tensorflow.org/#activation=relu&batchSize=10&dataset=circle&regDataset=reg-plane&learningRate=0.001&regularizationRate=0&noise=0&networkShape=4,4&seed=0.75075&showTestData=false&discretize=false&percTrainData=50&x=true&y=true&xTimesY=false&xSquared=false&ySquared=false&cosX=false&sinX=false&cosY=false&sinY=false&collectStats=false&problem=classification&initZero=false&hideText=false).\n",
        "\n",
        "We can use all of the same parameters in our previous model except for changing two things:\n",
        "* **The data** - we're now working with images instead of dots.\n",
        "* **The input shape** - we have to tell our neural network the shape of the images we're working with.\n",
        "  * A common practice is to reshape images all to one size. In our case, we'll resize the images to `(224, 224, 3)`, meaning a height and width of 224 pixels and a depth of 3 for the red, green, blue colour channels."
      ]
    },
    {
      "cell_type": "code",
      "execution_count": 17,
      "metadata": {
        "colab": {
          "base_uri": "https://localhost:8080/"
        },
        "id": "qQh8DIdY79Dc",
        "outputId": "ac3b7e95-527b-4ebd-d95f-62ca4b13d18d"
      },
      "outputs": [
        {
          "name": "stdout",
          "output_type": "stream",
          "text": [
            "Epoch 1/5\n",
            "47/47 [==============================] - 9s 172ms/step - loss: 1.2705 - accuracy: 0.5180 - val_loss: 0.6932 - val_accuracy: 0.5000\n",
            "Epoch 2/5\n",
            "47/47 [==============================] - 7s 139ms/step - loss: 0.6933 - accuracy: 0.5000 - val_loss: 0.6932 - val_accuracy: 0.5000\n",
            "Epoch 3/5\n",
            "47/47 [==============================] - 8s 170ms/step - loss: 0.6933 - accuracy: 0.5000 - val_loss: 0.6932 - val_accuracy: 0.5000\n",
            "Epoch 4/5\n",
            "47/47 [==============================] - 7s 158ms/step - loss: 0.6932 - accuracy: 0.5000 - val_loss: 0.6932 - val_accuracy: 0.5000\n",
            "Epoch 5/5\n",
            "47/47 [==============================] - 5s 116ms/step - loss: 0.6932 - accuracy: 0.5000 - val_loss: 0.6932 - val_accuracy: 0.5000\n"
          ]
        }
      ],
      "source": [
        "# Set random seed\n",
        "tf.random.set_seed(42)\n",
        "\n",
        "# Create a model to replicate the TensorFlow Playground model\n",
        "model_2 = tf.keras.Sequential([\n",
        "  tf.keras.layers.Flatten(input_shape=(224, 224, 3)), # dense layers expect a 1-dimensional vector as input\n",
        "  tf.keras.layers.Dense(4, activation='relu'),\n",
        "  tf.keras.layers.Dense(4, activation='relu'),\n",
        "  tf.keras.layers.Dense(1, activation='sigmoid')\n",
        "])\n",
        "\n",
        "# Compile the model\n",
        "model_2.compile(loss='binary_crossentropy',\n",
        "              optimizer=tf.keras.optimizers.Adam(),\n",
        "              metrics=[\"accuracy\"])\n",
        "\n",
        "# Fit the model\n",
        "history_2 = model_2.fit(train_data, # use same training data created above\n",
        "                        epochs=5,\n",
        "                        steps_per_epoch=len(train_data),\n",
        "                        validation_data=valid_data, # use same validation data created above\n",
        "                        validation_steps=len(valid_data))"
      ]
    },
    {
      "cell_type": "markdown",
      "metadata": {
        "id": "fXpUp0glB_L7"
      },
      "source": [
        "Hmmm... our model ran but it doesn't seem like it learned anything. It only reaches 50% accuracy on the training and test sets which in a binary classification problem is as good as guessing.\n",
        "\n",
        "Let's see the architecture."
      ]
    },
    {
      "cell_type": "code",
      "execution_count": 18,
      "metadata": {
        "colab": {
          "base_uri": "https://localhost:8080/"
        },
        "id": "R8F07RgHLhP_",
        "outputId": "c26c4263-01ca-47f6-d69b-4f332a604961"
      },
      "outputs": [
        {
          "name": "stdout",
          "output_type": "stream",
          "text": [
            "Model: \"sequential_1\"\n",
            "_________________________________________________________________\n",
            " Layer (type)                Output Shape              Param #   \n",
            "=================================================================\n",
            " flatten_1 (Flatten)         (None, 150528)            0         \n",
            "                                                                 \n",
            " dense_1 (Dense)             (None, 4)                 602116    \n",
            "                                                                 \n",
            " dense_2 (Dense)             (None, 4)                 20        \n",
            "                                                                 \n",
            " dense_3 (Dense)             (None, 1)                 5         \n",
            "                                                                 \n",
            "=================================================================\n",
            "Total params: 602,141\n",
            "Trainable params: 602,141\n",
            "Non-trainable params: 0\n",
            "_________________________________________________________________\n"
          ]
        }
      ],
      "source": [
        "# Check out our second model's architecture\n",
        "model_2.summary()"
      ]
    },
    {
      "cell_type": "markdown",
      "metadata": {
        "id": "wycTfkBZI4PA"
      },
      "source": [
        "Wow. One of the most noticeable things here is the much larger number of parameters in `model_2` versus `model_1`.\n",
        "\n",
        "`model_2` has 602,141 trainable parameters where as `model_1` has only 31,101. And despite this difference, `model_1` still far and large out performs `model_2`.\n",
        "\n",
        "> 🔑 **Note:** You can think of trainable parameters as *patterns a model can learn from data*. Intuitiely, you might think more is better. And in some cases it is. But in this case, the difference here is in the two different styles of model we're using. Where a series of dense layers have a number of different learnable parameters connected to each other and hence a higher number of possible learnable patterns, **a convolutional neural network seeks to sort out and learn the most important patterns in an image**. So even though there are less learnable parameters in our convolutional neural network, these are often more helpful in decphering between different **features** in an image.\n",
        "\n",
        "Since our previous model didn't work, do you have any ideas of how we might make it work?\n",
        "\n",
        "How about we increase the number of layers? \n",
        "\n",
        "And maybe even increase the number of neurons in each layer?\n",
        "\n",
        "More specifically, we'll increase the number of neurons (also called hidden units) in each dense layer from 4 to 100 and add an extra layer.\n",
        "\n",
        "> 🔑 **Note:** Adding extra layers or increasing the number of neurons in each layer is often referred to as increasing the **complexity** of your model."
      ]
    },
    {
      "cell_type": "code",
      "execution_count": 19,
      "metadata": {
        "colab": {
          "base_uri": "https://localhost:8080/"
        },
        "id": "58iJj19vI7pT",
        "outputId": "07dd1852-237b-4e77-b6b3-123246b262a1"
      },
      "outputs": [
        {
          "name": "stdout",
          "output_type": "stream",
          "text": [
            "Epoch 1/5\n",
            "47/47 [==============================] - 9s 175ms/step - loss: 3.3391 - accuracy: 0.6327 - val_loss: 1.1504 - val_accuracy: 0.6100\n",
            "Epoch 2/5\n",
            "47/47 [==============================] - 8s 171ms/step - loss: 0.7739 - accuracy: 0.6880 - val_loss: 0.4829 - val_accuracy: 0.7780\n",
            "Epoch 3/5\n",
            "47/47 [==============================] - 10s 208ms/step - loss: 0.8653 - accuracy: 0.7060 - val_loss: 0.8813 - val_accuracy: 0.6840\n",
            "Epoch 4/5\n",
            "47/47 [==============================] - 10s 208ms/step - loss: 0.7919 - accuracy: 0.7073 - val_loss: 0.5245 - val_accuracy: 0.7560\n",
            "Epoch 5/5\n",
            "47/47 [==============================] - 9s 193ms/step - loss: 0.5486 - accuracy: 0.7453 - val_loss: 0.5812 - val_accuracy: 0.7580\n"
          ]
        }
      ],
      "source": [
        "# Set random seed\n",
        "tf.random.set_seed(42)\n",
        "\n",
        "# Create a model similar to model_1 but add an extra layer and increase the number of hidden units in each layer\n",
        "model_3 = tf.keras.Sequential([\n",
        "  tf.keras.layers.Flatten(input_shape=(224, 224, 3)), # dense layers expect a 1-dimensional vector as input\n",
        "  tf.keras.layers.Dense(100, activation='relu'), # increase number of neurons from 4 to 100 (for each layer)\n",
        "  tf.keras.layers.Dense(100, activation='relu'),\n",
        "  tf.keras.layers.Dense(100, activation='relu'), # add an extra layer\n",
        "  tf.keras.layers.Dense(1, activation='sigmoid')\n",
        "])\n",
        "\n",
        "# Compile the model\n",
        "model_3.compile(loss='binary_crossentropy',\n",
        "              optimizer=tf.keras.optimizers.Adam(),\n",
        "              metrics=[\"accuracy\"])\n",
        "\n",
        "# Fit the model\n",
        "history_3 = model_3.fit(train_data,\n",
        "                        epochs=5,\n",
        "                        steps_per_epoch=len(train_data),\n",
        "                        validation_data=valid_data,\n",
        "                        validation_steps=len(valid_data))"
      ]
    },
    {
      "cell_type": "markdown",
      "metadata": {
        "id": "ajiJzdQRF_JQ"
      },
      "source": [
        "Woah! Looks like our model is learning again. It got ~70% accuracy on the training set and ~70% accuracy on the validation set.\n",
        "\n",
        "How does the architecute look?"
      ]
    },
    {
      "cell_type": "code",
      "execution_count": 20,
      "metadata": {
        "colab": {
          "base_uri": "https://localhost:8080/"
        },
        "id": "41j3lg5bGhA-",
        "outputId": "44d36cef-9302-48a1-a37f-03d436d7b1d4"
      },
      "outputs": [
        {
          "name": "stdout",
          "output_type": "stream",
          "text": [
            "Model: \"sequential_2\"\n",
            "_________________________________________________________________\n",
            " Layer (type)                Output Shape              Param #   \n",
            "=================================================================\n",
            " flatten_2 (Flatten)         (None, 150528)            0         \n",
            "                                                                 \n",
            " dense_4 (Dense)             (None, 100)               15052900  \n",
            "                                                                 \n",
            " dense_5 (Dense)             (None, 100)               10100     \n",
            "                                                                 \n",
            " dense_6 (Dense)             (None, 100)               10100     \n",
            "                                                                 \n",
            " dense_7 (Dense)             (None, 1)                 101       \n",
            "                                                                 \n",
            "=================================================================\n",
            "Total params: 15,073,201\n",
            "Trainable params: 15,073,201\n",
            "Non-trainable params: 0\n",
            "_________________________________________________________________\n"
          ]
        }
      ],
      "source": [
        "# Check out model_3 architecture\n",
        "model_3.summary()"
      ]
    },
    {
      "cell_type": "markdown",
      "metadata": {
        "id": "dn_sFz-pHOba"
      },
      "source": [
        "My gosh, the number of trainable parameters has increased even more than `model_2`. And even with close to 500x (~15,000,000 vs. ~31,000) more trainable parameters, `model_3` still doesn't out perform `model_1`.\n",
        "\n",
        "This goes to show the power of convolutional neural networks and their ability to learn patterns despite using less parameters."
      ]
    },
    {
      "cell_type": "markdown",
      "metadata": {
        "id": "4K4j78dxyin5"
      },
      "source": [
        "## Binary classification: Let's break it down\n",
        "\n",
        "We just went through a whirlwind of steps:\n",
        "\n",
        "1. Become one with the data (visualize, visualize, visualize...)\n",
        "2. Preprocess the data (prepare it for a model)\n",
        "3. Create a model (start with a baseline)\n",
        "4. Fit the model\n",
        "5. Evaluate the model\n",
        "6. Adjust different parameters and improve model (try to beat your baseline)\n",
        "7. Repeat until satisfied\n",
        "\n",
        "Let's step through each."
      ]
    },
    {
      "cell_type": "markdown",
      "metadata": {
        "id": "vWpLpgDrP5P3"
      },
      "source": [
        "### 1. Import and become one with the data\n",
        "\n",
        "Whatever kind of data you're dealing with, it's a good idea to visualize at least 10-100 samples to start to building your own mental model of the data.\n",
        "\n",
        "In our case, we might notice that the steak images tend to have darker colours where as pizza images tend to have a distinct circular shape in the middle. These might be patterns that our neural network picks up on.\n",
        "\n",
        "You an also notice if some of your data is messed up (for example, has the wrong label) and start to consider ways you might go about fixing it.\n",
        "\n",
        "> 📖 **Resource:** To see how this data was processed into the file format we're using, see the [preprocessing notebook](https://github.com/mrdbourke/tensorflow-deep-learning/blob/main/extras/image_data_modification.ipynb).\n",
        "\n",
        "If the visualization cell below doesn't work, make sure you've got the data by uncommenting the cell below."
      ]
    },
    {
      "cell_type": "code",
      "execution_count": 21,
      "metadata": {
        "id": "5BPjEyNFy_o_"
      },
      "outputs": [],
      "source": [
        "# import zipfile\n",
        "\n",
        "# # Download zip file of pizza_steak images\n",
        "# !wget https://storage.googleapis.com/ztm_tf_course/food_vision/pizza_steak.zip\n",
        "\n",
        "# # Unzip the downloaded file\n",
        "# zip_ref = zipfile.ZipFile(\"pizza_steak.zip\", \"r\")\n",
        "# zip_ref.extractall()\n",
        "# zip_ref.close()"
      ]
    },
    {
      "cell_type": "code",
      "execution_count": 37,
      "metadata": {
        "colab": {
          "base_uri": "https://localhost:8080/",
          "height": 285
        },
        "id": "weiHe4PGzFQ-",
        "outputId": "4dd73fb9-02f3-4c17-acbf-87b6b5b79575"
      },
      "outputs": [
        {
          "data": {
            "image/png": "[encoded data removed]",
            "text/plain": [
              "<Figure size 640x480 with 1 Axes>"
            ]
          },
          "metadata": {},
          "output_type": "display_data"
        },
        {
          "name": "stdout",
          "output_type": "stream",
          "text": [
            "Image shape: (512, 512, 3)\n"
          ]
        },
        {
          "data": {
            "image/png": "[encoded data removed]",
            "text/plain": [
              "<Figure size 640x480 with 1 Axes>"
            ]
          },
          "metadata": {},
          "output_type": "display_data"
        },
        {
          "name": "stdout",
          "output_type": "stream",
          "text": [
            "Image shape: (382, 512, 3)\n"
          ]
        }
      ],
      "source": [
        "# Visualize data (requires function 'view_random_image' above)\n",
        "plt.figure()\n",
        "plt.subplot(1, 2, 1)\n",
        "steak_img = view_random_image(\"pizza_steak/train/\", \"steak\")\n",
        "plt.subplot(1, 2, 2)\n",
        "pizza_img = view_random_image(\"pizza_steak/train/\", \"pizza\")"
      ]
    },
    {
      "cell_type": "markdown",
      "metadata": {
        "id": "l57BpzatzRCu"
      },
      "source": [
        "### 2. Preprocess the data (prepare it for a model)\n",
        "\n",
        "One of the most important steps for a machine learning project is creating a training and test set.\n",
        "\n",
        "In our case, our data is already split into training and test sets. Another option here might be to create a validation set as well, but we'll leave that for now.\n",
        "\n",
        "For an image classification project, it's standard to have your data seperated into `train` and `test` directories with subfolders in each for each class.\n",
        "\n",
        "To start we define the training and test directory paths."
      ]
    },
    {
      "cell_type": "code",
      "execution_count": 38,
      "metadata": {
        "id": "IIpAdwbsRIrR"
      },
      "outputs": [],
      "source": [
        "# Define training and test directory paths\n",
        "train_dir = \"pizza_steak/train/\"\n",
        "test_dir = \"pizza_steak/test/\""
      ]
    },
    {
      "cell_type": "markdown",
      "metadata": {
        "id": "TiTd125A7BwK"
      },
      "source": [
        "Our next step is to turn our data into **batches**.\n",
        "\n",
        "A **batch** is a small subset of the dataset a model looks at during training. For example, rather than looking at 10,000 images at one time and trying to figure out the patterns, a model might only look at 32 images at a time.\n",
        "\n",
        "It does this for a couple of reasons:\n",
        "* 10,000 images (or more) might not fit into the memory of your processor (GPU).\n",
        "* Trying to learn the patterns in 10,000 images in one hit could result in the model not being able to learn very well.\n",
        "\n",
        "Why 32?\n",
        "\n",
        "A [batch size of 32 is good for your health](https://twitter.com/ylecun/status/989610208497360896?s=20). \n",
        "\n",
        "No seriously, there are many different batch sizes you could use but 32 has proven to be very effective in many different use cases and is often the default for many data preprocessing functions.\n",
        "\n",
        "To turn our data into batches, we'll first create an instance of [`ImageDataGenerator`](https://www.tensorflow.org/api_docs/python/tf/keras/preprocessing/image/ImageDataGenerator) for each of our datasets.\n"
      ]
    },
    {
      "cell_type": "code",
      "execution_count": 39,
      "metadata": {
        "id": "41skuWK_zV0k"
      },
      "outputs": [],
      "source": [
        "# Create train and test data generators and rescale the data \n",
        "from tensorflow.keras.preprocessing.image import ImageDataGenerator\n",
        "train_datagen = ImageDataGenerator(rescale=1/255.)\n",
        "test_datagen = ImageDataGenerator(rescale=1/255.)"
      ]
    },
    {
      "cell_type": "markdown",
      "metadata": {
        "id": "Z9jlLsUi9tsh"
      },
      "source": [
        "The `ImageDataGenerator` class helps us prepare our images into batches as well as perform transformations on them as they get loaded into the model.\n",
        "\n",
        "You might've noticed the `rescale` parameter. This is one example of the transformations we're doing.\n",
        "\n",
        "Remember from before how we imported an image and it's pixel values were between 0 and 255?\n",
        "\n",
        "The `rescale` parameter, along with `1/255.` is like saying \"divide all of the pixel values by 255\". This results in all of the image being imported and their pixel values being normalized (converted to be between 0 and 1).\n",
        "\n",
        "> 🔑 **Note:** For more transformation options such as data augmentation (we'll see this later), refer to the [`ImageDataGenerator` documentation](https://www.tensorflow.org/api_docs/python/tf/keras/preprocessing/image/ImageDataGenerator).\n",
        "\n",
        "Now we've got a couple of ImageDataGenerator instances, we can load our images from their respective directories using the [`flow_from_directory`](https://www.tensorflow.org/api_docs/python/tf/keras/preprocessing/image/ImageDataGenerator#flow_from_directory) method."
      ]
    },
    {
      "cell_type": "code",
      "execution_count": 40,
      "metadata": {
        "colab": {
          "base_uri": "https://localhost:8080/"
        },
        "id": "mxtNCm0Rzb2l",
        "outputId": "cc13e659-bfa4-452a-bd01-4c41377ac763"
      },
      "outputs": [
        {
          "name": "stdout",
          "output_type": "stream",
          "text": [
            "Found 1500 images belonging to 2 classes.\n",
            "Found 500 images belonging to 2 classes.\n"
          ]
        }
      ],
      "source": [
        "# Turn it into batches\n",
        "train_data = train_datagen.flow_from_directory(directory=train_dir,\n",
        "                                               target_size=(224, 224),\n",
        "                                               class_mode='binary',\n",
        "                                               batch_size=32)\n",
        "\n",
        "test_data = test_datagen.flow_from_directory(directory=test_dir,\n",
        "                                             target_size=(224, 224),\n",
        "                                             class_mode='binary',\n",
        "                                             batch_size=32)"
      ]
    },
    {
      "cell_type": "markdown",
      "metadata": {
        "id": "ytjhFQw1_Lm7"
      },
      "source": [
        "Wonderful! Looks like our training dataset has 1500 images belonging to 2 classes (pizza and steak) and our test dataset has 500 images also belonging to 2 classes.\n",
        "\n",
        "Some things to here:\n",
        "* Due to how our directories are structured, the classes get inferred by the subdirectory names in `train_dir` and `test_dir`.\n",
        "* The `target_size` parameter defines the input size of our images in `(height, width)` format.\n",
        "* The `class_mode` value of `'binary'` defines our classification problem type. If we had more than two classes, we would use `'categorical'`.\n",
        "* The `batch_size` defines how many images will be in each batch, we've used 32 which is the same as the default.\n",
        "\n",
        "We can take a look at our batched images and labels by inspecting the `train_data` object."
      ]
    },
    {
      "cell_type": "code",
      "execution_count": 41,
      "metadata": {
        "colab": {
          "base_uri": "https://localhost:8080/"
        },
        "id": "Y2cRM5N5_v-x",
        "outputId": "88ed9a7f-181e-4da6-cd91-7827cff724c8"
      },
      "outputs": [
        {
          "data": {
            "text/plain": [
              "(32, 32)"
            ]
          },
          "execution_count": 41,
          "metadata": {},
          "output_type": "execute_result"
        }
      ],
      "source": [
        "# Get a sample of the training data batch \n",
        "images, labels = train_data.next() # get the 'next' batch of images/labels\n",
        "len(images), len(labels)"
      ]
    },
    {
      "cell_type": "markdown",
      "metadata": {
        "id": "dsGqsBYzBlv4"
      },
      "source": [
        "Wonderful, it seems our images and labels are in batches of 32.\n",
        "\n",
        "Let's see what the images look like."
      ]
    },
    {
      "cell_type": "code",
      "execution_count": 42,
      "metadata": {
        "colab": {
          "base_uri": "https://localhost:8080/"
        },
        "id": "2V_V48M1Bfn7",
        "outputId": "bc9c7e32-bd20-4d21-d137-fc22a2214ca6"
      },
      "outputs": [
        {
          "data": {
            "text/plain": [
              "(array([[[[0.22352943, 0.19607845, 0.08627451],\n",
              "          [0.23529413, 0.19215688, 0.10588236],\n",
              "          [0.22352943, 0.1764706 , 0.1137255 ],\n",
              "          ...,\n",
              "          [0.2901961 , 0.21960786, 0.14117648],\n",
              "          [0.28235295, 0.21176472, 0.1254902 ],\n",
              "          [0.29411766, 0.23137257, 0.13333334]],\n",
              " \n",
              "         [[0.19607845, 0.16470589, 0.07450981],\n",
              "          [0.21176472, 0.16862746, 0.09019608],\n",
              "          [0.20392159, 0.15686275, 0.10196079],\n",
              "          ...,\n",
              "          [0.30588236, 0.227451  , 0.12941177],\n",
              "          [0.32156864, 0.24313727, 0.14901961],\n",
              "          [0.30588236, 0.23529413, 0.14117648]],\n",
              " \n",
              "         [[0.18431373, 0.15294118, 0.07843138],\n",
              "          [0.19607845, 0.14901961, 0.08627451],\n",
              "          [0.18431373, 0.13333334, 0.09803922],\n",
              "          ...,\n",
              "          [0.34901962, 0.25490198, 0.14509805],\n",
              "          [0.3529412 , 0.26666668, 0.1764706 ],\n",
              "          [0.34117648, 0.2509804 , 0.18823531]],\n",
              " \n",
              "         ...,\n",
              " \n",
              "         [[0.18823531, 0.12156864, 0.08235294],\n",
              "          [0.17254902, 0.11764707, 0.07450981],\n",
              "          [0.16078432, 0.10588236, 0.0627451 ],\n",
              "          ...,\n",
              "          [0.16078432, 0.10196079, 0.01176471],\n",
              "          [0.1764706 , 0.12941177, 0.04313726],\n",
              "          [0.19215688, 0.14901961, 0.07058824]],\n",
              " \n",
              "         [[0.16862746, 0.09019608, 0.04705883],\n",
              "          [0.1764706 , 0.10588236, 0.05882353],\n",
              "          [0.15686275, 0.09019608, 0.0509804 ],\n",
              "          ...,\n",
              "          [0.13333334, 0.09019608, 0.01960784],\n",
              "          [0.15294118, 0.11764707, 0.0509804 ],\n",
              "          [0.14901961, 0.10980393, 0.0627451 ]],\n",
              " \n",
              "         [[0.18039216, 0.09411766, 0.04313726],\n",
              "          [0.1764706 , 0.09803922, 0.05490196],\n",
              "          [0.16470589, 0.09411766, 0.04705883],\n",
              "          ...,\n",
              "          [0.09411766, 0.05490196, 0.01568628],\n",
              "          [0.12941177, 0.08627451, 0.0627451 ],\n",
              "          [0.1254902 , 0.08627451, 0.07843138]]],\n",
              " \n",
              " \n",
              "        [[[0.18823531, 0.13333334, 0.12156864],\n",
              "          [0.17254902, 0.12156864, 0.09803922],\n",
              "          [0.16862746, 0.11764707, 0.09411766],\n",
              "          ...,\n",
              "          [0.32156864, 0.3647059 , 0.4431373 ],\n",
              "          [0.32156864, 0.37254903, 0.43921572],\n",
              "          [0.3019608 , 0.3529412 , 0.41960788]],\n",
              " \n",
              "         [[0.17254902, 0.12156864, 0.09803922],\n",
              "          [0.17254902, 0.12156864, 0.09803922],\n",
              "          [0.16470589, 0.1137255 , 0.09019608],\n",
              "          ...,\n",
              "          [0.33333334, 0.38431376, 0.45882356],\n",
              "          [0.33333334, 0.38431376, 0.45882356],\n",
              "          [0.3137255 , 0.3647059 , 0.43921572]],\n",
              " \n",
              "         [[0.17254902, 0.12156864, 0.09803922],\n",
              "          [0.18431373, 0.13333334, 0.10980393],\n",
              "          [0.17254902, 0.12156864, 0.09803922],\n",
              "          ...,\n",
              "          [0.34117648, 0.38823533, 0.48235297],\n",
              "          [0.33333334, 0.3921569 , 0.48235297],\n",
              "          [0.30980393, 0.36862746, 0.45882356]],\n",
              " \n",
              "         ...,\n",
              " \n",
              "         [[0.28627452, 0.36862746, 0.45098042],\n",
              "          [0.36078432, 0.44705886, 0.5294118 ],\n",
              "          [0.36078432, 0.44705886, 0.5294118 ],\n",
              "          ...,\n",
              "          [0.3647059 , 0.43921572, 0.49411768],\n",
              "          [0.3137255 , 0.38823533, 0.4431373 ],\n",
              "          [0.3803922 , 0.454902  , 0.50980395]],\n",
              " \n",
              "         [[0.32156864, 0.4039216 , 0.48627454],\n",
              "          [0.34117648, 0.42352945, 0.5058824 ],\n",
              "          [0.37254903, 0.45882356, 0.5411765 ],\n",
              "          ...,\n",
              "          [0.4039216 , 0.48235297, 0.5254902 ],\n",
              "          [0.39607847, 0.47450984, 0.5176471 ],\n",
              "          [0.36862746, 0.44705886, 0.4901961 ]],\n",
              " \n",
              "         [[0.35686275, 0.43921572, 0.52156866],\n",
              "          [0.34117648, 0.42352945, 0.5058824 ],\n",
              "          [0.3529412 , 0.43529415, 0.5176471 ],\n",
              "          ...,\n",
              "          [0.41960788, 0.49803925, 0.5411765 ],\n",
              "          [0.45098042, 0.5294118 , 0.57254905],\n",
              "          [0.3647059 , 0.4431373 , 0.48627454]]]], dtype=float32),\n",
              " (224, 224, 3))"
            ]
          },
          "execution_count": 42,
          "metadata": {},
          "output_type": "execute_result"
        }
      ],
      "source": [
        "# Get the first two images\n",
        "images[:2], images[0].shape"
      ]
    },
    {
      "cell_type": "markdown",
      "metadata": {
        "id": "fStYBxkKB51X"
      },
      "source": [
        "Due to our `rescale` parameter, the images are now in `(224, 224, 3)` shape tensors with values between 0 and 1.\n",
        "\n",
        "How about the labels?"
      ]
    },
    {
      "cell_type": "code",
      "execution_count": 43,
      "metadata": {
        "colab": {
          "base_uri": "https://localhost:8080/"
        },
        "id": "dsXhw0-PB5al",
        "outputId": "7353f160-77b2-4c7c-c962-d9ce69d0c9cf"
      },
      "outputs": [
        {
          "data": {
            "text/plain": [
              "array([1., 0., 1., 0., 1., 0., 0., 1., 0., 0., 0., 0., 1., 1., 0., 0., 1.,\n",
              "       1., 0., 1., 0., 1., 0., 1., 1., 1., 1., 0., 0., 1., 1., 1.],\n",
              "      dtype=float32)"
            ]
          },
          "execution_count": 43,
          "metadata": {},
          "output_type": "execute_result"
        }
      ],
      "source": [
        "# View the first batch of labels\n",
        "labels"
      ]
    },
    {
      "cell_type": "markdown",
      "metadata": {
        "id": "PvLX1qayCQCX"
      },
      "source": [
        "Due to the `class_mode` parameter being `'binary'` our labels are either `0` (pizza) or `1` (steak).\n",
        "\n",
        "Now that our data is ready, our model is going to try and figure out the patterns between the image tensors and the labels."
      ]
    },
    {
      "cell_type": "markdown",
      "metadata": {
        "id": "GUjLRKTCzgox"
      },
      "source": [
        "### 3. Create a model (start with a baseline)\n",
        "\n",
        "You might be wondering what your default model architecture should be.\n",
        "\n",
        "And the truth is, there's many possible answers to this question.\n",
        "\n",
        "A simple heuristic for computer vision models is to use the model architecture which is performing best on [ImageNet](https://www.image-net.org/) (a large collection of diverse images to benchmark different computer vision models).\n",
        "\n",
        "However, to begin with, it's good to build a smaller model to acquire a baseline result which you try to improve upon.\n",
        "\n",
        "> 🔑 **Note:** In deep learning a smaller model often refers to a model with less layers than the state of the art (SOTA). For example, a smaller model might have 3-4 layers where as a state of the art model, such as, ResNet50 might have 50+ layers.\n",
        "\n",
        "In our case, let's take a smaller version of the model that can be found on the [CNN explainer website](https://poloclub.github.io/cnn-explainer/) (`model_1` from above) and build a 3 layer convolutional neural network."
      ]
    },
    {
      "cell_type": "code",
      "execution_count": 29,
      "metadata": {
        "id": "OUMfthxzBApt"
      },
      "outputs": [],
      "source": [
        "# Make the creating of our model a little easier\n",
        "from tensorflow.keras.optimizers import Adam\n",
        "from tensorflow.keras.layers import Dense, Flatten, Conv2D, MaxPool2D, Activation\n",
        "from tensorflow.keras import Sequential"
      ]
    },
    {
      "cell_type": "code",
      "execution_count": 30,
      "metadata": {
        "id": "KVTb7HcHzv73"
      },
      "outputs": [],
      "source": [
        "# Create the model (this can be our baseline, a 3 layer Convolutional Neural Network)\n",
        "model_4 = Sequential([\n",
        "  Conv2D(filters=10, \n",
        "         kernel_size=3, \n",
        "         strides=1,\n",
        "         padding='valid',\n",
        "         activation='relu', \n",
        "         input_shape=(224, 224, 3)), # input layer (specify input shape)\n",
        "  Conv2D(10, 3, activation='relu'),\n",
        "  Conv2D(10, 3, activation='relu'),\n",
        "  Flatten(),\n",
        "  Dense(1, activation='sigmoid') # output layer (specify output shape)\n",
        "])"
      ]
    },
    {
      "cell_type": "markdown",
      "metadata": {
        "id": "YJ0IGN_JJkA5"
      },
      "source": [
        "Great! We've got a simple convolutional neural network architecture ready to go.\n",
        "\n",
        "And it follows the typical CNN structure of:\n",
        "\n",
        "```\n",
        "Input -> Conv + ReLU layers (non-linearities) -> Pooling layer -> Fully connected (dense layer) as Output\n",
        "```\n",
        "\n",
        "Let's discuss some of the components of the `Conv2D` layer:\n",
        "\n",
        "* The \"`2D`\" means our inputs are two dimensional (height and width), even though they have 3 colour channels, the convolutions are run on each channel invididually.\n",
        "* `filters` - these are the number of \"feature extractors\" that will be moving over our images.\n",
        "* `kernel_size` - the size of our filters, for example, a `kernel_size` of `(3, 3)` (or just 3) will mean each filter will have the size 3x3, meaning it will look at a space of 3x3 pixels each time. The smaller the kernel, the more fine-grained features it will extract.\n",
        "* `stride` - the number of pixels a `filter` will move across as it covers the image. A `stride` of 1 means the filter moves across each pixel 1 by 1. A `stride` of 2 means it moves 2 pixels at a time.\n",
        "* `padding` - this can be either `'same'` or `'valid'`, `'same'` adds zeros the to outside of the image so the resulting output of the convolutional layer is the same as the input, where as `'valid'` (default) cuts off excess pixels where the `filter` doesn't fit (e.g. 224 pixels wide divided by a kernel size of 3 (224/3 = 74.6) means a single pixel will get cut off the end.\n",
        "\n",
        "What's a \"feature\"?\n",
        "\n",
        "A **feature** can be considered any significant part of an image. For example, in our case, a feature might be the circular shape of pizza. Or the rough edges on the outside of a steak.\n",
        "\n",
        "It's important to note that these **features** are not defined by us, instead, the model learns them as it applies different filters across the image.\n",
        "\n",
        "> 📖 **Resources:** For a great demonstration of these in action, be sure to spend some time going through the following:\n",
        "  * [CNN Explainer Webpage](https://poloclub.github.io/cnn-explainer/) - a great visual overview of many of the concepts we're replicating here with code.\n",
        "  * [A guide to convolutional arithmetic for deep learning](https://arxiv.org/pdf/1603.07285.pdf) - a phenomenal introduction to the math going on behind the scenes of a convolutional neural network.\n",
        "  * For a great explanation of padding, see this [Stack Overflow answer](https://stackoverflow.com/a/39371113/7900723).\n",
        "\n",
        "Now our model is ready, let's compile it."
      ]
    },
    {
      "cell_type": "code",
      "execution_count": 31,
      "metadata": {
        "id": "GDYXBDWESEjG"
      },
      "outputs": [],
      "source": [
        "# Compile the model\n",
        "model_4.compile(loss='binary_crossentropy',\n",
        "                optimizer=Adam(),\n",
        "                metrics=['accuracy'])"
      ]
    },
    {
      "cell_type": "markdown",
      "metadata": {
        "id": "Tjg7OGXvivwH"
      },
      "source": [
        "Since we're working on a binary classification problem (pizza vs. steak), the `loss` function we're using is `'binary_crossentropy'`, if it was mult-iclass, we might use something like `'categorical_crossentropy'`.\n",
        "\n",
        "Adam with all the default settings is our optimizer and our evaluation metric is accuracy."
      ]
    },
    {
      "cell_type": "markdown",
      "metadata": {
        "id": "IdXA1TT2z3S8"
      },
      "source": [
        "### 4. Fit a model\n",
        "\n",
        "Our model is compiled, time to fit it.\n",
        "\n",
        "You'll notice two new parameters here:\n",
        "* `steps_per_epoch` - this is the number of batches a model will go through per epoch, in our case, we want our model to go through all batches so it's equal to the length of `train_data` (1500 images in batches of 32 = 1500/32 = ~47 steps)\n",
        "* `validation_steps` - same as above, except for the `validation_data` parameter (500 test images in batches of 32 = 500/32 = ~16 steps)"
      ]
    },
    {
      "cell_type": "code",
      "execution_count": 32,
      "metadata": {
        "colab": {
          "base_uri": "https://localhost:8080/"
        },
        "id": "RtLNXsZujmph",
        "outputId": "3b742f81-9e18-4bc2-e760-441b3e9be826"
      },
      "outputs": [
        {
          "data": {
            "text/plain": [
              "(47, 16)"
            ]
          },
          "execution_count": 32,
          "metadata": {},
          "output_type": "execute_result"
        }
      ],
      "source": [
        "# Check lengths of training and test data generators\n",
        "len(train_data), len(test_data)"
      ]
    },
    {
      "cell_type": "code",
      "execution_count": 33,
      "metadata": {
        "colab": {
          "base_uri": "https://localhost:8080/"
        },
        "id": "dielPlY7SWBh",
        "outputId": "8b12981f-8365-481e-f4f0-572abf252ef5"
      },
      "outputs": [
        {
          "name": "stdout",
          "output_type": "stream",
          "text": [
            "Epoch 1/5\n",
            "47/47 [==============================] - 68s 1s/step - loss: 1.3088 - accuracy: 0.6647 - val_loss: 0.4482 - val_accuracy: 0.8220\n",
            "Epoch 2/5\n",
            "15/47 [========>.....................] - ETA: 46s - loss: 0.4388 - accuracy: 0.7937"
          ]
        },
        {
          "ename": "KeyboardInterrupt",
          "evalue": "",
          "output_type": "error",
          "traceback": [
            "\u001b[0;31m---------------------------------------------------------------------------\u001b[0m",
            "\u001b[0;31mKeyboardInterrupt\u001b[0m                         Traceback (most recent call last)",
            "\u001b[1;32m/tf/tensorflow-exercises/03_convolutional_neural_networks_in_tensorflow.ipynb Cell 65\u001b[0m in \u001b[0;36m<cell line: 2>\u001b[0;34m()\u001b[0m\n\u001b[1;32m      <a href='vscode-notebook-cell://attached-container%2B7b22636f6e7461696e65724e616d65223a222f6d61676963616c5f6e6f796365227d/tf/tensorflow-exercises/03_convolutional_neural_networks_in_tensorflow.ipynb#Y121sdnNjb2RlLXJlbW90ZQ%3D%3D?line=0'>1</a>\u001b[0m \u001b[39m# Fit the model\u001b[39;00m\n\u001b[0;32m----> <a href='vscode-notebook-cell://attached-container%2B7b22636f6e7461696e65724e616d65223a222f6d61676963616c5f6e6f796365227d/tf/tensorflow-exercises/03_convolutional_neural_networks_in_tensorflow.ipynb#Y121sdnNjb2RlLXJlbW90ZQ%3D%3D?line=1'>2</a>\u001b[0m history_4 \u001b[39m=\u001b[39m model_4\u001b[39m.\u001b[39;49mfit(train_data,\n\u001b[1;32m      <a href='vscode-notebook-cell://attached-container%2B7b22636f6e7461696e65724e616d65223a222f6d61676963616c5f6e6f796365227d/tf/tensorflow-exercises/03_convolutional_neural_networks_in_tensorflow.ipynb#Y121sdnNjb2RlLXJlbW90ZQ%3D%3D?line=2'>3</a>\u001b[0m                         epochs\u001b[39m=\u001b[39;49m\u001b[39m5\u001b[39;49m,\n\u001b[1;32m      <a href='vscode-notebook-cell://attached-container%2B7b22636f6e7461696e65724e616d65223a222f6d61676963616c5f6e6f796365227d/tf/tensorflow-exercises/03_convolutional_neural_networks_in_tensorflow.ipynb#Y121sdnNjb2RlLXJlbW90ZQ%3D%3D?line=3'>4</a>\u001b[0m                         steps_per_epoch\u001b[39m=\u001b[39;49m\u001b[39mlen\u001b[39;49m(train_data),\n\u001b[1;32m      <a href='vscode-notebook-cell://attached-container%2B7b22636f6e7461696e65724e616d65223a222f6d61676963616c5f6e6f796365227d/tf/tensorflow-exercises/03_convolutional_neural_networks_in_tensorflow.ipynb#Y121sdnNjb2RlLXJlbW90ZQ%3D%3D?line=4'>5</a>\u001b[0m                         validation_data\u001b[39m=\u001b[39;49mtest_data,\n\u001b[1;32m      <a href='vscode-notebook-cell://attached-container%2B7b22636f6e7461696e65724e616d65223a222f6d61676963616c5f6e6f796365227d/tf/tensorflow-exercises/03_convolutional_neural_networks_in_tensorflow.ipynb#Y121sdnNjb2RlLXJlbW90ZQ%3D%3D?line=5'>6</a>\u001b[0m                         validation_steps\u001b[39m=\u001b[39;49m\u001b[39mlen\u001b[39;49m(test_data))\n",
            "File \u001b[0;32m/usr/local/lib/python3.8/dist-packages/keras/utils/traceback_utils.py:64\u001b[0m, in \u001b[0;36mfilter_traceback.<locals>.error_handler\u001b[0;34m(*args, **kwargs)\u001b[0m\n\u001b[1;32m     62\u001b[0m filtered_tb \u001b[39m=\u001b[39m \u001b[39mNone\u001b[39;00m\n\u001b[1;32m     63\u001b[0m \u001b[39mtry\u001b[39;00m:\n\u001b[0;32m---> 64\u001b[0m   \u001b[39mreturn\u001b[39;00m fn(\u001b[39m*\u001b[39;49margs, \u001b[39m*\u001b[39;49m\u001b[39m*\u001b[39;49mkwargs)\n\u001b[1;32m     65\u001b[0m \u001b[39mexcept\u001b[39;00m \u001b[39mException\u001b[39;00m \u001b[39mas\u001b[39;00m e:  \u001b[39m# pylint: disable=broad-except\u001b[39;00m\n\u001b[1;32m     66\u001b[0m   filtered_tb \u001b[39m=\u001b[39m _process_traceback_frames(e\u001b[39m.\u001b[39m__traceback__)\n",
            "File \u001b[0;32m/usr/local/lib/python3.8/dist-packages/keras/engine/training.py:1409\u001b[0m, in \u001b[0;36mModel.fit\u001b[0;34m(self, x, y, batch_size, epochs, verbose, callbacks, validation_split, validation_data, shuffle, class_weight, sample_weight, initial_epoch, steps_per_epoch, validation_steps, validation_batch_size, validation_freq, max_queue_size, workers, use_multiprocessing)\u001b[0m\n\u001b[1;32m   1402\u001b[0m \u001b[39mwith\u001b[39;00m tf\u001b[39m.\u001b[39mprofiler\u001b[39m.\u001b[39mexperimental\u001b[39m.\u001b[39mTrace(\n\u001b[1;32m   1403\u001b[0m     \u001b[39m'\u001b[39m\u001b[39mtrain\u001b[39m\u001b[39m'\u001b[39m,\n\u001b[1;32m   1404\u001b[0m     epoch_num\u001b[39m=\u001b[39mepoch,\n\u001b[1;32m   1405\u001b[0m     step_num\u001b[39m=\u001b[39mstep,\n\u001b[1;32m   1406\u001b[0m     batch_size\u001b[39m=\u001b[39mbatch_size,\n\u001b[1;32m   1407\u001b[0m     _r\u001b[39m=\u001b[39m\u001b[39m1\u001b[39m):\n\u001b[1;32m   1408\u001b[0m   callbacks\u001b[39m.\u001b[39mon_train_batch_begin(step)\n\u001b[0;32m-> 1409\u001b[0m   tmp_logs \u001b[39m=\u001b[39m \u001b[39mself\u001b[39;49m\u001b[39m.\u001b[39;49mtrain_function(iterator)\n\u001b[1;32m   1410\u001b[0m   \u001b[39mif\u001b[39;00m data_handler\u001b[39m.\u001b[39mshould_sync:\n\u001b[1;32m   1411\u001b[0m     context\u001b[39m.\u001b[39masync_wait()\n",
            "File \u001b[0;32m/usr/local/lib/python3.8/dist-packages/tensorflow/python/util/traceback_utils.py:150\u001b[0m, in \u001b[0;36mfilter_traceback.<locals>.error_handler\u001b[0;34m(*args, **kwargs)\u001b[0m\n\u001b[1;32m    148\u001b[0m filtered_tb \u001b[39m=\u001b[39m \u001b[39mNone\u001b[39;00m\n\u001b[1;32m    149\u001b[0m \u001b[39mtry\u001b[39;00m:\n\u001b[0;32m--> 150\u001b[0m   \u001b[39mreturn\u001b[39;00m fn(\u001b[39m*\u001b[39;49margs, \u001b[39m*\u001b[39;49m\u001b[39m*\u001b[39;49mkwargs)\n\u001b[1;32m    151\u001b[0m \u001b[39mexcept\u001b[39;00m \u001b[39mException\u001b[39;00m \u001b[39mas\u001b[39;00m e:\n\u001b[1;32m    152\u001b[0m   filtered_tb \u001b[39m=\u001b[39m _process_traceback_frames(e\u001b[39m.\u001b[39m__traceback__)\n",
            "File \u001b[0;32m/usr/local/lib/python3.8/dist-packages/tensorflow/python/eager/def_function.py:915\u001b[0m, in \u001b[0;36mFunction.__call__\u001b[0;34m(self, *args, **kwds)\u001b[0m\n\u001b[1;32m    912\u001b[0m compiler \u001b[39m=\u001b[39m \u001b[39m\"\u001b[39m\u001b[39mxla\u001b[39m\u001b[39m\"\u001b[39m \u001b[39mif\u001b[39;00m \u001b[39mself\u001b[39m\u001b[39m.\u001b[39m_jit_compile \u001b[39melse\u001b[39;00m \u001b[39m\"\u001b[39m\u001b[39mnonXla\u001b[39m\u001b[39m\"\u001b[39m\n\u001b[1;32m    914\u001b[0m \u001b[39mwith\u001b[39;00m OptionalXlaContext(\u001b[39mself\u001b[39m\u001b[39m.\u001b[39m_jit_compile):\n\u001b[0;32m--> 915\u001b[0m   result \u001b[39m=\u001b[39m \u001b[39mself\u001b[39;49m\u001b[39m.\u001b[39;49m_call(\u001b[39m*\u001b[39;49margs, \u001b[39m*\u001b[39;49m\u001b[39m*\u001b[39;49mkwds)\n\u001b[1;32m    917\u001b[0m new_tracing_count \u001b[39m=\u001b[39m \u001b[39mself\u001b[39m\u001b[39m.\u001b[39mexperimental_get_tracing_count()\n\u001b[1;32m    918\u001b[0m without_tracing \u001b[39m=\u001b[39m (tracing_count \u001b[39m==\u001b[39m new_tracing_count)\n",
            "File \u001b[0;32m/usr/local/lib/python3.8/dist-packages/tensorflow/python/eager/def_function.py:947\u001b[0m, in \u001b[0;36mFunction._call\u001b[0;34m(self, *args, **kwds)\u001b[0m\n\u001b[1;32m    944\u001b[0m   \u001b[39mself\u001b[39m\u001b[39m.\u001b[39m_lock\u001b[39m.\u001b[39mrelease()\n\u001b[1;32m    945\u001b[0m   \u001b[39m# In this case we have created variables on the first call, so we run the\u001b[39;00m\n\u001b[1;32m    946\u001b[0m   \u001b[39m# defunned version which is guaranteed to never create variables.\u001b[39;00m\n\u001b[0;32m--> 947\u001b[0m   \u001b[39mreturn\u001b[39;00m \u001b[39mself\u001b[39;49m\u001b[39m.\u001b[39;49m_stateless_fn(\u001b[39m*\u001b[39;49margs, \u001b[39m*\u001b[39;49m\u001b[39m*\u001b[39;49mkwds)  \u001b[39m# pylint: disable=not-callable\u001b[39;00m\n\u001b[1;32m    948\u001b[0m \u001b[39melif\u001b[39;00m \u001b[39mself\u001b[39m\u001b[39m.\u001b[39m_stateful_fn \u001b[39mis\u001b[39;00m \u001b[39mnot\u001b[39;00m \u001b[39mNone\u001b[39;00m:\n\u001b[1;32m    949\u001b[0m   \u001b[39m# Release the lock early so that multiple threads can perform the call\u001b[39;00m\n\u001b[1;32m    950\u001b[0m   \u001b[39m# in parallel.\u001b[39;00m\n\u001b[1;32m    951\u001b[0m   \u001b[39mself\u001b[39m\u001b[39m.\u001b[39m_lock\u001b[39m.\u001b[39mrelease()\n",
            "File \u001b[0;32m/usr/local/lib/python3.8/dist-packages/tensorflow/python/eager/function.py:2453\u001b[0m, in \u001b[0;36mFunction.__call__\u001b[0;34m(self, *args, **kwargs)\u001b[0m\n\u001b[1;32m   2450\u001b[0m \u001b[39mwith\u001b[39;00m \u001b[39mself\u001b[39m\u001b[39m.\u001b[39m_lock:\n\u001b[1;32m   2451\u001b[0m   (graph_function,\n\u001b[1;32m   2452\u001b[0m    filtered_flat_args) \u001b[39m=\u001b[39m \u001b[39mself\u001b[39m\u001b[39m.\u001b[39m_maybe_define_function(args, kwargs)\n\u001b[0;32m-> 2453\u001b[0m \u001b[39mreturn\u001b[39;00m graph_function\u001b[39m.\u001b[39;49m_call_flat(\n\u001b[1;32m   2454\u001b[0m     filtered_flat_args, captured_inputs\u001b[39m=\u001b[39;49mgraph_function\u001b[39m.\u001b[39;49mcaptured_inputs)\n",
            "File \u001b[0;32m/usr/local/lib/python3.8/dist-packages/tensorflow/python/eager/function.py:1860\u001b[0m, in \u001b[0;36mConcreteFunction._call_flat\u001b[0;34m(self, args, captured_inputs, cancellation_manager)\u001b[0m\n\u001b[1;32m   1856\u001b[0m possible_gradient_type \u001b[39m=\u001b[39m gradients_util\u001b[39m.\u001b[39mPossibleTapeGradientTypes(args)\n\u001b[1;32m   1857\u001b[0m \u001b[39mif\u001b[39;00m (possible_gradient_type \u001b[39m==\u001b[39m gradients_util\u001b[39m.\u001b[39mPOSSIBLE_GRADIENT_TYPES_NONE\n\u001b[1;32m   1858\u001b[0m     \u001b[39mand\u001b[39;00m executing_eagerly):\n\u001b[1;32m   1859\u001b[0m   \u001b[39m# No tape is watching; skip to running the function.\u001b[39;00m\n\u001b[0;32m-> 1860\u001b[0m   \u001b[39mreturn\u001b[39;00m \u001b[39mself\u001b[39m\u001b[39m.\u001b[39m_build_call_outputs(\u001b[39mself\u001b[39;49m\u001b[39m.\u001b[39;49m_inference_function\u001b[39m.\u001b[39;49mcall(\n\u001b[1;32m   1861\u001b[0m       ctx, args, cancellation_manager\u001b[39m=\u001b[39;49mcancellation_manager))\n\u001b[1;32m   1862\u001b[0m forward_backward \u001b[39m=\u001b[39m \u001b[39mself\u001b[39m\u001b[39m.\u001b[39m_select_forward_and_backward_functions(\n\u001b[1;32m   1863\u001b[0m     args,\n\u001b[1;32m   1864\u001b[0m     possible_gradient_type,\n\u001b[1;32m   1865\u001b[0m     executing_eagerly)\n\u001b[1;32m   1866\u001b[0m forward_function, args_with_tangents \u001b[39m=\u001b[39m forward_backward\u001b[39m.\u001b[39mforward()\n",
            "File \u001b[0;32m/usr/local/lib/python3.8/dist-packages/tensorflow/python/eager/function.py:497\u001b[0m, in \u001b[0;36m_EagerDefinedFunction.call\u001b[0;34m(self, ctx, args, cancellation_manager)\u001b[0m\n\u001b[1;32m    495\u001b[0m \u001b[39mwith\u001b[39;00m _InterpolateFunctionError(\u001b[39mself\u001b[39m):\n\u001b[1;32m    496\u001b[0m   \u001b[39mif\u001b[39;00m cancellation_manager \u001b[39mis\u001b[39;00m \u001b[39mNone\u001b[39;00m:\n\u001b[0;32m--> 497\u001b[0m     outputs \u001b[39m=\u001b[39m execute\u001b[39m.\u001b[39;49mexecute(\n\u001b[1;32m    498\u001b[0m         \u001b[39mstr\u001b[39;49m(\u001b[39mself\u001b[39;49m\u001b[39m.\u001b[39;49msignature\u001b[39m.\u001b[39;49mname),\n\u001b[1;32m    499\u001b[0m         num_outputs\u001b[39m=\u001b[39;49m\u001b[39mself\u001b[39;49m\u001b[39m.\u001b[39;49m_num_outputs,\n\u001b[1;32m    500\u001b[0m         inputs\u001b[39m=\u001b[39;49margs,\n\u001b[1;32m    501\u001b[0m         attrs\u001b[39m=\u001b[39;49mattrs,\n\u001b[1;32m    502\u001b[0m         ctx\u001b[39m=\u001b[39;49mctx)\n\u001b[1;32m    503\u001b[0m   \u001b[39melse\u001b[39;00m:\n\u001b[1;32m    504\u001b[0m     outputs \u001b[39m=\u001b[39m execute\u001b[39m.\u001b[39mexecute_with_cancellation(\n\u001b[1;32m    505\u001b[0m         \u001b[39mstr\u001b[39m(\u001b[39mself\u001b[39m\u001b[39m.\u001b[39msignature\u001b[39m.\u001b[39mname),\n\u001b[1;32m    506\u001b[0m         num_outputs\u001b[39m=\u001b[39m\u001b[39mself\u001b[39m\u001b[39m.\u001b[39m_num_outputs,\n\u001b[0;32m   (...)\u001b[0m\n\u001b[1;32m    509\u001b[0m         ctx\u001b[39m=\u001b[39mctx,\n\u001b[1;32m    510\u001b[0m         cancellation_manager\u001b[39m=\u001b[39mcancellation_manager)\n",
            "File \u001b[0;32m/usr/local/lib/python3.8/dist-packages/tensorflow/python/eager/execute.py:54\u001b[0m, in \u001b[0;36mquick_execute\u001b[0;34m(op_name, num_outputs, inputs, attrs, ctx, name)\u001b[0m\n\u001b[1;32m     52\u001b[0m \u001b[39mtry\u001b[39;00m:\n\u001b[1;32m     53\u001b[0m   ctx\u001b[39m.\u001b[39mensure_initialized()\n\u001b[0;32m---> 54\u001b[0m   tensors \u001b[39m=\u001b[39m pywrap_tfe\u001b[39m.\u001b[39;49mTFE_Py_Execute(ctx\u001b[39m.\u001b[39;49m_handle, device_name, op_name,\n\u001b[1;32m     55\u001b[0m                                       inputs, attrs, num_outputs)\n\u001b[1;32m     56\u001b[0m \u001b[39mexcept\u001b[39;00m core\u001b[39m.\u001b[39m_NotOkStatusException \u001b[39mas\u001b[39;00m e:\n\u001b[1;32m     57\u001b[0m   \u001b[39mif\u001b[39;00m name \u001b[39mis\u001b[39;00m \u001b[39mnot\u001b[39;00m \u001b[39mNone\u001b[39;00m:\n",
            "\u001b[0;31mKeyboardInterrupt\u001b[0m: "
          ]
        }
      ],
      "source": [
        "# Fit the model\n",
        "history_4 = model_4.fit(train_data,\n",
        "                        epochs=5,\n",
        "                        steps_per_epoch=len(train_data),\n",
        "                        validation_data=test_data,\n",
        "                        validation_steps=len(test_data))"
      ]
    },
    {
      "cell_type": "markdown",
      "metadata": {
        "id": "ZHWicE0Mz8cX"
      },
      "source": [
        "### 5. Evaluate the model"
      ]
    },
    {
      "cell_type": "markdown",
      "metadata": {
        "id": "Ghl-RiHEXt68"
      },
      "source": [
        "Oh yeah! Looks like our model is learning something.\n",
        "\n",
        "Let's check out its training curves."
      ]
    },
    {
      "cell_type": "code",
      "execution_count": null,
      "metadata": {
        "colab": {
          "base_uri": "https://localhost:8080/",
          "height": 428
        },
        "id": "llh-FZKQSswR",
        "outputId": "f9a896a3-dfcb-45a8-c8fa-552a1000afec"
      },
      "outputs": [],
      "source": [
        "# Plot the training curves\n",
        "import pandas as pd\n",
        "pd.DataFrame(history_4.history).plot(figsize=(10, 7));"
      ]
    },
    {
      "cell_type": "markdown",
      "metadata": {
        "id": "V_vzKQ3FXbhh"
      },
      "source": [
        "Hmm, judging by our loss curves, it looks like our model is **overfitting** the training dataset.\n",
        "\n",
        "> 🔑 **Note:** When a model's **validation loss starts to increase**, it's likely that it's overfitting the training dataset. This means, it's learning the patterns in the training dataset *too well* and thus its ability to generalize to unseen data will be diminished.\n",
        "\n",
        "To further inspect our model's training performance, let's separate the accuracy and loss curves."
      ]
    },
    {
      "cell_type": "code",
      "execution_count": null,
      "metadata": {
        "id": "MQJi0HNqTbVW"
      },
      "outputs": [],
      "source": [
        "# Plot the validation and training data separately\n",
        "def plot_loss_curves(history):\n",
        "  \"\"\"\n",
        "  Returns separate loss curves for training and validation metrics.\n",
        "  \"\"\" \n",
        "  loss = history.history['loss']\n",
        "  val_loss = history.history['val_loss']\n",
        "\n",
        "  accuracy = history.history['accuracy']\n",
        "  val_accuracy = history.history['val_accuracy']\n",
        "\n",
        "  epochs = range(len(history.history['loss']))\n",
        "\n",
        "  # Plot loss\n",
        "  plt.plot(epochs, loss, label='training_loss')\n",
        "  plt.plot(epochs, val_loss, label='val_loss')\n",
        "  plt.title('Loss')\n",
        "  plt.xlabel('Epochs')\n",
        "  plt.legend()\n",
        "\n",
        "  # Plot accuracy\n",
        "  plt.figure()\n",
        "  plt.plot(epochs, accuracy, label='training_accuracy')\n",
        "  plt.plot(epochs, val_accuracy, label='val_accuracy')\n",
        "  plt.title('Accuracy')\n",
        "  plt.xlabel('Epochs')\n",
        "  plt.legend();"
      ]
    },
    {
      "cell_type": "code",
      "execution_count": null,
      "metadata": {
        "colab": {
          "base_uri": "https://localhost:8080/",
          "height": 573
        },
        "id": "G0JqQ8ortbmg",
        "outputId": "8010ed6b-88c7-4b79-991c-97bf1f848c04"
      },
      "outputs": [],
      "source": [
        "# Check out the loss curves of model_4\n",
        "plot_loss_curves(history_4)"
      ]
    },
    {
      "cell_type": "markdown",
      "metadata": {
        "id": "EqtORRBsqgy6"
      },
      "source": [
        "The ideal position for these two curves is to follow each other. If anything, the validation curve should be slightly under the training curve. If there's a large gap between the training curve and validation curve, it means your model is probably overfitting."
      ]
    },
    {
      "cell_type": "code",
      "execution_count": null,
      "metadata": {
        "colab": {
          "base_uri": "https://localhost:8080/"
        },
        "id": "upIbJx2DS91B",
        "outputId": "c492d9d3-4448-4d32-d816-74e3b6dafb09"
      },
      "outputs": [],
      "source": [
        "# Check out our model's architecture\n",
        "model_4.summary()"
      ]
    },
    {
      "cell_type": "markdown",
      "metadata": {
        "id": "bo7d7BWM0EVk"
      },
      "source": [
        "### 6. Adjust the model parameters\n",
        "\n",
        "Fitting a machine learning model  comes in 3 steps:\n",
        "0. Create a basline.\n",
        "1. Beat the baseline by overfitting a larger model.\n",
        "2. Reduce overfitting.\n",
        "\n",
        "So far we've gone through steps 0 and 1.\n",
        "\n",
        "And there are even a few more things we could try to further overfit our model:\n",
        "* Increase the number of convolutional layers.\n",
        "* Increase the number of convolutional filters.\n",
        "* Add another dense layer to the output of our flattened layer.\n",
        "\n",
        "But what we'll do instead is focus on getting our model's training curves to better align with eachother, in other words, we'll take on step 2.\n",
        "\n",
        "Why is reducing overfitting important?\n",
        "\n",
        "When a model performs too well on training data and poorly on unseen data, it's not much use to us if we wanted to use it in the real world.\n",
        "\n",
        "Say we were building a pizza vs. steak food classifier app, and our model performs very well on our training data but when users tried it out, they didn't get very good results on their own food images, is that a good experience?\n",
        "\n",
        "Not really...\n",
        "\n",
        "So for the next few models we build, we're going to adjust a number of parameters and inspect the training curves along the way.\n",
        "\n",
        "Namely, we'll build 2 more models:\n",
        "* A ConvNet with [max pooling](https://deeplizard.com/learn/video/ZjM_XQa5s6s)\n",
        "* A ConvNet with max pooling and data augmentation\n",
        "\n",
        "For the first model, we'll follow the modified basic CNN structure:\n",
        "\n",
        "```\n",
        "Input -> Conv layers + ReLU layers (non-linearities) + Max Pooling layers -> Fully connected (dense layer) as Output\n",
        "```\n",
        "\n",
        "Let's built it. It'll have the same structure as `model_4` but with a [`MaxPool2D()`](https://www.tensorflow.org/api_docs/python/tf/keras/layers/MaxPool2D) layer after each convolutional layer."
      ]
    },
    {
      "cell_type": "code",
      "execution_count": null,
      "metadata": {
        "id": "y4cZYNnzE0kx"
      },
      "outputs": [],
      "source": [
        "# Create the model (this can be our baseline, a 3 layer Convolutional Neural Network)\n",
        "model_5 = Sequential([\n",
        "  Conv2D(10, 3, activation='relu', input_shape=(224, 224, 3)),\n",
        "  MaxPool2D(pool_size=2), # reduce number of features by half\n",
        "  Conv2D(10, 3, activation='relu'),\n",
        "  MaxPool2D(),\n",
        "  Conv2D(10, 3, activation='relu'),\n",
        "  MaxPool2D(),\n",
        "  Flatten(),\n",
        "  Dense(1, activation='sigmoid')\n",
        "])"
      ]
    },
    {
      "cell_type": "markdown",
      "metadata": {
        "id": "Nd0iDHdcJlTf"
      },
      "source": [
        "Woah, we've got another layer type we haven't seen before.\n",
        "\n",
        "If convolutional layers learn the features of an image you can think of a Max Pooling layer as figuring out the *most important* of those features. We'll see this an example of this in a moment."
      ]
    },
    {
      "cell_type": "code",
      "execution_count": null,
      "metadata": {
        "id": "5m4M2x_ypwAM"
      },
      "outputs": [],
      "source": [
        "# Compile model (same as model_4)\n",
        "model_5.compile(loss='binary_crossentropy',\n",
        "                optimizer=Adam(),\n",
        "                metrics=['accuracy'])"
      ]
    },
    {
      "cell_type": "code",
      "execution_count": null,
      "metadata": {
        "colab": {
          "base_uri": "https://localhost:8080/"
        },
        "id": "NymYiVS7p48d",
        "outputId": "5d26b858-d234-4fb2-ea2c-8c659bbf4b4f"
      },
      "outputs": [],
      "source": [
        "# Fit the model\n",
        "history_5 = model_5.fit(train_data,\n",
        "                        epochs=5,\n",
        "                        steps_per_epoch=len(train_data),\n",
        "                        validation_data=test_data,\n",
        "                        validation_steps=len(test_data))"
      ]
    },
    {
      "cell_type": "markdown",
      "metadata": {
        "id": "u_RLuNFfK2Ai"
      },
      "source": [
        "Okay, it looks like our model with max pooling (`model_5`) is performing worse on the training set but better on the validation set.\n",
        "\n",
        "Before we checkout its training curves, let's check out its architecture."
      ]
    },
    {
      "cell_type": "code",
      "execution_count": null,
      "metadata": {
        "colab": {
          "base_uri": "https://localhost:8080/"
        },
        "id": "eiCwB0nQqGiW",
        "outputId": "9d486cd8-1977-4e88-f22d-90430f02d151"
      },
      "outputs": [],
      "source": [
        "# Check out the model architecture\n",
        "model_5.summary()"
      ]
    },
    {
      "cell_type": "markdown",
      "metadata": {
        "id": "I5wMs9UIKkjx"
      },
      "source": [
        "Do you notice what's going on here with the output shape in each `MaxPooling2D` layer?\n",
        "\n",
        "It gets halved each time. This is effectively the `MaxPooling2D` layer taking the outputs of each Conv2D layer and saying \"I only want the most important features, get rid of the rest\".\n",
        "\n",
        "The bigger the `pool_size` parameter, the more the max pooling layer will squeeze the features out of the image. However, too big and the model might not be able to learn anything.\n",
        "\n",
        "The results of this pooling are seen in a major reduction of total trainable parameters (8,861 in `model_5` and 477,431 in `model_4`).\n",
        "\n",
        "Time to check out the loss curves."
      ]
    },
    {
      "cell_type": "code",
      "execution_count": null,
      "metadata": {
        "colab": {
          "base_uri": "https://localhost:8080/",
          "height": 573
        },
        "id": "BqK9-vOSqIaA",
        "outputId": "1e47ce4f-b7ce-43af-d5a4-07081ac8a424"
      },
      "outputs": [],
      "source": [
        "# Plot loss curves of model_5 results\n",
        "plot_loss_curves(history_5)"
      ]
    },
    {
      "cell_type": "markdown",
      "metadata": {
        "id": "6Xx-iI0INio5"
      },
      "source": [
        "Nice! We can see the training curves get a lot closer to eachother. However, our the validation loss looks to start increasing towards the end and in turn potentially leading to overfitting.\n",
        "\n",
        "Time to dig into our bag of tricks and try another method of overfitting prevention, data augmentation.\n",
        "\n",
        "First, we'll see how it's done with code then we'll discuss what it's doing.\n",
        "\n",
        "To implement data augmentation, we'll have to reinstantiate our [`ImageDataGenerator`](https://www.tensorflow.org/api_docs/python/tf/keras/preprocessing/image/ImageDataGenerator) instances."
      ]
    },
    {
      "cell_type": "code",
      "execution_count": null,
      "metadata": {
        "id": "8w_6yWdcPGZH"
      },
      "outputs": [],
      "source": [
        "# Create ImageDataGenerator training instance with data augmentation\n",
        "train_datagen_augmented = ImageDataGenerator(rescale=1/255.,\n",
        "                                             rotation_range=20, # rotate the image slightly between 0 and 20 degrees (note: this is an int not a float)\n",
        "                                             shear_range=0.2, # shear the image\n",
        "                                             zoom_range=0.2, # zoom into the image\n",
        "                                             width_shift_range=0.2, # shift the image width ways\n",
        "                                             height_shift_range=0.2, # shift the image height ways\n",
        "                                             horizontal_flip=True) # flip the image on the horizontal axis\n",
        "\n",
        "# Create ImageDataGenerator training instance without data augmentation\n",
        "train_datagen = ImageDataGenerator(rescale=1/255.) \n",
        "\n",
        "# Create ImageDataGenerator test instance without data augmentation\n",
        "test_datagen = ImageDataGenerator(rescale=1/255.)"
      ]
    },
    {
      "cell_type": "markdown",
      "metadata": {
        "id": "XXbuvM6-T3PI"
      },
      "source": [
        "> 🤔 **Question:** What's data augmentation?\n",
        "\n",
        "**Data augmentation** is the process of altering our training data, leading to it having more diversity and in turn allowing our models to learn more generalizable patterns. Altering might mean adjusting the rotation of an image, flipping it, cropping it or something similar.\n",
        "\n",
        "Doing this simulates the kind of data a model might be used on in the real world.\n",
        "\n",
        "If we're building a pizza vs. steak application, not all of the images our users take might be in similar setups to our training data. Using data augmentation gives us another way to prevent overfitting and in turn make our model more generalizable.\n",
        "\n",
        "> 🔑 **Note:** Data augmentation is usally only performed on the training data. Using the `ImageDataGenerator` built-in data augmentation parameters our images are left as they are in the directories but are randomly manipulated when loaded into the model."
      ]
    },
    {
      "cell_type": "code",
      "execution_count": null,
      "metadata": {
        "colab": {
          "base_uri": "https://localhost:8080/"
        },
        "id": "NZXl-kEoPoEP",
        "outputId": "b7400d01-8a37-46ed-ae1b-e707362a4eaa"
      },
      "outputs": [],
      "source": [
        "# Import data and augment it from training directory\n",
        "print(\"Augmented training images:\")\n",
        "train_data_augmented = train_datagen_augmented.flow_from_directory(train_dir,\n",
        "                                                                   target_size=(224, 224),\n",
        "                                                                   batch_size=32,\n",
        "                                                                   class_mode='binary',\n",
        "                                                                   shuffle=False) # Don't shuffle for demonstration purposes, usually a good thing to shuffle\n",
        "\n",
        "# Create non-augmented data batches\n",
        "print(\"Non-augmented training images:\")\n",
        "train_data = train_datagen.flow_from_directory(train_dir,\n",
        "                                               target_size=(224, 224),\n",
        "                                               batch_size=32,\n",
        "                                               class_mode='binary',\n",
        "                                               shuffle=False) # Don't shuffle for demonstration purposes\n",
        "\n",
        "print(\"Unchanged test images:\")\n",
        "test_data = test_datagen.flow_from_directory(test_dir,\n",
        "                                             target_size=(224, 224),\n",
        "                                             batch_size=32,\n",
        "                                             class_mode='binary')"
      ]
    },
    {
      "cell_type": "markdown",
      "metadata": {
        "id": "sJ48fRxFXC-_"
      },
      "source": [
        "Better than talk about data augmentation, how about we see it?\n",
        "\n",
        "(remember our motto? visualize, visualize, visualize...)"
      ]
    },
    {
      "cell_type": "code",
      "execution_count": null,
      "metadata": {
        "id": "dpd1OZiFSUQV"
      },
      "outputs": [],
      "source": [
        "# Get data batch samples\n",
        "images, labels = train_data.next()\n",
        "augmented_images, augmented_labels = train_data_augmented.next() # Note: labels aren't augmented, they stay the same"
      ]
    },
    {
      "cell_type": "code",
      "execution_count": null,
      "metadata": {
        "colab": {
          "base_uri": "https://localhost:8080/",
          "height": 511
        },
        "id": "JqE6X60_Th7v",
        "outputId": "5cee7fb3-4e3e-4ed9-8ad6-b21b4f048e90"
      },
      "outputs": [],
      "source": [
        "# Show original image and augmented image\n",
        "random_number = random.randint(0, 32) # we're making batches of size 32, so we'll get a random instance\n",
        "plt.imshow(images[random_number])\n",
        "plt.title(f\"Original image\")\n",
        "plt.axis(False)\n",
        "plt.figure()\n",
        "plt.imshow(augmented_images[random_number])\n",
        "plt.title(f\"Augmented image\")\n",
        "plt.axis(False);"
      ]
    },
    {
      "cell_type": "markdown",
      "metadata": {
        "id": "9t2IudZWST_a"
      },
      "source": [
        "After going through a sample of original and augmented images, you can start to see some of the example transformations on the training images.\n",
        "\n",
        "Notice how some of the augmented images look like slightly warped versions of the original image. This means our model will be forced to try and learn patterns in less-than-perfect images, which is often the case when using real-world images.\n",
        "\n",
        "> 🤔 **Question:** Should I use data augmentation? And how much should I augment?\n",
        "\n",
        "Data augmentation is a way to try and prevent a model overfitting. If your model is overfiting (e.g. the validation loss keeps increasing), you may want to try using data augmentation.\n",
        "\n",
        "As for how much to data augment, there's no set practice for this. Best to check out the options in the `ImageDataGenerator` class and think about how a model in your use case might benefit from some data augmentation.\n",
        "\n",
        "Now we've got augmented data, let's try and refit a model on it and see how it affects training.\n",
        "\n",
        "We'll use the same model as `model_5`."
      ]
    },
    {
      "cell_type": "code",
      "execution_count": null,
      "metadata": {
        "colab": {
          "base_uri": "https://localhost:8080/"
        },
        "id": "eeMsIFSwP98S",
        "outputId": "d1b54464-c959-4ed2-d1f1-6ea950a53b93"
      },
      "outputs": [],
      "source": [
        "# Create the model (same as model_5)\n",
        "model_6 = Sequential([\n",
        "  Conv2D(10, 3, activation='relu', input_shape=(224, 224, 3)),\n",
        "  MaxPool2D(pool_size=2), # reduce number of features by half\n",
        "  Conv2D(10, 3, activation='relu'),\n",
        "  MaxPool2D(),\n",
        "  Conv2D(10, 3, activation='relu'),\n",
        "  MaxPool2D(),\n",
        "  Flatten(),\n",
        "  Dense(1, activation='sigmoid')\n",
        "])\n",
        "\n",
        "# Compile the model\n",
        "model_6.compile(loss='binary_crossentropy',\n",
        "                optimizer=Adam(),\n",
        "                metrics=['accuracy'])\n",
        "\n",
        "# Fit the model\n",
        "history_6 = model_6.fit(train_data_augmented, # changed to augmented training data\n",
        "                        epochs=5,\n",
        "                        steps_per_epoch=len(train_data_augmented),\n",
        "                        validation_data=test_data,\n",
        "                        validation_steps=len(test_data))"
      ]
    },
    {
      "cell_type": "markdown",
      "metadata": {
        "id": "sH04UirwQ57K"
      },
      "source": [
        "> 🤔 **Question:** Why didn't our model get very good results on the training set to begin with?\n",
        "\n",
        "It's because when we created `train_data_augmented` we turned off data shuffling using `shuffle=False` which means our model only sees a batch of a single kind of images at a time. \n",
        "\n",
        "For example, the pizza class gets loaded in first because it's the first class. Thus it's performance is measured on only a single class rather than both classes. The validation data performance improves steadily because it contains shuffled data.\n",
        "\n",
        "Since we only set `shuffle=False` for demonstration purposes (so we could plot the same augmented and non-augmented image), we can fix this by setting `shuffle=True` on future data generators.\n",
        "\n",
        "You may have also noticed each epoch taking longer when training with augmented data compared to when training with non-augmented data (~25s per epoch vs. ~10s per epoch).\n",
        "\n",
        "This is because the `ImageDataGenerator` instance augments the data as it's loaded into the model. The benefit of this is that it leaves the original images unchanged. The downside is that it takes longer to load them in.\n",
        "\n",
        "> 🔑 **Note:** One possible method to speed up dataset manipulation would be to look into [TensorFlow's parrallel reads and buffered prefecting options](https://www.tensorflow.org/tutorials/images/data_augmentation)."
      ]
    },
    {
      "cell_type": "code",
      "execution_count": null,
      "metadata": {
        "colab": {
          "base_uri": "https://localhost:8080/",
          "height": 573
        },
        "id": "u7TIYf4LalV1",
        "outputId": "b229e205-abc2-45c2-bfc2-e58b8df63624"
      },
      "outputs": [],
      "source": [
        "# Check model's performance history training on augmented data\n",
        "plot_loss_curves(history_6)"
      ]
    },
    {
      "cell_type": "markdown",
      "metadata": {
        "id": "Cf3mU-tkKF9b"
      },
      "source": [
        "It seems our validation loss curve is heading in the right direction but it's a bit jumpy (the most ideal loss curve isn't too spiky but a smooth descent, however, a perfectly smooth loss curve is the equivalent of a fairytale).\n",
        "\n",
        "Let's see what happens when we shuffle the augmented training data."
      ]
    },
    {
      "cell_type": "code",
      "execution_count": null,
      "metadata": {
        "colab": {
          "base_uri": "https://localhost:8080/"
        },
        "id": "bsH85YqYZklI",
        "outputId": "76c8dc77-a1a1-4b33-c7df-67b3a56c38e1"
      },
      "outputs": [],
      "source": [
        "# Import data and augment it from directories\n",
        "train_data_augmented_shuffled = train_datagen_augmented.flow_from_directory(train_dir,\n",
        "                                                                            target_size=(224, 224),\n",
        "                                                                            batch_size=32,\n",
        "                                                                            class_mode='binary',\n",
        "                                                                            shuffle=True) # Shuffle data (default)"
      ]
    },
    {
      "cell_type": "code",
      "execution_count": null,
      "metadata": {
        "colab": {
          "base_uri": "https://localhost:8080/"
        },
        "id": "_cR3M5T4Znds",
        "outputId": "2fdb87eb-187e-4bf6-a7da-1c34816b95d9"
      },
      "outputs": [],
      "source": [
        "# Create the model (same as model_5 and model_6)\n",
        "model_7 = Sequential([\n",
        "  Conv2D(10, 3, activation='relu', input_shape=(224, 224, 3)),\n",
        "  MaxPool2D(),\n",
        "  Conv2D(10, 3, activation='relu'),\n",
        "  MaxPool2D(),\n",
        "  Conv2D(10, 3, activation='relu'),\n",
        "  MaxPool2D(),\n",
        "  Flatten(),\n",
        "  Dense(1, activation='sigmoid')\n",
        "])\n",
        "\n",
        "# Compile the model\n",
        "model_7.compile(loss='binary_crossentropy',\n",
        "                optimizer=Adam(),\n",
        "                metrics=['accuracy'])\n",
        "\n",
        "# Fit the model\n",
        "history_7 = model_7.fit(train_data_augmented_shuffled, # now the augmented data is shuffled\n",
        "                        epochs=5,\n",
        "                        steps_per_epoch=len(train_data_augmented_shuffled),\n",
        "                        validation_data=test_data,\n",
        "                        validation_steps=len(test_data))"
      ]
    },
    {
      "cell_type": "code",
      "execution_count": null,
      "metadata": {
        "colab": {
          "base_uri": "https://localhost:8080/",
          "height": 573
        },
        "id": "eTI1USKaIQe7",
        "outputId": "b11a8376-26c7-46ad-d1d9-020cfc7bc6ea"
      },
      "outputs": [],
      "source": [
        "# Check model's performance history training on augmented data\n",
        "plot_loss_curves(history_7)"
      ]
    },
    {
      "cell_type": "markdown",
      "metadata": {
        "id": "V-HB2Z_3Pgmw"
      },
      "source": [
        "Notice with `model_7` how the performance on the training dataset improves almost immediately compared to `model_6`. This is because we shuffled the training data as we passed it to the model using the parameter `shuffle=True` in the `flow_from_directory` method.\n",
        "\n",
        "This means the model was able to see examples of both pizza and steak images in each batch and in turn be evaluated on what it learned from both images rather than just one kind.\n",
        "\n",
        "Also, our loss curves look a little bit smoother with shuffled data (comparing `history_6` to `history_7`)."
      ]
    },
    {
      "cell_type": "markdown",
      "metadata": {
        "id": "xrTtAgJoI2Nc"
      },
      "source": [
        "### 7. Repeat until satisified\n",
        "\n",
        "We've trained a few model's on our dataset already and so far they're performing pretty good.\n",
        "\n",
        "Since we've already beaten our baseline, there are a few things we could try to continue to improve our model:\n",
        "* Increase the number of model layers (e.g. add more convolutional layers).\n",
        "* Increase the number of filters in each convolutional layer (e.g. from 10 to 32, 64, or 128, these numbers aren't set in stone either, they are usually found through trial and error).\n",
        "* Train for longer (more epochs).\n",
        "* Finding an ideal learning rate.\n",
        "* Get more data (give the model more opportunities to learn).\n",
        "* Use **transfer learning** to leverage what another image model has learned and adjust it for our own use case.\n",
        "\n",
        "Adjusting each of these settings (except for the last two) during model development is usually referred to as **hyperparameter tuning**.\n",
        "\n",
        "You can think of hyperparameter tuning as simialr to adjusting the settings on your oven to cook your favourite dish. Although your oven does most of the cooking for you, you can help it by tweaking the dials.\n",
        "\n",
        "Let's go back to right where we started and try our original model (`model_1` or the TinyVGG architecture from [CNN explainer](https://poloclub.github.io/cnn-explainer/)).\n"
      ]
    },
    {
      "cell_type": "code",
      "execution_count": null,
      "metadata": {
        "colab": {
          "base_uri": "https://localhost:8080/"
        },
        "id": "I6I5ayvQSP5j",
        "outputId": "00fff888-33be-4467-9333-a549350b0fe7"
      },
      "outputs": [],
      "source": [
        "# Create a CNN model (same as Tiny VGG but for binary classification - https://poloclub.github.io/cnn-explainer/ )\n",
        "model_8 = Sequential([\n",
        "  Conv2D(10, 3, activation='relu', input_shape=(224, 224, 3)), # same input shape as our images\n",
        "  Conv2D(10, 3, activation='relu'),\n",
        "  MaxPool2D(),\n",
        "  Conv2D(10, 3, activation='relu'),\n",
        "  Conv2D(10, 3, activation='relu'),\n",
        "  MaxPool2D(),\n",
        "  Flatten(),\n",
        "  Dense(1, activation='sigmoid')\n",
        "])\n",
        "\n",
        "# Compile the model\n",
        "model_8.compile(loss=\"binary_crossentropy\",\n",
        "                optimizer=tf.keras.optimizers.Adam(),\n",
        "                metrics=[\"accuracy\"])\n",
        "\n",
        "# Fit the model\n",
        "history_8 = model_8.fit(train_data_augmented_shuffled,\n",
        "                        epochs=5,\n",
        "                        steps_per_epoch=len(train_data_augmented_shuffled),\n",
        "                        validation_data=test_data,\n",
        "                        validation_steps=len(test_data))"
      ]
    },
    {
      "cell_type": "markdown",
      "metadata": {
        "id": "yxKfEhJ9RfyC"
      },
      "source": [
        "> 🔑 **Note:** You might've noticed we used some slightly different code to build `model_8` as compared to `model_1`. This is because of the imports we did before, such as `from tensorflow.keras.layers import Conv2D` reduce the amount of code we had to write. Although the code is different, the architectures are the same."
      ]
    },
    {
      "cell_type": "code",
      "execution_count": null,
      "metadata": {
        "colab": {
          "base_uri": "https://localhost:8080/"
        },
        "id": "C1zGoHGyMS9R",
        "outputId": "3cc3a06f-d288-40bb-b927-0647b4eb5d69"
      },
      "outputs": [],
      "source": [
        "# Check model_1 architecture (same as model_8)\n",
        "model_1.summary()"
      ]
    },
    {
      "cell_type": "code",
      "execution_count": null,
      "metadata": {
        "colab": {
          "base_uri": "https://localhost:8080/"
        },
        "id": "BPriekXFMwAR",
        "outputId": "96d05522-9c5d-40eb-fce6-0aeba293f8f1"
      },
      "outputs": [],
      "source": [
        "# Check model_8 architecture (same as model_1)\n",
        "model_8.summary()"
      ]
    },
    {
      "cell_type": "markdown",
      "metadata": {
        "id": "11FUyrJTR_Uu"
      },
      "source": [
        "Now let's check out our TinyVGG model's performance."
      ]
    },
    {
      "cell_type": "code",
      "execution_count": null,
      "metadata": {
        "colab": {
          "base_uri": "https://localhost:8080/",
          "height": 573
        },
        "id": "oTpkeHAhMyRt",
        "outputId": "8b521d3f-ce02-49ce-c0c1-2b76a8223d07"
      },
      "outputs": [],
      "source": [
        "# Check out the TinyVGG model performance\n",
        "plot_loss_curves(history_8)"
      ]
    },
    {
      "cell_type": "code",
      "execution_count": null,
      "metadata": {
        "colab": {
          "base_uri": "https://localhost:8080/",
          "height": 573
        },
        "id": "lY-P3TuvSlRi",
        "outputId": "f2bf90f3-d291-46a0-a10b-c3db5f44e5c3"
      },
      "outputs": [],
      "source": [
        "# How does this training curve look compared to the one above?\n",
        "plot_loss_curves(history_1)"
      ]
    },
    {
      "cell_type": "markdown",
      "metadata": {
        "id": "cOncGwAhRCam"
      },
      "source": [
        "Hmm, our training curves are looking good, but our model's performance on the training and test sets didn't improve much compared to the previous model.\n",
        "\n",
        "Taking another loook at the training curves, it looks like our model's performance might improve if we trained it a little longer (more epochs).\n",
        "\n",
        "Perhaps that's something you like to try?"
      ]
    },
    {
      "cell_type": "markdown",
      "metadata": {
        "id": "aY4m153gOOYt"
      },
      "source": [
        "### Making a prediction with our trained model\n",
        "\n",
        "What good is a trained model if you can't make predictions with it?\n",
        "\n",
        "To really test it out, we'll upload a couple of our own images and see how the model goes.\n",
        "\n",
        "First, let's remind ourselves of the classnames and view the image we're going to test on."
      ]
    },
    {
      "cell_type": "code",
      "execution_count": null,
      "metadata": {
        "colab": {
          "base_uri": "https://localhost:8080/"
        },
        "id": "v7ih-LaCf1mJ",
        "outputId": "c8b666d9-1b1e-4622-afa4-14f84995cae4"
      },
      "outputs": [],
      "source": [
        "# Classes we're working with\n",
        "print(class_names)"
      ]
    },
    {
      "cell_type": "markdown",
      "metadata": {
        "id": "UFGoUuDii0zL"
      },
      "source": [
        "The first test image we're going to use is [a delicious steak](https://raw.githubusercontent.com/mrdbourke/tensorflow-deep-learning/main/images/03-steak.jpeg) I cooked the other day."
      ]
    },
    {
      "cell_type": "code",
      "execution_count": null,
      "metadata": {
        "colab": {
          "base_uri": "https://localhost:8080/",
          "height": 459
        },
        "id": "PnC6uEyvON7h",
        "outputId": "50a59322-35fa-4138-f22e-cec2e63deeac"
      },
      "outputs": [],
      "source": [
        "# View our example image\n",
        "!wget https://raw.githubusercontent.com/mrdbourke/tensorflow-deep-learning/main/images/03-steak.jpeg \n",
        "steak = mpimg.imread(\"03-steak.jpeg\")\n",
        "plt.imshow(steak)\n",
        "plt.axis(False);"
      ]
    },
    {
      "cell_type": "code",
      "execution_count": null,
      "metadata": {
        "colab": {
          "base_uri": "https://localhost:8080/"
        },
        "id": "TEFrCZobgpe7",
        "outputId": "b5b0652d-8167-4336-f9ed-73079d1dd2d6"
      },
      "outputs": [],
      "source": [
        "# Check the shape of our image\n",
        "steak.shape"
      ]
    },
    {
      "cell_type": "markdown",
      "metadata": {
        "id": "ViKGBkYPgmE6"
      },
      "source": [
        "Since our model takes in images of shapes `(224, 224, 3)`, we've got to reshape our custom image to use it with our model.\n",
        "\n",
        "To do so, we can import and decode our image using [`tf.io.read_file`](https://www.tensorflow.org/api_docs/python/tf/io/read_file) (for readining files) and [`tf.image`](https://www.tensorflow.org/api_docs/python/tf/image) (for resizing our image and turning it into a tensor).\n",
        "\n",
        "> 🔑 **Note:** For your model to make predictions on unseen data, for example, your own custom images, the custom image has to be in the same shape as your model has been trained on. In more general terms, to make predictions on custom data it has to be in the same form that your model has been trained on."
      ]
    },
    {
      "cell_type": "code",
      "execution_count": null,
      "metadata": {
        "id": "x_DlKMWhV8Zq"
      },
      "outputs": [],
      "source": [
        "# Create a function to import an image and resize it to be able to be used with our model\n",
        "def load_and_prep_image(filename, img_shape=224):\n",
        "  \"\"\"\n",
        "  Reads an image from filename, turns it into a tensor\n",
        "  and reshapes it to (img_shape, img_shape, colour_channel).\n",
        "  \"\"\"\n",
        "  # Read in target file (an image)\n",
        "  img = tf.io.read_file(filename)\n",
        "\n",
        "  # Decode the read file into a tensor & ensure 3 colour channels \n",
        "  # (our model is trained on images with 3 colour channels and sometimes images have 4 colour channels)\n",
        "  img = tf.image.decode_image(img, channels=3)\n",
        "\n",
        "  # Resize the image (to the same size our model was trained on)\n",
        "  img = tf.image.resize(img, size = [img_shape, img_shape])\n",
        "\n",
        "  # Rescale the image (get all values between 0 and 1)\n",
        "  img = img/255.\n",
        "  return img"
      ]
    },
    {
      "cell_type": "markdown",
      "metadata": {
        "id": "DFKXS-3klBFf"
      },
      "source": [
        "Now we've got a function to load our custom image, let's load it in."
      ]
    },
    {
      "cell_type": "code",
      "execution_count": null,
      "metadata": {
        "colab": {
          "base_uri": "https://localhost:8080/"
        },
        "id": "j1D6TT2nWeKw",
        "outputId": "f8a513b1-3120-484a-9674-3492389f9c07"
      },
      "outputs": [],
      "source": [
        "# Load in and preprocess our custom image\n",
        "steak = load_and_prep_image(\"03-steak.jpeg\")\n",
        "steak"
      ]
    },
    {
      "cell_type": "markdown",
      "metadata": {
        "id": "8ZK5RYOGlJ4K"
      },
      "source": [
        "Wonderful, our image is in tensor format, time to try it with our model!"
      ]
    },
    {
      "cell_type": "code",
      "execution_count": null,
      "metadata": {
        "colab": {
          "base_uri": "https://localhost:8080/",
          "height": 659
        },
        "id": "ae8qWpY_lVF_",
        "outputId": "6b1cd4cc-1e6a-4e21-ec71-0838b152a000"
      },
      "outputs": [],
      "source": [
        "# Make a prediction on our custom image (spoiler: this won't work)\n",
        "model_8.predict(steak)"
      ]
    },
    {
      "cell_type": "markdown",
      "metadata": {
        "id": "Vs4LbfbjlZk2"
      },
      "source": [
        "There's one more problem...\n",
        "\n",
        "Although our image is in the same shape as the images our model has been trained on, we're still missing a dimension.\n",
        "\n",
        "Remember how our model was trained in batches?\n",
        "\n",
        "Well, the batch size becomes the first dimension.\n",
        "\n",
        "So in reality, our model was trained on data in the shape of `(batch_size, 224, 224, 3)`.\n",
        "\n",
        "We can fix this by adding an extra to our custom image tensor using [`tf.expand_dims`](https://www.tensorflow.org/api_docs/python/tf/expand_dims)."
      ]
    },
    {
      "cell_type": "code",
      "execution_count": null,
      "metadata": {
        "colab": {
          "base_uri": "https://localhost:8080/"
        },
        "id": "-NpxxDEbW3Uj",
        "outputId": "ce08ce08-c8b6-465d-ce5f-0b8174b5ef68"
      },
      "outputs": [],
      "source": [
        "# Add an extra axis\n",
        "print(f\"Shape before new dimension: {steak.shape}\")\n",
        "steak = tf.expand_dims(steak, axis=0) # add an extra dimension at axis 0\n",
        "#steak = steak[tf.newaxis, ...] # alternative to the above, '...' is short for 'every other dimension'\n",
        "print(f\"Shape after new dimension: {steak.shape}\")\n",
        "steak"
      ]
    },
    {
      "cell_type": "markdown",
      "metadata": {
        "id": "mamnhVTmnGMe"
      },
      "source": [
        "Our custom image has a batch size of 1! Let's make a prediction on it."
      ]
    },
    {
      "cell_type": "code",
      "execution_count": null,
      "metadata": {
        "colab": {
          "base_uri": "https://localhost:8080/"
        },
        "id": "rOPnhH4QUmEo",
        "outputId": "5834c87b-7e9d-4d44-8828-c76fabf39580"
      },
      "outputs": [],
      "source": [
        "# Make a prediction on custom image tensor\n",
        "pred = model_8.predict(steak)\n",
        "pred"
      ]
    },
    {
      "cell_type": "markdown",
      "metadata": {
        "id": "p4RcgXrov_6k"
      },
      "source": [
        "Ahh, the predictions come out in **prediction probability** form. In other words, this means how likely the image is to be one class or another.\n",
        "\n",
        "Since we're working with a binary classification problem, if the prediction probability is over 0.5, according to the model, the prediction is most likely to be the **postive class** (class 1).\n",
        "\n",
        "And if the prediction probability is under 0.5, according to the model, the predicted class is most likely to be the **negative class** (class 0).\n",
        "\n",
        "> 🔑 **Note:** The 0.5 cutoff can be adjusted to your liking. For example, you could set the limit to be 0.8 and over for the positive class and 0.2 for the negative class. However, doing this will almost always change your model's performance metrics so be sure to make sure they change in the right direction.\n",
        "\n",
        "But saying positive and negative class doesn't make much sense when we're working with pizza 🍕 and steak 🥩...\n",
        "\n",
        "So let's write a little function to convert predictions into their class names and then plot the target image."
      ]
    },
    {
      "cell_type": "code",
      "execution_count": null,
      "metadata": {
        "colab": {
          "base_uri": "https://localhost:8080/"
        },
        "id": "PZn9dTog4UrK",
        "outputId": "836e57c5-6a91-4d41-8089-95fb51236589"
      },
      "outputs": [],
      "source": [
        "# Remind ourselves of our class names\n",
        "class_names"
      ]
    },
    {
      "cell_type": "code",
      "execution_count": null,
      "metadata": {
        "colab": {
          "base_uri": "https://localhost:8080/",
          "height": 35
        },
        "id": "YyEPQ7p-5ZX5",
        "outputId": "4ea12f5b-74c5-4667-8f54-1dfdd99fddf5"
      },
      "outputs": [],
      "source": [
        "# We can index the predicted class by rounding the prediction probability\n",
        "pred_class = class_names[int(tf.round(pred)[0][0])]\n",
        "pred_class"
      ]
    },
    {
      "cell_type": "code",
      "execution_count": null,
      "metadata": {
        "id": "s_MK7zDM4bHB"
      },
      "outputs": [],
      "source": [
        "def pred_and_plot(model, filename, class_names):\n",
        "  \"\"\"\n",
        "  Imports an image located at filename, makes a prediction on it with\n",
        "  a trained model and plots the image with the predicted class as the title.\n",
        "  \"\"\"\n",
        "  # Import the target image and preprocess it\n",
        "  img = load_and_prep_image(filename)\n",
        "\n",
        "  # Make a prediction\n",
        "  pred = model.predict(tf.expand_dims(img, axis=0))\n",
        "\n",
        "  # Get the predicted class\n",
        "  pred_class = class_names[int(tf.round(pred)[0][0])]\n",
        "\n",
        "  # Plot the image and predicted class\n",
        "  plt.imshow(img)\n",
        "  plt.title(f\"Prediction: {pred_class}\")\n",
        "  plt.axis(False);"
      ]
    },
    {
      "cell_type": "code",
      "execution_count": null,
      "metadata": {
        "colab": {
          "base_uri": "https://localhost:8080/",
          "height": 264
        },
        "id": "fDcNiw4M50SH",
        "outputId": "f5b870ee-4d08-42f1-e501-4b54d09d0ca8"
      },
      "outputs": [],
      "source": [
        "# Test our model on a custom image\n",
        "pred_and_plot(model_8, \"03-steak.jpeg\", class_names)"
      ]
    },
    {
      "cell_type": "markdown",
      "metadata": {
        "id": "wVrSxuGl6L-p"
      },
      "source": [
        "Nice! Our model got the prediction right.\n",
        "\n",
        "The only downside of working with food is this is making me hungry.\n",
        "\n",
        "Let's try one more image."
      ]
    },
    {
      "cell_type": "code",
      "execution_count": null,
      "metadata": {
        "colab": {
          "base_uri": "https://localhost:8080/",
          "height": 475
        },
        "id": "t2YCibxfnRyU",
        "outputId": "87501a35-4ed5-4923-9824-341299e9f85d"
      },
      "outputs": [],
      "source": [
        "# Download another test image and make a prediction on it\n",
        "!wget https://raw.githubusercontent.com/mrdbourke/tensorflow-deep-learning/main/images/03-pizza-dad.jpeg \n",
        "pred_and_plot(model_8, \"03-pizza-dad.jpeg\", class_names)"
      ]
    },
    {
      "cell_type": "markdown",
      "metadata": {
        "id": "McTrUmgl-GE5"
      },
      "source": [
        "Two thumbs up! Woohoo!"
      ]
    },
    {
      "cell_type": "markdown",
      "metadata": {
        "id": "qUn_vOSRYjX2"
      },
      "source": [
        "## Multi-class Classification\n",
        "\n",
        "We've referenced the TinyVGG architecture from the CNN Explainer website multiple times through this notebook, however, the CNN Explainer website works with 10 different image classes, where as our current model only works with two classes (pizza and steak).\n",
        "\n",
        "> 🛠 **Practice:** Before scrolling down, how do you think we might change our model to work with 10 classes of the same kind of images? Assume the data is in the same style as our two class problem.\n",
        "\n",
        "Remember the steps we took before to build our pizza 🍕 vs. steak 🥩 classifier?\n",
        "\n",
        "How about we go through those steps again, except this time, we'll work with 10 different types of food.\n",
        "\n",
        "1. Become one with the data (visualize, visualize, visualize...)\n",
        "2. Preprocess the data (prepare it for a model)\n",
        "3. Create a model (start with a baseline)\n",
        "4. Fit the model\n",
        "5. Evaluate the model\n",
        "6. Adjust different parameters and improve model (try to beat your baseline)\n",
        "7. Repeat until satisfied\n",
        "\n",
        "![](https://raw.githubusercontent.com/mrdbourke/tensorflow-deep-learning/main/images/misc-tensorflow-workflow-outline.png)\n",
        "*The workflow we're about to go through is a slightly modified version of the above image. As you keep going through deep learning problems, you'll find the workflow above is more of an outline than a step-by-step guide.*"
      ]
    },
    {
      "cell_type": "markdown",
      "metadata": {
        "id": "6ce4pSyybZrW"
      },
      "source": [
        "### 1. Import and become one with the data\n",
        "\n",
        "Again, we've got a subset of the [Food101 dataset](https://www.kaggle.com/dansbecker/food-101). In addition to the pizza and steak images, we've pulled out another eight classes.\n"
      ]
    },
    {
      "cell_type": "code",
      "execution_count": null,
      "metadata": {
        "colab": {
          "base_uri": "https://localhost:8080/"
        },
        "id": "lYTKmCwOThE-",
        "outputId": "b573ac04-ee53-4b53-83ff-f389ba93b503"
      },
      "outputs": [],
      "source": [
        "import zipfile\n",
        "\n",
        "# Download zip file of 10_food_classes images\n",
        "# See how this data was created - https://github.com/mrdbourke/tensorflow-deep-learning/blob/main/extras/image_data_modification.ipynb\n",
        "!wget https://storage.googleapis.com/ztm_tf_course/food_vision/10_food_classes_all_data.zip \n",
        "\n",
        "# Unzip the downloaded file\n",
        "zip_ref = zipfile.ZipFile(\"10_food_classes_all_data.zip\", \"r\")\n",
        "zip_ref.extractall()\n",
        "zip_ref.close()"
      ]
    },
    {
      "cell_type": "markdown",
      "metadata": {
        "id": "pVoB0tnhArY3"
      },
      "source": [
        "Now let's check out all of the different directories and sub-directories in the `10_food_classes` file."
      ]
    },
    {
      "cell_type": "code",
      "execution_count": null,
      "metadata": {
        "colab": {
          "base_uri": "https://localhost:8080/"
        },
        "id": "-lhZIyLbdbgF",
        "outputId": "f231f133-e084-41e0-a2b5-f61ea84b2d80"
      },
      "outputs": [],
      "source": [
        "import os\n",
        "\n",
        "# Walk through 10_food_classes directory and list number of files\n",
        "for dirpath, dirnames, filenames in os.walk(\"10_food_classes_all_data\"):\n",
        "  print(f\"There are {len(dirnames)} directories and {len(filenames)} images in '{dirpath}'.\")"
      ]
    },
    {
      "cell_type": "markdown",
      "metadata": {
        "id": "Q0TYH57AA-Ru"
      },
      "source": [
        "Looking good!\n",
        "\n",
        "We'll now setup the training and test directory paths."
      ]
    },
    {
      "cell_type": "code",
      "execution_count": null,
      "metadata": {
        "id": "GZ3ckfSId_6b"
      },
      "outputs": [],
      "source": [
        "train_dir = \"10_food_classes_all_data/train/\"\n",
        "test_dir = \"10_food_classes_all_data/test/\""
      ]
    },
    {
      "cell_type": "markdown",
      "metadata": {
        "id": "CqtKbfREBWka"
      },
      "source": [
        "And get the class names from the subdirectories."
      ]
    },
    {
      "cell_type": "code",
      "execution_count": null,
      "metadata": {
        "colab": {
          "base_uri": "https://localhost:8080/"
        },
        "id": "wPqnYkXqXuYW",
        "outputId": "1e954a3d-23f0-4cf8-b6dc-d12669c4f494"
      },
      "outputs": [],
      "source": [
        "# Get the class names for our multi-class dataset\n",
        "import pathlib\n",
        "import numpy as np\n",
        "data_dir = pathlib.Path(train_dir)\n",
        "class_names = np.array(sorted([item.name for item in data_dir.glob('*')]))\n",
        "print(class_names)"
      ]
    },
    {
      "cell_type": "markdown",
      "metadata": {
        "id": "upMlZ4ezBqsO"
      },
      "source": [
        "How about we visualize an image from the training set?"
      ]
    },
    {
      "cell_type": "code",
      "execution_count": null,
      "metadata": {
        "colab": {
          "base_uri": "https://localhost:8080/",
          "height": 281
        },
        "id": "skJbXWo9fbt2",
        "outputId": "11d802c9-9f94-4359-98d1-4e3604234c03"
      },
      "outputs": [],
      "source": [
        "# View a random image from the training dataset\n",
        "import random\n",
        "img = view_random_image(target_dir=train_dir,\n",
        "                        target_class=random.choice(class_names)) # get a random class name"
      ]
    },
    {
      "cell_type": "markdown",
      "metadata": {
        "id": "9x7l_nACBwDY"
      },
      "source": [
        "### 2. Preprocess the data (prepare it for a model)\n",
        "\n",
        "After going through a handful of images (it's good to visualize at least 10-100 different examples), it looks like our data directories are setup correctly.\n",
        "\n",
        "Time to preprocess the data."
      ]
    },
    {
      "cell_type": "code",
      "execution_count": null,
      "metadata": {
        "colab": {
          "base_uri": "https://localhost:8080/"
        },
        "id": "cW5LugXLeAJE",
        "outputId": "e5c4c6d6-6d1f-425b-8448-0cba91f34e77"
      },
      "outputs": [],
      "source": [
        "from tensorflow.keras.preprocessing.image import ImageDataGenerator\n",
        "\n",
        "# Rescale the data and create data generator instances\n",
        "train_datagen = ImageDataGenerator(rescale=1/255.)\n",
        "test_datagen = ImageDataGenerator(rescale=1/255.)\n",
        "\n",
        "# Load data in from directories and turn it into batches\n",
        "train_data = train_datagen.flow_from_directory(train_dir,\n",
        "                                               target_size=(224, 224),\n",
        "                                               batch_size=32,\n",
        "                                               class_mode='categorical') # changed to categorical\n",
        "\n",
        "test_data = train_datagen.flow_from_directory(test_dir,\n",
        "                                              target_size=(224, 224),\n",
        "                                              batch_size=32,\n",
        "                                              class_mode='categorical')"
      ]
    },
    {
      "cell_type": "markdown",
      "metadata": {
        "id": "RSZP77B_EYS1"
      },
      "source": [
        "As with binary classifcation, we've creator image generators. The main change this time is that we've changed the `class_mode` parameter to `'categorical'` because we're dealing with 10 classes of food images.\n",
        "\n",
        "Everything else like rescaling the images, creating the batch size and target image size stay the same.\n",
        "\n",
        "> 🤔 **Question:** Why is the image size 224x224? This could actually be any size we wanted, however, 224x224 is a very common size for preprocessing images to. Depending on your problem you might want to use larger or smaller images."
      ]
    },
    {
      "cell_type": "markdown",
      "metadata": {
        "id": "D5rOFTXsCy6s"
      },
      "source": [
        "### 3. Create a model (start with a baseline)\n",
        "\n",
        "We can use the same model (TinyVGG) we used for the binary classification problem for our multi-class classification problem with a couple of small tweaks.\n",
        "\n",
        "Namely:\n",
        "* Changing the output layer to use have 10 ouput neurons (the same number as the number of classes we have).\n",
        "* Changing the output layer to use `'softmax'` activation instead of `'sigmoid'` activation.\n",
        "* Changing the loss function to be `'categorical_crossentropy'` instead of `'binary_crossentropy'`."
      ]
    },
    {
      "cell_type": "code",
      "execution_count": null,
      "metadata": {
        "id": "gcCOB9emeAWW"
      },
      "outputs": [],
      "source": [
        "import tensorflow as tf\n",
        "from tensorflow.keras.models import Sequential\n",
        "from tensorflow.keras.layers import Conv2D, MaxPool2D, Flatten, Dense\n",
        "\n",
        "# Create our model (a clone of model_8, except to be multi-class)\n",
        "model_9 = Sequential([\n",
        "  Conv2D(10, 3, activation='relu', input_shape=(224, 224, 3)),\n",
        "  Conv2D(10, 3, activation='relu'),\n",
        "  MaxPool2D(),\n",
        "  Conv2D(10, 3, activation='relu'),\n",
        "  Conv2D(10, 3, activation='relu'),\n",
        "  MaxPool2D(),\n",
        "  Flatten(),\n",
        "  Dense(10, activation='softmax') # changed to have 10 neurons (same as number of classes) and 'softmax' activation\n",
        "])\n",
        "\n",
        "# Compile the model\n",
        "model_9.compile(loss=\"categorical_crossentropy\", # changed to categorical_crossentropy\n",
        "                optimizer=tf.keras.optimizers.Adam(),\n",
        "                metrics=[\"accuracy\"])"
      ]
    },
    {
      "cell_type": "markdown",
      "metadata": {
        "id": "mdRhBbi1C2U_"
      },
      "source": [
        "### 4. Fit a model\n",
        "\n",
        "Now we've got a model suited for working with multiple classes, let's fit it to our data."
      ]
    },
    {
      "cell_type": "code",
      "execution_count": null,
      "metadata": {
        "colab": {
          "base_uri": "https://localhost:8080/"
        },
        "id": "Nh4nWKPlD1B9",
        "outputId": "12fa7933-e64e-43f8-ec35-0b94e649d9cd"
      },
      "outputs": [],
      "source": [
        "# Fit the model\n",
        "history_9 = model_9.fit(train_data, # now 10 different classes \n",
        "                        epochs=5,\n",
        "                        steps_per_epoch=len(train_data),\n",
        "                        validation_data=test_data,\n",
        "                        validation_steps=len(test_data))"
      ]
    },
    {
      "cell_type": "markdown",
      "metadata": {
        "id": "kja5kHtsIMXD"
      },
      "source": [
        "Why do you think each epoch takes longer than when working with only two classes of images?\n",
        "\n",
        "It's because we're now dealing with more images than we were before. We've got 10 classes with 750 training images and 250 validation images each totalling 10,000 images. Where as when we had two classes, we had 1500 training images and 500 validation images, totalling 2000.\n",
        "\n",
        "The intuitive reasoning here is the more data you have, the longer a model will take to find patterns."
      ]
    },
    {
      "cell_type": "markdown",
      "metadata": {
        "id": "1B2sbuUGC51n"
      },
      "source": [
        "### 5. Evaluate the model\n",
        "\n",
        "Woohoo! We've just trained a model on 10 different classes of food images, let's see how it went."
      ]
    },
    {
      "cell_type": "code",
      "execution_count": null,
      "metadata": {
        "colab": {
          "base_uri": "https://localhost:8080/"
        },
        "id": "_oKjUSOJD3us",
        "outputId": "f4568aae-5779-4e30-ef0c-ec1cc0516d81"
      },
      "outputs": [],
      "source": [
        "# Evaluate on the test data\n",
        "model_9.evaluate(test_data)"
      ]
    },
    {
      "cell_type": "code",
      "execution_count": null,
      "metadata": {
        "colab": {
          "base_uri": "https://localhost:8080/",
          "height": 573
        },
        "id": "mbV7OQdcD1lx",
        "outputId": "fef8d94c-90a3-4d54-a528-4e749da865fa"
      },
      "outputs": [],
      "source": [
        "# Check out the model's loss curves on the 10 classes of data (note: this function comes from above in the notebook)\n",
        "plot_loss_curves(history_9)"
      ]
    },
    {
      "cell_type": "markdown",
      "metadata": {
        "id": "6Fv2fRmwNj_W"
      },
      "source": [
        "Woah, that's quite the gap between the training and validation loss curves.\n",
        "\n",
        "What does this tell us?\n",
        "\n",
        "It seems our model is **overfitting** the training set quite badly. In other words, it's getting great results on the training data but fails to generalize well to unseen data and performs poorly on the test data."
      ]
    },
    {
      "cell_type": "markdown",
      "metadata": {
        "id": "srZF6kH4C88m"
      },
      "source": [
        "### 6. Adjust the model parameters\n",
        "\n",
        "Due to its performance on the training data, it's clear our model is learning something. However, performing well on the training data is like going well in the classroom but failing to use your skills in real life.\n",
        "\n",
        "Ideally, we'd like our model to perform as well on the test data as it does on the training data.\n",
        "\n",
        "So our next steps will be to try and prevent our model overfitting. A couple of ways to prevent overfitting include:\n",
        "\n",
        "- **Get more data** - Having more data gives the model more opportunities to learn patterns, patterns which may be more generalizable to new examples.\n",
        "- **Simplify model** - If the current model is already overfitting the training data, it may be too complicated of a model. This means it's learning the patterns of the data too well and isn't able to generalize well to unseen data. One way to simplify a model is to reduce the number of layers it uses or to reduce the number of hidden units in each layer.\n",
        "- **Use data augmentation** - Data augmentation manipulates the training data in a way so that's harder for the model to learn as it artificially adds more variety to the data. If a model is able to learn patterns in augmented data, the model may be able to generalize better to unseen data.\n",
        "- **Use transfer learning** - Transfer learning involves leverages the patterns (also called pretrained weights) one model has learned to use as the foundation for your own task. In our case, we could use one computer vision model pretrained on a large variety of images and then tweak it slightly to be more specialized for food images.\n",
        "\n",
        "> 🔑 **Note:** Preventing overfitting is also referred to as **regularization**.\n",
        "\n",
        "If you've already got an existing dataset, you're probably most likely to try one or a combination of the last three above options first.\n",
        "\n",
        "Since collecting more data would involve us manually taking more images of food, let's try the ones we can do from right within the notebook.\n",
        "\n",
        "How about we simplify our model first?\n",
        "\n",
        "To do so, we'll remove two of the convolutional layers, taking the total number of convolutional layers from four to two."
      ]
    },
    {
      "cell_type": "code",
      "execution_count": null,
      "metadata": {
        "colab": {
          "base_uri": "https://localhost:8080/"
        },
        "id": "3p8nioPkpOiu",
        "outputId": "a81dd57b-7df9-4fea-cb95-87c39a5bd306"
      },
      "outputs": [],
      "source": [
        "# Try a simplified model (removed two layers)\n",
        "model_10 = Sequential([\n",
        "  Conv2D(10, 3, activation='relu', input_shape=(224, 224, 3)),\n",
        "  MaxPool2D(),\n",
        "  Conv2D(10, 3, activation='relu'),\n",
        "  MaxPool2D(),\n",
        "  Flatten(),\n",
        "  Dense(10, activation='softmax')\n",
        "])\n",
        "\n",
        "model_10.compile(loss='categorical_crossentropy',\n",
        "                 optimizer=tf.keras.optimizers.Adam(),\n",
        "                 metrics=['accuracy'])\n",
        "\n",
        "history_10 = model_10.fit(train_data,\n",
        "                          epochs=5,\n",
        "                          steps_per_epoch=len(train_data),\n",
        "                          validation_data=test_data,\n",
        "                          validation_steps=len(test_data))"
      ]
    },
    {
      "cell_type": "code",
      "execution_count": null,
      "metadata": {
        "colab": {
          "base_uri": "https://localhost:8080/",
          "height": 573
        },
        "id": "DWSQOBaMAy_8",
        "outputId": "e3e60bd5-9349-4cc9-fbd4-053543ef1dee"
      },
      "outputs": [],
      "source": [
        "# Check out the loss curves of model_10\n",
        "plot_loss_curves(history_10)"
      ]
    },
    {
      "cell_type": "markdown",
      "metadata": {
        "id": "6xWt6gNyDzbl"
      },
      "source": [
        "Hmm... even with a simplifed model, it looks like our model is still dramatically overfitting the training data.\n",
        "\n",
        "What else could we try?\n",
        "\n",
        "How about **data augmentation**?\n",
        "\n",
        "Data augmentation makes it harder for the model to learn on the training data and in turn, hopefully making the patterns it learns more generalizable to unseen data.\n",
        "\n",
        "To create augmented data, we'll recreate a new [`ImageDataGenerator`](https://www.tensorflow.org/api_docs/python/tf/keras/preprocessing/image/ImageDataGenerator) instance, this time adding some parameters such as `rotation_range` and `horizontal_flip` to manipulate our images."
      ]
    },
    {
      "cell_type": "code",
      "execution_count": null,
      "metadata": {
        "colab": {
          "base_uri": "https://localhost:8080/"
        },
        "id": "iHX0ZZyqeAOw",
        "outputId": "4653e9da-8d45-464e-ef3a-146deb092cfc"
      },
      "outputs": [],
      "source": [
        "# Create augmented data generator instance\n",
        "train_datagen_augmented = ImageDataGenerator(rescale=1/255.,\n",
        "                                             rotation_range=20, # note: this is an int not a float\n",
        "                                             width_shift_range=0.2,\n",
        "                                             height_shift_range=0.2,\n",
        "                                             zoom_range=0.2,\n",
        "                                             horizontal_flip=True)\n",
        "\n",
        "train_data_augmented = train_datagen_augmented.flow_from_directory(train_dir,\n",
        "                                                                  target_size=(224, 224),\n",
        "                                                                  batch_size=32,\n",
        "                                                                  class_mode='categorical')"
      ]
    },
    {
      "cell_type": "markdown",
      "metadata": {
        "id": "FS27ltPFJa8i"
      },
      "source": [
        "Now we've got augmented data, let's see how it works with the same model as before (`model_10`).\n",
        "\n",
        "Rather than rewrite the model from scratch, we can clone it using a handy function in TensorFlow called [`clone_model`](https://www.tensorflow.org/api_docs/python/tf/keras/models/clone_model) which can take an existing model and rebuild it in the same format. \n",
        "\n",
        "The cloned version will not include any of the weights (patterns) the original model has learned. So when we train it, it'll be like training a model from scratch.\n",
        "\n",
        "> 🔑 **Note:** One of the key practices in deep learning and machine learning in general is to **be a serial experimenter**. That's what we're doing here. Trying something, seeing if it works, then trying something else. A good experiment setup also keeps track of the things you change, for example, that's why we're using the same model as before but with different data. The model stays the same but the data changes, this will let us know if augmented training data has any influence over performance."
      ]
    },
    {
      "cell_type": "code",
      "execution_count": null,
      "metadata": {
        "colab": {
          "base_uri": "https://localhost:8080/"
        },
        "id": "XwJ8_DiQeAAJ",
        "outputId": "084e056c-b38c-4b5c-c4d0-03fd957502ec"
      },
      "outputs": [],
      "source": [
        "# Clone the model (use the same architecture)\n",
        "model_11 = tf.keras.models.clone_model(model_10)\n",
        "\n",
        "# Compile the cloned model (same setup as used for model_10)\n",
        "model_11.compile(loss=\"categorical_crossentropy\",\n",
        "              optimizer=tf.keras.optimizers.Adam(),\n",
        "              metrics=[\"accuracy\"])\n",
        "\n",
        "# Fit the model\n",
        "history_11 = model_11.fit(train_data_augmented, # use augmented data\n",
        "                          epochs=5,\n",
        "                          steps_per_epoch=len(train_data_augmented),\n",
        "                          validation_data=test_data,\n",
        "                          validation_steps=len(test_data))"
      ]
    },
    {
      "cell_type": "markdown",
      "metadata": {
        "id": "RFrNLTsNHH5K"
      },
      "source": [
        "You can see it each epoch takes longer than the previous model. This is because our data is being augmented on the fly on the CPU as it gets loaded onto the GPU, in turn, increasing the amount of time between each epoch.\n",
        "\n",
        "How do our model's training curves look?"
      ]
    },
    {
      "cell_type": "code",
      "execution_count": null,
      "metadata": {
        "colab": {
          "base_uri": "https://localhost:8080/",
          "height": 573
        },
        "id": "1rL9_wn8FnMa",
        "outputId": "3c908f98-d465-4c92-b672-45267372c995"
      },
      "outputs": [],
      "source": [
        "# Check out our model's performance with augmented data\n",
        "plot_loss_curves(history_11)"
      ]
    },
    {
      "cell_type": "markdown",
      "metadata": {
        "id": "W3m44Q7JJvfZ"
      },
      "source": [
        "Woah! That's looking much better, the loss curves are much closer to eachother. Although our model didn't perform as well on the augmented training set, it performed much better on the validation dataset.\n",
        "\n",
        "It even looks like if we kept it training for longer (more epochs) the evaluation metrics might continue to improve."
      ]
    },
    {
      "cell_type": "markdown",
      "metadata": {
        "id": "lhgaziObC_iM"
      },
      "source": [
        "### 7. Repeat until satisfied\n",
        "\n",
        "We could keep going here. Restructuring our model's architecture, adding more layers, trying it out, adjusting the learning rate, trying it out, trying different methods of data augmentation, training for longer. But as you could image, this could take a fairly long time.\n",
        "\n",
        "Good thing there's still one trick we haven't tried yet and that's **transfer learning**.\n",
        "\n",
        "However, we'll save that for the next notebook where you'll see how rather than design our own models from scratch we leverage the patterns another model has learned for our own task.\n",
        "\n",
        "In the meantime, let's make a prediction with our trained multi-class model."
      ]
    },
    {
      "cell_type": "markdown",
      "metadata": {
        "id": "8eiz3sqzDDyT"
      },
      "source": [
        "## Making a prediction with our trained model\n",
        "\n",
        "What good is a model if you can't make predictions with it?\n",
        "\n",
        "Let's first remind ourselves of the classes our multi-class model has been trained on and then we'll download some of own custom images to work with."
      ]
    },
    {
      "cell_type": "code",
      "execution_count": null,
      "metadata": {
        "colab": {
          "base_uri": "https://localhost:8080/"
        },
        "id": "1vKyCUmyEqeK",
        "outputId": "2541e3d4-8911-407b-c3e1-7a49985e3246"
      },
      "outputs": [],
      "source": [
        "# What classes has our model been trained on?\n",
        "class_names"
      ]
    },
    {
      "cell_type": "markdown",
      "metadata": {
        "id": "uTaeFDAb3A59"
      },
      "source": [
        "Beautiful, now let's get some of our custom images.\n",
        "\n",
        "If you're using Google Colab, you could also upload some of your own images via the files tab."
      ]
    },
    {
      "cell_type": "code",
      "execution_count": null,
      "metadata": {
        "id": "Mn5l0387SdSz"
      },
      "outputs": [],
      "source": [
        "# -q is for \"quiet\"\n",
        "!wget -q https://raw.githubusercontent.com/mrdbourke/tensorflow-deep-learning/main/images/03-pizza-dad.jpeg\n",
        "!wget -q https://raw.githubusercontent.com/mrdbourke/tensorflow-deep-learning/main/images/03-steak.jpeg\n",
        "!wget -q https://raw.githubusercontent.com/mrdbourke/tensorflow-deep-learning/main/images/03-hamburger.jpeg\n",
        "!wget -q https://raw.githubusercontent.com/mrdbourke/tensorflow-deep-learning/main/images/03-sushi.jpeg"
      ]
    },
    {
      "cell_type": "markdown",
      "metadata": {
        "id": "rSEkIZ-83uOJ"
      },
      "source": [
        "Okay, we've got some custom images to try, let's use the `pred_and_plot` function to make a prediction with `model_11` on one of the images and plot it."
      ]
    },
    {
      "cell_type": "code",
      "execution_count": null,
      "metadata": {
        "colab": {
          "base_uri": "https://localhost:8080/",
          "height": 264
        },
        "id": "fO-i3FeE3hnk",
        "outputId": "c7e124fd-6b0e-4fd2-8915-73f22c863d24"
      },
      "outputs": [],
      "source": [
        "# Make a prediction using model_11\n",
        "pred_and_plot(model=model_11, \n",
        "              filename=\"03-steak.jpeg\", \n",
        "              class_names=class_names)"
      ]
    },
    {
      "cell_type": "markdown",
      "metadata": {
        "id": "VudLkvmN4Fqv"
      },
      "source": [
        "Hmm... it looks like our model got the prediction wrong, how about we try another?"
      ]
    },
    {
      "cell_type": "code",
      "execution_count": null,
      "metadata": {
        "colab": {
          "base_uri": "https://localhost:8080/",
          "height": 264
        },
        "id": "cToTAP8F3qcr",
        "outputId": "d4000660-5895-4e88-93c1-833d493d1a34"
      },
      "outputs": [],
      "source": [
        "pred_and_plot(model_11, \"03-sushi.jpeg\", class_names)"
      ]
    },
    {
      "cell_type": "markdown",
      "metadata": {
        "id": "USKOUdlt4Mgc"
      },
      "source": [
        "And again, it's predicting `chicken_curry` for some reason.\n",
        "\n",
        "How about one more?"
      ]
    },
    {
      "cell_type": "code",
      "execution_count": null,
      "metadata": {
        "colab": {
          "base_uri": "https://localhost:8080/",
          "height": 264
        },
        "id": "FV53GYbQ4R1d",
        "outputId": "21b060cd-dee7-49ce-874e-5ec470725df2"
      },
      "outputs": [],
      "source": [
        "pred_and_plot(model_11, \"03-pizza-dad.jpeg\", class_names)"
      ]
    },
    {
      "cell_type": "markdown",
      "metadata": {
        "id": "HSiqObNs4UtN"
      },
      "source": [
        "`chicken_curry` again? There must be something wrong...\n",
        "\n",
        "I think it might have to do with our `pred_and_plot` function.\n",
        "\n",
        "Let's makes a prediction without using the function and see where it might be going wrong."
      ]
    },
    {
      "cell_type": "code",
      "execution_count": null,
      "metadata": {
        "colab": {
          "base_uri": "https://localhost:8080/",
          "height": 264
        },
        "id": "Xz_3QgWXRgMG",
        "outputId": "95344cd3-d8fa-4855-9cf5-ab4d5b29c2d6"
      },
      "outputs": [],
      "source": [
        "# Load in and preprocess our custom image\n",
        "img = load_and_prep_image(\"03-steak.jpeg\")\n",
        "\n",
        "# Make a prediction\n",
        "pred = model_11.predict(tf.expand_dims(img, axis=0))\n",
        "\n",
        "# Match the prediction class to the highest prediction probability\n",
        "pred_class = class_names[pred.argmax()]\n",
        "plt.imshow(img)\n",
        "plt.title(pred_class)\n",
        "plt.axis(False);"
      ]
    },
    {
      "cell_type": "markdown",
      "metadata": {
        "id": "jy7lneod40I_"
      },
      "source": [
        "Much better! There must be something up with our `pred_and_plot` function.\n",
        "\n",
        "And I think I know what it is.\n",
        "\n",
        "The `pred_and_plot` function was designed to be used with binary classification models where as our current model is a multi-class classification model.\n",
        "\n",
        "The main difference lies in the output of the `predict` function."
      ]
    },
    {
      "cell_type": "code",
      "execution_count": null,
      "metadata": {
        "colab": {
          "base_uri": "https://localhost:8080/"
        },
        "id": "50m9JZSQ45UC",
        "outputId": "ae883724-0ed0-47ff-d95a-c42156a3e916"
      },
      "outputs": [],
      "source": [
        "# Check the output of the predict function\n",
        "pred = model_11.predict(tf.expand_dims(img, axis=0))\n",
        "pred"
      ]
    },
    {
      "cell_type": "markdown",
      "metadata": {
        "id": "PDQG8FPX5sUu"
      },
      "source": [
        "Since our model has a `'softmax'` activation function and 10 output neurons, it outputs a prediction probability for each of the classes in our model.\n",
        "\n",
        "The class with the highest probability is what the model believes the image contains.\n",
        "\n",
        "We can find the maximum value index using [`argmax`](https://numpy.org/doc/stable/reference/generated/numpy.argmax.html) and then use that to index our `class_names` list to output the predicted class."
      ]
    },
    {
      "cell_type": "code",
      "execution_count": null,
      "metadata": {
        "colab": {
          "base_uri": "https://localhost:8080/",
          "height": 35
        },
        "id": "8PZ7ea4Y5rlU",
        "outputId": "d957e899-dd2a-4976-947f-be6e4ee8ba90"
      },
      "outputs": [],
      "source": [
        "# Find the predicted class name\n",
        "class_names[pred.argmax()]"
      ]
    },
    {
      "cell_type": "markdown",
      "metadata": {
        "id": "pIrIMtqP7B4h"
      },
      "source": [
        "Knowing this, we can readjust our `pred_and_plot` function to work with multiple classes as well as binary classes."
      ]
    },
    {
      "cell_type": "code",
      "execution_count": null,
      "metadata": {
        "id": "-NU_ux7VqtRZ"
      },
      "outputs": [],
      "source": [
        "# Adjust function to work with multi-class\n",
        "def pred_and_plot(model, filename, class_names):\n",
        "  \"\"\"\n",
        "  Imports an image located at filename, makes a prediction on it with\n",
        "  a trained model and plots the image with the predicted class as the title.\n",
        "  \"\"\"\n",
        "  # Import the target image and preprocess it\n",
        "  img = load_and_prep_image(filename)\n",
        "\n",
        "  # Make a prediction\n",
        "  pred = model.predict(tf.expand_dims(img, axis=0))\n",
        "\n",
        "  # Get the predicted class\n",
        "  if len(pred[0]) > 1: # check for multi-class\n",
        "    pred_class = class_names[pred.argmax()] # if more than one output, take the max\n",
        "  else:\n",
        "    pred_class = class_names[int(tf.round(pred)[0][0])] # if only one output, round\n",
        "\n",
        "  # Plot the image and predicted class\n",
        "  plt.imshow(img)\n",
        "  plt.title(f\"Prediction: {pred_class}\")\n",
        "  plt.axis(False);"
      ]
    },
    {
      "cell_type": "markdown",
      "metadata": {
        "id": "85PrMpcr70y5"
      },
      "source": [
        "Let's try it out. If we've done it right, using different images should lead to different outputs (rather than `chicken_curry` every time)."
      ]
    },
    {
      "cell_type": "code",
      "execution_count": null,
      "metadata": {
        "colab": {
          "base_uri": "https://localhost:8080/",
          "height": 264
        },
        "id": "PJU7l3Rw7KNi",
        "outputId": "75154025-ecf5-4a0b-a673-3291bb8c9935"
      },
      "outputs": [],
      "source": [
        "pred_and_plot(model_11, \"03-steak.jpeg\", class_names)"
      ]
    },
    {
      "cell_type": "code",
      "execution_count": null,
      "metadata": {
        "colab": {
          "base_uri": "https://localhost:8080/",
          "height": 264
        },
        "id": "IU4aOC7U7Rjj",
        "outputId": "dc67ecfa-a215-4c37-8c76-08f7482663d8"
      },
      "outputs": [],
      "source": [
        "pred_and_plot(model_11, \"03-sushi.jpeg\", class_names)"
      ]
    },
    {
      "cell_type": "code",
      "execution_count": null,
      "metadata": {
        "colab": {
          "base_uri": "https://localhost:8080/",
          "height": 264
        },
        "id": "MMkvFqkr7b1d",
        "outputId": "cf1b6cea-868f-4178-eb1e-70838f457358"
      },
      "outputs": [],
      "source": [
        "pred_and_plot(model_11, \"03-pizza-dad.jpeg\", class_names)"
      ]
    },
    {
      "cell_type": "code",
      "execution_count": null,
      "metadata": {
        "colab": {
          "base_uri": "https://localhost:8080/",
          "height": 264
        },
        "id": "AuwR5CoW7jMj",
        "outputId": "ba191164-4b73-4c7f-cc06-9ed51f8edcaa"
      },
      "outputs": [],
      "source": [
        "pred_and_plot(model_11, \"03-hamburger.jpeg\", class_names)"
      ]
    },
    {
      "cell_type": "markdown",
      "metadata": {
        "id": "dF7uewt28OPk"
      },
      "source": [
        "Our model's predictions aren't very good, this is because it's only performing at ~35% accuracy on the test dataset."
      ]
    },
    {
      "cell_type": "markdown",
      "metadata": {
        "id": "D7zRi23tSjdY"
      },
      "source": [
        "## Saving and loading our model\n",
        "\n",
        "Once you've trained a model, you probably want to be able to save it and load it somewhere else.\n",
        "\n",
        "To do so, we can use the [`save`](https://www.tensorflow.org/tutorials/keras/save_and_load) and [`load_model`](https://www.tensorflow.org/tutorials/keras/save_and_load) functions."
      ]
    },
    {
      "cell_type": "code",
      "execution_count": null,
      "metadata": {
        "colab": {
          "base_uri": "https://localhost:8080/"
        },
        "id": "rqk0_bLQSjEo",
        "outputId": "f9766c97-95f3-41d5-854b-8a10d5ac87c6"
      },
      "outputs": [],
      "source": [
        "# Save a model\n",
        "model_11.save(\"saved_trained_model\")"
      ]
    },
    {
      "cell_type": "code",
      "execution_count": null,
      "metadata": {
        "colab": {
          "base_uri": "https://localhost:8080/"
        },
        "id": "fw-1s6A6A-uK",
        "outputId": "222392e6-10c7-43b1-9b12-8837d61a058f"
      },
      "outputs": [],
      "source": [
        "# Load in a model and evaluate it\n",
        "loaded_model_11 = tf.keras.models.load_model(\"saved_trained_model\")\n",
        "loaded_model_11.evaluate(test_data)"
      ]
    },
    {
      "cell_type": "code",
      "execution_count": null,
      "metadata": {
        "colab": {
          "base_uri": "https://localhost:8080/"
        },
        "id": "cR1m-zVABvhs",
        "outputId": "d76d21e1-61e2-421e-d622-f9cda468f003"
      },
      "outputs": [],
      "source": [
        "# Compare our unsaved model's results (same as above)\n",
        "model_11.evaluate(test_data)"
      ]
    },
    {
      "cell_type": "markdown",
      "metadata": {
        "id": "pV6-1_vFu0Ef"
      },
      "source": [
        "## 🛠 Exercises\n",
        "\n",
        "1. Spend 20-minutes reading and interacting with the [CNN explainer website](https://poloclub.github.io/cnn-explainer/). \n",
        " * What are the key terms? e.g. explain convolution in your own words, pooling in your own words\n",
        "\n",
        "2. Play around with the \"understanding hyperparameters\" section in the [CNN explainer](https://poloclub.github.io/cnn-explainer/) website for 10-minutes.\n",
        "  * What is the kernel size?\n",
        "  * What is the stride? \n",
        "  * How could you adjust each of these in TensorFlow code?\n",
        "\n",
        "3. Take 10 photos of two different things and build your own CNN image classifier using the techniques we've built here.\n",
        "\n",
        "4. Find an ideal learning rate for a simple convolutional neural network model on your the 10 class dataset."
      ]
    },
    {
      "cell_type": "markdown",
      "metadata": {
        "id": "wXDcK_BMu6FX"
      },
      "source": [
        "## 📖 Extra-curriculum\n",
        "\n",
        "1. **Watch:** [MIT's Introduction to Deep Computer Vision](https://www.youtube.com/watch?v=iaSUYvmCekI&list=PLtBw6njQRU-rwp5__7C0oIVt26ZgjG9NI&index=3) lecture. This will give you a great intuition behind convolutional neural networks.\n",
        "\n",
        "2. **Watch:** Deep dive on [mini-batch gradient descent](https://youtu.be/-_4Zi8fCZO4) by deeplearning.ai. If you're still curious about why we use **batches** to train models, this technical overview covers many of the reasons why.\n",
        "\n",
        "3. **Read:** [CS231n Convolutional Neural Networks for Visual Recognition](https://cs231n.github.io/convolutional-networks/) class notes. This will give a very deep understanding of what's going on behind the scenes of the convolutional neural network architectures we're writing. \n",
        "\n",
        "4. **Read:** [\"A guide to convolution arithmetic for deep learning\"](https://arxiv.org/pdf/1603.07285.pdf). This paper goes through all of the mathematics running behind the scenes of our convolutional layers.\n",
        "\n",
        "5. **Code practice:** [TensorFlow Data Augmentation Tutorial](https://www.tensorflow.org/tutorials/images/data_augmentation). For a more in-depth introduction on data augmentation with TensorFlow, spend an hour or two reading through this tutorial."
      ]
    }
  ],
  "metadata": {
    "accelerator": "GPU",
    "colab": {
      "authorship_tag": "ABX9TyOP2tPLelFM3jXjV1rIlcIa",
      "collapsed_sections": [],
      "include_colab_link": true,
      "name": "03_convolutional_neural_networks_in_tensorflow.ipynb",
      "provenance": []
    },
    "kernelspec": {
      "display_name": "Python 3.8.10 64-bit",
      "language": "python",
      "name": "python3"
    },
    "language_info": {
      "codemirror_mode": {
        "name": "ipython",
        "version": 3
      },
      "file_extension": ".py",
      "mimetype": "text/x-python",
      "name": "python",
      "nbconvert_exporter": "python",
      "pygments_lexer": "ipython3",
      "version": "3.8.10"
    },
    "vscode": {
      "interpreter": {
        "hash": "31f2aee4e71d21fbe5cf8b01ff0e069b9275f58929596ceb00d14d90e3e16cd6"
      }
    }
  },
  "nbformat": 4,
  "nbformat_minor": 0
}
